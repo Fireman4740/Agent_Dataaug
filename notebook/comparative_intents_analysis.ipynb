{
 "cells": [
  {
   "cell_type": "markdown",
   "id": "e8f8bf16",
   "metadata": {},
   "source": [
    "# Notebook de comparaison et d'analyse\n",
    "\n",
    "Ce notebook compare deux jeux de données: `intent_mapped_with_elo.jsonl` (référence) et `augmented.jsonl` (augmenté). Objectifs:\n",
    "1. Statistiques globales & structure.\n",
    "2. Répartition & couverture des intents (discret / continu).\n",
    "3. Diversité textuelle & richesse lexicale.\n",
    "4. Doublons & quasi-doublons intra / inter.\n",
    "5. Similarité sémantique & clustering (optionnel si modèles disponibles).\n",
    "6. Synthèse + recommandations actionnables.\n",
    "\n",
    "---\n",
    "Les sections suivantes implémentent l'outline défini."
   ]
  },
  {
   "cell_type": "markdown",
   "id": "877b28a9",
   "metadata": {},
   "source": [
    "## 1. Configuration & Imports\n",
    "Préparation de l'environnement: chemins, graine, options pandas, imports robustes avec gestion des dépendances optionnelles."
   ]
  },
  {
   "cell_type": "code",
   "execution_count": 1,
   "id": "f3b3050e",
   "metadata": {},
   "outputs": [
    {
     "name": "stderr",
     "output_type": "stream",
     "text": [
      "/opt/anaconda3/envs/data-aug/lib/python3.11/site-packages/tqdm/auto.py:21: TqdmWarning: IProgress not found. Please update jupyter and ipywidgets. See https://ipywidgets.readthedocs.io/en/stable/user_install.html\n",
      "  from .autonotebook import tqdm as notebook_tqdm\n"
     ]
    },
    {
     "name": "stdout",
     "output_type": "stream",
     "text": [
      "Version pandas: 2.3.0\n",
      "RapidFuzz: False | Datasketch: True | SentenceTransformer: True\n",
      "UMAP: True | HDBSCAN: True\n"
     ]
    }
   ],
   "source": [
    "# Configuration & Imports\n",
    "from __future__ import annotations\n",
    "import os, sys, json, math, re, statistics, random, string\n",
    "from pathlib import Path\n",
    "import pandas as pd\n",
    "import numpy as np\n",
    "from collections import Counter, defaultdict\n",
    "from dataclasses import dataclass\n",
    "from tqdm.auto import tqdm\n",
    "import seaborn as sns\n",
    "import matplotlib.pyplot as plt\n",
    "\n",
    "# Optionnels / best-effort\n",
    "try:\n",
    "    from rapidfuzz import fuzz\n",
    "    HAVE_RAPIDFUZZ = True\n",
    "except ImportError:\n",
    "    HAVE_RAPIDFUZZ = False\n",
    "try:\n",
    "    from datasketch import MinHash, MinHashLSH\n",
    "    HAVE_DATASKETCH = True\n",
    "except ImportError:\n",
    "    HAVE_DATASKETCH = False\n",
    "try:\n",
    "    from sentence_transformers import SentenceTransformer\n",
    "    import torch\n",
    "    HAVE_ST = True\n",
    "except Exception:\n",
    "    HAVE_ST = False\n",
    "try:\n",
    "    import umap\n",
    "    HAVE_UMAP = True\n",
    "except ImportError:\n",
    "    HAVE_UMAP = False\n",
    "try:\n",
    "    import hdbscan\n",
    "    HAVE_HDBSCAN = True\n",
    "except ImportError:\n",
    "    HAVE_HDBSCAN = False\n",
    "\n",
    "pd.set_option('display.max_colwidth', 160)\n",
    "pd.set_option('display.min_rows', 10)\n",
    "RANDOM_SEED = 42\n",
    "random.seed(RANDOM_SEED)\n",
    "np.random.seed(RANDOM_SEED)\n",
    "\n",
    "# Définition BASE: dossier parent nommé 'Agent_Dataaug'\n",
    "cwd = Path.cwd().resolve()\n",
    "for p in [cwd] + list(cwd.parents):\n",
    "    if p.name == 'Agent_Dataaug':\n",
    "        BASE = p\n",
    "        break\n",
    "else:\n",
    "    # Fallback si non trouvé (logique initiale)\n",
    "    BASE = cwd.parent if cwd.name == 'notebook' else cwd\n",
    "DATA_MAPPED = BASE / 'intent_mapped_with_elo.jsonl'\n",
    "DATA_AUG = BASE / 'augmented.jsonl'\n",
    "OUTPUT_DIR = BASE / 'outputs'\n",
    "OUTPUT_DIR.mkdir(exist_ok=True)\n",
    "\n",
    "print('Version pandas:', pd.__version__)\n",
    "print('RapidFuzz:', HAVE_RAPIDFUZZ, '| Datasketch:', HAVE_DATASKETCH, '| SentenceTransformer:', HAVE_ST)\n",
    "print('UMAP:', HAVE_UMAP, '| HDBSCAN:', HAVE_HDBSCAN)\n"
   ]
  },
  {
   "cell_type": "markdown",
   "id": "a7ee5df1",
   "metadata": {},
   "source": [
    "## 2. Chargement des Deux Datasets\n",
    "Lecture robuste JSONL ligne à ligne, ajout d'une colonne `source` pour différencier."
   ]
  },
  {
   "cell_type": "code",
   "execution_count": 2,
   "id": "04eaff01",
   "metadata": {},
   "outputs": [
    {
     "name": "stdout",
     "output_type": "stream",
     "text": [
      "Tailles initiales: 2082 1592\n"
     ]
    },
    {
     "data": {
      "text/plain": [
       "(           id dataset                               prompt  \\\n",
       " 0  URS_000000     URS                      如何提高民营企业的市场竞争力？   \n",
       " 1  URS_000001     URS  跳舞和骑车时哪个更合适，Apple Watch还是Oura Ring？   \n",
       " \n",
       "                                                                                                                                                           response  \\\n",
       " 0  提高民营企业的市场竞争力，可以从以下几个方面入手：\\n\\n1. **创新与研发**：持续投入研发，推出创新产品或服务，以技术创新作为核心竞争力。\\n\\n2. **人才培养和引进**：构建具有竞争力的薪酬福利体系，吸引和保留优秀人才，同时加大对员工的培训力度，提高团队整体素质。\\n\\n3. **提升品牌价值**：...   \n",
       " 1  对于跳舞和骑车这两项活动，Apple Watch会比Oura Ring更加合适。理由如下：\\n\\n1. **实时反馈**：Apple Watch能够提供实时的健身追踪和反馈，如心率、消耗的卡路里及活动时间等，这对于跳舞和骑车这类需要及时调整强度的活动尤其重要。\\n\\n2. **多功能性**：除了健康和活动追踪之...   \n",
       " \n",
       "    intent_disc  intent_cont intent_source  original_label language  __line__  \\\n",
       " 0            2        0.062    mapped_URS  Ask_for_Advice       CN         0   \n",
       " 1            2        0.062    mapped_URS  Ask_for_Advice       CN         1   \n",
       " \n",
       "    source  \n",
       " 0  mapped  \n",
       " 1  mapped  ,\n",
       "                                                                                                prompt  \\\n",
       " 0  Why is sweat excessively salty in cystic fibrosis if chloride transport into the duct is impaired?   \n",
       " 1                                                   How long can certain snakes survive without food?   \n",
       " \n",
       "      dataset  intent_disc  intent_cont  __line__     source  \n",
       " 0  augmented            0       -0.225         0  augmented  \n",
       " 1  augmented            0       -0.239         1  augmented  )"
      ]
     },
     "execution_count": 2,
     "metadata": {},
     "output_type": "execute_result"
    }
   ],
   "source": [
    "def read_jsonl(path: Path, source_label: str) -> pd.DataFrame:\n",
    "    records = []\n",
    "    with path.open('r', encoding='utf-8') as f:\n",
    "        for i, line in enumerate(f):\n",
    "            line = line.strip()\n",
    "            if not line:\n",
    "                continue\n",
    "            try:\n",
    "                obj = json.loads(line)\n",
    "                obj['__line__'] = i\n",
    "                obj['source'] = source_label\n",
    "                records.append(obj)\n",
    "            except json.JSONDecodeError as e:\n",
    "                print(f\"[WARN] Ligne {i} ignorée: {e}\")\n",
    "    return pd.DataFrame(records)\n",
    "\n",
    "mapped_df = read_jsonl(DATA_MAPPED, 'mapped')\n",
    "aug_df = read_jsonl(DATA_AUG, 'augmented')\n",
    "print('Tailles initiales:', len(mapped_df), len(aug_df))\n",
    "\n",
    "mapped_df.head(2), aug_df.head(2)"
   ]
  },
  {
   "cell_type": "markdown",
   "id": "acf53ca3",
   "metadata": {},
   "source": [
    "## 3. Normalisation & Préparation\n",
    "Uniformisation des colonnes critiques et nettoyage (espaces, types, id manquants, détection langue heuristique)."
   ]
  },
  {
   "cell_type": "code",
   "execution_count": 3,
   "id": "6389b003",
   "metadata": {},
   "outputs": [
    {
     "name": "stdout",
     "output_type": "stream",
     "text": [
      "Suppression doublons stricts: 0 lignes retirées\n",
      "Suppression doublons stricts: 0 lignes retirées\n",
      "Total combiné: 3674\n"
     ]
    },
    {
     "data": {
      "text/html": [
       "<div>\n",
       "<style scoped>\n",
       "    .dataframe tbody tr th:only-of-type {\n",
       "        vertical-align: middle;\n",
       "    }\n",
       "\n",
       "    .dataframe tbody tr th {\n",
       "        vertical-align: top;\n",
       "    }\n",
       "\n",
       "    .dataframe thead th {\n",
       "        text-align: right;\n",
       "    }\n",
       "</style>\n",
       "<table border=\"1\" class=\"dataframe\">\n",
       "  <thead>\n",
       "    <tr style=\"text-align: right;\">\n",
       "      <th></th>\n",
       "      <th>id</th>\n",
       "      <th>dataset</th>\n",
       "      <th>prompt</th>\n",
       "      <th>response</th>\n",
       "      <th>intent_disc</th>\n",
       "      <th>intent_cont</th>\n",
       "      <th>intent_source</th>\n",
       "      <th>original_label</th>\n",
       "      <th>language</th>\n",
       "      <th>__line__</th>\n",
       "      <th>source</th>\n",
       "    </tr>\n",
       "  </thead>\n",
       "  <tbody>\n",
       "    <tr>\n",
       "      <th>0</th>\n",
       "      <td>URS_000000</td>\n",
       "      <td>URS</td>\n",
       "      <td>如何提高民营企业的市场竞争力？</td>\n",
       "      <td>提高民营企业的市场竞争力，可以从以下几个方面入手：\\n\\n1. **创新与研发**：持续投入研发，推出创新产品或服务，以技术创新作为核心竞争力。\\n\\n2. **人才培养和引进**：构建具有竞争力的薪酬福利体系，吸引和保留优秀人才，同时加大对员工的培训力度，提高团队整体素质。\\n\\n3. **提升品牌价值**：...</td>\n",
       "      <td>2</td>\n",
       "      <td>0.062</td>\n",
       "      <td>mapped_URS</td>\n",
       "      <td>Ask_for_Advice</td>\n",
       "      <td>CN</td>\n",
       "      <td>0</td>\n",
       "      <td>mapped</td>\n",
       "    </tr>\n",
       "    <tr>\n",
       "      <th>1</th>\n",
       "      <td>URS_000001</td>\n",
       "      <td>URS</td>\n",
       "      <td>跳舞和骑车时哪个更合适，Apple Watch还是Oura Ring？</td>\n",
       "      <td>对于跳舞和骑车这两项活动，Apple Watch会比Oura Ring更加合适。理由如下：\\n\\n1. **实时反馈**：Apple Watch能够提供实时的健身追踪和反馈，如心率、消耗的卡路里及活动时间等，这对于跳舞和骑车这类需要及时调整强度的活动尤其重要。\\n\\n2. **多功能性**：除了健康和活动追踪之...</td>\n",
       "      <td>2</td>\n",
       "      <td>0.062</td>\n",
       "      <td>mapped_URS</td>\n",
       "      <td>Ask_for_Advice</td>\n",
       "      <td>CN</td>\n",
       "      <td>1</td>\n",
       "      <td>mapped</td>\n",
       "    </tr>\n",
       "    <tr>\n",
       "      <th>2</th>\n",
       "      <td>URS_000002</td>\n",
       "      <td>URS</td>\n",
       "      <td>日常补充剂的推荐摄入量是多少？</td>\n",
       "      <td>推荐的日常补充剂摄入量因年龄、性别、健康状况和特定需求而异。以下是几种常见补充剂的大致指导量：\\n\\n1. **维生素D**: 成人每日推荐400-800 IU（国际单位），但许多专家推荐每日1000-2000 IU以优化血液中的维生素D水平。\\n\\n2. **Omega-3脂肪酸（如鱼油）**: 对于心脏健康...</td>\n",
       "      <td>2</td>\n",
       "      <td>0.062</td>\n",
       "      <td>mapped_URS</td>\n",
       "      <td>Ask_for_Advice</td>\n",
       "      <td>CN</td>\n",
       "      <td>2</td>\n",
       "      <td>mapped</td>\n",
       "    </tr>\n",
       "  </tbody>\n",
       "</table>\n",
       "</div>"
      ],
      "text/plain": [
       "           id dataset                               prompt  \\\n",
       "0  URS_000000     URS                      如何提高民营企业的市场竞争力？   \n",
       "1  URS_000001     URS  跳舞和骑车时哪个更合适，Apple Watch还是Oura Ring？   \n",
       "2  URS_000002     URS                      日常补充剂的推荐摄入量是多少？   \n",
       "\n",
       "                                                                                                                                                          response  \\\n",
       "0  提高民营企业的市场竞争力，可以从以下几个方面入手：\\n\\n1. **创新与研发**：持续投入研发，推出创新产品或服务，以技术创新作为核心竞争力。\\n\\n2. **人才培养和引进**：构建具有竞争力的薪酬福利体系，吸引和保留优秀人才，同时加大对员工的培训力度，提高团队整体素质。\\n\\n3. **提升品牌价值**：...   \n",
       "1  对于跳舞和骑车这两项活动，Apple Watch会比Oura Ring更加合适。理由如下：\\n\\n1. **实时反馈**：Apple Watch能够提供实时的健身追踪和反馈，如心率、消耗的卡路里及活动时间等，这对于跳舞和骑车这类需要及时调整强度的活动尤其重要。\\n\\n2. **多功能性**：除了健康和活动追踪之...   \n",
       "2  推荐的日常补充剂摄入量因年龄、性别、健康状况和特定需求而异。以下是几种常见补充剂的大致指导量：\\n\\n1. **维生素D**: 成人每日推荐400-800 IU（国际单位），但许多专家推荐每日1000-2000 IU以优化血液中的维生素D水平。\\n\\n2. **Omega-3脂肪酸（如鱼油）**: 对于心脏健康...   \n",
       "\n",
       "   intent_disc  intent_cont intent_source  original_label language  __line__  \\\n",
       "0            2        0.062    mapped_URS  Ask_for_Advice       CN         0   \n",
       "1            2        0.062    mapped_URS  Ask_for_Advice       CN         1   \n",
       "2            2        0.062    mapped_URS  Ask_for_Advice       CN         2   \n",
       "\n",
       "   source  \n",
       "0  mapped  \n",
       "1  mapped  \n",
       "2  mapped  "
      ]
     },
     "execution_count": 3,
     "metadata": {},
     "output_type": "execute_result"
    }
   ],
   "source": [
    "def detect_lang(text: str) -> str:\n",
    "    if text is None or not isinstance(text, str):\n",
    "        return 'unk'\n",
    "    # heuristique simple: présence de caractères CJK\n",
    "    if re.search('[\\u4e00-\\u9fff]', text):\n",
    "        return 'CN'\n",
    "    # présence de lettres accentuées -> supposer FR sinon EN\n",
    "    if re.search('[àâçéèêëîïôûùüÿñæœ]', text.lower()):\n",
    "        return 'FR'\n",
    "    return 'EN'\n",
    "\n",
    "def normalise(df: pd.DataFrame) -> pd.DataFrame:\n",
    "    df = df.copy()\n",
    "    # Normaliser colonnes attendues\n",
    "    if 'id' not in df.columns:\n",
    "        df['id'] = [f\"gen_{i}\" for i in range(len(df))]\n",
    "    for col in ['prompt', 'response']:\n",
    "        if col not in df.columns:\n",
    "            df[col] = None\n",
    "    # Types\n",
    "    if 'intent_disc' in df.columns:\n",
    "        df['intent_disc'] = pd.to_numeric(df['intent_disc'], errors='coerce').astype('Int64')\n",
    "    else:\n",
    "        df['intent_disc'] = pd.NA\n",
    "    if 'intent_cont' in df.columns:\n",
    "        df['intent_cont'] = pd.to_numeric(df['intent_cont'], errors='coerce')\n",
    "    else:\n",
    "        df['intent_cont'] = np.nan\n",
    "    # Trim\n",
    "    for col in ['prompt','response']:\n",
    "        df[col] = df[col].astype(str).str.strip()\n",
    "    # Langue\n",
    "    if 'language' not in df.columns:\n",
    "        df['language'] = df['prompt'].map(detect_lang)\n",
    "    else:\n",
    "        df['language'] = df['language'].fillna(df['prompt'].map(detect_lang))\n",
    "    # Suppression doublons stricts\n",
    "    before = len(df)\n",
    "    df = df.drop_duplicates(subset=['prompt','response','source'])\n",
    "    print(f\"Suppression doublons stricts: {before-len(df)} lignes retirées\")\n",
    "    return df.reset_index(drop=True)\n",
    "\n",
    "mapped_n = normalise(mapped_df)\n",
    "aug_n = normalise(aug_df)\n",
    "all_df = pd.concat([mapped_n, aug_n], ignore_index=True)\n",
    "print('Total combiné:', len(all_df))\n",
    "all_df.head(3)"
   ]
  },
  {
   "cell_type": "markdown",
   "id": "8d367b07",
   "metadata": {},
   "source": [
    "## 4. Statistiques Globales Comparatives\n",
    "Comparaison de structure, valeurs manquantes, longueurs, etc."
   ]
  },
  {
   "cell_type": "code",
   "execution_count": 4,
   "id": "a99368c8",
   "metadata": {},
   "outputs": [
    {
     "name": "stdout",
     "output_type": "stream",
     "text": [
      "     dataset  rows  cols  missing_prompt_pct  missing_response_pct  \\\n",
      "0     mapped  2082    11                 0.0                   0.0   \n",
      "1  augmented  1592     9                 0.0                   0.0   \n",
      "\n",
      "   len_prompt_mean  len_response_mean  response_missing_ratio  \n",
      "0        95.075408        1276.451969                     0.0  \n",
      "1       115.839196           4.000000                     1.0  \n"
     ]
    },
    {
     "data": {
      "image/png": "[encoded data removed]",
      "text/plain": [
       "<Figure size 1000x400 with 2 Axes>"
      ]
     },
     "metadata": {},
     "output_type": "display_data"
    }
   ],
   "source": [
    "def global_stats(df: pd.DataFrame, name: str) -> dict:\n",
    "    stats = {}\n",
    "    stats['dataset'] = name\n",
    "    stats['rows'] = len(df)\n",
    "    stats['cols'] = len(df.columns)\n",
    "    stats['missing_prompt_pct'] = df['prompt'].isna().mean()*100\n",
    "    stats['missing_response_pct'] = df['response'].isna().mean()*100\n",
    "    stats['len_prompt_mean'] = df['prompt'].astype(str).str.len().mean()\n",
    "    stats['len_response_mean'] = df['response'].astype(str).str.len().mean()\n",
    "    stats['response_missing_ratio'] = (df['response'].eq('None') | df['response'].isna()).mean()\n",
    "    return stats\n",
    "\n",
    "gs = pd.DataFrame([\n",
    "    global_stats(mapped_n,'mapped'),\n",
    "    global_stats(aug_n,'augmented')\n",
    "])\n",
    "print(gs)\n",
    "\n",
    "fig, ax = plt.subplots(1,2, figsize=(10,4))\n",
    "sns.barplot(gs, x='dataset', y='rows', ax=ax[0])\n",
    "sns.barplot(gs, x='dataset', y='len_prompt_mean', ax=ax[1])\n",
    "ax[0].set_title('Taille')\n",
    "ax[1].set_title('Longueur moyenne prompt')\n",
    "plt.tight_layout()\n",
    "plt.show()"
   ]
  },
  {
   "cell_type": "markdown",
   "id": "af2e2cfe",
   "metadata": {},
   "source": [
    "## 5. Répartition des Intents (discret & continu)\n",
    "Analyse des distributions `intent_disc` et `intent_cont` (binning, entropie, visualisations)."
   ]
  },
  {
   "cell_type": "code",
   "execution_count": 5,
   "id": "32742be7",
   "metadata": {},
   "outputs": [
    {
     "data": {
      "text/html": [
       "<div>\n",
       "<style scoped>\n",
       "    .dataframe tbody tr th:only-of-type {\n",
       "        vertical-align: middle;\n",
       "    }\n",
       "\n",
       "    .dataframe tbody tr th {\n",
       "        vertical-align: top;\n",
       "    }\n",
       "\n",
       "    .dataframe thead th {\n",
       "        text-align: right;\n",
       "    }\n",
       "</style>\n",
       "<table border=\"1\" class=\"dataframe\">\n",
       "  <thead>\n",
       "    <tr style=\"text-align: right;\">\n",
       "      <th></th>\n",
       "      <th>intent_disc</th>\n",
       "      <th>freq</th>\n",
       "      <th>dataset</th>\n",
       "    </tr>\n",
       "  </thead>\n",
       "  <tbody>\n",
       "    <tr>\n",
       "      <th>0</th>\n",
       "      <td>0</td>\n",
       "      <td>600</td>\n",
       "      <td>mapped</td>\n",
       "    </tr>\n",
       "    <tr>\n",
       "      <th>1</th>\n",
       "      <td>1</td>\n",
       "      <td>205</td>\n",
       "      <td>mapped</td>\n",
       "    </tr>\n",
       "    <tr>\n",
       "      <th>2</th>\n",
       "      <td>2</td>\n",
       "      <td>1005</td>\n",
       "      <td>mapped</td>\n",
       "    </tr>\n",
       "    <tr>\n",
       "      <th>3</th>\n",
       "      <td>3</td>\n",
       "      <td>222</td>\n",
       "      <td>mapped</td>\n",
       "    </tr>\n",
       "    <tr>\n",
       "      <th>4</th>\n",
       "      <td>4</td>\n",
       "      <td>50</td>\n",
       "      <td>mapped</td>\n",
       "    </tr>\n",
       "  </tbody>\n",
       "</table>\n",
       "</div>"
      ],
      "text/plain": [
       "   intent_disc  freq dataset\n",
       "0            0   600  mapped\n",
       "1            1   205  mapped\n",
       "2            2  1005  mapped\n",
       "3            3   222  mapped\n",
       "4            4    50  mapped"
      ]
     },
     "metadata": {},
     "output_type": "display_data"
    },
    {
     "data": {
      "text/html": [
       "<div>\n",
       "<style scoped>\n",
       "    .dataframe tbody tr th:only-of-type {\n",
       "        vertical-align: middle;\n",
       "    }\n",
       "\n",
       "    .dataframe tbody tr th {\n",
       "        vertical-align: top;\n",
       "    }\n",
       "\n",
       "    .dataframe thead th {\n",
       "        text-align: right;\n",
       "    }\n",
       "</style>\n",
       "<table border=\"1\" class=\"dataframe\">\n",
       "  <thead>\n",
       "    <tr style=\"text-align: right;\">\n",
       "      <th></th>\n",
       "      <th>intent_disc</th>\n",
       "      <th>freq</th>\n",
       "      <th>dataset</th>\n",
       "    </tr>\n",
       "  </thead>\n",
       "  <tbody>\n",
       "    <tr>\n",
       "      <th>0</th>\n",
       "      <td>0</td>\n",
       "      <td>231</td>\n",
       "      <td>augmented</td>\n",
       "    </tr>\n",
       "    <tr>\n",
       "      <th>1</th>\n",
       "      <td>1</td>\n",
       "      <td>412</td>\n",
       "      <td>augmented</td>\n",
       "    </tr>\n",
       "    <tr>\n",
       "      <th>2</th>\n",
       "      <td>2</td>\n",
       "      <td>51</td>\n",
       "      <td>augmented</td>\n",
       "    </tr>\n",
       "    <tr>\n",
       "      <th>3</th>\n",
       "      <td>3</td>\n",
       "      <td>440</td>\n",
       "      <td>augmented</td>\n",
       "    </tr>\n",
       "    <tr>\n",
       "      <th>4</th>\n",
       "      <td>4</td>\n",
       "      <td>458</td>\n",
       "      <td>augmented</td>\n",
       "    </tr>\n",
       "  </tbody>\n",
       "</table>\n",
       "</div>"
      ],
      "text/plain": [
       "   intent_disc  freq    dataset\n",
       "0            0   231  augmented\n",
       "1            1   412  augmented\n",
       "2            2    51  augmented\n",
       "3            3   440  augmented\n",
       "4            4   458  augmented"
      ]
     },
     "metadata": {},
     "output_type": "display_data"
    },
    {
     "name": "stdout",
     "output_type": "stream",
     "text": [
      "     dataset  unique_intents  entropy_intent_disc\n",
      "0     mapped               5             1.827317\n",
      "1  augmented               5             2.097655\n",
      "\n",
      "Binning quantiles mapped\n",
      "intent_cont\n",
      "(-0.24, -0.225]    580\n",
      "(0.011, 0.027]     537\n",
      "(0.027, 0.062]     269\n",
      "(0.09, 0.141]      222\n",
      "(-0.133, 0.011]    205\n",
      "Name: count, dtype: int64\n",
      "\n",
      "Binning quantiles augmented\n",
      "intent_cont\n",
      "(0.011, 0.133]       509\n",
      "(0.133, 0.153]       436\n",
      "(-0.224, -0.0313]    380\n",
      "(-0.24, -0.224]      227\n",
      "(-0.0313, 0.011]      36\n",
      "Name: count, dtype: int64\n"
     ]
    },
    {
     "data": {
      "image/png": "[encoded data removed]",
      "text/plain": [
       "<Figure size 1200x400 with 2 Axes>"
      ]
     },
     "metadata": {},
     "output_type": "display_data"
    }
   ],
   "source": [
    "from math import log2\n",
    "\n",
    "def entropy(counts: Counter) -> float:\n",
    "    total = sum(counts.values())\n",
    "    if total == 0: return 0.0\n",
    "    return -sum((c/total)*log2(c/total) for c in counts.values() if c>0)\n",
    "\n",
    "intent_disc_stats = []\n",
    "for name, df in [('mapped', mapped_n), ('augmented', aug_n)]:\n",
    "    c = Counter(df['intent_disc'].dropna().tolist())\n",
    "    intent_disc_stats.append({'dataset':name,'unique_intents': len(c), 'entropy_intent_disc': entropy(c)})\n",
    "    s = (pd.Series(c).sort_index())\n",
    "    display(pd.DataFrame({'intent_disc': s.index, 'freq': s.values, 'dataset': name}))\n",
    "\n",
    "disp_df = pd.DataFrame(intent_disc_stats)\n",
    "print(disp_df)\n",
    "\n",
    "# intent_cont binning\n",
    "for name, df in [('mapped', mapped_n), ('augmented', aug_n)]:\n",
    "    cont = df['intent_cont'].dropna()\n",
    "    if len(cont) == 0:\n",
    "        print(name, 'pas de intent_cont')\n",
    "        continue\n",
    "    bins = pd.qcut(cont, q=min(10, len(cont)), duplicates='drop')\n",
    "    print('\\nBinning quantiles', name)\n",
    "    print(bins.value_counts().head())\n",
    "\n",
    "fig, axes = plt.subplots(1,2, figsize=(12,4))\n",
    "sns.countplot(mapped_n, x='intent_disc', ax=axes[0]); axes[0].set_title('mapped intent_disc')\n",
    "sns.countplot(aug_n, x='intent_disc', ax=axes[1]); axes[1].set_title('augmented intent_disc')\n",
    "plt.tight_layout()\n",
    "plt.show()"
   ]
  },
  {
   "cell_type": "markdown",
   "id": "ebe0ff20",
   "metadata": {},
   "source": [
    "## 6. Couverture & Nouveaux Intents Introduits\n",
    "Identification des intents exclusifs / communs et couverture mutuelle."
   ]
  },
  {
   "cell_type": "code",
   "execution_count": 6,
   "id": "9e22b21e",
   "metadata": {},
   "outputs": [
    {
     "name": "stdout",
     "output_type": "stream",
     "text": [
      "Intents nouveaux (augmented): set()\n",
      "Intents manquants côté augmented vs mapped: set()\n",
      "Couverture mapped->aug (%): 100.0\n"
     ]
    },
    {
     "data": {
      "text/html": [
       "<div>\n",
       "<style scoped>\n",
       "    .dataframe tbody tr th:only-of-type {\n",
       "        vertical-align: middle;\n",
       "    }\n",
       "\n",
       "    .dataframe tbody tr th {\n",
       "        vertical-align: top;\n",
       "    }\n",
       "\n",
       "    .dataframe thead th {\n",
       "        text-align: right;\n",
       "    }\n",
       "</style>\n",
       "<table border=\"1\" class=\"dataframe\">\n",
       "  <thead>\n",
       "    <tr style=\"text-align: right;\">\n",
       "      <th></th>\n",
       "      <th>freq_mapped</th>\n",
       "      <th>freq_augmented</th>\n",
       "      <th>delta</th>\n",
       "    </tr>\n",
       "    <tr>\n",
       "      <th>intent_disc</th>\n",
       "      <th></th>\n",
       "      <th></th>\n",
       "      <th></th>\n",
       "    </tr>\n",
       "  </thead>\n",
       "  <tbody>\n",
       "    <tr>\n",
       "      <th>0</th>\n",
       "      <td>600</td>\n",
       "      <td>231</td>\n",
       "      <td>-369</td>\n",
       "    </tr>\n",
       "    <tr>\n",
       "      <th>1</th>\n",
       "      <td>205</td>\n",
       "      <td>412</td>\n",
       "      <td>207</td>\n",
       "    </tr>\n",
       "    <tr>\n",
       "      <th>2</th>\n",
       "      <td>1005</td>\n",
       "      <td>51</td>\n",
       "      <td>-954</td>\n",
       "    </tr>\n",
       "    <tr>\n",
       "      <th>3</th>\n",
       "      <td>222</td>\n",
       "      <td>440</td>\n",
       "      <td>218</td>\n",
       "    </tr>\n",
       "    <tr>\n",
       "      <th>4</th>\n",
       "      <td>50</td>\n",
       "      <td>458</td>\n",
       "      <td>408</td>\n",
       "    </tr>\n",
       "  </tbody>\n",
       "</table>\n",
       "</div>"
      ],
      "text/plain": [
       "             freq_mapped  freq_augmented  delta\n",
       "intent_disc                                    \n",
       "0                    600             231   -369\n",
       "1                    205             412    207\n",
       "2                   1005              51   -954\n",
       "3                    222             440    218\n",
       "4                     50             458    408"
      ]
     },
     "execution_count": 6,
     "metadata": {},
     "output_type": "execute_result"
    }
   ],
   "source": [
    "mapped_ints = set(mapped_n['intent_disc'].dropna().unique())\n",
    "aug_ints = set(aug_n['intent_disc'].dropna().unique())\n",
    "new_in_aug = aug_ints - mapped_ints\n",
    "missing_in_aug = mapped_ints - aug_ints\n",
    "print('Intents nouveaux (augmented):', new_in_aug)\n",
    "print('Intents manquants côté augmented vs mapped:', missing_in_aug)\n",
    "print('Couverture mapped->aug (%):', 100*len(mapped_ints & aug_ints)/ (len(mapped_ints) or 1))\n",
    "\n",
    "# Table croisée fréquences\n",
    "freq_m = mapped_n['intent_disc'].value_counts().rename('freq_mapped')\n",
    "freq_a = aug_n['intent_disc'].value_counts().rename('freq_augmented')\n",
    "intent_freq = pd.concat([freq_m, freq_a], axis=1).fillna(0).astype(int)\n",
    "intent_freq['delta'] = intent_freq['freq_augmented'] - intent_freq['freq_mapped']\n",
    "intent_freq.sort_index()"
   ]
  },
  {
   "cell_type": "markdown",
   "id": "5191fb00",
   "metadata": {},
   "source": [
    "## 7. Analyse des Distributions intent_cont\n",
    "Statistiques descriptives et test Kolmogorov-Smirnov entre datasets."
   ]
  },
  {
   "cell_type": "code",
   "execution_count": 7,
   "id": "9aa4d57b",
   "metadata": {},
   "outputs": [
    {
     "name": "stdout",
     "output_type": "stream",
     "text": [
      "     dataset      mean       std      skew      kurt       iqr\n",
      "0     mapped -0.026732  0.136954 -0.466250 -1.188472  0.287000\n",
      "1  augmented  0.041217  0.133036 -0.957421 -0.426317  0.172341\n",
      "KS Test D, p-value: 0.4478359617491878 1.7947762745312983e-163\n"
     ]
    },
    {
     "data": {
      "image/png": "[encoded data removed]",
      "text/plain": [
       "<Figure size 600x400 with 1 Axes>"
      ]
     },
     "metadata": {},
     "output_type": "display_data"
    }
   ],
   "source": [
    "from scipy import stats as spstats\n",
    "\n",
    "def cont_stats(series: pd.Series) -> dict:\n",
    "    s = series.dropna()\n",
    "    if len(s)==0: return {'mean':np.nan,'std':np.nan,'skew':np.nan,'kurt':np.nan,'iqr':np.nan}\n",
    "    return {\n",
    "        'mean': s.mean(),\n",
    "        'std': s.std(ddof=1),\n",
    "        'skew': spstats.skew(s),\n",
    "        'kurt': spstats.kurtosis(s),\n",
    "        'iqr': np.subtract(*np.percentile(s,[75,25]))\n",
    "    }\n",
    "\n",
    "cs = []\n",
    "for name, df in [('mapped', mapped_n), ('augmented', aug_n)]:\n",
    "    cs.append({'dataset': name, **cont_stats(df['intent_cont'])})\n",
    "cont_df = pd.DataFrame(cs)\n",
    "print(cont_df)\n",
    "\n",
    "# KS test\n",
    "mapped_c = mapped_n['intent_cont'].dropna()\n",
    "aug_c = aug_n['intent_cont'].dropna()\n",
    "if len(mapped_c)>0 and len(aug_c)>0:\n",
    "    ks = spstats.ks_2samp(mapped_c, aug_c)\n",
    "    print('KS Test D, p-value:', ks.statistic, ks.pvalue)\n",
    "else:\n",
    "    print('KS test non applicable (données manquantes).')\n",
    "\n",
    "fig, ax = plt.subplots(figsize=(6,4))\n",
    "for name, data in [('mapped', mapped_c), ('augmented', aug_c)]:\n",
    "    if len(data)==0: continue\n",
    "    sns.kdeplot(data, label=name, ax=ax)\n",
    "ax.set_title('KDE intent_cont')\n",
    "ax.legend(); plt.show()"
   ]
  },
  {
   "cell_type": "markdown",
   "id": "c84f9490",
   "metadata": {},
   "source": [
    "## 8. Diversité Textuelle (Longueurs, TTR, Entropie)\n",
    "Mesures de diversité sur prompts & responses (longueurs, TTR, MSTTR, hapax, entropie)."
   ]
  },
  {
   "cell_type": "code",
   "execution_count": 8,
   "id": "f75ced35",
   "metadata": {},
   "outputs": [
    {
     "data": {
      "text/html": [
       "<div>\n",
       "<style scoped>\n",
       "    .dataframe tbody tr th:only-of-type {\n",
       "        vertical-align: middle;\n",
       "    }\n",
       "\n",
       "    .dataframe tbody tr th {\n",
       "        vertical-align: top;\n",
       "    }\n",
       "\n",
       "    .dataframe thead th {\n",
       "        text-align: right;\n",
       "    }\n",
       "</style>\n",
       "<table border=\"1\" class=\"dataframe\">\n",
       "  <thead>\n",
       "    <tr style=\"text-align: right;\">\n",
       "      <th></th>\n",
       "      <th>tokens</th>\n",
       "      <th>types</th>\n",
       "      <th>ttr</th>\n",
       "      <th>msttr</th>\n",
       "      <th>hapax_ratio</th>\n",
       "      <th>entropy_token</th>\n",
       "      <th>dataset</th>\n",
       "      <th>field</th>\n",
       "    </tr>\n",
       "  </thead>\n",
       "  <tbody>\n",
       "    <tr>\n",
       "      <th>0</th>\n",
       "      <td>28910</td>\n",
       "      <td>9379</td>\n",
       "      <td>0.324421</td>\n",
       "      <td>0.784083</td>\n",
       "      <td>0.727476</td>\n",
       "      <td>10.713855</td>\n",
       "      <td>mapped</td>\n",
       "      <td>prompt</td>\n",
       "    </tr>\n",
       "    <tr>\n",
       "      <th>1</th>\n",
       "      <td>361746</td>\n",
       "      <td>59916</td>\n",
       "      <td>0.165630</td>\n",
       "      <td>0.765477</td>\n",
       "      <td>0.640046</td>\n",
       "      <td>11.858073</td>\n",
       "      <td>mapped</td>\n",
       "      <td>response</td>\n",
       "    </tr>\n",
       "    <tr>\n",
       "      <th>2</th>\n",
       "      <td>32428</td>\n",
       "      <td>4979</td>\n",
       "      <td>0.153540</td>\n",
       "      <td>0.730988</td>\n",
       "      <td>0.600121</td>\n",
       "      <td>9.084233</td>\n",
       "      <td>augmented</td>\n",
       "      <td>prompt</td>\n",
       "    </tr>\n",
       "    <tr>\n",
       "      <th>3</th>\n",
       "      <td>1592</td>\n",
       "      <td>1</td>\n",
       "      <td>0.000628</td>\n",
       "      <td>0.010000</td>\n",
       "      <td>0.000000</td>\n",
       "      <td>-0.000000</td>\n",
       "      <td>augmented</td>\n",
       "      <td>response</td>\n",
       "    </tr>\n",
       "  </tbody>\n",
       "</table>\n",
       "</div>"
      ],
      "text/plain": [
       "   tokens  types       ttr     msttr  hapax_ratio  entropy_token    dataset  \\\n",
       "0   28910   9379  0.324421  0.784083     0.727476      10.713855     mapped   \n",
       "1  361746  59916  0.165630  0.765477     0.640046      11.858073     mapped   \n",
       "2   32428   4979  0.153540  0.730988     0.600121       9.084233  augmented   \n",
       "3    1592      1  0.000628  0.010000     0.000000      -0.000000  augmented   \n",
       "\n",
       "      field  \n",
       "0    prompt  \n",
       "1  response  \n",
       "2    prompt  \n",
       "3  response  "
      ]
     },
     "execution_count": 8,
     "metadata": {},
     "output_type": "execute_result"
    }
   ],
   "source": [
    "def token_stats(texts: pd.Series, window=100) -> dict:\n",
    "    tokens = []\n",
    "    for t in texts.dropna().astype(str):\n",
    "        tokens.extend(t.split())\n",
    "    if not tokens:\n",
    "        return {'tokens':0,'types':0,'ttr':np.nan,'msttr':np.nan,'hapax_ratio':np.nan,'entropy_token':np.nan}\n",
    "    types = set(tokens)\n",
    "    ttr = len(types)/len(tokens)\n",
    "    # MSTTR\n",
    "    if len(tokens) < window:\n",
    "        msttr = ttr\n",
    "    else:\n",
    "        segs = [tokens[i:i+window] for i in range(0, len(tokens)-window+1, window)]\n",
    "        msttr = float(np.mean([len(set(seg))/len(seg) for seg in segs]))\n",
    "    cnt = Counter(tokens)\n",
    "    hapax_ratio = sum(1 for k,v in cnt.items() if v==1)/len(cnt)\n",
    "    # Entropie tokens\n",
    "    total = len(tokens)\n",
    "    entropy_tok = -sum((v/total)*log2(v/total) for v in cnt.values())\n",
    "    return {'tokens':len(tokens),'types':len(types),'ttr':ttr,'msttr':msttr,'hapax_ratio':hapax_ratio,'entropy_token':entropy_tok}\n",
    "\n",
    "rows = []\n",
    "for name, df in [('mapped', mapped_n), ('augmented', aug_n)]:\n",
    "    for field in ['prompt','response']:\n",
    "        st = token_stats(df[field])\n",
    "        st['dataset']=name\n",
    "        st['field']=field\n",
    "        rows.append(st)\n",
    "text_div = pd.DataFrame(rows)\n",
    "text_div"
   ]
  },
  {
   "cell_type": "markdown",
   "id": "67eaee14",
   "metadata": {},
   "source": [
    "## 9. N-grammes Distincts & Overlap Inter-datasets\n",
    "Extraction n-grammes (1-3) sur prompts, PMI simplifié, Jaccard overlap."
   ]
  },
  {
   "cell_type": "code",
   "execution_count": 9,
   "id": "ba56daf6",
   "metadata": {},
   "outputs": [
    {
     "name": "stdout",
     "output_type": "stream",
     "text": [
      "Top 1-gram mapped\n"
     ]
    },
    {
     "data": {
      "text/html": [
       "<div>\n",
       "<style scoped>\n",
       "    .dataframe tbody tr th:only-of-type {\n",
       "        vertical-align: middle;\n",
       "    }\n",
       "\n",
       "    .dataframe tbody tr th {\n",
       "        vertical-align: top;\n",
       "    }\n",
       "\n",
       "    .dataframe thead th {\n",
       "        text-align: right;\n",
       "    }\n",
       "</style>\n",
       "<table border=\"1\" class=\"dataframe\">\n",
       "  <thead>\n",
       "    <tr style=\"text-align: right;\">\n",
       "      <th></th>\n",
       "      <th>ngram</th>\n",
       "      <th>freq</th>\n",
       "      <th>rel_freq</th>\n",
       "    </tr>\n",
       "  </thead>\n",
       "  <tbody>\n",
       "    <tr>\n",
       "      <th>0</th>\n",
       "      <td>the</td>\n",
       "      <td>1188</td>\n",
       "      <td>0.041093</td>\n",
       "    </tr>\n",
       "    <tr>\n",
       "      <th>1</th>\n",
       "      <td>a</td>\n",
       "      <td>846</td>\n",
       "      <td>0.029263</td>\n",
       "    </tr>\n",
       "    <tr>\n",
       "      <th>2</th>\n",
       "      <td>to</td>\n",
       "      <td>802</td>\n",
       "      <td>0.027741</td>\n",
       "    </tr>\n",
       "    <tr>\n",
       "      <th>3</th>\n",
       "      <td>and</td>\n",
       "      <td>651</td>\n",
       "      <td>0.022518</td>\n",
       "    </tr>\n",
       "    <tr>\n",
       "      <th>4</th>\n",
       "      <td>of</td>\n",
       "      <td>548</td>\n",
       "      <td>0.018955</td>\n",
       "    </tr>\n",
       "    <tr>\n",
       "      <th>5</th>\n",
       "      <td>in</td>\n",
       "      <td>530</td>\n",
       "      <td>0.018333</td>\n",
       "    </tr>\n",
       "    <tr>\n",
       "      <th>6</th>\n",
       "      <td>for</td>\n",
       "      <td>384</td>\n",
       "      <td>0.013283</td>\n",
       "    </tr>\n",
       "    <tr>\n",
       "      <th>7</th>\n",
       "      <td>is</td>\n",
       "      <td>380</td>\n",
       "      <td>0.013144</td>\n",
       "    </tr>\n",
       "    <tr>\n",
       "      <th>8</th>\n",
       "      <td>I</td>\n",
       "      <td>356</td>\n",
       "      <td>0.012314</td>\n",
       "    </tr>\n",
       "    <tr>\n",
       "      <th>9</th>\n",
       "      <td>you</td>\n",
       "      <td>294</td>\n",
       "      <td>0.010169</td>\n",
       "    </tr>\n",
       "    <tr>\n",
       "      <th>10</th>\n",
       "      <td>me</td>\n",
       "      <td>234</td>\n",
       "      <td>0.008094</td>\n",
       "    </tr>\n",
       "    <tr>\n",
       "      <th>11</th>\n",
       "      <td>that</td>\n",
       "      <td>197</td>\n",
       "      <td>0.006814</td>\n",
       "    </tr>\n",
       "    <tr>\n",
       "      <th>12</th>\n",
       "      <td>with</td>\n",
       "      <td>184</td>\n",
       "      <td>0.006365</td>\n",
       "    </tr>\n",
       "    <tr>\n",
       "      <th>13</th>\n",
       "      <td>on</td>\n",
       "      <td>167</td>\n",
       "      <td>0.005777</td>\n",
       "    </tr>\n",
       "    <tr>\n",
       "      <th>14</th>\n",
       "      <td>What</td>\n",
       "      <td>162</td>\n",
       "      <td>0.005604</td>\n",
       "    </tr>\n",
       "    <tr>\n",
       "      <th>15</th>\n",
       "      <td>are</td>\n",
       "      <td>162</td>\n",
       "      <td>0.005604</td>\n",
       "    </tr>\n",
       "    <tr>\n",
       "      <th>16</th>\n",
       "      <td>an</td>\n",
       "      <td>159</td>\n",
       "      <td>0.005500</td>\n",
       "    </tr>\n",
       "    <tr>\n",
       "      <th>17</th>\n",
       "      <td>can</td>\n",
       "      <td>154</td>\n",
       "      <td>0.005327</td>\n",
       "    </tr>\n",
       "    <tr>\n",
       "      <th>18</th>\n",
       "      <td>how</td>\n",
       "      <td>142</td>\n",
       "      <td>0.004912</td>\n",
       "    </tr>\n",
       "    <tr>\n",
       "      <th>19</th>\n",
       "      <td>what</td>\n",
       "      <td>141</td>\n",
       "      <td>0.004877</td>\n",
       "    </tr>\n",
       "  </tbody>\n",
       "</table>\n",
       "</div>"
      ],
      "text/plain": [
       "   ngram  freq  rel_freq\n",
       "0    the  1188  0.041093\n",
       "1      a   846  0.029263\n",
       "2     to   802  0.027741\n",
       "3    and   651  0.022518\n",
       "4     of   548  0.018955\n",
       "5     in   530  0.018333\n",
       "6    for   384  0.013283\n",
       "7     is   380  0.013144\n",
       "8      I   356  0.012314\n",
       "9    you   294  0.010169\n",
       "10    me   234  0.008094\n",
       "11  that   197  0.006814\n",
       "12  with   184  0.006365\n",
       "13    on   167  0.005777\n",
       "14  What   162  0.005604\n",
       "15   are   162  0.005604\n",
       "16    an   159  0.005500\n",
       "17   can   154  0.005327\n",
       "18   how   142  0.004912\n",
       "19  what   141  0.004877"
      ]
     },
     "metadata": {},
     "output_type": "display_data"
    },
    {
     "name": "stdout",
     "output_type": "stream",
     "text": [
      "Top 1-gram augmented\n"
     ]
    },
    {
     "data": {
      "text/html": [
       "<div>\n",
       "<style scoped>\n",
       "    .dataframe tbody tr th:only-of-type {\n",
       "        vertical-align: middle;\n",
       "    }\n",
       "\n",
       "    .dataframe tbody tr th {\n",
       "        vertical-align: top;\n",
       "    }\n",
       "\n",
       "    .dataframe thead th {\n",
       "        text-align: right;\n",
       "    }\n",
       "</style>\n",
       "<table border=\"1\" class=\"dataframe\">\n",
       "  <thead>\n",
       "    <tr style=\"text-align: right;\">\n",
       "      <th></th>\n",
       "      <th>ngram</th>\n",
       "      <th>freq</th>\n",
       "      <th>rel_freq</th>\n",
       "    </tr>\n",
       "  </thead>\n",
       "  <tbody>\n",
       "    <tr>\n",
       "      <th>0</th>\n",
       "      <td>to</td>\n",
       "      <td>1727</td>\n",
       "      <td>0.053256</td>\n",
       "    </tr>\n",
       "    <tr>\n",
       "      <th>1</th>\n",
       "      <td>a</td>\n",
       "      <td>1544</td>\n",
       "      <td>0.047613</td>\n",
       "    </tr>\n",
       "    <tr>\n",
       "      <th>2</th>\n",
       "      <td>I</td>\n",
       "      <td>1198</td>\n",
       "      <td>0.036943</td>\n",
       "    </tr>\n",
       "    <tr>\n",
       "      <th>3</th>\n",
       "      <td>the</td>\n",
       "      <td>1058</td>\n",
       "      <td>0.032626</td>\n",
       "    </tr>\n",
       "    <tr>\n",
       "      <th>4</th>\n",
       "      <td>and</td>\n",
       "      <td>1024</td>\n",
       "      <td>0.031578</td>\n",
       "    </tr>\n",
       "    <tr>\n",
       "      <th>5</th>\n",
       "      <td>need</td>\n",
       "      <td>869</td>\n",
       "      <td>0.026798</td>\n",
       "    </tr>\n",
       "    <tr>\n",
       "      <th>6</th>\n",
       "      <td>for</td>\n",
       "      <td>842</td>\n",
       "      <td>0.025965</td>\n",
       "    </tr>\n",
       "    <tr>\n",
       "      <th>7</th>\n",
       "      <td>my</td>\n",
       "      <td>745</td>\n",
       "      <td>0.022974</td>\n",
       "    </tr>\n",
       "    <tr>\n",
       "      <th>8</th>\n",
       "      <td>help</td>\n",
       "      <td>538</td>\n",
       "      <td>0.016591</td>\n",
       "    </tr>\n",
       "    <tr>\n",
       "      <th>9</th>\n",
       "      <td>of</td>\n",
       "      <td>309</td>\n",
       "      <td>0.009529</td>\n",
       "    </tr>\n",
       "    <tr>\n",
       "      <th>10</th>\n",
       "      <td>me</td>\n",
       "      <td>280</td>\n",
       "      <td>0.008635</td>\n",
       "    </tr>\n",
       "    <tr>\n",
       "      <th>11</th>\n",
       "      <td>next</td>\n",
       "      <td>277</td>\n",
       "      <td>0.008542</td>\n",
       "    </tr>\n",
       "    <tr>\n",
       "      <th>12</th>\n",
       "      <td>you</td>\n",
       "      <td>268</td>\n",
       "      <td>0.008264</td>\n",
       "    </tr>\n",
       "    <tr>\n",
       "      <th>13</th>\n",
       "      <td>in</td>\n",
       "      <td>264</td>\n",
       "      <td>0.008141</td>\n",
       "    </tr>\n",
       "    <tr>\n",
       "      <th>14</th>\n",
       "      <td>with</td>\n",
       "      <td>230</td>\n",
       "      <td>0.007093</td>\n",
       "    </tr>\n",
       "    <tr>\n",
       "      <th>15</th>\n",
       "      <td>on</td>\n",
       "      <td>228</td>\n",
       "      <td>0.007031</td>\n",
       "    </tr>\n",
       "    <tr>\n",
       "      <th>16</th>\n",
       "      <td>from</td>\n",
       "      <td>220</td>\n",
       "      <td>0.006784</td>\n",
       "    </tr>\n",
       "    <tr>\n",
       "      <th>17</th>\n",
       "      <td>that</td>\n",
       "      <td>207</td>\n",
       "      <td>0.006383</td>\n",
       "    </tr>\n",
       "    <tr>\n",
       "      <th>18</th>\n",
       "      <td>I'm</td>\n",
       "      <td>190</td>\n",
       "      <td>0.005859</td>\n",
       "    </tr>\n",
       "    <tr>\n",
       "      <th>19</th>\n",
       "      <td>find</td>\n",
       "      <td>190</td>\n",
       "      <td>0.005859</td>\n",
       "    </tr>\n",
       "  </tbody>\n",
       "</table>\n",
       "</div>"
      ],
      "text/plain": [
       "   ngram  freq  rel_freq\n",
       "0     to  1727  0.053256\n",
       "1      a  1544  0.047613\n",
       "2      I  1198  0.036943\n",
       "3    the  1058  0.032626\n",
       "4    and  1024  0.031578\n",
       "5   need   869  0.026798\n",
       "6    for   842  0.025965\n",
       "7     my   745  0.022974\n",
       "8   help   538  0.016591\n",
       "9     of   309  0.009529\n",
       "10    me   280  0.008635\n",
       "11  next   277  0.008542\n",
       "12   you   268  0.008264\n",
       "13    in   264  0.008141\n",
       "14  with   230  0.007093\n",
       "15    on   228  0.007031\n",
       "16  from   220  0.006784\n",
       "17  that   207  0.006383\n",
       "18   I'm   190  0.005859\n",
       "19  find   190  0.005859"
      ]
     },
     "metadata": {},
     "output_type": "display_data"
    },
    {
     "name": "stdout",
     "output_type": "stream",
     "text": [
      "Top 2-gram mapped\n"
     ]
    },
    {
     "data": {
      "text/html": [
       "<div>\n",
       "<style scoped>\n",
       "    .dataframe tbody tr th:only-of-type {\n",
       "        vertical-align: middle;\n",
       "    }\n",
       "\n",
       "    .dataframe tbody tr th {\n",
       "        vertical-align: top;\n",
       "    }\n",
       "\n",
       "    .dataframe thead th {\n",
       "        text-align: right;\n",
       "    }\n",
       "</style>\n",
       "<table border=\"1\" class=\"dataframe\">\n",
       "  <thead>\n",
       "    <tr style=\"text-align: right;\">\n",
       "      <th></th>\n",
       "      <th>ngram</th>\n",
       "      <th>freq</th>\n",
       "      <th>rel_freq</th>\n",
       "    </tr>\n",
       "  </thead>\n",
       "  <tbody>\n",
       "    <tr>\n",
       "      <th>0</th>\n",
       "      <td>in the</td>\n",
       "      <td>133</td>\n",
       "      <td>0.004958</td>\n",
       "    </tr>\n",
       "    <tr>\n",
       "      <th>1</th>\n",
       "      <td>is the</td>\n",
       "      <td>109</td>\n",
       "      <td>0.004063</td>\n",
       "    </tr>\n",
       "    <tr>\n",
       "      <th>2</th>\n",
       "      <td>of the</td>\n",
       "      <td>102</td>\n",
       "      <td>0.003802</td>\n",
       "    </tr>\n",
       "    <tr>\n",
       "      <th>3</th>\n",
       "      <td>for a</td>\n",
       "      <td>67</td>\n",
       "      <td>0.002497</td>\n",
       "    </tr>\n",
       "    <tr>\n",
       "      <th>4</th>\n",
       "      <td>What is</td>\n",
       "      <td>67</td>\n",
       "      <td>0.002497</td>\n",
       "    </tr>\n",
       "    <tr>\n",
       "      <th>5</th>\n",
       "      <td>Can you</td>\n",
       "      <td>58</td>\n",
       "      <td>0.002162</td>\n",
       "    </tr>\n",
       "    <tr>\n",
       "      <th>6</th>\n",
       "      <td>me a</td>\n",
       "      <td>56</td>\n",
       "      <td>0.002087</td>\n",
       "    </tr>\n",
       "    <tr>\n",
       "      <th>7</th>\n",
       "      <td>what is</td>\n",
       "      <td>48</td>\n",
       "      <td>0.001789</td>\n",
       "    </tr>\n",
       "    <tr>\n",
       "      <th>8</th>\n",
       "      <td>to the</td>\n",
       "      <td>47</td>\n",
       "      <td>0.001752</td>\n",
       "    </tr>\n",
       "    <tr>\n",
       "      <th>9</th>\n",
       "      <td>for the</td>\n",
       "      <td>44</td>\n",
       "      <td>0.001640</td>\n",
       "    </tr>\n",
       "    <tr>\n",
       "      <th>10</th>\n",
       "      <td>in a</td>\n",
       "      <td>42</td>\n",
       "      <td>0.001566</td>\n",
       "    </tr>\n",
       "    <tr>\n",
       "      <th>11</th>\n",
       "      <td>as a</td>\n",
       "      <td>41</td>\n",
       "      <td>0.001528</td>\n",
       "    </tr>\n",
       "    <tr>\n",
       "      <th>12</th>\n",
       "      <td>of a</td>\n",
       "      <td>41</td>\n",
       "      <td>0.001528</td>\n",
       "    </tr>\n",
       "    <tr>\n",
       "      <th>13</th>\n",
       "      <td>on the</td>\n",
       "      <td>40</td>\n",
       "      <td>0.001491</td>\n",
       "    </tr>\n",
       "    <tr>\n",
       "      <th>14</th>\n",
       "      <td>how to</td>\n",
       "      <td>39</td>\n",
       "      <td>0.001454</td>\n",
       "    </tr>\n",
       "    <tr>\n",
       "      <th>15</th>\n",
       "      <td>can you</td>\n",
       "      <td>38</td>\n",
       "      <td>0.001416</td>\n",
       "    </tr>\n",
       "    <tr>\n",
       "      <th>16</th>\n",
       "      <td>write a</td>\n",
       "      <td>37</td>\n",
       "      <td>0.001379</td>\n",
       "    </tr>\n",
       "    <tr>\n",
       "      <th>17</th>\n",
       "      <td>is a</td>\n",
       "      <td>35</td>\n",
       "      <td>0.001305</td>\n",
       "    </tr>\n",
       "    <tr>\n",
       "      <th>18</th>\n",
       "      <td>I am</td>\n",
       "      <td>35</td>\n",
       "      <td>0.001305</td>\n",
       "    </tr>\n",
       "    <tr>\n",
       "      <th>19</th>\n",
       "      <td>can I</td>\n",
       "      <td>33</td>\n",
       "      <td>0.001230</td>\n",
       "    </tr>\n",
       "  </tbody>\n",
       "</table>\n",
       "</div>"
      ],
      "text/plain": [
       "      ngram  freq  rel_freq\n",
       "0    in the   133  0.004958\n",
       "1    is the   109  0.004063\n",
       "2    of the   102  0.003802\n",
       "3     for a    67  0.002497\n",
       "4   What is    67  0.002497\n",
       "5   Can you    58  0.002162\n",
       "6      me a    56  0.002087\n",
       "7   what is    48  0.001789\n",
       "8    to the    47  0.001752\n",
       "9   for the    44  0.001640\n",
       "10     in a    42  0.001566\n",
       "11     as a    41  0.001528\n",
       "12     of a    41  0.001528\n",
       "13   on the    40  0.001491\n",
       "14   how to    39  0.001454\n",
       "15  can you    38  0.001416\n",
       "16  write a    37  0.001379\n",
       "17     is a    35  0.001305\n",
       "18     I am    35  0.001305\n",
       "19    can I    33  0.001230"
      ]
     },
     "metadata": {},
     "output_type": "display_data"
    },
    {
     "name": "stdout",
     "output_type": "stream",
     "text": [
      "Top 2-gram augmented\n"
     ]
    },
    {
     "data": {
      "text/html": [
       "<div>\n",
       "<style scoped>\n",
       "    .dataframe tbody tr th:only-of-type {\n",
       "        vertical-align: middle;\n",
       "    }\n",
       "\n",
       "    .dataframe tbody tr th {\n",
       "        vertical-align: top;\n",
       "    }\n",
       "\n",
       "    .dataframe thead th {\n",
       "        text-align: right;\n",
       "    }\n",
       "</style>\n",
       "<table border=\"1\" class=\"dataframe\">\n",
       "  <thead>\n",
       "    <tr style=\"text-align: right;\">\n",
       "      <th></th>\n",
       "      <th>ngram</th>\n",
       "      <th>freq</th>\n",
       "      <th>rel_freq</th>\n",
       "    </tr>\n",
       "  </thead>\n",
       "  <tbody>\n",
       "    <tr>\n",
       "      <th>0</th>\n",
       "      <td>I need</td>\n",
       "      <td>790</td>\n",
       "      <td>0.025619</td>\n",
       "    </tr>\n",
       "    <tr>\n",
       "      <th>1</th>\n",
       "      <td>need to</td>\n",
       "      <td>454</td>\n",
       "      <td>0.014723</td>\n",
       "    </tr>\n",
       "    <tr>\n",
       "      <th>2</th>\n",
       "      <td>need help</td>\n",
       "      <td>364</td>\n",
       "      <td>0.011804</td>\n",
       "    </tr>\n",
       "    <tr>\n",
       "      <th>3</th>\n",
       "      <td>planning a</td>\n",
       "      <td>163</td>\n",
       "      <td>0.005286</td>\n",
       "    </tr>\n",
       "    <tr>\n",
       "      <th>4</th>\n",
       "      <td>trip to</td>\n",
       "      <td>156</td>\n",
       "      <td>0.005059</td>\n",
       "    </tr>\n",
       "    <tr>\n",
       "      <th>5</th>\n",
       "      <td>for a</td>\n",
       "      <td>153</td>\n",
       "      <td>0.004962</td>\n",
       "    </tr>\n",
       "    <tr>\n",
       "      <th>6</th>\n",
       "      <td>help me</td>\n",
       "      <td>138</td>\n",
       "      <td>0.004475</td>\n",
       "    </tr>\n",
       "    <tr>\n",
       "      <th>7</th>\n",
       "      <td>to find</td>\n",
       "      <td>136</td>\n",
       "      <td>0.004410</td>\n",
       "    </tr>\n",
       "    <tr>\n",
       "      <th>8</th>\n",
       "      <td>for next</td>\n",
       "      <td>135</td>\n",
       "      <td>0.004378</td>\n",
       "    </tr>\n",
       "    <tr>\n",
       "      <th>9</th>\n",
       "      <td>to my</td>\n",
       "      <td>134</td>\n",
       "      <td>0.004346</td>\n",
       "    </tr>\n",
       "    <tr>\n",
       "      <th>10</th>\n",
       "      <td>Can you</td>\n",
       "      <td>131</td>\n",
       "      <td>0.004248</td>\n",
       "    </tr>\n",
       "    <tr>\n",
       "      <th>11</th>\n",
       "      <td>how to</td>\n",
       "      <td>120</td>\n",
       "      <td>0.003892</td>\n",
       "    </tr>\n",
       "    <tr>\n",
       "      <th>12</th>\n",
       "      <td>email to</td>\n",
       "      <td>118</td>\n",
       "      <td>0.003827</td>\n",
       "    </tr>\n",
       "    <tr>\n",
       "      <th>13</th>\n",
       "      <td>want to</td>\n",
       "      <td>117</td>\n",
       "      <td>0.003794</td>\n",
       "    </tr>\n",
       "    <tr>\n",
       "      <th>14</th>\n",
       "      <td>help planning</td>\n",
       "      <td>115</td>\n",
       "      <td>0.003729</td>\n",
       "    </tr>\n",
       "    <tr>\n",
       "      <th>15</th>\n",
       "      <td>for my</td>\n",
       "      <td>109</td>\n",
       "      <td>0.003535</td>\n",
       "    </tr>\n",
       "    <tr>\n",
       "      <th>16</th>\n",
       "      <td>figure out</td>\n",
       "      <td>105</td>\n",
       "      <td>0.003405</td>\n",
       "    </tr>\n",
       "    <tr>\n",
       "      <th>17</th>\n",
       "      <td>I want</td>\n",
       "      <td>105</td>\n",
       "      <td>0.003405</td>\n",
       "    </tr>\n",
       "    <tr>\n",
       "      <th>18</th>\n",
       "      <td>the best</td>\n",
       "      <td>104</td>\n",
       "      <td>0.003373</td>\n",
       "    </tr>\n",
       "    <tr>\n",
       "      <th>19</th>\n",
       "      <td>you help</td>\n",
       "      <td>96</td>\n",
       "      <td>0.003113</td>\n",
       "    </tr>\n",
       "  </tbody>\n",
       "</table>\n",
       "</div>"
      ],
      "text/plain": [
       "            ngram  freq  rel_freq\n",
       "0          I need   790  0.025619\n",
       "1         need to   454  0.014723\n",
       "2       need help   364  0.011804\n",
       "3      planning a   163  0.005286\n",
       "4         trip to   156  0.005059\n",
       "5           for a   153  0.004962\n",
       "6         help me   138  0.004475\n",
       "7         to find   136  0.004410\n",
       "8        for next   135  0.004378\n",
       "9           to my   134  0.004346\n",
       "10        Can you   131  0.004248\n",
       "11         how to   120  0.003892\n",
       "12       email to   118  0.003827\n",
       "13        want to   117  0.003794\n",
       "14  help planning   115  0.003729\n",
       "15         for my   109  0.003535\n",
       "16     figure out   105  0.003405\n",
       "17         I want   105  0.003405\n",
       "18       the best   104  0.003373\n",
       "19       you help    96  0.003113"
      ]
     },
     "metadata": {},
     "output_type": "display_data"
    },
    {
     "name": "stdout",
     "output_type": "stream",
     "text": [
      "Top 3-gram mapped\n"
     ]
    },
    {
     "data": {
      "text/html": [
       "<div>\n",
       "<style scoped>\n",
       "    .dataframe tbody tr th:only-of-type {\n",
       "        vertical-align: middle;\n",
       "    }\n",
       "\n",
       "    .dataframe tbody tr th {\n",
       "        vertical-align: top;\n",
       "    }\n",
       "\n",
       "    .dataframe thead th {\n",
       "        text-align: right;\n",
       "    }\n",
       "</style>\n",
       "<table border=\"1\" class=\"dataframe\">\n",
       "  <thead>\n",
       "    <tr style=\"text-align: right;\">\n",
       "      <th></th>\n",
       "      <th>ngram</th>\n",
       "      <th>freq</th>\n",
       "      <th>rel_freq</th>\n",
       "    </tr>\n",
       "  </thead>\n",
       "  <tbody>\n",
       "    <tr>\n",
       "      <th>0</th>\n",
       "      <td>What is the</td>\n",
       "      <td>38</td>\n",
       "      <td>0.001491</td>\n",
       "    </tr>\n",
       "    <tr>\n",
       "      <th>1</th>\n",
       "      <td>what is the</td>\n",
       "      <td>26</td>\n",
       "      <td>0.001020</td>\n",
       "    </tr>\n",
       "    <tr>\n",
       "      <th>2</th>\n",
       "      <td>How do I</td>\n",
       "      <td>18</td>\n",
       "      <td>0.000706</td>\n",
       "    </tr>\n",
       "    <tr>\n",
       "      <th>3</th>\n",
       "      <td>is the best</td>\n",
       "      <td>17</td>\n",
       "      <td>0.000667</td>\n",
       "    </tr>\n",
       "    <tr>\n",
       "      <th>4</th>\n",
       "      <td>you give me</td>\n",
       "      <td>16</td>\n",
       "      <td>0.000628</td>\n",
       "    </tr>\n",
       "    <tr>\n",
       "      <th>5</th>\n",
       "      <td>I want to</td>\n",
       "      <td>15</td>\n",
       "      <td>0.000588</td>\n",
       "    </tr>\n",
       "    <tr>\n",
       "      <th>6</th>\n",
       "      <td>How can I</td>\n",
       "      <td>15</td>\n",
       "      <td>0.000588</td>\n",
       "    </tr>\n",
       "    <tr>\n",
       "      <th>7</th>\n",
       "      <td>you tell me</td>\n",
       "      <td>15</td>\n",
       "      <td>0.000588</td>\n",
       "    </tr>\n",
       "    <tr>\n",
       "      <th>8</th>\n",
       "      <td>write me a</td>\n",
       "      <td>13</td>\n",
       "      <td>0.000510</td>\n",
       "    </tr>\n",
       "    <tr>\n",
       "      <th>9</th>\n",
       "      <td>What are the</td>\n",
       "      <td>12</td>\n",
       "      <td>0.000471</td>\n",
       "    </tr>\n",
       "    <tr>\n",
       "      <th>10</th>\n",
       "      <td>Write me a</td>\n",
       "      <td>12</td>\n",
       "      <td>0.000471</td>\n",
       "    </tr>\n",
       "    <tr>\n",
       "      <th>11</th>\n",
       "      <td>give me some</td>\n",
       "      <td>11</td>\n",
       "      <td>0.000431</td>\n",
       "    </tr>\n",
       "    <tr>\n",
       "      <th>12</th>\n",
       "      <td>best way to</td>\n",
       "      <td>11</td>\n",
       "      <td>0.000431</td>\n",
       "    </tr>\n",
       "    <tr>\n",
       "      <th>13</th>\n",
       "      <td>you help me</td>\n",
       "      <td>10</td>\n",
       "      <td>0.000392</td>\n",
       "    </tr>\n",
       "    <tr>\n",
       "      <th>14</th>\n",
       "      <td>give me a</td>\n",
       "      <td>10</td>\n",
       "      <td>0.000392</td>\n",
       "    </tr>\n",
       "    <tr>\n",
       "      <th>15</th>\n",
       "      <td>I need to</td>\n",
       "      <td>10</td>\n",
       "      <td>0.000392</td>\n",
       "    </tr>\n",
       "    <tr>\n",
       "      <th>16</th>\n",
       "      <td>tell me about</td>\n",
       "      <td>10</td>\n",
       "      <td>0.000392</td>\n",
       "    </tr>\n",
       "    <tr>\n",
       "      <th>17</th>\n",
       "      <td>the history of</td>\n",
       "      <td>10</td>\n",
       "      <td>0.000392</td>\n",
       "    </tr>\n",
       "    <tr>\n",
       "      <th>18</th>\n",
       "      <td>help me to</td>\n",
       "      <td>9</td>\n",
       "      <td>0.000353</td>\n",
       "    </tr>\n",
       "    <tr>\n",
       "      <th>19</th>\n",
       "      <td>the best way</td>\n",
       "      <td>9</td>\n",
       "      <td>0.000353</td>\n",
       "    </tr>\n",
       "  </tbody>\n",
       "</table>\n",
       "</div>"
      ],
      "text/plain": [
       "             ngram  freq  rel_freq\n",
       "0      What is the    38  0.001491\n",
       "1      what is the    26  0.001020\n",
       "2         How do I    18  0.000706\n",
       "3      is the best    17  0.000667\n",
       "4      you give me    16  0.000628\n",
       "5        I want to    15  0.000588\n",
       "6        How can I    15  0.000588\n",
       "7      you tell me    15  0.000588\n",
       "8       write me a    13  0.000510\n",
       "9     What are the    12  0.000471\n",
       "10      Write me a    12  0.000471\n",
       "11    give me some    11  0.000431\n",
       "12     best way to    11  0.000431\n",
       "13     you help me    10  0.000392\n",
       "14       give me a    10  0.000392\n",
       "15       I need to    10  0.000392\n",
       "16   tell me about    10  0.000392\n",
       "17  the history of    10  0.000392\n",
       "18      help me to     9  0.000353\n",
       "19    the best way     9  0.000353"
      ]
     },
     "metadata": {},
     "output_type": "display_data"
    },
    {
     "name": "stdout",
     "output_type": "stream",
     "text": [
      "Top 3-gram augmented\n"
     ]
    },
    {
     "data": {
      "text/html": [
       "<div>\n",
       "<style scoped>\n",
       "    .dataframe tbody tr th:only-of-type {\n",
       "        vertical-align: middle;\n",
       "    }\n",
       "\n",
       "    .dataframe tbody tr th {\n",
       "        vertical-align: top;\n",
       "    }\n",
       "\n",
       "    .dataframe thead th {\n",
       "        text-align: right;\n",
       "    }\n",
       "</style>\n",
       "<table border=\"1\" class=\"dataframe\">\n",
       "  <thead>\n",
       "    <tr style=\"text-align: right;\">\n",
       "      <th></th>\n",
       "      <th>ngram</th>\n",
       "      <th>freq</th>\n",
       "      <th>rel_freq</th>\n",
       "    </tr>\n",
       "  </thead>\n",
       "  <tbody>\n",
       "    <tr>\n",
       "      <th>0</th>\n",
       "      <td>I need to</td>\n",
       "      <td>413</td>\n",
       "      <td>0.014107</td>\n",
       "    </tr>\n",
       "    <tr>\n",
       "      <th>1</th>\n",
       "      <td>I need help</td>\n",
       "      <td>342</td>\n",
       "      <td>0.011682</td>\n",
       "    </tr>\n",
       "    <tr>\n",
       "      <th>2</th>\n",
       "      <td>need help planning</td>\n",
       "      <td>115</td>\n",
       "      <td>0.003928</td>\n",
       "    </tr>\n",
       "    <tr>\n",
       "      <th>3</th>\n",
       "      <td>need to find</td>\n",
       "      <td>115</td>\n",
       "      <td>0.003928</td>\n",
       "    </tr>\n",
       "    <tr>\n",
       "      <th>4</th>\n",
       "      <td>help planning a</td>\n",
       "      <td>112</td>\n",
       "      <td>0.003826</td>\n",
       "    </tr>\n",
       "    <tr>\n",
       "      <th>5</th>\n",
       "      <td>I want to</td>\n",
       "      <td>103</td>\n",
       "      <td>0.003518</td>\n",
       "    </tr>\n",
       "    <tr>\n",
       "      <th>6</th>\n",
       "      <td>you help me</td>\n",
       "      <td>94</td>\n",
       "      <td>0.003211</td>\n",
       "    </tr>\n",
       "    <tr>\n",
       "      <th>7</th>\n",
       "      <td>email to my</td>\n",
       "      <td>92</td>\n",
       "      <td>0.003142</td>\n",
       "    </tr>\n",
       "    <tr>\n",
       "      <th>8</th>\n",
       "      <td>to figure out</td>\n",
       "      <td>89</td>\n",
       "      <td>0.003040</td>\n",
       "    </tr>\n",
       "    <tr>\n",
       "      <th>9</th>\n",
       "      <td>need to figure</td>\n",
       "      <td>67</td>\n",
       "      <td>0.002288</td>\n",
       "    </tr>\n",
       "    <tr>\n",
       "      <th>10</th>\n",
       "      <td>weekend trip to</td>\n",
       "      <td>66</td>\n",
       "      <td>0.002254</td>\n",
       "    </tr>\n",
       "    <tr>\n",
       "      <th>11</th>\n",
       "      <td>a trip to</td>\n",
       "      <td>66</td>\n",
       "      <td>0.002254</td>\n",
       "    </tr>\n",
       "    <tr>\n",
       "      <th>12</th>\n",
       "      <td>planning a weekend</td>\n",
       "      <td>65</td>\n",
       "      <td>0.002220</td>\n",
       "    </tr>\n",
       "    <tr>\n",
       "      <th>13</th>\n",
       "      <td>a weekend trip</td>\n",
       "      <td>65</td>\n",
       "      <td>0.002220</td>\n",
       "    </tr>\n",
       "    <tr>\n",
       "      <th>14</th>\n",
       "      <td>Can you help</td>\n",
       "      <td>65</td>\n",
       "      <td>0.002220</td>\n",
       "    </tr>\n",
       "    <tr>\n",
       "      <th>15</th>\n",
       "      <td>to book a</td>\n",
       "      <td>65</td>\n",
       "      <td>0.002220</td>\n",
       "    </tr>\n",
       "    <tr>\n",
       "      <th>16</th>\n",
       "      <td>planning a trip</td>\n",
       "      <td>61</td>\n",
       "      <td>0.002084</td>\n",
       "    </tr>\n",
       "    <tr>\n",
       "      <th>17</th>\n",
       "      <td>out how to</td>\n",
       "      <td>60</td>\n",
       "      <td>0.002049</td>\n",
       "    </tr>\n",
       "    <tr>\n",
       "      <th>18</th>\n",
       "      <td>to find the</td>\n",
       "      <td>59</td>\n",
       "      <td>0.002015</td>\n",
       "    </tr>\n",
       "    <tr>\n",
       "      <th>19</th>\n",
       "      <td>to find a</td>\n",
       "      <td>58</td>\n",
       "      <td>0.001981</td>\n",
       "    </tr>\n",
       "  </tbody>\n",
       "</table>\n",
       "</div>"
      ],
      "text/plain": [
       "                 ngram  freq  rel_freq\n",
       "0            I need to   413  0.014107\n",
       "1          I need help   342  0.011682\n",
       "2   need help planning   115  0.003928\n",
       "3         need to find   115  0.003928\n",
       "4      help planning a   112  0.003826\n",
       "5            I want to   103  0.003518\n",
       "6          you help me    94  0.003211\n",
       "7          email to my    92  0.003142\n",
       "8        to figure out    89  0.003040\n",
       "9       need to figure    67  0.002288\n",
       "10     weekend trip to    66  0.002254\n",
       "11           a trip to    66  0.002254\n",
       "12  planning a weekend    65  0.002220\n",
       "13      a weekend trip    65  0.002220\n",
       "14        Can you help    65  0.002220\n",
       "15           to book a    65  0.002220\n",
       "16     planning a trip    61  0.002084\n",
       "17          out how to    60  0.002049\n",
       "18         to find the    59  0.002015\n",
       "19           to find a    58  0.001981"
      ]
     },
     "metadata": {},
     "output_type": "display_data"
    },
    {
     "data": {
      "text/html": [
       "<div>\n",
       "<style scoped>\n",
       "    .dataframe tbody tr th:only-of-type {\n",
       "        vertical-align: middle;\n",
       "    }\n",
       "\n",
       "    .dataframe tbody tr th {\n",
       "        vertical-align: top;\n",
       "    }\n",
       "\n",
       "    .dataframe thead th {\n",
       "        text-align: right;\n",
       "    }\n",
       "</style>\n",
       "<table border=\"1\" class=\"dataframe\">\n",
       "  <thead>\n",
       "    <tr style=\"text-align: right;\">\n",
       "      <th></th>\n",
       "      <th>n</th>\n",
       "      <th>jaccard</th>\n",
       "      <th>mapped_unique</th>\n",
       "      <th>aug_unique</th>\n",
       "    </tr>\n",
       "  </thead>\n",
       "  <tbody>\n",
       "    <tr>\n",
       "      <th>0</th>\n",
       "      <td>1</td>\n",
       "      <td>0.191634</td>\n",
       "      <td>7070</td>\n",
       "      <td>2670</td>\n",
       "    </tr>\n",
       "    <tr>\n",
       "      <th>1</th>\n",
       "      <td>2</td>\n",
       "      <td>0.071856</td>\n",
       "      <td>18203</td>\n",
       "      <td>11118</td>\n",
       "    </tr>\n",
       "    <tr>\n",
       "      <th>2</th>\n",
       "      <td>3</td>\n",
       "      <td>0.024254</td>\n",
       "      <td>23047</td>\n",
       "      <td>16862</td>\n",
       "    </tr>\n",
       "  </tbody>\n",
       "</table>\n",
       "</div>"
      ],
      "text/plain": [
       "   n   jaccard  mapped_unique  aug_unique\n",
       "0  1  0.191634           7070        2670\n",
       "1  2  0.071856          18203       11118\n",
       "2  3  0.024254          23047       16862"
      ]
     },
     "execution_count": 9,
     "metadata": {},
     "output_type": "execute_result"
    }
   ],
   "source": [
    "from itertools import islice\n",
    "\n",
    "def ngrams(tokens, n):\n",
    "    return [' '.join(tokens[i:i+n]) for i in range(len(tokens)-n+1)]\n",
    "\n",
    "def top_ngrams(df: pd.DataFrame, n: int, top=20):\n",
    "    all_tokens = [t.split() for t in df['prompt'].astype(str)]\n",
    "    counter = Counter()\n",
    "    for toks in all_tokens:\n",
    "        counter.update(ngrams(toks, n))\n",
    "    total = sum(counter.values())\n",
    "    items = counter.most_common(top)\n",
    "    return pd.DataFrame({'ngram':[k for k,_ in items], 'freq':[v for _,v in items], 'rel_freq':[v/total for _,v in items]})\n",
    "\n",
    "for n in [1,2,3]:\n",
    "    print(f\"Top {n}-gram mapped\")\n",
    "    display(top_ngrams(mapped_n, n))\n",
    "    print(f\"Top {n}-gram augmented\")\n",
    "    display(top_ngrams(aug_n, n))\n",
    "\n",
    "# Overlap Jaccard\n",
    "jacc = []\n",
    "for n in [1,2,3]:\n",
    "    set_m = set().union(*[set(ngrams(t.split(), n)) for t in mapped_n['prompt'].astype(str)])\n",
    "    set_a = set().union(*[set(ngrams(t.split(), n)) for t in aug_n['prompt'].astype(str)])\n",
    "    inter = len(set_m & set_a); union = len(set_m | set_a)\n",
    "    jacc.append({'n':n,'jaccard': inter/(union or 1), 'mapped_unique': len(set_m - set_a), 'aug_unique': len(set_a - set_m)})\n",
    "\n",
    "pd.DataFrame(jacc)"
   ]
  },
  {
   "cell_type": "markdown",
   "id": "747e208e",
   "metadata": {},
   "source": [
    "## 10. Détection de Doublons Exactes\n",
    "Groupements par prompt et par (prompt,response)."
   ]
  },
  {
   "cell_type": "code",
   "execution_count": 10,
   "id": "7e1c3874",
   "metadata": {},
   "outputs": [
    {
     "name": "stdout",
     "output_type": "stream",
     "text": [
      "Prompts duplications mapped:\n",
      "[mapped] 4 groupes dupliqués, 0.38% des lignes impliquées (clé=['prompt'])\n"
     ]
    },
    {
     "data": {
      "text/html": [
       "<div>\n",
       "<style scoped>\n",
       "    .dataframe tbody tr th:only-of-type {\n",
       "        vertical-align: middle;\n",
       "    }\n",
       "\n",
       "    .dataframe tbody tr th {\n",
       "        vertical-align: top;\n",
       "    }\n",
       "\n",
       "    .dataframe thead th {\n",
       "        text-align: right;\n",
       "    }\n",
       "</style>\n",
       "<table border=\"1\" class=\"dataframe\">\n",
       "  <thead>\n",
       "    <tr style=\"text-align: right;\">\n",
       "      <th></th>\n",
       "      <th>prompt</th>\n",
       "      <th>count</th>\n",
       "    </tr>\n",
       "  </thead>\n",
       "  <tbody>\n",
       "    <tr>\n",
       "      <th>99</th>\n",
       "      <td>Can you write a book?</td>\n",
       "      <td>2</td>\n",
       "    </tr>\n",
       "    <tr>\n",
       "      <th>315</th>\n",
       "      <td>How many days in February</td>\n",
       "      <td>2</td>\n",
       "    </tr>\n",
       "    <tr>\n",
       "      <th>575</th>\n",
       "      <td>Tell me a random fun fact about the Roman Empire</td>\n",
       "      <td>2</td>\n",
       "    </tr>\n",
       "    <tr>\n",
       "      <th>663</th>\n",
       "      <td>What is LinkedIn?</td>\n",
       "      <td>2</td>\n",
       "    </tr>\n",
       "  </tbody>\n",
       "</table>\n",
       "</div>"
      ],
      "text/plain": [
       "                                               prompt  count\n",
       "99                              Can you write a book?      2\n",
       "315                         How many days in February      2\n",
       "575  Tell me a random fun fact about the Roman Empire      2\n",
       "663                                 What is LinkedIn?      2"
      ]
     },
     "metadata": {},
     "output_type": "display_data"
    },
    {
     "name": "stdout",
     "output_type": "stream",
     "text": [
      "Prompts duplications augmented:\n",
      "[augmented] 0 groupes dupliqués, 0.00% des lignes impliquées (clé=['prompt'])\n"
     ]
    },
    {
     "data": {
      "text/html": [
       "<div>\n",
       "<style scoped>\n",
       "    .dataframe tbody tr th:only-of-type {\n",
       "        vertical-align: middle;\n",
       "    }\n",
       "\n",
       "    .dataframe tbody tr th {\n",
       "        vertical-align: top;\n",
       "    }\n",
       "\n",
       "    .dataframe thead th {\n",
       "        text-align: right;\n",
       "    }\n",
       "</style>\n",
       "<table border=\"1\" class=\"dataframe\">\n",
       "  <thead>\n",
       "    <tr style=\"text-align: right;\">\n",
       "      <th></th>\n",
       "      <th>prompt</th>\n",
       "      <th>count</th>\n",
       "    </tr>\n",
       "  </thead>\n",
       "  <tbody>\n",
       "  </tbody>\n",
       "</table>\n",
       "</div>"
      ],
      "text/plain": [
       "Empty DataFrame\n",
       "Columns: [prompt, count]\n",
       "Index: []"
      ]
     },
     "metadata": {},
     "output_type": "display_data"
    },
    {
     "name": "stdout",
     "output_type": "stream",
     "text": [
      "Couples duplications all:\n",
      "[all] 0 groupes dupliqués, 0.00% des lignes impliquées (clé=['prompt', 'response', 'source'])\n"
     ]
    },
    {
     "data": {
      "text/html": [
       "<div>\n",
       "<style scoped>\n",
       "    .dataframe tbody tr th:only-of-type {\n",
       "        vertical-align: middle;\n",
       "    }\n",
       "\n",
       "    .dataframe tbody tr th {\n",
       "        vertical-align: top;\n",
       "    }\n",
       "\n",
       "    .dataframe thead th {\n",
       "        text-align: right;\n",
       "    }\n",
       "</style>\n",
       "<table border=\"1\" class=\"dataframe\">\n",
       "  <thead>\n",
       "    <tr style=\"text-align: right;\">\n",
       "      <th></th>\n",
       "      <th>prompt</th>\n",
       "      <th>response</th>\n",
       "      <th>source</th>\n",
       "      <th>count</th>\n",
       "    </tr>\n",
       "  </thead>\n",
       "  <tbody>\n",
       "  </tbody>\n",
       "</table>\n",
       "</div>"
      ],
      "text/plain": [
       "Empty DataFrame\n",
       "Columns: [prompt, response, source, count]\n",
       "Index: []"
      ]
     },
     "metadata": {},
     "output_type": "display_data"
    }
   ],
   "source": [
    "def exact_dup_report(df: pd.DataFrame, key_cols, label):\n",
    "    grp = df.groupby(key_cols).size().reset_index(name='count')\n",
    "    dups = grp[grp['count']>1].sort_values('count', ascending=False)\n",
    "    pct = dups['count'].sum()/len(df)*100 if len(df)>0 else 0\n",
    "    print(f\"[{label}] {len(dups)} groupes dupliqués, {pct:.2f}% des lignes impliquées (clé={key_cols})\")\n",
    "    return dups.head(10)\n",
    "\n",
    "print('Prompts duplications mapped:')\n",
    "display(exact_dup_report(mapped_n, ['prompt'], 'mapped'))\n",
    "print('Prompts duplications augmented:')\n",
    "display(exact_dup_report(aug_n, ['prompt'], 'augmented'))\n",
    "print('Couples duplications all:')\n",
    "display(exact_dup_report(all_df, ['prompt','response','source'], 'all'))"
   ]
  },
  {
   "cell_type": "markdown",
   "id": "a1678f00",
   "metadata": {},
   "source": [
    "## 11. Détection de Quasi-Doublons (Fuzzy / MinHash)\n",
    "Approches RapidFuzz et MinHash LSH intra-dataset."
   ]
  },
  {
   "cell_type": "code",
   "execution_count": 11,
   "id": "806b644d",
   "metadata": {},
   "outputs": [
    {
     "name": "stdout",
     "output_type": "stream",
     "text": [
      "mapped quasi-doublons fuzzy détectés (échantillon): 0\n",
      "augmented quasi-doublons fuzzy détectés (échantillon): 0\n",
      "Aucun quasi-doublon fuzzy (conditions).\n",
      "mapped clusters MinHash (échantillon): 3\n",
      "mapped clusters MinHash (échantillon): 3\n",
      "augmented clusters MinHash (échantillon): 13\n",
      "augmented clusters MinHash (échantillon): 13\n"
     ]
    }
   ],
   "source": [
    "import itertools, string as _string\n",
    "\n",
    "PUNCT_TABLE = str.maketrans('', '', _string.punctuation)\n",
    "\n",
    "def normalize_simple(s: str) -> str:\n",
    "    return s.lower().translate(PUNCT_TABLE).strip()\n",
    "\n",
    "def fuzzy_pairs(df: pd.DataFrame, sample_max=200, score_threshold=90):\n",
    "    if not HAVE_RAPIDFUZZ or len(df)<=1:\n",
    "        return []\n",
    "    sample = df.sample(min(sample_max, len(df)), random_state=RANDOM_SEED)\n",
    "    res = []\n",
    "    rows = sample.to_dict('records')\n",
    "    for a, b in itertools.combinations(rows, 2):\n",
    "        pa, pb = a['prompt'], b['prompt']\n",
    "        if not pa or not pb: continue\n",
    "        if abs(len(pa)-len(pb)) / max(len(pa),1) > 0.1: # blocage longueur\n",
    "            continue\n",
    "        sc = fuzz.token_set_ratio(pa, pb)\n",
    "        if sc >= score_threshold:\n",
    "            res.append({'id_a': a['id'], 'id_b': b['id'], 'score': sc})\n",
    "    return res\n",
    "\n",
    "fuzzy_results = []\n",
    "for name, df in [('mapped', mapped_n), ('augmented', aug_n)]:\n",
    "    pairs = fuzzy_pairs(df)\n",
    "    print(name, 'quasi-doublons fuzzy détectés (échantillon):', len(pairs))\n",
    "    fuzzy_results.extend([{'dataset':name, **p} for p in pairs])\n",
    "\n",
    "fuzzy_df = pd.DataFrame(fuzzy_results)\n",
    "if len(fuzzy_df):\n",
    "    display(fuzzy_df.sort_values('score', ascending=False).head(10))\n",
    "else:\n",
    "    print('Aucun quasi-doublon fuzzy (conditions).')\n",
    "\n",
    "# MinHash LSH intra (prompts)\n",
    "if HAVE_DATASKETCH:\n",
    "    def minhash_clusters(df: pd.DataFrame, sample_max=500):\n",
    "        sample = df.sample(min(sample_max, len(df)), random_state=RANDOM_SEED)\n",
    "        lsh = MinHashLSH(threshold=0.8, num_perm=64)\n",
    "        hashes = {}\n",
    "        for i, row in sample.iterrows():\n",
    "            m = MinHash(num_perm=64)\n",
    "            text = normalize_simple(row['prompt'])\n",
    "            shingles = {text[j:j+5] for j in range(max(1,len(text)-4))}\n",
    "            for sh in shingles:\n",
    "                m.update(sh.encode('utf-8'))\n",
    "            lsh.insert(str(i), m)\n",
    "            hashes[str(i)] = (row['id'], m)\n",
    "        # Regrouper\n",
    "        clusters = []\n",
    "        visited = set()\n",
    "        for key, (rid, mh) in hashes.items():\n",
    "            if key in visited: continue\n",
    "            bucket = lsh.query(mh)\n",
    "            visited.update(bucket)\n",
    "            if len(bucket)>1:\n",
    "                clusters.append([hashes[k][0] for k in bucket])\n",
    "        return clusters\n",
    "    for name, df in [('mapped', mapped_n), ('augmented', aug_n)]:\n",
    "        clusters = minhash_clusters(df)\n",
    "        print(name, 'clusters MinHash (échantillon):', len(clusters))\n",
    "else:\n",
    "    print('MinHash non disponible.')"
   ]
  },
  {
   "cell_type": "markdown",
   "id": "7e65ad41",
   "metadata": {},
   "source": [
    "## 12. Quasi-Doublons Inter-datasets (Variation de Formulation)\n",
    "Recherche de correspondances cross-source (fuzzy ou LSH)."
   ]
  },
  {
   "cell_type": "code",
   "execution_count": 12,
   "id": "082b7d60",
   "metadata": {},
   "outputs": [
    {
     "name": "stdout",
     "output_type": "stream",
     "text": [
      "Fuzzy matching non disponible pour inter-datasets.\n"
     ]
    }
   ],
   "source": [
    "inter_matches = []\n",
    "if HAVE_RAPIDFUZZ:\n",
    "    sample_m = mapped_n.sample(min(150, len(mapped_n)), random_state=RANDOM_SEED)\n",
    "    sample_a = aug_n.sample(min(150, len(aug_n)), random_state=RANDOM_SEED)\n",
    "    for _, row_m in sample_m.iterrows():\n",
    "        best = None\n",
    "        for _, row_a in sample_a.iterrows():\n",
    "            sc = fuzz.partial_ratio(row_m['prompt'], row_a['prompt'])\n",
    "            if sc >= 92:\n",
    "                inter_matches.append({'mapped_id':row_m['id'], 'aug_id':row_a['id'], 'score':sc, 'prompt_m':row_m['prompt'][:120], 'prompt_a':row_a['prompt'][:120]})\n",
    "    inter_df = pd.DataFrame(inter_matches)\n",
    "    print('Matches inter-datasets:', len(inter_df))\n",
    "    display(inter_df.sort_values('score', ascending=False).head(10))\n",
    "else:\n",
    "    print('Fuzzy matching non disponible pour inter-datasets.')"
   ]
  },
  {
   "cell_type": "markdown",
   "id": "1aea3dba",
   "metadata": {},
   "source": [
    "## 13. (Optionnel) Similarité Sémantique Intra / Inter\n",
    "Utilisation SentenceTransformer si disponible pour comparer distributions de similarités."
   ]
  },
  {
   "cell_type": "code",
   "execution_count": 13,
   "id": "3f76dfb8",
   "metadata": {},
   "outputs": [
    {
     "name": "stdout",
     "output_type": "stream",
     "text": [
      "{'mean_intra_mapped': np.float64(0.07412092827446759), 'mean_intra_augmented': np.float64(0.07778419377282261), 'mean_inter': np.float64(0.0460102819558233)}\n"
     ]
    },
    {
     "data": {
      "image/png": "[encoded data removed]",
      "text/plain": [
       "<Figure size 600x400 with 1 Axes>"
      ]
     },
     "metadata": {},
     "output_type": "display_data"
    }
   ],
   "source": [
    "semantic_summary = {}\n",
    "if HAVE_ST:\n",
    "    model = SentenceTransformer('sentence-transformers/all-MiniLM-L6-v2')\n",
    "    # Stratified sample by intent_disc if possible\n",
    "    def strat_sample(df, per_intent=50):\n",
    "        if df['intent_disc'].notna().any():\n",
    "            parts = []\n",
    "            for k, sub in df.groupby('intent_disc'):\n",
    "                parts.append(sub.sample(min(per_intent, len(sub)), random_state=RANDOM_SEED))\n",
    "            return pd.concat(parts).reset_index(drop=True)\n",
    "        return df.sample(min(200, len(df)), random_state=RANDOM_SEED)\n",
    "    mapped_s = strat_sample(mapped_n)\n",
    "    aug_s = strat_sample(aug_n)\n",
    "    emb_m = model.encode(mapped_s['prompt'].tolist(), show_progress_bar=False, normalize_embeddings=True)\n",
    "    emb_a = model.encode(aug_s['prompt'].tolist(), show_progress_bar=False, normalize_embeddings=True)\n",
    "    # Intra similarities (random pairs)\n",
    "    def rand_pairs(emb, n=1000):\n",
    "        sims = []\n",
    "        if len(emb)<2: return sims\n",
    "        idx = np.random.default_rng(RANDOM_SEED).choice(len(emb), size=(min(n, len(emb)),2), replace=True)\n",
    "        for i,j in idx:\n",
    "            if i==j: continue\n",
    "            sims.append(float(np.dot(emb[i], emb[j])))\n",
    "        return sims\n",
    "    sims_m = rand_pairs(emb_m)\n",
    "    sims_a = rand_pairs(emb_a)\n",
    "    # Inter similarities\n",
    "    inter_sims = []\n",
    "    for i in range(min(1000, len(emb_m))):\n",
    "        j = i % len(emb_a)\n",
    "        inter_sims.append(float(np.dot(emb_m[i], emb_a[j])))\n",
    "    semantic_summary = {\n",
    "        'mean_intra_mapped': np.mean(sims_m) if sims_m else np.nan,\n",
    "        'mean_intra_augmented': np.mean(sims_a) if sims_a else np.nan,\n",
    "        'mean_inter': np.mean(inter_sims) if inter_sims else np.nan\n",
    "    }\n",
    "    print(semantic_summary)\n",
    "    fig, ax = plt.subplots(figsize=(6,4))\n",
    "    sns.kdeplot(sims_m, label='intra_mapped', ax=ax)\n",
    "    sns.kdeplot(sims_a, label='intra_augmented', ax=ax)\n",
    "    sns.kdeplot(inter_sims, label='inter', ax=ax)\n",
    "    ax.set_title('Similarités cosinus (échantillon)')\n",
    "    ax.legend(); plt.show()\n",
    "else:\n",
    "    print('SentenceTransformer non disponible – section ignorée.')"
   ]
  },
  {
   "cell_type": "markdown",
   "id": "8882e454",
   "metadata": {},
   "source": [
    "## 14. (Optionnel) Clustering & Projection 2D\n",
    "Projection UMAP + clustering HDBSCAN si embeddings disponibles."
   ]
  },
  {
   "cell_type": "code",
   "execution_count": 14,
   "id": "03f69f75",
   "metadata": {},
   "outputs": [
    {
     "name": "stderr",
     "output_type": "stream",
     "text": [
      "/opt/anaconda3/envs/data-aug/lib/python3.11/site-packages/umap/umap_.py:1952: UserWarning: n_jobs value 1 overridden to 1 by setting random_state. Use no seed for parallelism.\n",
      "  warn(\n",
      "/opt/anaconda3/envs/data-aug/lib/python3.11/site-packages/sklearn/utils/deprecation.py:132: FutureWarning: 'force_all_finite' was renamed to 'ensure_all_finite' in 1.6 and will be removed in 1.8.\n",
      "  warnings.warn(\n",
      "/opt/anaconda3/envs/data-aug/lib/python3.11/site-packages/sklearn/utils/deprecation.py:132: FutureWarning: 'force_all_finite' was renamed to 'ensure_all_finite' in 1.6 and will be removed in 1.8.\n",
      "  warnings.warn(\n",
      "/opt/anaconda3/envs/data-aug/lib/python3.11/site-packages/sklearn/utils/deprecation.py:132: FutureWarning: 'force_all_finite' was renamed to 'ensure_all_finite' in 1.6 and will be removed in 1.8.\n",
      "  warnings.warn(\n",
      "/opt/anaconda3/envs/data-aug/lib/python3.11/site-packages/sklearn/utils/deprecation.py:132: FutureWarning: 'force_all_finite' was renamed to 'ensure_all_finite' in 1.6 and will be removed in 1.8.\n",
      "  warnings.warn(\n"
     ]
    },
    {
     "data": {
      "image/png": "[encoded data removed]",
      "text/plain": [
       "<Figure size 640x480 with 1 Axes>"
      ]
     },
     "metadata": {},
     "output_type": "display_data"
    }
   ],
   "source": [
    "if HAVE_ST and HAVE_UMAP and HAVE_HDBSCAN and 'emb_m' in locals():\n",
    "    emb_all = np.vstack([emb_m, emb_a])\n",
    "    labels_src = (['mapped']*len(emb_m)) + (['augmented']*len(emb_a))\n",
    "    reducer = umap.UMAP(n_neighbors=15, min_dist=0.1, random_state=RANDOM_SEED)\n",
    "    emb_2d = reducer.fit_transform(emb_all)\n",
    "    clusterer = hdbscan.HDBSCAN(min_cluster_size=10)\n",
    "    cl_labels = clusterer.fit_predict(emb_all)\n",
    "    df_plot = pd.DataFrame({'x':emb_2d[:,0],'y':emb_2d[:,1],'dataset':labels_src,'cluster':cl_labels})\n",
    "    sns.scatterplot(df_plot, x='x', y='y', hue='dataset', style='cluster', palette='Set2')\n",
    "    plt.title('Projection UMAP')\n",
    "    plt.show()\n",
    "else:\n",
    "    print('Clustering non exécuté (dépendances ou embeddings manquants).')"
   ]
  },
  {
   "cell_type": "code",
   "execution_count": null,
   "id": "12aaba91",
   "metadata": {},
   "outputs": [],
   "source": []
  },
  {
   "cell_type": "markdown",
   "id": "1971f184",
   "metadata": {},
   "source": [
    "## 15. Tableau de Synthèse des Métriques\n",
    "Compilation des indicateurs clés et export CSV/JSON."
   ]
  },
  {
   "cell_type": "code",
   "execution_count": 15,
   "id": "2891dcee",
   "metadata": {},
   "outputs": [
    {
     "name": "stdout",
     "output_type": "stream",
     "text": [
      "     dataset  rows  unique_intents  entropy_intent_disc  mean_intent_cont  \\\n",
      "0     mapped  2082               5             1.827317         -0.026732   \n",
      "1  augmented  1592               5             2.097655          0.041217   \n",
      "\n",
      "   ttr_prompt  hapax_prompt  dup_exact_prompt_pct  quasi_dup_prompt_pct  \\\n",
      "0    0.324421      0.727476              0.192123                   NaN   \n",
      "1    0.153540      0.600121              0.000000                   NaN   \n",
      "\n",
      "   mean_semantic_intra  \n",
      "0             0.074121  \n",
      "1             0.077784  \n",
      "Exports écrits dans /Users/mathiscarlesso/Documents/Cesi/Alteca/Thèse/Agent_Dataaug/outputs\n"
     ]
    }
   ],
   "source": [
    "# Collecte métriques\n",
    "synth_rows = []\n",
    "# Dup pourcentage (exact prompt) sur each dataset\n",
    "for name, df in [('mapped', mapped_n), ('augmented', aug_n)]:\n",
    "    dup_prompt_pct = (df.duplicated(subset=['prompt']).mean())*100\n",
    "    fuzzy_pct = np.nan\n",
    "    if 'fuzzy_df' in locals() and len(fuzzy_df):\n",
    "        fuzzy_pct = 100 * len(fuzzy_df[fuzzy_df['dataset']==name]) / len(df) if len(df) else np.nan\n",
    "    ent_disc = entropy(Counter(df['intent_disc'].dropna().tolist()))\n",
    "    mean_cont = df['intent_cont'].mean()\n",
    "    # TTR prompt\n",
    "    tstats_prompt = token_stats(df['prompt'])\n",
    "    synth_rows.append({\n",
    "        'dataset': name,\n",
    "        'rows': len(df),\n",
    "        'unique_intents': df['intent_disc'].nunique(dropna=True),\n",
    "        'entropy_intent_disc': ent_disc,\n",
    "        'mean_intent_cont': mean_cont,\n",
    "        'ttr_prompt': tstats_prompt['ttr'],\n",
    "        'hapax_prompt': tstats_prompt['hapax_ratio'],\n",
    "        'dup_exact_prompt_pct': dup_prompt_pct,\n",
    "        'quasi_dup_prompt_pct': fuzzy_pct,\n",
    "        'mean_semantic_intra': semantic_summary.get(f'mean_intra_{name}', np.nan) if semantic_summary else np.nan\n",
    "    })\n",
    "\n",
    "synth_df = pd.DataFrame(synth_rows)\n",
    "print(synth_df)\n",
    "# Export\n",
    "synth_df.to_csv(OUTPUT_DIR / 'comparative_metrics.csv', index=False)\n",
    "synth_df.to_json(OUTPUT_DIR / 'comparative_metrics.json', orient='records', force_ascii=False)\n",
    "print('Exports écrits dans', OUTPUT_DIR)"
   ]
  },
  {
   "cell_type": "markdown",
   "id": "fea29deb",
   "metadata": {},
   "source": [
    "## 17. Thématisation des Prompts avec BERTopic\n",
    "Analyse thématique automatisée des `prompt` pour comparer la couverture sémantique entre les datasets.\n",
    "\n",
    "Objectifs:\n",
    "- Extraire des topics cohérents (mots clés) via BERTopic.\n",
    "- Mesurer la distribution des topics par dataset (mapped vs augmented).\n",
    "- Identifier les topics sur / sous-représentés dans le dataset augmenté.\n",
    "- Calculer métriques simples: nombre de topics, taille moyenne, diversité lexicale des topics.\n",
    "\n",
    "Dépendances nécessaires: `bertopic`, `sentence-transformers`, `umap-learn`, `hdbscan`.\n",
    "Si non installées: voir instructions imprimées dans la cellule de code."
   ]
  },
  {
   "cell_type": "markdown",
   "id": "79f2bf1e",
   "metadata": {},
   "source": [
    "## 18. Visualisations des Topics (Dataset Interne)\n",
    "\n",
    "Cette section produit plusieurs visualisations des topics extraits sur vos `prompt` combinés (mapped + augmented):\n",
    "\n",
    "Objectifs:\n",
    "- Afficher la fréquence des topics les plus fréquents (hors bruit `-1`).\n",
    "- Générer les visualisations interactives BERTopic (si l'extension `plotly` est disponible):\n",
    "  - `visualize_topics`\n",
    "  - `visualize_barchart`\n",
    "  - `visualize_hierarchy`\n",
    "  - `visualize_heatmap`\n",
    "  - `visualize_documents`\n",
    "- Sauvegarder les figures interactives en HTML dans `outputs/` pour consultation hors notebook.\n",
    "\n",
    "Si `topic_model` n'existe pas (non exécuté en section 17), un modèle minimal sera ré-entraîné automatiquement (sans OpenAI) pour produire les graphiques."
   ]
  },
  {
   "cell_type": "code",
   "execution_count": 16,
   "id": "2c47be12",
   "metadata": {},
   "outputs": [
    {
     "name": "stdout",
     "output_type": "stream",
     "text": [
      "topic_model absent – ré-entraînement minimal (sans OpenAI)...\n"
     ]
    },
    {
     "data": {
      "text/html": [
       "<div>\n",
       "<style scoped>\n",
       "    .dataframe tbody tr th:only-of-type {\n",
       "        vertical-align: middle;\n",
       "    }\n",
       "\n",
       "    .dataframe tbody tr th {\n",
       "        vertical-align: top;\n",
       "    }\n",
       "\n",
       "    .dataframe thead th {\n",
       "        text-align: right;\n",
       "    }\n",
       "</style>\n",
       "<table border=\"1\" class=\"dataframe\">\n",
       "  <thead>\n",
       "    <tr style=\"text-align: right;\">\n",
       "      <th></th>\n",
       "      <th>Topic</th>\n",
       "      <th>Count</th>\n",
       "      <th>Name</th>\n",
       "    </tr>\n",
       "  </thead>\n",
       "  <tbody>\n",
       "    <tr>\n",
       "      <th>1</th>\n",
       "      <td>0</td>\n",
       "      <td>290</td>\n",
       "      <td>0_to_and_the_for</td>\n",
       "    </tr>\n",
       "    <tr>\n",
       "      <th>2</th>\n",
       "      <td>1</td>\n",
       "      <td>72</td>\n",
       "      <td>1_0098947947513_0065965298342_00824566229275_end</td>\n",
       "    </tr>\n",
       "    <tr>\n",
       "      <th>3</th>\n",
       "      <td>2</td>\n",
       "      <td>62</td>\n",
       "      <td>2_recipe_cook_chicken_make</td>\n",
       "    </tr>\n",
       "    <tr>\n",
       "      <th>4</th>\n",
       "      <td>3</td>\n",
       "      <td>50</td>\n",
       "      <td>3_write_poem_about_story</td>\n",
       "    </tr>\n",
       "    <tr>\n",
       "      <th>5</th>\n",
       "      <td>4</td>\n",
       "      <td>46</td>\n",
       "      <td>4_les_de_plus_bougies</td>\n",
       "    </tr>\n",
       "    <tr>\n",
       "      <th>6</th>\n",
       "      <td>5</td>\n",
       "      <td>41</td>\n",
       "      <td>5_lu分解的详细流程是怎样的_请具体解释_人类基因组上的m染色体是什么_如何支持女朋友处理被闺蜜背叛的情感问题</td>\n",
       "    </tr>\n",
       "    <tr>\n",
       "      <th>7</th>\n",
       "      <td>6</td>\n",
       "      <td>36</td>\n",
       "      <td>6_1000000_量子点在医学成像中的应用有哪些_如何设计一个适合初学者的每周运动计划_需要结合自己的教学实例</td>\n",
       "    </tr>\n",
       "    <tr>\n",
       "      <th>8</th>\n",
       "      <td>7</td>\n",
       "      <td>35</td>\n",
       "      <td>7_无法满足数据输入的请求_无法满足正态性假设时_查询cloves综合征的诊治方法_相较于其他算法有何优势</td>\n",
       "    </tr>\n",
       "    <tr>\n",
       "      <th>9</th>\n",
       "      <td>8</td>\n",
       "      <td>34</td>\n",
       "      <td>8_travel_trip_destinations_hotels</td>\n",
       "    </tr>\n",
       "    <tr>\n",
       "      <th>10</th>\n",
       "      <td>9</td>\n",
       "      <td>34</td>\n",
       "      <td>9_weather_today_temperature_what</td>\n",
       "    </tr>\n",
       "    <tr>\n",
       "      <th>11</th>\n",
       "      <td>10</td>\n",
       "      <td>33</td>\n",
       "      <td>10_textbf_model_momentum_our</td>\n",
       "    </tr>\n",
       "    <tr>\n",
       "      <th>12</th>\n",
       "      <td>11</td>\n",
       "      <td>33</td>\n",
       "      <td>11_coffee_studies_blood_how</td>\n",
       "    </tr>\n",
       "    <tr>\n",
       "      <th>13</th>\n",
       "      <td>12</td>\n",
       "      <td>31</td>\n",
       "      <td>12_intensitive的应用负载_赋比兴_你能教我怎么画一只简单的卡通猫吗_微博</td>\n",
       "    </tr>\n",
       "    <tr>\n",
       "      <th>14</th>\n",
       "      <td>13</td>\n",
       "      <td>29</td>\n",
       "      <td>13_如何有效地将一篇科技论文摘要转述为通俗易懂的语言_转换为经纬度_今年最热旅游地是哪里_包括时间</td>\n",
       "    </tr>\n",
       "    <tr>\n",
       "      <th>15</th>\n",
       "      <td>14</td>\n",
       "      <td>28</td>\n",
       "      <td>14_memcached的特性有哪些_专业领域问题解决策略有哪些_自然语言处理方向有哪一些_经济危机期间个人投资策略有哪些</td>\n",
       "    </tr>\n",
       "    <tr>\n",
       "      <th>16</th>\n",
       "      <td>15</td>\n",
       "      <td>27</td>\n",
       "      <td>15_movies_films_recommend_movie</td>\n",
       "    </tr>\n",
       "    <tr>\n",
       "      <th>17</th>\n",
       "      <td>16</td>\n",
       "      <td>27</td>\n",
       "      <td>16_haskell代码段的具体功能是什么_隐马尔可夫模型代码中的状态转移矩阵如何实现_在代码摘要任务中_多进程编程如何使用管道通信</td>\n",
       "    </tr>\n",
       "    <tr>\n",
       "      <th>18</th>\n",
       "      <td>17</td>\n",
       "      <td>26</td>\n",
       "      <td>17_新能源在中国的发展战略是什么_3000元内最佳国内旅行路线是哪条_请介绍3_联合国为什么在日内瓦设立办事处</td>\n",
       "    </tr>\n",
       "    <tr>\n",
       "      <th>19</th>\n",
       "      <td>18</td>\n",
       "      <td>25</td>\n",
       "      <td>18_uk_batts_price_headphone</td>\n",
       "    </tr>\n",
       "    <tr>\n",
       "      <th>20</th>\n",
       "      <td>19</td>\n",
       "      <td>21</td>\n",
       "      <td>19_如何提高日常工作中的谈话技巧_如何提高民营企业的市场竞争力_高低温环境下_遇到解决不了的问题时</td>\n",
       "    </tr>\n",
       "  </tbody>\n",
       "</table>\n",
       "</div>"
      ],
      "text/plain": [
       "    Topic  Count  \\\n",
       "1       0    290   \n",
       "2       1     72   \n",
       "3       2     62   \n",
       "4       3     50   \n",
       "5       4     46   \n",
       "6       5     41   \n",
       "7       6     36   \n",
       "8       7     35   \n",
       "9       8     34   \n",
       "10      9     34   \n",
       "11     10     33   \n",
       "12     11     33   \n",
       "13     12     31   \n",
       "14     13     29   \n",
       "15     14     28   \n",
       "16     15     27   \n",
       "17     16     27   \n",
       "18     17     26   \n",
       "19     18     25   \n",
       "20     19     21   \n",
       "\n",
       "                                                                  Name  \n",
       "1                                                     0_to_and_the_for  \n",
       "2                     1_0098947947513_0065965298342_00824566229275_end  \n",
       "3                                           2_recipe_cook_chicken_make  \n",
       "4                                             3_write_poem_about_story  \n",
       "5                                                4_les_de_plus_bougies  \n",
       "6             5_lu分解的详细流程是怎样的_请具体解释_人类基因组上的m染色体是什么_如何支持女朋友处理被闺蜜背叛的情感问题  \n",
       "7             6_1000000_量子点在医学成像中的应用有哪些_如何设计一个适合初学者的每周运动计划_需要结合自己的教学实例  \n",
       "8                7_无法满足数据输入的请求_无法满足正态性假设时_查询cloves综合征的诊治方法_相较于其他算法有何优势  \n",
       "9                                    8_travel_trip_destinations_hotels  \n",
       "10                                    9_weather_today_temperature_what  \n",
       "11                                        10_textbf_model_momentum_our  \n",
       "12                                         11_coffee_studies_blood_how  \n",
       "13                         12_intensitive的应用负载_赋比兴_你能教我怎么画一只简单的卡通猫吗_微博  \n",
       "14                  13_如何有效地将一篇科技论文摘要转述为通俗易懂的语言_转换为经纬度_今年最热旅游地是哪里_包括时间  \n",
       "15       14_memcached的特性有哪些_专业领域问题解决策略有哪些_自然语言处理方向有哪一些_经济危机期间个人投资策略有哪些  \n",
       "16                                     15_movies_films_recommend_movie  \n",
       "17  16_haskell代码段的具体功能是什么_隐马尔可夫模型代码中的状态转移矩阵如何实现_在代码摘要任务中_多进程编程如何使用管道通信  \n",
       "18            17_新能源在中国的发展战略是什么_3000元内最佳国内旅行路线是哪条_请介绍3_联合国为什么在日内瓦设立办事处  \n",
       "19                                         18_uk_batts_price_headphone  \n",
       "20                  19_如何提高日常工作中的谈话技巧_如何提高民营企业的市场竞争力_高低温环境下_遇到解决不了的问题时  "
      ]
     },
     "metadata": {},
     "output_type": "display_data"
    },
    {
     "data": {
      "image/png": "[encoded data removed]",
      "text/plain": [
       "<Figure size 1000x500 with 1 Axes>"
      ]
     },
     "metadata": {},
     "output_type": "display_data"
    },
    {
     "name": "stdout",
     "output_type": "stream",
     "text": [
      "Sauvé: /Users/mathiscarlesso/Documents/Cesi/Alteca/Thèse/Agent_Dataaug/outputs/bertopic_viz/topics_overview.html\n",
      "Sauvé: /Users/mathiscarlesso/Documents/Cesi/Alteca/Thèse/Agent_Dataaug/outputs/bertopic_viz/topics_barchart.html\n",
      "Sauvé: /Users/mathiscarlesso/Documents/Cesi/Alteca/Thèse/Agent_Dataaug/outputs/bertopic_viz/topics_hierarchy.html\n",
      "Sauvé: /Users/mathiscarlesso/Documents/Cesi/Alteca/Thèse/Agent_Dataaug/outputs/bertopic_viz/topics_heatmap.html\n",
      "visualize_documents non disponible: list index out of range\n",
      "Visualisations terminées. Fichiers HTML dans: /Users/mathiscarlesso/Documents/Cesi/Alteca/Thèse/Agent_Dataaug/outputs/bertopic_viz\n"
     ]
    }
   ],
   "source": [
    "# Visualisations des topics\n",
    "import math\n",
    "from pathlib import Path\n",
    "\n",
    "# Vérifier la présence du modèle\n",
    "if 'topic_model' not in globals() or topic_model is None:\n",
    "    print(\"topic_model absent – ré-entraînement minimal (sans OpenAI)...\")\n",
    "    try:\n",
    "        from bertopic import BERTopic\n",
    "        from bertopic.representation import KeyBERTInspired\n",
    "        if HAVE_ST:\n",
    "            embedding_model = SentenceTransformer('sentence-transformers/all-MiniLM-L6-v2')\n",
    "        else:\n",
    "            embedding_model = None\n",
    "        mini_prompts = all_df['prompt'].dropna().astype(str).tolist()[:2000]\n",
    "        topic_model = BERTopic(embedding_model=embedding_model, language=\"multilingual\", verbose=False)\n",
    "        topics, probs = topic_model.fit_transform(mini_prompts)\n",
    "    except Exception as e:\n",
    "        print(\"Impossible de ré-entraîner un modèle minimal:\", e)\n",
    "\n",
    "if 'topic_model' in globals() and topic_model is not None:\n",
    "    info = topic_model.get_topic_info()\n",
    "    if len(info) == 0:\n",
    "        print(\"Aucun topic disponible.\")\n",
    "    else:\n",
    "        # Filtrer bruit (-1)\n",
    "        info_no_noise = info[info.Topic != -1].copy()\n",
    "        top_k = info_no_noise.head(20)\n",
    "        display(top_k[['Topic','Count','Name']])\n",
    "\n",
    "        # Bar chart statique (matplotlib)\n",
    "        try:\n",
    "            import matplotlib.pyplot as plt\n",
    "            fig, ax = plt.subplots(figsize=(10,5))\n",
    "            ax.bar(top_k['Topic'].astype(str), top_k['Count'])\n",
    "            ax.set_title('Top 20 Topics (hors bruit)')\n",
    "            ax.set_xlabel('Topic')\n",
    "            ax.set_ylabel('Count')\n",
    "            plt.xticks(rotation=45, ha='right')\n",
    "            plt.tight_layout()\n",
    "            plt.show()\n",
    "        except Exception as e:\n",
    "            print(\"Bar chart matplotlib échoué:\", e)\n",
    "\n",
    "        # Dossier sortie\n",
    "        html_dir = OUTPUT_DIR / 'bertopic_viz'\n",
    "        html_dir.mkdir(exist_ok=True, parents=True)\n",
    "\n",
    "        # Fonctions helper pour sauvegarde interactive\n",
    "        def save_plotly(fig, name):\n",
    "            try:\n",
    "                out = html_dir / f\"{name}.html\"\n",
    "                fig.write_html(str(out))\n",
    "                print(f\"Sauvé: {out}\")\n",
    "            except Exception as e:\n",
    "                print(f\"Echec sauvegarde {name}:\", e)\n",
    "\n",
    "        # Visualisations interactives (si plotly dispo)\n",
    "        try:\n",
    "            viz_topics = topic_model.visualize_topics()\n",
    "            save_plotly(viz_topics, 'topics_overview')\n",
    "        except Exception as e:\n",
    "            print(\"visualize_topics non disponible:\", e)\n",
    "        try:\n",
    "            viz_bar = topic_model.visualize_barchart(top_n_topics=20)\n",
    "            save_plotly(viz_bar, 'topics_barchart')\n",
    "        except Exception as e:\n",
    "            print(\"visualize_barchart non disponible:\", e)\n",
    "        try:\n",
    "            viz_hier = topic_model.visualize_hierarchy()\n",
    "            save_plotly(viz_hier, 'topics_hierarchy')\n",
    "        except Exception as e:\n",
    "            print(\"visualize_hierarchy non disponible:\", e)\n",
    "        try:\n",
    "            viz_heat = topic_model.visualize_heatmap()\n",
    "            save_plotly(viz_heat, 'topics_heatmap')\n",
    "        except Exception as e:\n",
    "            print(\"visualize_heatmap non disponible:\", e)\n",
    "        try:\n",
    "            # Limiter les docs pour la lisibilité\n",
    "            subset_prompts = prompts_all[:100] if 'prompts_all' in globals() else all_df['prompt'].dropna().astype(str).tolist()[:100]\n",
    "            topics_subset, _ = topic_model.transform(subset_prompts)\n",
    "            viz_docs = topic_model.visualize_documents(subset_prompts, topics_subset)\n",
    "            save_plotly(viz_docs, 'topics_documents_subset')\n",
    "        except Exception as e:\n",
    "            print(\"visualize_documents non disponible:\", e)\n",
    "\n",
    "        print(\"Visualisations terminées. Fichiers HTML dans:\", html_dir)\n",
    "else:\n",
    "    print(\"Pas de topic_model disponible pour visualisation.\")"
   ]
  },
  {
   "cell_type": "code",
   "execution_count": 17,
   "id": "7857279b",
   "metadata": {},
   "outputs": [
    {
     "name": "stdout",
     "output_type": "stream",
     "text": [
      "Dépendances pour BERTopic chargées.\n"
     ]
    },
    {
     "name": "stderr",
     "output_type": "stream",
     "text": [
      "2025-08-28 16:36:08,396 - BERTopic - Embedding - Transforming documents to embeddings.\n"
     ]
    },
    {
     "name": "stdout",
     "output_type": "stream",
     "text": [
      "Utilisation d'OpenRouter pour la labellisation des topics.\n"
     ]
    },
    {
     "name": "stderr",
     "output_type": "stream",
     "text": [
      "Batches: 100%|██████████| 115/115 [00:05<00:00, 19.89it/s]\n",
      "2025-08-28 16:36:14,206 - BERTopic - Embedding - Completed ✓\n",
      "2025-08-28 16:36:14,207 - BERTopic - Dimensionality - Fitting the dimensionality reduction algorithm\n",
      "\n",
      "2025-08-28 16:36:14,206 - BERTopic - Embedding - Completed ✓\n",
      "2025-08-28 16:36:14,207 - BERTopic - Dimensionality - Fitting the dimensionality reduction algorithm\n",
      "2025-08-28 16:36:28,269 - BERTopic - Dimensionality - Completed ✓\n",
      "2025-08-28 16:36:28,270 - BERTopic - Cluster - Start clustering the reduced embeddings\n",
      "2025-08-28 16:36:28,269 - BERTopic - Dimensionality - Completed ✓\n",
      "2025-08-28 16:36:28,270 - BERTopic - Cluster - Start clustering the reduced embeddings\n",
      "2025-08-28 16:36:28,349 - BERTopic - Cluster - Completed ✓\n",
      "2025-08-28 16:36:28,352 - BERTopic - Representation - Fine-tuning topics using representation models.\n",
      "2025-08-28 16:36:28,349 - BERTopic - Cluster - Completed ✓\n",
      "2025-08-28 16:36:28,352 - BERTopic - Representation - Fine-tuning topics using representation models.\n",
      "100%|██████████| 98/98 [03:35<00:00,  2.19s/it]\n",
      "2025-08-28 16:40:08,583 - BERTopic - Representation - Completed ✓\n",
      "\n",
      "2025-08-28 16:40:08,583 - BERTopic - Representation - Completed ✓\n"
     ]
    },
    {
     "name": "stdout",
     "output_type": "stream",
     "text": [
      "\n",
      "Informations sur le modèle de topics:\n"
     ]
    },
    {
     "data": {
      "text/html": [
       "<div>\n",
       "<style scoped>\n",
       "    .dataframe tbody tr th:only-of-type {\n",
       "        vertical-align: middle;\n",
       "    }\n",
       "\n",
       "    .dataframe tbody tr th {\n",
       "        vertical-align: top;\n",
       "    }\n",
       "\n",
       "    .dataframe thead th {\n",
       "        text-align: right;\n",
       "    }\n",
       "</style>\n",
       "<table border=\"1\" class=\"dataframe\">\n",
       "  <thead>\n",
       "    <tr style=\"text-align: right;\">\n",
       "      <th></th>\n",
       "      <th>Topic</th>\n",
       "      <th>Count</th>\n",
       "      <th>Name</th>\n",
       "      <th>Representation</th>\n",
       "      <th>KeyBERT</th>\n",
       "      <th>OpenRouter</th>\n",
       "      <th>Representative_Docs</th>\n",
       "    </tr>\n",
       "  </thead>\n",
       "  <tbody>\n",
       "    <tr>\n",
       "      <th>0</th>\n",
       "      <td>-1</td>\n",
       "      <td>1104</td>\n",
       "      <td>-1_the_is_of_how</td>\n",
       "      <td>[the, is, of, how, what, to, and, in, can, you]</td>\n",
       "      <td>[data, email, project, using, use, create, need, message, write, text]</td>\n",
       "      <td>[Mots fonctionnels français]</td>\n",
       "      <td>[create some excel sheet heads for me to record data: the important settings that we need to check when running the study\\nthe file names for the eye tracki...</td>\n",
       "    </tr>\n",
       "    <tr>\n",
       "      <th>1</th>\n",
       "      <td>0</td>\n",
       "      <td>109</td>\n",
       "      <td>0_flight_york_book_angeles</td>\n",
       "      <td>[flight, york, book, angeles, los, next, from, new, hotel, find]</td>\n",
       "      <td>[flights, flight, airline, airlines, angeles, los, booking, airport, york, tickets]</td>\n",
       "      <td>[]</td>\n",
       "      <td>[I need to book a flight from New York to Los Angeles for next week., I need to book a flight from New York to Los Angeles for next weekend, can you help me...</td>\n",
       "    </tr>\n",
       "    <tr>\n",
       "      <th>2</th>\n",
       "      <td>1</td>\n",
       "      <td>68</td>\n",
       "      <td>1_weather_forecast_weekend_today</td>\n",
       "      <td>[weather, forecast, weekend, today, temperature, seattle, like, know, tomorrow, this]</td>\n",
       "      <td>[weather, forecast, seattle, weekend, tomorrow, rain, precipitation, washington, portland, denver]</td>\n",
       "      <td>[**Météo week‑end Seattle**]</td>\n",
       "      <td>[Tell me about the weather forecast for this weekend in Seattle., I want to know the weather forecast for this weekend in Seattle., I need to know the weath...</td>\n",
       "    </tr>\n",
       "    <tr>\n",
       "      <th>3</th>\n",
       "      <td>2</td>\n",
       "      <td>66</td>\n",
       "      <td>2_0098947947513_0065965298342_00824566229275_end</td>\n",
       "      <td>[0098947947513, 0065965298342, 00824566229275, end, m1, python, 0131930596684, int, library, increment]</td>\n",
       "      <td>[python, dplyr, calculate_average, num_perm, increment, min_ngram_size, tuple, ngram_size, dict, heatmap]</td>\n",
       "      <td>[**Manipulation de données Python**]</td>\n",
       "      <td>[为什么我run不出来：library(dplyr)    # for data wrangling\\nlibrary(tidyr)\\nlibrary(ggplot2)  # for plots\\nlibrary(magrittr) # for pipe %&gt;%\\nlibrary(MASS)\\nlibrary(...</td>\n",
       "    </tr>\n",
       "    <tr>\n",
       "      <th>4</th>\n",
       "      <td>3</td>\n",
       "      <td>65</td>\n",
       "      <td>3_experience_resume_as_position</td>\n",
       "      <td>[experience, resume, as, position, role, skills, team, letter, job, and]</td>\n",
       "      <td>[resume, roles, role, hiring, cv, skills, recruiter, interview, experience, apply]</td>\n",
       "      <td>[]</td>\n",
       "      <td>[IDRIS OLATUNJI AMODU\\n\\n57, Shaw Road, Bromley, United Kingdom.\\nMobile No.: +447438423801\\nEmail: tunji.IA4@gmail.com\\n\\n\\n\\nPERSONAL STATEMENT\\n\\nI am lo...</td>\n",
       "    </tr>\n",
       "    <tr>\n",
       "      <th>...</th>\n",
       "      <td>...</td>\n",
       "      <td>...</td>\n",
       "      <td>...</td>\n",
       "      <td>...</td>\n",
       "      <td>...</td>\n",
       "      <td>...</td>\n",
       "      <td>...</td>\n",
       "    </tr>\n",
       "    <tr>\n",
       "      <th>93</th>\n",
       "      <td>92</td>\n",
       "      <td>11</td>\n",
       "      <td>92_insert_prompt_specified_catchy</td>\n",
       "      <td>[insert, prompt, specified, catchy, details, title, story, book, style, write]</td>\n",
       "      <td>[novels, summary, summarize, writing, title, book, write, books, subject, paragraph]</td>\n",
       "      <td>[]</td>\n",
       "      <td>[Create a catchy subject title., I want to read a detailed summary before I commit to buying a book, but I don't want to accidentally see any major spoilers...</td>\n",
       "    </tr>\n",
       "    <tr>\n",
       "      <th>94</th>\n",
       "      <td>93</td>\n",
       "      <td>10</td>\n",
       "      <td>93_sleepwalk_stress_head_migraine</td>\n",
       "      <td>[sleepwalk, stress, head, migraine, girlfriends, tinnitus, oversleeping, treating, motivated, banged]</td>\n",
       "      <td>[relax, sleep, remedies, stress, tips, tinnitus, sleepwalk, relief, oversleeping, techniques]</td>\n",
       "      <td>[]</td>\n",
       "      <td>[What are some ways to relax/de-stress after a long work day?, I just banged my head with my girlfriends head what should I do because it hurts, How are peo...</td>\n",
       "    </tr>\n",
       "    <tr>\n",
       "      <th>95</th>\n",
       "      <td>94</td>\n",
       "      <td>10</td>\n",
       "      <td>94_遗传因素是否会影响不孕不育_而不需要我亲自调试_老板不发工钱已读不回_朋友说工作压力有点大</td>\n",
       "      <td>[遗传因素是否会影响不孕不育, 而不需要我亲自调试, 老板不发工钱已读不回, 朋友说工作压力有点大, 提前多少时间订机票会最便宜, 我该怎么回复, 我不想工作怎么办, 头晕不止应该怎么办, 哪些编程错误能加快错误检测速度, 告诉我]</td>\n",
       "      <td>[亚特兰大什么时候会下雪, 不孕不育会遗传吗, 遗传因素是否会影响不孕不育, 而不需要我亲自调试, 提前多少时间订机票会最便宜, 我不想工作怎么办, 朋友说工作压力有点大, 我该怎么回复, 头晕不止应该怎么办, 告诉我]</td>\n",
       "      <td>[**Questions de vie quotidienne**]</td>\n",
       "      <td>[哪些编程错误能加快错误检测速度，而不需要我亲自调试？, 朋友说工作压力有点大，我该怎么回复, 告诉我，亚特兰大什么时候会下雪？]</td>\n",
       "    </tr>\n",
       "    <tr>\n",
       "      <th>96</th>\n",
       "      <td>95</td>\n",
       "      <td>10</td>\n",
       "      <td>95_万物互联等概念内涵及其应用场景_你能分享几个关键要素_葡萄胎是怎样形成的_能推荐几个成都的必去旅游景点吗</td>\n",
       "      <td>[万物互联等概念内涵及其应用场景, 你能分享几个关键要素, 葡萄胎是怎样形成的, 能推荐几个成都的必去旅游景点吗, 研究背景生成的步骤是什么, 生成对抗网络, 游戏吸引大众吗, 概括鸿蒙生态, 有哪些主要类别, 数据哈希生成的安全最佳实践是什么]</td>\n",
       "      <td>[你能推荐个好用的ai生成图片软件, 研究背景生成的步骤是什么, 让ai生成内容, 数据哈希生成的安全最佳实践是什么, 生成对抗网络, 能推荐几个成都的必去旅游景点吗, 怎么养成储蓄的好习惯, 葡萄胎是怎样形成的, 使用summon命令生成血量为5的苦力怕, 概括鸿蒙生态]</td>\n",
       "      <td>[]</td>\n",
       "      <td>[概括鸿蒙生态，万物互联等概念内涵及其应用场景, 生成对抗网络(GAN)有哪些主要类别？, 你能分享几个关键要素，让AI生成内容(AIGC)游戏吸引大众吗？]</td>\n",
       "    </tr>\n",
       "    <tr>\n",
       "      <th>97</th>\n",
       "      <td>96</td>\n",
       "      <td>10</td>\n",
       "      <td>96_paint_feet_walls_living</td>\n",
       "      <td>[paint, feet, walls, living, room, much, ll, type, cover, dimensions]</td>\n",
       "      <td>[paint, calculate, walls, ceilings, room, area, require, ceiling, 20, apartment]</td>\n",
       "      <td>[]</td>\n",
       "      <td>[I need to figure out how much paint I'll need to cover the walls in my living room., I need to figure out how much paint I'll require to cover the walls in...</td>\n",
       "    </tr>\n",
       "  </tbody>\n",
       "</table>\n",
       "<p>98 rows × 7 columns</p>\n",
       "</div>"
      ],
      "text/plain": [
       "    Topic  Count                                                     Name  \\\n",
       "0      -1   1104                                         -1_the_is_of_how   \n",
       "1       0    109                               0_flight_york_book_angeles   \n",
       "2       1     68                         1_weather_forecast_weekend_today   \n",
       "3       2     66         2_0098947947513_0065965298342_00824566229275_end   \n",
       "4       3     65                          3_experience_resume_as_position   \n",
       "..    ...    ...                                                      ...   \n",
       "93     92     11                        92_insert_prompt_specified_catchy   \n",
       "94     93     10                        93_sleepwalk_stress_head_migraine   \n",
       "95     94     10         94_遗传因素是否会影响不孕不育_而不需要我亲自调试_老板不发工钱已读不回_朋友说工作压力有点大   \n",
       "96     95     10  95_万物互联等概念内涵及其应用场景_你能分享几个关键要素_葡萄胎是怎样形成的_能推荐几个成都的必去旅游景点吗   \n",
       "97     96     10                               96_paint_feet_walls_living   \n",
       "\n",
       "                                                                                                                 Representation  \\\n",
       "0                                                                               [the, is, of, how, what, to, and, in, can, you]   \n",
       "1                                                              [flight, york, book, angeles, los, next, from, new, hotel, find]   \n",
       "2                                         [weather, forecast, weekend, today, temperature, seattle, like, know, tomorrow, this]   \n",
       "3                       [0098947947513, 0065965298342, 00824566229275, end, m1, python, 0131930596684, int, library, increment]   \n",
       "4                                                      [experience, resume, as, position, role, skills, team, letter, job, and]   \n",
       "..                                                                                                                          ...   \n",
       "93                                               [insert, prompt, specified, catchy, details, title, story, book, style, write]   \n",
       "94                        [sleepwalk, stress, head, migraine, girlfriends, tinnitus, oversleeping, treating, motivated, banged]   \n",
       "95         [遗传因素是否会影响不孕不育, 而不需要我亲自调试, 老板不发工钱已读不回, 朋友说工作压力有点大, 提前多少时间订机票会最便宜, 我该怎么回复, 我不想工作怎么办, 头晕不止应该怎么办, 哪些编程错误能加快错误检测速度, 告诉我]   \n",
       "96  [万物互联等概念内涵及其应用场景, 你能分享几个关键要素, 葡萄胎是怎样形成的, 能推荐几个成都的必去旅游景点吗, 研究背景生成的步骤是什么, 生成对抗网络, 游戏吸引大众吗, 概括鸿蒙生态, 有哪些主要类别, 数据哈希生成的安全最佳实践是什么]   \n",
       "97                                                        [paint, feet, walls, living, room, much, ll, type, cover, dimensions]   \n",
       "\n",
       "                                                                                                                                      KeyBERT  \\\n",
       "0                                                                      [data, email, project, using, use, create, need, message, write, text]   \n",
       "1                                                         [flights, flight, airline, airlines, angeles, los, booking, airport, york, tickets]   \n",
       "2                                          [weather, forecast, seattle, weekend, tomorrow, rain, precipitation, washington, portland, denver]   \n",
       "3                                   [python, dplyr, calculate_average, num_perm, increment, min_ngram_size, tuple, ngram_size, dict, heatmap]   \n",
       "4                                                          [resume, roles, role, hiring, cv, skills, recruiter, interview, experience, apply]   \n",
       "..                                                                                                                                        ...   \n",
       "93                                                       [novels, summary, summarize, writing, title, book, write, books, subject, paragraph]   \n",
       "94                                              [relax, sleep, remedies, stress, tips, tinnitus, sleepwalk, relief, oversleeping, techniques]   \n",
       "95                             [亚特兰大什么时候会下雪, 不孕不育会遗传吗, 遗传因素是否会影响不孕不育, 而不需要我亲自调试, 提前多少时间订机票会最便宜, 我不想工作怎么办, 朋友说工作压力有点大, 我该怎么回复, 头晕不止应该怎么办, 告诉我]   \n",
       "96  [你能推荐个好用的ai生成图片软件, 研究背景生成的步骤是什么, 让ai生成内容, 数据哈希生成的安全最佳实践是什么, 生成对抗网络, 能推荐几个成都的必去旅游景点吗, 怎么养成储蓄的好习惯, 葡萄胎是怎样形成的, 使用summon命令生成血量为5的苦力怕, 概括鸿蒙生态]   \n",
       "97                                                           [paint, calculate, walls, ceilings, room, area, require, ceiling, 20, apartment]   \n",
       "\n",
       "                              OpenRouter  \\\n",
       "0           [Mots fonctionnels français]   \n",
       "1                                     []   \n",
       "2           [**Météo week‑end Seattle**]   \n",
       "3   [**Manipulation de données Python**]   \n",
       "4                                     []   \n",
       "..                                   ...   \n",
       "93                                    []   \n",
       "94                                    []   \n",
       "95    [**Questions de vie quotidienne**]   \n",
       "96                                    []   \n",
       "97                                    []   \n",
       "\n",
       "                                                                                                                                                Representative_Docs  \n",
       "0   [create some excel sheet heads for me to record data: the important settings that we need to check when running the study\\nthe file names for the eye tracki...  \n",
       "1   [I need to book a flight from New York to Los Angeles for next week., I need to book a flight from New York to Los Angeles for next weekend, can you help me...  \n",
       "2   [Tell me about the weather forecast for this weekend in Seattle., I want to know the weather forecast for this weekend in Seattle., I need to know the weath...  \n",
       "3   [为什么我run不出来：library(dplyr)    # for data wrangling\\nlibrary(tidyr)\\nlibrary(ggplot2)  # for plots\\nlibrary(magrittr) # for pipe %>%\\nlibrary(MASS)\\nlibrary(...  \n",
       "4   [IDRIS OLATUNJI AMODU\\n\\n57, Shaw Road, Bromley, United Kingdom.\\nMobile No.: +447438423801\\nEmail: tunji.IA4@gmail.com\\n\\n\\n\\nPERSONAL STATEMENT\\n\\nI am lo...  \n",
       "..                                                                                                                                                              ...  \n",
       "93  [Create a catchy subject title., I want to read a detailed summary before I commit to buying a book, but I don't want to accidentally see any major spoilers...  \n",
       "94  [What are some ways to relax/de-stress after a long work day?, I just banged my head with my girlfriends head what should I do because it hurts, How are peo...  \n",
       "95                                                                                                [哪些编程错误能加快错误检测速度，而不需要我亲自调试？, 朋友说工作压力有点大，我该怎么回复, 告诉我，亚特兰大什么时候会下雪？]  \n",
       "96                                                                                  [概括鸿蒙生态，万物互联等概念内涵及其应用场景, 生成对抗网络(GAN)有哪些主要类别？, 你能分享几个关键要素，让AI生成内容(AIGC)游戏吸引大众吗？]  \n",
       "97  [I need to figure out how much paint I'll need to cover the walls in my living room., I need to figure out how much paint I'll require to cover the walls in...  \n",
       "\n",
       "[98 rows x 7 columns]"
      ]
     },
     "metadata": {},
     "output_type": "display_data"
    },
    {
     "name": "stderr",
     "output_type": "stream",
     "text": [
      "2it [00:00, 15.50it/s]\n",
      "\n"
     ]
    },
    {
     "data": {
      "application/vnd.plotly.v1+json": {
       "config": {
        "plotlyServerURL": "https://plot.ly"
       },
       "data": [
        {
         "hoverinfo": "text",
         "hovertext": [
          "<b>Topic 0</b><br>Words: hotels, flight, york, london, from",
          "<b>Topic 0</b><br>Words: flight, york, book, angeles, los"
         ],
         "marker": {
          "color": "#E69F00"
         },
         "name": "0_flight_york_book_angeles",
         "orientation": "h",
         "type": "bar",
         "visible": true,
         "x": {
          "bdata": "C2I=",
          "dtype": "i1"
         },
         "y": [
          "mapped",
          "augmented"
         ]
        },
        {
         "hoverinfo": "text",
         "hovertext": [
          "<b>Topic 1</b><br>Words: weather, today, temperature, forecast, alvor",
          "<b>Topic 1</b><br>Words: weather, forecast, weekend, seattle, like"
         ],
         "marker": {
          "color": "#56B4E9"
         },
         "name": "1_weather_forecast_weekend_today",
         "orientation": "h",
         "type": "bar",
         "visible": "legendonly",
         "x": {
          "bdata": "FDA=",
          "dtype": "i1"
         },
         "y": [
          "mapped",
          "augmented"
         ]
        },
        {
         "hoverinfo": "text",
         "hovertext": [
          "<b>Topic 2</b><br>Words: 0098947947513, 0065965298342, 00824566229275, end, m1",
          "<b>Topic 2</b><br>Words: python, 0098947947513, datetime, 0065965298342, list"
         ],
         "marker": {
          "color": "#009E73"
         },
         "name": "2_0098947947513_0065965298342_0082456622...",
         "orientation": "h",
         "type": "bar",
         "visible": "legendonly",
         "x": {
          "bdata": "PAY=",
          "dtype": "i1"
         },
         "y": [
          "mapped",
          "augmented"
         ]
        },
        {
         "hoverinfo": "text",
         "hovertext": [
          "<b>Topic 3</b><br>Words: experience, as, resume, team, skills",
          "<b>Topic 3</b><br>Words: position, resume, experience, role, strong"
         ],
         "marker": {
          "color": "#F0E442"
         },
         "name": "3_experience_resume_as_position",
         "orientation": "h",
         "type": "bar",
         "visible": "legendonly",
         "x": {
          "bdata": "KxY=",
          "dtype": "i1"
         },
         "y": [
          "mapped",
          "augmented"
         ]
        },
        {
         "hoverinfo": "text",
         "hovertext": [
          "<b>Topic 4</b><br>Words: chocolate, chip, cookies, recipe, corn",
          "<b>Topic 4</b><br>Words: chocolate, chip, cookies, recipe, uses"
         ],
         "marker": {
          "color": "#D55E00"
         },
         "name": "4_chocolate_chip_cookies_recipe",
         "orientation": "h",
         "type": "bar",
         "visible": "legendonly",
         "x": {
          "bdata": "CDQ=",
          "dtype": "i1"
         },
         "y": [
          "mapped",
          "augmented"
         ]
        },
        {
         "hoverinfo": "text",
         "hovertext": [
          "<b>Topic 5</b><br>Words: zone, meeting, allocation, schedule, time",
          "<b>Topic 5</b><br>Words: meeting, schedule, team, everyone, next"
         ],
         "marker": {
          "color": "#0072B2"
         },
         "name": "5_meeting_schedule_team_everyone",
         "orientation": "h",
         "type": "bar",
         "visible": "legendonly",
         "x": {
          "bdata": "BDQ=",
          "dtype": "i1"
         },
         "y": [
          "mapped",
          "augmented"
         ]
        },
        {
         "hoverinfo": "text",
         "hovertext": [
          "<b>Topic 6</b><br>Words: cost, renovation, expenditure, enterprise, resource",
          "<b>Topic 6</b><br>Words: monthly, expenses, budget, income, credit"
         ],
         "marker": {
          "color": "#CC79A7"
         },
         "name": "6_monthly_expenses_budget_income",
         "orientation": "h",
         "type": "bar",
         "visible": "legendonly",
         "x": {
          "bdata": "BDM=",
          "dtype": "i1"
         },
         "y": [
          "mapped",
          "augmented"
         ]
        },
        {
         "hoverinfo": "text",
         "hovertext": [
          "<b>Topic 7</b><br>Words: uk, headphone, plywood, price, amplifier",
          "<b>Topic 7</b><br>Words: price, laptop, phone, comparing, uk"
         ],
         "marker": {
          "color": "#E69F00"
         },
         "name": "7_uk_price_headphone_phone",
         "orientation": "h",
         "type": "bar",
         "visible": "legendonly",
         "x": {
          "bdata": "HxU=",
          "dtype": "i1"
         },
         "y": [
          "mapped",
          "augmented"
         ]
        },
        {
         "hoverinfo": "text",
         "hovertext": [
          "<b>Topic 8</b><br>Words: destinations, riddles, things, event, richmond",
          "<b>Topic 8</b><br>Words: city, nearby, planning, trip, weekend"
         ],
         "marker": {
          "color": "#56B4E9"
         },
         "name": "8_city_nearby_destinations_weekend",
         "orientation": "h",
         "type": "bar",
         "visible": "legendonly",
         "x": {
          "bdata": "Ghc=",
          "dtype": "i1"
         },
         "y": [
          "mapped",
          "augmented"
         ]
        },
        {
         "hoverinfo": "text",
         "hovertext": [
          "<b>Topic 9</b><br>Words: climate, change, shootings, article, impact",
          "<b>Topic 9</b><br>Words: climate, change, article, impacts, summarizing"
         ],
         "marker": {
          "color": "#009E73"
         },
         "name": "9_climate_change_article_impacts",
         "orientation": "h",
         "type": "bar",
         "visible": "legendonly",
         "x": {
          "bdata": "Cic=",
          "dtype": "i1"
         },
         "y": [
          "mapped",
          "augmented"
         ]
        }
       ],
       "layout": {
        "height": 900,
        "hoverlabel": {
         "bgcolor": "white",
         "font": {
          "family": "Rockwell",
          "size": 16
         }
        },
        "legend": {
         "title": {
          "text": "<b>Global Topic Representation"
         }
        },
        "template": {
         "data": {
          "bar": [
           {
            "error_x": {
             "color": "rgb(36,36,36)"
            },
            "error_y": {
             "color": "rgb(36,36,36)"
            },
            "marker": {
             "line": {
              "color": "white",
              "width": 0.5
             },
             "pattern": {
              "fillmode": "overlay",
              "size": 10,
              "solidity": 0.2
             }
            },
            "type": "bar"
           }
          ],
          "barpolar": [
           {
            "marker": {
             "line": {
              "color": "white",
              "width": 0.5
             },
             "pattern": {
              "fillmode": "overlay",
              "size": 10,
              "solidity": 0.2
             }
            },
            "type": "barpolar"
           }
          ],
          "carpet": [
           {
            "aaxis": {
             "endlinecolor": "rgb(36,36,36)",
             "gridcolor": "white",
             "linecolor": "white",
             "minorgridcolor": "white",
             "startlinecolor": "rgb(36,36,36)"
            },
            "baxis": {
             "endlinecolor": "rgb(36,36,36)",
             "gridcolor": "white",
             "linecolor": "white",
             "minorgridcolor": "white",
             "startlinecolor": "rgb(36,36,36)"
            },
            "type": "carpet"
           }
          ],
          "choropleth": [
           {
            "colorbar": {
             "outlinewidth": 1,
             "tickcolor": "rgb(36,36,36)",
             "ticks": "outside"
            },
            "type": "choropleth"
           }
          ],
          "contour": [
           {
            "colorbar": {
             "outlinewidth": 1,
             "tickcolor": "rgb(36,36,36)",
             "ticks": "outside"
            },
            "colorscale": [
             [
              0,
              "#440154"
             ],
             [
              0.1111111111111111,
              "#482878"
             ],
             [
              0.2222222222222222,
              "#3e4989"
             ],
             [
              0.3333333333333333,
              "#31688e"
             ],
             [
              0.4444444444444444,
              "#26828e"
             ],
             [
              0.5555555555555556,
              "#1f9e89"
             ],
             [
              0.6666666666666666,
              "#35b779"
             ],
             [
              0.7777777777777778,
              "#6ece58"
             ],
             [
              0.8888888888888888,
              "#b5de2b"
             ],
             [
              1,
              "#fde725"
             ]
            ],
            "type": "contour"
           }
          ],
          "contourcarpet": [
           {
            "colorbar": {
             "outlinewidth": 1,
             "tickcolor": "rgb(36,36,36)",
             "ticks": "outside"
            },
            "type": "contourcarpet"
           }
          ],
          "heatmap": [
           {
            "colorbar": {
             "outlinewidth": 1,
             "tickcolor": "rgb(36,36,36)",
             "ticks": "outside"
            },
            "colorscale": [
             [
              0,
              "#440154"
             ],
             [
              0.1111111111111111,
              "#482878"
             ],
             [
              0.2222222222222222,
              "#3e4989"
             ],
             [
              0.3333333333333333,
              "#31688e"
             ],
             [
              0.4444444444444444,
              "#26828e"
             ],
             [
              0.5555555555555556,
              "#1f9e89"
             ],
             [
              0.6666666666666666,
              "#35b779"
             ],
             [
              0.7777777777777778,
              "#6ece58"
             ],
             [
              0.8888888888888888,
              "#b5de2b"
             ],
             [
              1,
              "#fde725"
             ]
            ],
            "type": "heatmap"
           }
          ],
          "histogram": [
           {
            "marker": {
             "line": {
              "color": "white",
              "width": 0.6
             }
            },
            "type": "histogram"
           }
          ],
          "histogram2d": [
           {
            "colorbar": {
             "outlinewidth": 1,
             "tickcolor": "rgb(36,36,36)",
             "ticks": "outside"
            },
            "colorscale": [
             [
              0,
              "#440154"
             ],
             [
              0.1111111111111111,
              "#482878"
             ],
             [
              0.2222222222222222,
              "#3e4989"
             ],
             [
              0.3333333333333333,
              "#31688e"
             ],
             [
              0.4444444444444444,
              "#26828e"
             ],
             [
              0.5555555555555556,
              "#1f9e89"
             ],
             [
              0.6666666666666666,
              "#35b779"
             ],
             [
              0.7777777777777778,
              "#6ece58"
             ],
             [
              0.8888888888888888,
              "#b5de2b"
             ],
             [
              1,
              "#fde725"
             ]
            ],
            "type": "histogram2d"
           }
          ],
          "histogram2dcontour": [
           {
            "colorbar": {
             "outlinewidth": 1,
             "tickcolor": "rgb(36,36,36)",
             "ticks": "outside"
            },
            "colorscale": [
             [
              0,
              "#440154"
             ],
             [
              0.1111111111111111,
              "#482878"
             ],
             [
              0.2222222222222222,
              "#3e4989"
             ],
             [
              0.3333333333333333,
              "#31688e"
             ],
             [
              0.4444444444444444,
              "#26828e"
             ],
             [
              0.5555555555555556,
              "#1f9e89"
             ],
             [
              0.6666666666666666,
              "#35b779"
             ],
             [
              0.7777777777777778,
              "#6ece58"
             ],
             [
              0.8888888888888888,
              "#b5de2b"
             ],
             [
              1,
              "#fde725"
             ]
            ],
            "type": "histogram2dcontour"
           }
          ],
          "mesh3d": [
           {
            "colorbar": {
             "outlinewidth": 1,
             "tickcolor": "rgb(36,36,36)",
             "ticks": "outside"
            },
            "type": "mesh3d"
           }
          ],
          "parcoords": [
           {
            "line": {
             "colorbar": {
              "outlinewidth": 1,
              "tickcolor": "rgb(36,36,36)",
              "ticks": "outside"
             }
            },
            "type": "parcoords"
           }
          ],
          "pie": [
           {
            "automargin": true,
            "type": "pie"
           }
          ],
          "scatter": [
           {
            "fillpattern": {
             "fillmode": "overlay",
             "size": 10,
             "solidity": 0.2
            },
            "type": "scatter"
           }
          ],
          "scatter3d": [
           {
            "line": {
             "colorbar": {
              "outlinewidth": 1,
              "tickcolor": "rgb(36,36,36)",
              "ticks": "outside"
             }
            },
            "marker": {
             "colorbar": {
              "outlinewidth": 1,
              "tickcolor": "rgb(36,36,36)",
              "ticks": "outside"
             }
            },
            "type": "scatter3d"
           }
          ],
          "scattercarpet": [
           {
            "marker": {
             "colorbar": {
              "outlinewidth": 1,
              "tickcolor": "rgb(36,36,36)",
              "ticks": "outside"
             }
            },
            "type": "scattercarpet"
           }
          ],
          "scattergeo": [
           {
            "marker": {
             "colorbar": {
              "outlinewidth": 1,
              "tickcolor": "rgb(36,36,36)",
              "ticks": "outside"
             }
            },
            "type": "scattergeo"
           }
          ],
          "scattergl": [
           {
            "marker": {
             "colorbar": {
              "outlinewidth": 1,
              "tickcolor": "rgb(36,36,36)",
              "ticks": "outside"
             }
            },
            "type": "scattergl"
           }
          ],
          "scattermap": [
           {
            "marker": {
             "colorbar": {
              "outlinewidth": 1,
              "tickcolor": "rgb(36,36,36)",
              "ticks": "outside"
             }
            },
            "type": "scattermap"
           }
          ],
          "scattermapbox": [
           {
            "marker": {
             "colorbar": {
              "outlinewidth": 1,
              "tickcolor": "rgb(36,36,36)",
              "ticks": "outside"
             }
            },
            "type": "scattermapbox"
           }
          ],
          "scatterpolar": [
           {
            "marker": {
             "colorbar": {
              "outlinewidth": 1,
              "tickcolor": "rgb(36,36,36)",
              "ticks": "outside"
             }
            },
            "type": "scatterpolar"
           }
          ],
          "scatterpolargl": [
           {
            "marker": {
             "colorbar": {
              "outlinewidth": 1,
              "tickcolor": "rgb(36,36,36)",
              "ticks": "outside"
             }
            },
            "type": "scatterpolargl"
           }
          ],
          "scatterternary": [
           {
            "marker": {
             "colorbar": {
              "outlinewidth": 1,
              "tickcolor": "rgb(36,36,36)",
              "ticks": "outside"
             }
            },
            "type": "scatterternary"
           }
          ],
          "surface": [
           {
            "colorbar": {
             "outlinewidth": 1,
             "tickcolor": "rgb(36,36,36)",
             "ticks": "outside"
            },
            "colorscale": [
             [
              0,
              "#440154"
             ],
             [
              0.1111111111111111,
              "#482878"
             ],
             [
              0.2222222222222222,
              "#3e4989"
             ],
             [
              0.3333333333333333,
              "#31688e"
             ],
             [
              0.4444444444444444,
              "#26828e"
             ],
             [
              0.5555555555555556,
              "#1f9e89"
             ],
             [
              0.6666666666666666,
              "#35b779"
             ],
             [
              0.7777777777777778,
              "#6ece58"
             ],
             [
              0.8888888888888888,
              "#b5de2b"
             ],
             [
              1,
              "#fde725"
             ]
            ],
            "type": "surface"
           }
          ],
          "table": [
           {
            "cells": {
             "fill": {
              "color": "rgb(237,237,237)"
             },
             "line": {
              "color": "white"
             }
            },
            "header": {
             "fill": {
              "color": "rgb(217,217,217)"
             },
             "line": {
              "color": "white"
             }
            },
            "type": "table"
           }
          ]
         },
         "layout": {
          "annotationdefaults": {
           "arrowhead": 0,
           "arrowwidth": 1
          },
          "autotypenumbers": "strict",
          "coloraxis": {
           "colorbar": {
            "outlinewidth": 1,
            "tickcolor": "rgb(36,36,36)",
            "ticks": "outside"
           }
          },
          "colorscale": {
           "diverging": [
            [
             0,
             "rgb(103,0,31)"
            ],
            [
             0.1,
             "rgb(178,24,43)"
            ],
            [
             0.2,
             "rgb(214,96,77)"
            ],
            [
             0.3,
             "rgb(244,165,130)"
            ],
            [
             0.4,
             "rgb(253,219,199)"
            ],
            [
             0.5,
             "rgb(247,247,247)"
            ],
            [
             0.6,
             "rgb(209,229,240)"
            ],
            [
             0.7,
             "rgb(146,197,222)"
            ],
            [
             0.8,
             "rgb(67,147,195)"
            ],
            [
             0.9,
             "rgb(33,102,172)"
            ],
            [
             1,
             "rgb(5,48,97)"
            ]
           ],
           "sequential": [
            [
             0,
             "#440154"
            ],
            [
             0.1111111111111111,
             "#482878"
            ],
            [
             0.2222222222222222,
             "#3e4989"
            ],
            [
             0.3333333333333333,
             "#31688e"
            ],
            [
             0.4444444444444444,
             "#26828e"
            ],
            [
             0.5555555555555556,
             "#1f9e89"
            ],
            [
             0.6666666666666666,
             "#35b779"
            ],
            [
             0.7777777777777778,
             "#6ece58"
            ],
            [
             0.8888888888888888,
             "#b5de2b"
            ],
            [
             1,
             "#fde725"
            ]
           ],
           "sequentialminus": [
            [
             0,
             "#440154"
            ],
            [
             0.1111111111111111,
             "#482878"
            ],
            [
             0.2222222222222222,
             "#3e4989"
            ],
            [
             0.3333333333333333,
             "#31688e"
            ],
            [
             0.4444444444444444,
             "#26828e"
            ],
            [
             0.5555555555555556,
             "#1f9e89"
            ],
            [
             0.6666666666666666,
             "#35b779"
            ],
            [
             0.7777777777777778,
             "#6ece58"
            ],
            [
             0.8888888888888888,
             "#b5de2b"
            ],
            [
             1,
             "#fde725"
            ]
           ]
          },
          "colorway": [
           "#1F77B4",
           "#FF7F0E",
           "#2CA02C",
           "#D62728",
           "#9467BD",
           "#8C564B",
           "#E377C2",
           "#7F7F7F",
           "#BCBD22",
           "#17BECF"
          ],
          "font": {
           "color": "rgb(36,36,36)"
          },
          "geo": {
           "bgcolor": "white",
           "lakecolor": "white",
           "landcolor": "white",
           "showlakes": true,
           "showland": true,
           "subunitcolor": "white"
          },
          "hoverlabel": {
           "align": "left"
          },
          "hovermode": "closest",
          "mapbox": {
           "style": "light"
          },
          "paper_bgcolor": "white",
          "plot_bgcolor": "white",
          "polar": {
           "angularaxis": {
            "gridcolor": "rgb(232,232,232)",
            "linecolor": "rgb(36,36,36)",
            "showgrid": false,
            "showline": true,
            "ticks": "outside"
           },
           "bgcolor": "white",
           "radialaxis": {
            "gridcolor": "rgb(232,232,232)",
            "linecolor": "rgb(36,36,36)",
            "showgrid": false,
            "showline": true,
            "ticks": "outside"
           }
          },
          "scene": {
           "xaxis": {
            "backgroundcolor": "white",
            "gridcolor": "rgb(232,232,232)",
            "gridwidth": 2,
            "linecolor": "rgb(36,36,36)",
            "showbackground": true,
            "showgrid": false,
            "showline": true,
            "ticks": "outside",
            "zeroline": false,
            "zerolinecolor": "rgb(36,36,36)"
           },
           "yaxis": {
            "backgroundcolor": "white",
            "gridcolor": "rgb(232,232,232)",
            "gridwidth": 2,
            "linecolor": "rgb(36,36,36)",
            "showbackground": true,
            "showgrid": false,
            "showline": true,
            "ticks": "outside",
            "zeroline": false,
            "zerolinecolor": "rgb(36,36,36)"
           },
           "zaxis": {
            "backgroundcolor": "white",
            "gridcolor": "rgb(232,232,232)",
            "gridwidth": 2,
            "linecolor": "rgb(36,36,36)",
            "showbackground": true,
            "showgrid": false,
            "showline": true,
            "ticks": "outside",
            "zeroline": false,
            "zerolinecolor": "rgb(36,36,36)"
           }
          },
          "shapedefaults": {
           "fillcolor": "black",
           "line": {
            "width": 0
           },
           "opacity": 0.3
          },
          "ternary": {
           "aaxis": {
            "gridcolor": "rgb(232,232,232)",
            "linecolor": "rgb(36,36,36)",
            "showgrid": false,
            "showline": true,
            "ticks": "outside"
           },
           "baxis": {
            "gridcolor": "rgb(232,232,232)",
            "linecolor": "rgb(36,36,36)",
            "showgrid": false,
            "showline": true,
            "ticks": "outside"
           },
           "bgcolor": "white",
           "caxis": {
            "gridcolor": "rgb(232,232,232)",
            "linecolor": "rgb(36,36,36)",
            "showgrid": false,
            "showline": true,
            "ticks": "outside"
           }
          },
          "title": {
           "x": 0.05
          },
          "xaxis": {
           "automargin": true,
           "gridcolor": "rgb(232,232,232)",
           "linecolor": "rgb(36,36,36)",
           "showgrid": false,
           "showline": true,
           "ticks": "outside",
           "title": {
            "standoff": 15
           },
           "zeroline": false,
           "zerolinecolor": "rgb(36,36,36)"
          },
          "yaxis": {
           "automargin": true,
           "gridcolor": "rgb(232,232,232)",
           "linecolor": "rgb(36,36,36)",
           "showgrid": false,
           "showline": true,
           "ticks": "outside",
           "title": {
            "standoff": 15
           },
           "zeroline": false,
           "zerolinecolor": "rgb(36,36,36)"
          }
         }
        },
        "title": {
         "font": {
          "color": "Black",
          "size": 22
         },
         "text": "<b>Topics per Class</b>",
         "x": 0.4,
         "xanchor": "center",
         "y": 0.95,
         "yanchor": "top"
        },
        "width": 1250,
        "xaxis": {
         "showgrid": true,
         "title": {
          "text": "Frequency"
         }
        },
        "yaxis": {
         "showgrid": true,
         "title": {
          "text": "Class"
         }
        }
       }
      }
     },
     "metadata": {},
     "output_type": "display_data"
    }
   ],
   "source": [
    "try:\n",
    "    from bertopic import BERTopic\n",
    "    from bertopic.representation import KeyBERTInspired, OpenAI\n",
    "    from openai import OpenAI as OpenAIClient\n",
    "    HAVE_BERTOPIC = True\n",
    "except ImportError:\n",
    "    HAVE_BERTOPIC = False\n",
    "    print(\"BERTopic ou OpenAI non installé. Exécutez: pip install bertopic openai\")\n",
    "    print(\"Pour les visualisations interactives: pip install 'bertopic[visualization]'\")\n",
    "\n",
    "if HAVE_BERTOPIC and HAVE_ST and HAVE_UMAP and HAVE_HDBSCAN:\n",
    "    print(\"Dépendances pour BERTopic chargées.\")\n",
    "    \n",
    "    # 1. Préparation des données\n",
    "    prompts_all = all_df['prompt'].dropna().astype(str).tolist()\n",
    "    source_labels = all_df.loc[all_df['prompt'].notna(), 'source'].tolist()\n",
    "    \n",
    "    # 2. Modèle d'embedding (réutilisation de la section 13)\n",
    "    embedding_model = SentenceTransformer('sentence-transformers/all-MiniLM-L6-v2')\n",
    "\n",
    "    # 3. Modèles de réduction et clustering\n",
    "    umap_model = umap.UMAP(n_neighbors=15, n_components=5, min_dist=0.0, metric='cosine', random_state=RANDOM_SEED)\n",
    "    hdbscan_model = hdbscan.HDBSCAN(min_cluster_size=10, metric='euclidean', cluster_selection_method='eom', prediction_data=True)\n",
    "\n",
    "    # 4. Représentation des topics\n",
    "    # Modèle de base\n",
    "    keybert_model = KeyBERTInspired()\n",
    "    \n",
    "    # (Optionnel) Modèle OpenAI / OpenRouter\n",
    "    # Assurez-vous que la variable d'environnement OPENROUTER_API_KEY est définie\n",
    "    if 'OPENROUTER_API_KEY' in os.environ and os.environ['OPENROUTER_API_KEY']:\n",
    "        print(\"Utilisation d'OpenRouter pour la labellisation des topics.\")\n",
    "        client = OpenAIClient(\n",
    "            base_url=\"https://openrouter.ai/api/v1\",\n",
    "            api_key=os.environ.get(\"OPENROUTER_API_KEY\"),\n",
    "        )\n",
    "        # Modèle pour générer des labels de topics concis\n",
    "        prompt_template = \"Je dois nommer un topic à partir de ces mots-clés: [KEYWORDS]. Le nom doit être très concis (3-4 mots max) et en français.\"\n",
    "        \n",
    "        # Correction: Initialiser OpenAI, puis définir les attributs\n",
    "        openrouter_model = OpenAI(\n",
    "            client,\n",
    "            # Le modèle est un argument de la classe\n",
    "            model=\"openai/gpt-oss-20b\", \n",
    "            # Le prompt est un argument de la classe\n",
    "            prompt=prompt_template,\n",
    "            chat=True,\n",
    "            nr_docs=5\n",
    "        )\n",
    "        \n",
    "        # Combinez les deux représentations\n",
    "        representation_model = {\n",
    "            \"KeyBERT\": keybert_model,\n",
    "            \"OpenRouter\": openrouter_model\n",
    "        }\n",
    "    else:\n",
    "        print(\"OPENROUTER_API_KEY non trouvée ou vide. Utilisation de KeyBERT seul.\")\n",
    "        representation_model = keybert_model\n",
    "\n",
    "    # 5. Création et entraînement du modèle BERTopic\n",
    "    topic_model = BERTopic(\n",
    "      embedding_model=embedding_model,\n",
    "      umap_model=umap_model,\n",
    "      hdbscan_model=hdbscan_model,\n",
    "      representation_model=representation_model,\n",
    "      verbose=True,\n",
    "      language=\"multilingual\" # Pour prendre en compte les prompts en FR/EN/CN\n",
    "    )\n",
    "\n",
    "    topics, probs = topic_model.fit_transform(prompts_all)\n",
    "    \n",
    "    # 6. Analyse des résultats\n",
    "    print(\"\\nInformations sur le modèle de topics:\")\n",
    "    display(topic_model.get_topic_info())\n",
    "\n",
    "    # Visualisation de la distribution des topics par dataset\n",
    "    topics_per_source = topic_model.topics_per_class(prompts_all, classes=source_labels)\n",
    "    \n",
    "    # Afficher la comparaison des topics entre 'mapped' et 'augmented'\n",
    "    # On se concentre sur les topics les plus fréquents dans chaque classe\n",
    "    display(topic_model.visualize_topics_per_class(topics_per_source, top_n_topics=10))\n",
    "\n",
    "else:\n",
    "    print(\"Analyse BERTopic non exécutée car des dépendances sont manquantes.\")\n",
    "    print(f\"BERTopic: {HAVE_BERTOPIC}, SentenceTransformer: {HAVE_ST}, UMAP: {HAVE_UMAP}, HDBSCAN: {HAVE_HDBSCAN}\")"
   ]
  }
 ],
 "metadata": {
  "kernelspec": {
   "display_name": "data-aug",
   "language": "python",
   "name": "python3"
  },
  "language_info": {
   "codemirror_mode": {
    "name": "ipython",
    "version": 3
   },
   "file_extension": ".py",
   "mimetype": "text/x-python",
   "name": "python",
   "nbconvert_exporter": "python",
   "pygments_lexer": "ipython3",
   "version": "3.11.13"
  }
 },
 "nbformat": 4,
 "nbformat_minor": 5
}
