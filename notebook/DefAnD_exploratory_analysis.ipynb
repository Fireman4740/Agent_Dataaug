{
 "cells": [
  {
   "cell_type": "code",
   "execution_count": 1,
   "id": "fa92a344",
   "metadata": {},
   "outputs": [],
   "source": [
    "# ===== CONFIGURATION =====\n",
    "# Spécifiez le chemin vers votre dataset DefAnD\n",
    "DATASET_PATH = \"/mnt/c/Users/mcarlesso/Desktop/thèse/Expérimentation/IHallDataset/roadmap/Phase3/Dataset_analyse/datasets/DefAnD\"  # À modifier selon votre environnement\n",
    "\n",
    "# Paramètres d'analyse\n",
    "SAMPLE_SIZE = 1000  # Nombre d'exemples à analyser en détail\n",
    "RANDOM_SEED = 42    # Pour la reproductibilité"
   ]
  },
  {
   "cell_type": "code",
   "execution_count": 2,
   "id": "3fe3a97c",
   "metadata": {},
   "outputs": [
    {
     "name": "stdout",
     "output_type": "stream",
     "text": [
      "✅ Imports et configuration terminés\n"
     ]
    }
   ],
   "source": [
    "# ===== IMPORTS ET CONFIGURATION =====\n",
    "import pandas as pd\n",
    "import numpy as np\n",
    "import json\n",
    "import os\n",
    "import re\n",
    "from pathlib import Path\n",
    "import warnings\n",
    "warnings.filterwarnings('ignore')\n",
    "\n",
    "# Visualisation\n",
    "import matplotlib.pyplot as plt\n",
    "import seaborn as sns\n",
    "from wordcloud import WordCloud\n",
    "import plotly.express as px\n",
    "import plotly.graph_objects as go\n",
    "from plotly.subplots import make_subplots\n",
    "\n",
    "# NLP et analyse de texte\n",
    "import spacy\n",
    "from collections import Counter, defaultdict\n",
    "from textstat import flesch_reading_ease, syllable_count\n",
    "import nltk\n",
    "from nltk.tokenize import sent_tokenize, word_tokenize\n",
    "from nltk.corpus import stopwords\n",
    "\n",
    "# Configuration des graphiques\n",
    "plt.style.use('seaborn-v0_8')\n",
    "sns.set_palette(\"husl\")\n",
    "pd.set_option('display.max_columns', None)\n",
    "pd.set_option('display.max_colwidth', 100)\n",
    "\n",
    "# Télécharger les ressources NLTK nécessaires\n",
    "try:\n",
    "    nltk.data.find('tokenizers/punkt')\n",
    "except LookupError:\n",
    "    nltk.download('punkt')\n",
    "    \n",
    "try:\n",
    "    nltk.data.find('corpora/stopwords')\n",
    "except LookupError:\n",
    "    nltk.download('stopwords')\n",
    "\n",
    "print(\"✅ Imports et configuration terminés\")"
   ]
  },
  {
   "cell_type": "markdown",
   "id": "b82a9177",
   "metadata": {},
   "source": [
    "## 1. Chargement Automatique du Dataset\n",
    "\n",
    "Cette section détecte automatiquement le format du dataset et charge les données de manière appropriée."
   ]
  },
  {
   "cell_type": "code",
   "execution_count": 3,
   "id": "fde51844",
   "metadata": {},
   "outputs": [
    {
     "name": "stdout",
     "output_type": "stream",
     "text": [
      "🔍 Recherche de fichiers de dataset dans /mnt/c/Users/mcarlesso/Desktop/thèse/Expérimentation/IHallDataset/roadmap/Phase3/Dataset_analyse/datasets/DefAnD...\n",
      "📁 Fichiers trouvés (.csv): 8\n",
      "   - DefAn-public/QA_domain_1_public.csv\n",
      "   - DefAn-public/QA_domain_2_public.csv\n",
      "   - DefAn-public/QA_domain_3_public.csv\n",
      "   - DefAn-public/QA_domain_4_public.csv\n",
      "   - DefAn-public/QA_domain_5_public.csv\n",
      "   ... et 3 autres\n",
      "📁 Chargement du fichier: /mnt/c/Users/mcarlesso/Desktop/thèse/Expérimentation/IHallDataset/roadmap/Phase3/Dataset_analyse/datasets/DefAnD/DefAn-public/QA_domain_1_public.csv\n",
      "🔍 Format détecté: .csv\n",
      "✅ Dataset chargé avec succès: 1305 lignes, 3 colonnes\n",
      "📊 Fichier utilisé: QA_domain_1_public.csv\n"
     ]
    }
   ],
   "source": [
    "def detect_and_load_dataset(dataset_path):\n",
    "    \"\"\"\n",
    "    Détecte automatiquement le format du dataset et le charge.\n",
    "    Supporte: CSV, JSON, JSONL, Parquet\n",
    "    Recherche récursivement dans les sous-dossiers\n",
    "    \"\"\"\n",
    "    path_obj = Path(dataset_path)\n",
    "    \n",
    "    if not path_obj.exists():\n",
    "        raise FileNotFoundError(f\"Le chemin {dataset_path} n'existe pas\")\n",
    "    \n",
    "    # Si c'est un dossier, chercher les fichiers de dataset récursivement\n",
    "    if path_obj.is_dir():\n",
    "        print(f\"🔍 Recherche de fichiers de dataset dans {dataset_path}...\")\n",
    "        \n",
    "        # Recherche récursive dans tous les sous-dossiers\n",
    "        dataset_file = None\n",
    "        for ext in ['.csv', '.json', '.jsonl', '.parquet']:\n",
    "            # Recherche récursive avec **/*\n",
    "            files = list(path_obj.rglob(f\"*{ext}\"))\n",
    "            if files:\n",
    "                # Prioriser certains fichiers\n",
    "                priority_files = []\n",
    "                for file in files:\n",
    "                    filename_lower = file.name.lower()\n",
    "                    # Prioriser les fichiers \"combined\" ou \"public\"\n",
    "                    if 'combined' in filename_lower:\n",
    "                        priority_files.insert(0, file)  # Plus haute priorité\n",
    "                    elif 'public' in filename_lower:\n",
    "                        priority_files.append(file)\n",
    "                    else:\n",
    "                        priority_files.append(file)\n",
    "                \n",
    "                dataset_file = priority_files[0]\n",
    "                print(f\"📁 Fichiers trouvés ({ext}): {len(files)}\")\n",
    "                for file in files[:5]:  # Afficher max 5 fichiers\n",
    "                    print(f\"   - {file.relative_to(path_obj)}\")\n",
    "                if len(files) > 5:\n",
    "                    print(f\"   ... et {len(files)-5} autres\")\n",
    "                break\n",
    "        \n",
    "        if dataset_file is None:\n",
    "            raise ValueError(f\"Aucun fichier de dataset trouvé dans {dataset_path} et ses sous-dossiers\")\n",
    "        \n",
    "        dataset_path = dataset_file\n",
    "    else:\n",
    "        dataset_file = path_obj\n",
    "    \n",
    "    file_ext = Path(dataset_path).suffix.lower()\n",
    "    print(f\"📁 Chargement du fichier: {dataset_path}\")\n",
    "    print(f\"🔍 Format détecté: {file_ext}\")\n",
    "    \n",
    "    try:\n",
    "        if file_ext == '.csv':\n",
    "            df = pd.read_csv(dataset_path)\n",
    "        elif file_ext == '.json':\n",
    "            with open(dataset_path, 'r', encoding='utf-8') as f:\n",
    "                data = json.load(f)\n",
    "            df = pd.json_normalize(data) if isinstance(data, list) else pd.DataFrame([data])\n",
    "        elif file_ext == '.jsonl':\n",
    "            data = []\n",
    "            with open(dataset_path, 'r', encoding='utf-8') as f:\n",
    "                for line in f:\n",
    "                    data.append(json.loads(line.strip()))\n",
    "            df = pd.DataFrame(data)\n",
    "        elif file_ext == '.parquet':\n",
    "            df = pd.read_parquet(dataset_path)\n",
    "        else:\n",
    "            raise ValueError(f\"Format non supporté: {file_ext}\")\n",
    "        \n",
    "        print(f\"✅ Dataset chargé avec succès: {df.shape[0]} lignes, {df.shape[1]} colonnes\")\n",
    "        print(f\"📊 Fichier utilisé: {Path(dataset_path).name}\")\n",
    "        return df, file_ext\n",
    "        \n",
    "    except Exception as e:\n",
    "        print(f\"❌ Erreur lors du chargement: {e}\")\n",
    "        return None, None\n",
    "\n",
    "# Chargement du dataset\n",
    "df, file_format = detect_and_load_dataset(DATASET_PATH)"
   ]
  },
  {
   "cell_type": "markdown",
   "id": "86eefbb1",
   "metadata": {},
   "source": [
    "# DefAnD Dataset - Analyse Exploratoire pour l'Axe A (Exactitude)\n",
    "\n",
    "Ce notebook analyse l'aptitude du dataset DefAnD pour l'axe A (exactitude) du projet U-F-A.\n",
    "\n",
    "**Objectifs :**\n",
    "- Évaluer la qualité des annotations factuelles\n",
    "- Analyser la compatibilité avec les pipelines RAG/NLI\n",
    "- Fournir un score de facilité d'exploitation pour l'axe A\n",
    "- Identifier les exemples les plus exploitables\n",
    "\n",
    "**Structure de l'analyse :**\n",
    "1. **Chargement automatique** - Détection format et inspection\n",
    "2. **Statistiques globales** - Vue d'ensemble du dataset\n",
    "3. **Axe A - Annotations factuelles** - Analyse spécifique véracité\n",
    "4. **Contenu des prompts** - Analyse linguistique et sémantique\n",
    "5. **Compatibilité pipelines** - Évaluation technique\n",
    "6. **Scoring & Recommandations** - Synthèse et exemples"
   ]
  },
  {
   "cell_type": "code",
   "execution_count": 4,
   "id": "9dfe413d",
   "metadata": {},
   "outputs": [
    {
     "name": "stdout",
     "output_type": "stream",
     "text": [
      "============================================================\n",
      "📊 INSPECTION INITIALE DU DATASET\n",
      "============================================================\n",
      "\n",
      "🔍 Aperçu des premières lignes:\n"
     ]
    },
    {
     "data": {
      "text/html": [
       "<div>\n",
       "<style scoped>\n",
       "    .dataframe tbody tr th:only-of-type {\n",
       "        vertical-align: middle;\n",
       "    }\n",
       "\n",
       "    .dataframe tbody tr th {\n",
       "        vertical-align: top;\n",
       "    }\n",
       "\n",
       "    .dataframe thead th {\n",
       "        text-align: right;\n",
       "    }\n",
       "</style>\n",
       "<table border=\"1\" class=\"dataframe\">\n",
       "  <thead>\n",
       "    <tr style=\"text-align: right;\">\n",
       "      <th></th>\n",
       "      <th>questions</th>\n",
       "      <th>answer</th>\n",
       "      <th>type</th>\n",
       "    </tr>\n",
       "  </thead>\n",
       "  <tbody>\n",
       "    <tr>\n",
       "      <th>0</th>\n",
       "      <td>Which team won the 1930 FIFA World Cup?(Give me the name only)</td>\n",
       "      <td>Uruguay</td>\n",
       "      <td>name</td>\n",
       "    </tr>\n",
       "    <tr>\n",
       "      <th>1</th>\n",
       "      <td>Who emerged as the victor of the 1930 FIFA World Cup?(Give me the name only)</td>\n",
       "      <td>Uruguay</td>\n",
       "      <td>name</td>\n",
       "    </tr>\n",
       "    <tr>\n",
       "      <th>2</th>\n",
       "      <td>Which nation lifted the trophy in the 1930 FIFA World Cup?(Give me the name only)</td>\n",
       "      <td>Uruguay</td>\n",
       "      <td>name</td>\n",
       "    </tr>\n",
       "    <tr>\n",
       "      <th>3</th>\n",
       "      <td>Who claimed the championship title in the 1930 FIFA World Cup?(Give me the name only)</td>\n",
       "      <td>Uruguay</td>\n",
       "      <td>name</td>\n",
       "    </tr>\n",
       "    <tr>\n",
       "      <th>4</th>\n",
       "      <td>Which team was crowned the winner of the 1930 FIFA World Cup?(Give me the name only)</td>\n",
       "      <td>Uruguay</td>\n",
       "      <td>name</td>\n",
       "    </tr>\n",
       "  </tbody>\n",
       "</table>\n",
       "</div>"
      ],
      "text/plain": [
       "                                                                                questions  \\\n",
       "0                          Which team won the 1930 FIFA World Cup?(Give me the name only)   \n",
       "1            Who emerged as the victor of the 1930 FIFA World Cup?(Give me the name only)   \n",
       "2       Which nation lifted the trophy in the 1930 FIFA World Cup?(Give me the name only)   \n",
       "3   Who claimed the championship title in the 1930 FIFA World Cup?(Give me the name only)   \n",
       "4    Which team was crowned the winner of the 1930 FIFA World Cup?(Give me the name only)   \n",
       "\n",
       "    answer  type  \n",
       "0  Uruguay  name  \n",
       "1  Uruguay  name  \n",
       "2  Uruguay  name  \n",
       "3  Uruguay  name  \n",
       "4  Uruguay  name  "
      ]
     },
     "metadata": {},
     "output_type": "display_data"
    },
    {
     "name": "stdout",
     "output_type": "stream",
     "text": [
      "\n",
      "📋 Schéma du dataset:\n"
     ]
    },
    {
     "data": {
      "text/html": [
       "<div>\n",
       "<style scoped>\n",
       "    .dataframe tbody tr th:only-of-type {\n",
       "        vertical-align: middle;\n",
       "    }\n",
       "\n",
       "    .dataframe tbody tr th {\n",
       "        vertical-align: top;\n",
       "    }\n",
       "\n",
       "    .dataframe thead th {\n",
       "        text-align: right;\n",
       "    }\n",
       "</style>\n",
       "<table border=\"1\" class=\"dataframe\">\n",
       "  <thead>\n",
       "    <tr style=\"text-align: right;\">\n",
       "      <th></th>\n",
       "      <th>Colonne</th>\n",
       "      <th>Type</th>\n",
       "      <th>Non-nulls</th>\n",
       "      <th>Nulls</th>\n",
       "      <th>% Nulls</th>\n",
       "    </tr>\n",
       "  </thead>\n",
       "  <tbody>\n",
       "    <tr>\n",
       "      <th>questions</th>\n",
       "      <td>questions</td>\n",
       "      <td>object</td>\n",
       "      <td>1305</td>\n",
       "      <td>0</td>\n",
       "      <td>0.0</td>\n",
       "    </tr>\n",
       "    <tr>\n",
       "      <th>answer</th>\n",
       "      <td>answer</td>\n",
       "      <td>object</td>\n",
       "      <td>1305</td>\n",
       "      <td>0</td>\n",
       "      <td>0.0</td>\n",
       "    </tr>\n",
       "    <tr>\n",
       "      <th>type</th>\n",
       "      <td>type</td>\n",
       "      <td>object</td>\n",
       "      <td>1305</td>\n",
       "      <td>0</td>\n",
       "      <td>0.0</td>\n",
       "    </tr>\n",
       "  </tbody>\n",
       "</table>\n",
       "</div>"
      ],
      "text/plain": [
       "             Colonne    Type  Non-nulls  Nulls  % Nulls\n",
       "questions  questions  object       1305      0      0.0\n",
       "answer        answer  object       1305      0      0.0\n",
       "type            type  object       1305      0      0.0"
      ]
     },
     "metadata": {},
     "output_type": "display_data"
    },
    {
     "name": "stdout",
     "output_type": "stream",
     "text": [
      "\n",
      "🎯 Détection des colonnes pertinentes pour l'axe A:\n",
      "  • factual_cols: ⚠️ Aucune colonne détectée\n",
      "  • prompt_cols: ['questions']\n",
      "  • source_cols: ⚠️ Aucune colonne détectée\n",
      "  • timestamp_cols: ⚠️ Aucune colonne détectée\n"
     ]
    }
   ],
   "source": [
    "if df is not None:\n",
    "    print(\"=\" * 60)\n",
    "    print(\"📊 INSPECTION INITIALE DU DATASET\")\n",
    "    print(\"=\" * 60)\n",
    "    \n",
    "    # Affichage du head\n",
    "    print(\"\\n🔍 Aperçu des premières lignes:\")\n",
    "    display(df.head())\n",
    "    \n",
    "    # Schéma du dataset\n",
    "    print(\"\\n📋 Schéma du dataset:\")\n",
    "    schema_info = pd.DataFrame({\n",
    "        'Colonne': df.columns,\n",
    "        'Type': df.dtypes,\n",
    "        'Non-nulls': df.count(),\n",
    "        'Nulls': df.isnull().sum(),\n",
    "        '% Nulls': (df.isnull().sum() / len(df) * 100).round(2)\n",
    "    })\n",
    "    display(schema_info)\n",
    "    \n",
    "    # Détection automatique des colonnes importantes pour l'axe A\n",
    "    print(\"\\n🎯 Détection des colonnes pertinentes pour l'axe A:\")\n",
    "    factual_keywords = ['fact', 'truth', 'veracity', 'accurate', 'correct', 'label', 'annotation', 'claim']\n",
    "    prompt_keywords = ['prompt', 'text', 'question', 'statement', 'input', 'query']\n",
    "    source_keywords = ['source', 'reference', 'url', 'link', 'citation']\n",
    "    \n",
    "    detected_columns = {\n",
    "        'factual_cols': [],\n",
    "        'prompt_cols': [],\n",
    "        'source_cols': [],\n",
    "        'timestamp_cols': []\n",
    "    }\n",
    "    \n",
    "    for col in df.columns:\n",
    "        col_lower = col.lower()\n",
    "        if any(keyword in col_lower for keyword in factual_keywords):\n",
    "            detected_columns['factual_cols'].append(col)\n",
    "        elif any(keyword in col_lower for keyword in prompt_keywords):\n",
    "            detected_columns['prompt_cols'].append(col)\n",
    "        elif any(keyword in col_lower for keyword in source_keywords):\n",
    "            detected_columns['source_cols'].append(col)\n",
    "        elif 'time' in col_lower or 'date' in col_lower:\n",
    "            detected_columns['timestamp_cols'].append(col)\n",
    "    \n",
    "    for category, cols in detected_columns.items():\n",
    "        if cols:\n",
    "            print(f\"  • {category}: {cols}\")\n",
    "        else:\n",
    "            print(f\"  • {category}: ⚠️ Aucune colonne détectée\")\n",
    "else:\n",
    "    print(\"❌ Impossible de continuer l'analyse sans dataset\")"
   ]
  },
  {
   "cell_type": "markdown",
   "id": "f65e0cb3",
   "metadata": {},
   "source": [
    "## 2. Statistiques Globales\n",
    "\n",
    "Analyse descriptive complète du dataset pour comprendre sa structure et ses caractéristiques générales."
   ]
  },
  {
   "cell_type": "code",
   "execution_count": 5,
   "id": "f2ac1635",
   "metadata": {},
   "outputs": [
    {
     "name": "stdout",
     "output_type": "stream",
     "text": [
      "============================================================\n",
      "📈 STATISTIQUES GLOBALES\n",
      "============================================================\n",
      "📊 Dimensions du dataset:\n",
      "  • Nombre de lignes: 1,305\n",
      "  • Nombre de colonnes: 3\n",
      "  • Cellules totales: 3,915\n",
      "  • Cellules manquantes: 0 (0.00%)\n",
      "\n",
      "🏷️ Distribution des types de données:\n",
      "  • object: 3 colonnes\n",
      "\n",
      "📝 Analyse des colonnes textuelles (3 colonnes):\n"
     ]
    },
    {
     "data": {
      "text/html": [
       "<div>\n",
       "<style scoped>\n",
       "    .dataframe tbody tr th:only-of-type {\n",
       "        vertical-align: middle;\n",
       "    }\n",
       "\n",
       "    .dataframe tbody tr th {\n",
       "        vertical-align: top;\n",
       "    }\n",
       "\n",
       "    .dataframe thead th {\n",
       "        text-align: right;\n",
       "    }\n",
       "</style>\n",
       "<table border=\"1\" class=\"dataframe\">\n",
       "  <thead>\n",
       "    <tr style=\"text-align: right;\">\n",
       "      <th></th>\n",
       "      <th>min_length</th>\n",
       "      <th>max_length</th>\n",
       "      <th>mean_length</th>\n",
       "      <th>median_length</th>\n",
       "      <th>unique_values</th>\n",
       "    </tr>\n",
       "  </thead>\n",
       "  <tbody>\n",
       "    <tr>\n",
       "      <th>questions</th>\n",
       "      <td>48.0</td>\n",
       "      <td>131.0</td>\n",
       "      <td>83.22</td>\n",
       "      <td>81.0</td>\n",
       "      <td>1294.0</td>\n",
       "    </tr>\n",
       "    <tr>\n",
       "      <th>answer</th>\n",
       "      <td>5.0</td>\n",
       "      <td>27.0</td>\n",
       "      <td>9.68</td>\n",
       "      <td>7.0</td>\n",
       "      <td>53.0</td>\n",
       "    </tr>\n",
       "    <tr>\n",
       "      <th>type</th>\n",
       "      <td>4.0</td>\n",
       "      <td>7.0</td>\n",
       "      <td>4.69</td>\n",
       "      <td>4.0</td>\n",
       "      <td>2.0</td>\n",
       "    </tr>\n",
       "  </tbody>\n",
       "</table>\n",
       "</div>"
      ],
      "text/plain": [
       "           min_length  max_length  mean_length  median_length  unique_values\n",
       "questions        48.0       131.0        83.22           81.0         1294.0\n",
       "answer            5.0        27.0         9.68            7.0           53.0\n",
       "type              4.0         7.0         4.69            4.0            2.0"
      ]
     },
     "metadata": {},
     "output_type": "display_data"
    },
    {
     "name": "stdout",
     "output_type": "stream",
     "text": [
      "\n",
      "💾 Utilisation mémoire: 0.34 MB\n"
     ]
    }
   ],
   "source": [
    "if df is not None:\n",
    "    print(\"=\" * 60)\n",
    "    print(\"📈 STATISTIQUES GLOBALES\")\n",
    "    print(\"=\" * 60)\n",
    "    \n",
    "    # Statistiques de base\n",
    "    n_rows, n_cols = df.shape\n",
    "    total_cells = n_rows * n_cols\n",
    "    missing_cells = df.isnull().sum().sum()\n",
    "    missing_percent = (missing_cells / total_cells) * 100\n",
    "    \n",
    "    print(f\"📊 Dimensions du dataset:\")\n",
    "    print(f\"  • Nombre de lignes: {n_rows:,}\")\n",
    "    print(f\"  • Nombre de colonnes: {n_cols}\")\n",
    "    print(f\"  • Cellules totales: {total_cells:,}\")\n",
    "    print(f\"  • Cellules manquantes: {missing_cells:,} ({missing_percent:.2f}%)\")\n",
    "    \n",
    "    # Analyse des types de données\n",
    "    print(f\"\\n🏷️ Distribution des types de données:\")\n",
    "    type_counts = df.dtypes.value_counts()\n",
    "    for dtype, count in type_counts.items():\n",
    "        print(f\"  • {dtype}: {count} colonnes\")\n",
    "    \n",
    "    # Analyse des colonnes textuelles (potentiels prompts)\n",
    "    text_columns = df.select_dtypes(include=['object']).columns.tolist()\n",
    "    if text_columns:\n",
    "        print(f\"\\n📝 Analyse des colonnes textuelles ({len(text_columns)} colonnes):\")\n",
    "        \n",
    "        text_stats = {}\n",
    "        for col in text_columns[:5]:  # Limiter à 5 colonnes pour l'affichage\n",
    "            if df[col].dtype == 'object':\n",
    "                # Calculer statistiques de longueur\n",
    "                lengths = df[col].dropna().astype(str).str.len()\n",
    "                text_stats[col] = {\n",
    "                    'min_length': lengths.min(),\n",
    "                    'max_length': lengths.max(),\n",
    "                    'mean_length': lengths.mean(),\n",
    "                    'median_length': lengths.median(),\n",
    "                    'unique_values': df[col].nunique()\n",
    "                }\n",
    "        \n",
    "        # Afficher sous forme de tableau\n",
    "        if text_stats:\n",
    "            text_df = pd.DataFrame(text_stats).T\n",
    "            display(text_df.round(2))\n",
    "    \n",
    "    # Mémoire utilisée\n",
    "    memory_usage = df.memory_usage(deep=True).sum() / 1024**2  # MB\n",
    "    print(f\"\\n💾 Utilisation mémoire: {memory_usage:.2f} MB\")\n",
    "else:\n",
    "    print(\"❌ Aucun dataset chargé pour l'analyse\")"
   ]
  },
  {
   "cell_type": "markdown",
   "id": "772f68e9",
   "metadata": {},
   "source": [
    "## 4. Analyse du Contenu des Prompts\n",
    "\n",
    "Évaluation de la nature factuelle vs créative des prompts, détection d'entités nommées, et classification des types de prompts."
   ]
  },
  {
   "cell_type": "code",
   "execution_count": 6,
   "id": "6206f91d",
   "metadata": {},
   "outputs": [
    {
     "name": "stdout",
     "output_type": "stream",
     "text": [
      "============================================================\n",
      "📝 ANALYSE DU CONTENU DES PROMPTS\n",
      "============================================================\n",
      "\n",
      "🔍 Analyse de la colonne 'questions':\n",
      "   Analyse sur échantillon de 1000 entrées\n",
      "   📊 Statistiques de longueur:\n",
      "     • Caractères: min=48, max=131, moy=82.7\n",
      "     • Mots: min=9, max=25, moy=15.3\n",
      "   🎯 Classification factuel/créatif (sur 500 textes):\n",
      "     • Factuel: 331 (66.2%)\n",
      "     • Créatif: 0 (0.0%)\n",
      "     • Neutre/Autre: 169 (33.8%)\n",
      "   🏷️ Entités détectées (sur 200 textes):\n",
      "     • Entités nommées potentielles: moy=3.7\n",
      "     • Dates: moy=1.0\n",
      "     • Nombres: moy=1.0\n",
      "   📋 Types de prompts (sur 500 textes):\n",
      "     • Questions: 500 (100.0%)\n",
      "     • Instructions: 368 (73.6%)\n",
      "     • Affirmations: -368\n",
      "   🔗 Facilité extraction triplets:\n",
      "     • Prompts avec indicateurs triplets: 214/500 (42.8%)\n"
     ]
    }
   ],
   "source": [
    "def analyze_prompt_content(df, detected_columns, sample_size=1000):\n",
    "    \"\"\"Analyse le contenu des prompts pour l'axe A\"\"\"\n",
    "    \n",
    "    print(\"=\" * 60)\n",
    "    print(\"📝 ANALYSE DU CONTENU DES PROMPTS\")\n",
    "    print(\"=\" * 60)\n",
    "    \n",
    "    prompt_cols = detected_columns.get('prompt_cols', [])\n",
    "    \n",
    "    # Si aucune colonne prompt détectée, chercher manuellement\n",
    "    if not prompt_cols:\n",
    "        print(\"⚠️ Aucune colonne prompt détectée automatiquement\")\n",
    "        print(\"   Recherche dans les colonnes textuelles...\")\n",
    "        \n",
    "        text_cols = df.select_dtypes(include=['object']).columns.tolist()\n",
    "        for col in text_cols:\n",
    "            avg_length = df[col].dropna().astype(str).str.len().mean()\n",
    "            if avg_length > 50:  # Colonnes avec du texte substantiel\n",
    "                prompt_cols.append(col)\n",
    "        \n",
    "        if prompt_cols:\n",
    "            print(f\"   Colonnes textuelles substantielles trouvées: {prompt_cols}\")\n",
    "        else:\n",
    "            print(\"   ❌ Aucune colonne de texte appropriée trouvée\")\n",
    "            return {}\n",
    "    \n",
    "    analysis_results = {}\n",
    "    \n",
    "    for col in prompt_cols[:3]:  # Analyser max 3 colonnes pour éviter la surcharge\n",
    "        print(f\"\\n🔍 Analyse de la colonne '{col}':\")\n",
    "        \n",
    "        # Échantillonnage si dataset trop grand\n",
    "        if len(df) > sample_size:\n",
    "            sample_df = df.sample(n=sample_size, random_state=RANDOM_SEED)\n",
    "            print(f\"   Analyse sur échantillon de {sample_size} entrées\")\n",
    "        else:\n",
    "            sample_df = df\n",
    "        \n",
    "        texts = sample_df[col].dropna().astype(str).tolist()\n",
    "        if not texts:\n",
    "            print(f\"   ❌ Aucun texte valide dans la colonne {col}\")\n",
    "            continue\n",
    "        \n",
    "        # 1. Statistiques de base\n",
    "        lengths = [len(text) for text in texts]\n",
    "        word_counts = [len(text.split()) for text in texts]\n",
    "        \n",
    "        print(f\"   📊 Statistiques de longueur:\")\n",
    "        print(f\"     • Caractères: min={min(lengths)}, max={max(lengths)}, moy={np.mean(lengths):.1f}\")\n",
    "        print(f\"     • Mots: min={min(word_counts)}, max={max(word_counts)}, moy={np.mean(word_counts):.1f}\")\n",
    "        \n",
    "        # 2. Classification factuel vs créatif (heuristique)\n",
    "        factual_indicators = ['who', 'what', 'when', 'where', 'why', 'how', 'is', 'was', 'are', 'were', \n",
    "                             'true', 'false', 'fact', 'correct', 'according to', 'in reality']\n",
    "        creative_indicators = ['imagine', 'create', 'write a story', 'pretend', 'suppose', 'what if',\n",
    "                              'invent', 'make up', 'fictional', 'story', 'novel', 'poem']\n",
    "        \n",
    "        factual_count = 0\n",
    "        creative_count = 0\n",
    "        \n",
    "        for text in texts[:500]:  # Limiter pour performance\n",
    "            text_lower = text.lower()\n",
    "            if any(indicator in text_lower for indicator in factual_indicators):\n",
    "                factual_count += 1\n",
    "            if any(indicator in text_lower for indicator in creative_indicators):\n",
    "                creative_count += 1\n",
    "        \n",
    "        total_analyzed = min(500, len(texts))\n",
    "        factual_ratio = factual_count / total_analyzed\n",
    "        creative_ratio = creative_count / total_analyzed\n",
    "        \n",
    "        print(f\"   🎯 Classification factuel/créatif (sur {total_analyzed} textes):\")\n",
    "        print(f\"     • Factuel: {factual_count} ({factual_ratio*100:.1f}%)\")\n",
    "        print(f\"     • Créatif: {creative_count} ({creative_ratio*100:.1f}%)\")\n",
    "        print(f\"     • Neutre/Autre: {total_analyzed - factual_count - creative_count} ({(1-factual_ratio-creative_ratio)*100:.1f}%)\")\n",
    "        \n",
    "        # 3. Détection d'entités nommées (simple)\n",
    "        def count_named_entities_simple(text):\n",
    "            \"\"\"Compte simple des entités nommées potentielles\"\"\"\n",
    "            # Mots commençant par une majuscule (heuristique simple)\n",
    "            words = re.findall(r'\\b[A-Z][a-z]+\\b', text)\n",
    "            # Dates\n",
    "            dates = re.findall(r'\\b\\d{1,2}[/-]\\d{1,2}[/-]\\d{2,4}\\b|\\b\\d{4}\\b', text)\n",
    "            # Nombres\n",
    "            numbers = re.findall(r'\\b\\d+\\b', text)\n",
    "            return len(set(words)), len(dates), len(numbers)\n",
    "        \n",
    "        entity_counts = []\n",
    "        date_counts = []\n",
    "        number_counts = []\n",
    "        \n",
    "        for text in texts[:200]:  # Échantillon pour performance\n",
    "            ent, dates, nums = count_named_entities_simple(text)\n",
    "            entity_counts.append(ent)\n",
    "            date_counts.append(dates)\n",
    "            number_counts.append(nums)\n",
    "        \n",
    "        print(f\"   🏷️ Entités détectées (sur {min(200, len(texts))} textes):\")\n",
    "        print(f\"     • Entités nommées potentielles: moy={np.mean(entity_counts):.1f}\")\n",
    "        print(f\"     • Dates: moy={np.mean(date_counts):.1f}\")\n",
    "        print(f\"     • Nombres: moy={np.mean(number_counts):.1f}\")\n",
    "        \n",
    "        # 4. Type de prompt (question/affirmation/instruction)\n",
    "        question_count = sum(1 for text in texts[:500] if '?' in text)\n",
    "        imperative_indicators = ['tell me', 'explain', 'describe', 'list', 'show', 'give me', 'provide']\n",
    "        imperative_count = sum(1 for text in texts[:500] \n",
    "                              if any(ind in text.lower() for ind in imperative_indicators))\n",
    "        \n",
    "        print(f\"   📋 Types de prompts (sur {min(500, len(texts))} textes):\")\n",
    "        print(f\"     • Questions: {question_count} ({question_count/min(500, len(texts))*100:.1f}%)\")\n",
    "        print(f\"     • Instructions: {imperative_count} ({imperative_count/min(500, len(texts))*100:.1f}%)\")\n",
    "        print(f\"     • Affirmations: {min(500, len(texts)) - question_count - imperative_count}\")\n",
    "        \n",
    "        # 5. Facilité d'extraction de triplets (heuristique)\n",
    "        triplet_indicators = ['is', 'was', 'are', 'were', 'has', 'have', 'had', 'born in', 'located in',\n",
    "                             'capital of', 'invented by', 'wrote', 'directed', 'founded']\n",
    "        triplet_friendly = sum(1 for text in texts[:500] \n",
    "                              if any(ind in text.lower() for ind in triplet_indicators))\n",
    "        \n",
    "        print(f\"   🔗 Facilité extraction triplets:\")\n",
    "        print(f\"     • Prompts avec indicateurs triplets: {triplet_friendly}/{min(500, len(texts))} ({triplet_friendly/min(500, len(texts))*100:.1f}%)\")\n",
    "        \n",
    "        # Stocker les résultats\n",
    "        analysis_results[col] = {\n",
    "            'avg_length': np.mean(lengths),\n",
    "            'avg_words': np.mean(word_counts),\n",
    "            'factual_ratio': factual_ratio,\n",
    "            'creative_ratio': creative_ratio,\n",
    "            'avg_entities': np.mean(entity_counts),\n",
    "            'question_ratio': question_count / min(500, len(texts)),\n",
    "            'imperative_ratio': imperative_count / min(500, len(texts)),\n",
    "            'triplet_ratio': triplet_friendly / min(500, len(texts))\n",
    "        }\n",
    "    \n",
    "    return analysis_results\n",
    "\n",
    "if df is not None and 'detected_columns' in locals():\n",
    "    content_analysis = analyze_prompt_content(df, detected_columns, SAMPLE_SIZE)\n",
    "else:\n",
    "    print(\"❌ Impossible d'analyser le contenu sans dataset\")"
   ]
  },
  {
   "cell_type": "markdown",
   "id": "4bad025d",
   "metadata": {},
   "source": [
    "## 8. Exemples de Prompts Exploitables\n",
    "\n",
    "Sélection d'exemples représentatifs du dataset avec leurs annotations pour illustrer l'exploitabilité pour l'axe A."
   ]
  },
  {
   "cell_type": "code",
   "execution_count": 7,
   "id": "8c817b58",
   "metadata": {},
   "outputs": [
    {
     "name": "stdout",
     "output_type": "stream",
     "text": [
      "============================================================\n",
      "💎 EXEMPLES DE PROMPTS BIEN EXPLOITABLES\n",
      "============================================================\n",
      "🔍 Sélection des 3 meilleurs exemples parmi 1000 analysés:\n",
      "\n",
      "📋 EXEMPLE 1 (Score: 7/10)\n",
      "   Index: 1172\n",
      "   Prompt: \" How many spectators were present at the final match of the 1990 FIFA World Cup?(Give me the exact number only)\"\n",
      "   Annotations:\n",
      "     • answer: 73,603\n",
      "     • type: numeric\n",
      "   Analyse: Entités: How, World, Cup... | Type: Question | Potentiel factuel: Modéré\n",
      "\n",
      "📋 EXEMPLE 2 (Score: 7/10)\n",
      "   Index: 514\n",
      "   Prompt: \" In the 1986 FIFA World Cup, which nation was the second-best team?(Give me the name only)\"\n",
      "   Annotations:\n",
      "     • answer: West Germany\n",
      "     • type: name\n",
      "   Analyse: Entités: In, World, Cup... | Type: Question | Potentiel factuel: Modéré\n",
      "\n",
      "📋 EXEMPLE 3 (Score: 7/10)\n",
      "   Index: 977\n",
      "   Prompt: \" What stadium was the 2022 FIFA World Cup final held in?\"\n",
      "   Annotations:\n",
      "     • answer: Lusail Stadium\n",
      "     • type: name\n",
      "   Analyse: Entités: What, World, Cup | Type: Question | Potentiel factuel: Modéré\n",
      "\n",
      "💡 RECOMMANDATIONS D'UTILISATION:\n",
      "   • Ces exemples sont particulièrement adaptés pour l'évaluation de l'exactitude\n",
      "   • Ils contiennent des éléments factuels vérifiables\n",
      "   • La présence d'entités nommées facilite le fact-checking\n",
      "   • ✅ Qualité globale satisfaisante pour l'axe A\n"
     ]
    }
   ],
   "source": [
    "def extract_exploitable_examples(df, detected_columns, n_examples=5):\n",
    "    \"\"\"Extrait les meilleurs exemples exploitables pour l'axe A\"\"\"\n",
    "    \n",
    "    print(\"=\" * 60)\n",
    "    print(\"💎 EXEMPLES DE PROMPTS BIEN EXPLOITABLES\")\n",
    "    print(\"=\" * 60)\n",
    "    \n",
    "    prompt_cols = detected_columns.get('prompt_cols', [])\n",
    "    factual_cols = detected_columns.get('factual_cols', [])\n",
    "    source_cols = detected_columns.get('source_cols', [])\n",
    "    \n",
    "    if not prompt_cols:\n",
    "        # Recherche manuelle de colonnes textuelles\n",
    "        text_cols = df.select_dtypes(include=['object']).columns.tolist()\n",
    "        for col in text_cols:\n",
    "            avg_length = df[col].dropna().astype(str).str.len().mean()\n",
    "            if avg_length > 50:\n",
    "                prompt_cols.append(col)\n",
    "                break\n",
    "    \n",
    "    if not prompt_cols:\n",
    "        print(\"❌ Aucune colonne de prompt identifiée\")\n",
    "        return\n",
    "    \n",
    "    main_prompt_col = prompt_cols[0]\n",
    "    \n",
    "    # Critères de sélection pour les meilleurs exemples\n",
    "    df_filtered = df.dropna(subset=[main_prompt_col])\n",
    "    \n",
    "    # Calculer un score de qualité pour chaque exemple\n",
    "    def calculate_example_score(row):\n",
    "        text = str(row[main_prompt_col])\n",
    "        score = 0\n",
    "        \n",
    "        # Longueur appropriée (50-300 caractères)\n",
    "        length = len(text)\n",
    "        if 50 <= length <= 300:\n",
    "            score += 2\n",
    "        elif length > 300:\n",
    "            score += 1\n",
    "        \n",
    "        # Contenu factuel (indicateurs simples)\n",
    "        factual_indicators = ['who', 'what', 'when', 'where', 'why', 'how', 'is', 'was', 'true', 'false']\n",
    "        if any(indicator in text.lower() for indicator in factual_indicators):\n",
    "            score += 2\n",
    "        \n",
    "        # Entités nommées (mots avec majuscules)\n",
    "        entities = len(re.findall(r'\\b[A-Z][a-z]+\\b', text))\n",
    "        if entities >= 2:\n",
    "            score += 2\n",
    "        elif entities >= 1:\n",
    "            score += 1\n",
    "        \n",
    "        # Questions vs affirmations\n",
    "        if '?' in text:\n",
    "            score += 1\n",
    "        \n",
    "        # A des annotations factuelles\n",
    "        if factual_cols:\n",
    "            for fcol in factual_cols:\n",
    "                if fcol in row and pd.notna(row[fcol]):\n",
    "                    score += 3\n",
    "                    break\n",
    "        \n",
    "        # A des sources\n",
    "        if source_cols:\n",
    "            for scol in source_cols:\n",
    "                if scol in row and pd.notna(row[scol]):\n",
    "                    score += 2\n",
    "                    break\n",
    "        \n",
    "        return score\n",
    "    \n",
    "    # Calculer les scores\n",
    "    if len(df_filtered) > 1000:  # Échantillonner si trop grand\n",
    "        sample_df = df_filtered.sample(n=1000, random_state=RANDOM_SEED)\n",
    "    else:\n",
    "        sample_df = df_filtered\n",
    "    \n",
    "    sample_df = sample_df.copy()\n",
    "    sample_df['quality_score'] = sample_df.apply(calculate_example_score, axis=1)\n",
    "    \n",
    "    # Trier par score et prendre les meilleurs\n",
    "    best_examples = sample_df.nlargest(n_examples, 'quality_score')\n",
    "    \n",
    "    print(f\"🔍 Sélection des {len(best_examples)} meilleurs exemples parmi {len(sample_df)} analysés:\\n\")\n",
    "    \n",
    "    for i, (idx, row) in enumerate(best_examples.iterrows(), 1):\n",
    "        print(f\"📋 EXEMPLE {i} (Score: {row['quality_score']}/10)\")\n",
    "        print(f\"   Index: {idx}\")\n",
    "        \n",
    "        # Afficher le prompt\n",
    "        prompt_text = str(row[main_prompt_col])\n",
    "        if len(prompt_text) > 200:\n",
    "            prompt_display = prompt_text[:200] + \"...\"\n",
    "        else:\n",
    "            prompt_display = prompt_text\n",
    "        print(f\"   Prompt: \\\"{prompt_display}\\\"\")\n",
    "        \n",
    "        # Afficher les annotations si disponibles\n",
    "        annotations = {}\n",
    "        \n",
    "        if factual_cols:\n",
    "            for col in factual_cols:\n",
    "                if col in row and pd.notna(row[col]):\n",
    "                    annotations[f\"Label ({col})\"] = row[col]\n",
    "        \n",
    "        if source_cols:\n",
    "            for col in source_cols:\n",
    "                if col in row and pd.notna(row[col]):\n",
    "                    source_val = str(row[col])\n",
    "                    if len(source_val) > 100:\n",
    "                        source_val = source_val[:100] + \"...\"\n",
    "                    annotations[f\"Source ({col})\"] = source_val\n",
    "        \n",
    "        # Autres colonnes intéressantes\n",
    "        for col in df.columns:\n",
    "            if (col not in [main_prompt_col] + factual_cols + source_cols and \n",
    "                col not in ['quality_score'] and\n",
    "                pd.notna(row[col]) and len(annotations) < 5):\n",
    "                val = str(row[col])\n",
    "                if len(val) <= 50:  # Seulement les valeurs courtes\n",
    "                    annotations[col] = val\n",
    "        \n",
    "        if annotations:\n",
    "            print(f\"   Annotations:\")\n",
    "            for key, value in annotations.items():\n",
    "                print(f\"     • {key}: {value}\")\n",
    "        else:\n",
    "            print(f\"   Annotations: Aucune annotation détectée\")\n",
    "        \n",
    "        # Analyse rapide\n",
    "        analysis_points = []\n",
    "        \n",
    "        # Entités détectées\n",
    "        entities = re.findall(r'\\b[A-Z][a-z]+\\b', prompt_text)\n",
    "        if entities:\n",
    "            analysis_points.append(f\"Entités: {', '.join(entities[:3])}{'...' if len(entities) > 3 else ''}\")\n",
    "        \n",
    "        # Type de prompt\n",
    "        if '?' in prompt_text:\n",
    "            analysis_points.append(\"Type: Question\")\n",
    "        elif any(word in prompt_text.lower() for word in ['tell me', 'explain', 'describe']):\n",
    "            analysis_points.append(\"Type: Instruction\")\n",
    "        else:\n",
    "            analysis_points.append(\"Type: Affirmation\")\n",
    "        \n",
    "        # Potentiel factuel\n",
    "        factual_words = ['fact', 'true', 'false', 'correct', 'when', 'where', 'who']\n",
    "        if any(word in prompt_text.lower() for word in factual_words):\n",
    "            analysis_points.append(\"Potentiel factuel: Élevé\")\n",
    "        else:\n",
    "            analysis_points.append(\"Potentiel factuel: Modéré\")\n",
    "        \n",
    "        if analysis_points:\n",
    "            print(f\"   Analyse: {' | '.join(analysis_points)}\")\n",
    "        \n",
    "        print()  # Ligne vide entre les exemples\n",
    "    \n",
    "    # Recommandations d'utilisation\n",
    "    print(\"💡 RECOMMANDATIONS D'UTILISATION:\")\n",
    "    print(\"   • Ces exemples sont particulièrement adaptés pour l'évaluation de l'exactitude\")\n",
    "    print(\"   • Ils contiennent des éléments factuels vérifiables\")\n",
    "    print(\"   • La présence d'entités nommées facilite le fact-checking\")\n",
    "    if best_examples['quality_score'].mean() >= 6:\n",
    "        print(\"   • ✅ Qualité globale satisfaisante pour l'axe A\")\n",
    "    else:\n",
    "        print(\"   • ⚠️ Qualité perfectible - considérer un préprocessing\")\n",
    "\n",
    "if df is not None and 'detected_columns' in locals():\n",
    "    extract_exploitable_examples(df, detected_columns, n_examples=3)\n",
    "else:\n",
    "    print(\"❌ Impossible d'extraire les exemples sans dataset\")"
   ]
  },
  {
   "cell_type": "code",
   "execution_count": 8,
   "id": "e0208de4",
   "metadata": {},
   "outputs": [
    {
     "name": "stdout",
     "output_type": "stream",
     "text": [
      "🔍 Détection des langues (échantillon de 500 entrées)...\n",
      "\n",
      "📊 Distribution des langues:\n",
      "  • Questions:\n",
      "    - en: 500 (100.0%)\n",
      "  • Réponses:\n",
      "    - unknown: 106 (21.2%)\n",
      "    - de: 72 (14.4%)\n",
      "    - tl: 49 (9.8%)\n",
      "    - hr: 35 (7.0%)\n",
      "    - es: 31 (6.2%)\n",
      "    - id: 30 (6.0%)\n",
      "    - pt: 29 (5.8%)\n",
      "    - fr: 27 (5.4%)\n",
      "    - en: 26 (5.2%)\n",
      "    - sk: 18 (3.6%)\n",
      "    - nl: 16 (3.2%)\n",
      "    - it: 15 (3.0%)\n",
      "    - sw: 13 (2.6%)\n",
      "    - fi: 9 (1.8%)\n",
      "    - et: 8 (1.6%)\n",
      "    - af: 6 (1.2%)\n",
      "    - sl: 6 (1.2%)\n",
      "    - ro: 4 (0.8%)\n"
     ]
    },
    {
     "data": {
      "image/png": "[encoded data removed]",
      "text/plain": [
       "<Figure size 1200x600 with 2 Axes>"
      ]
     },
     "metadata": {},
     "output_type": "display_data"
    },
    {
     "name": "stdout",
     "output_type": "stream",
     "text": [
      "\n",
      "💡 Analyse des langues:\n",
      "  • Langue principale des questions: en\n",
      "  • Langue principale des réponses: unknown\n",
      "  • ⚠️ Dataset multilingue détecté - considérer filtrage/segmentation par langue\n"
     ]
    }
   ],
   "source": [
    "import langdetect\n",
    "import langdetect\n",
    "from langdetect import detect, LangDetectException\n",
    "from collections import Counter\n",
    "import seaborn as sns\n",
    "\n",
    "# Installer langdetect si nécessaire\n",
    "\n",
    "import matplotlib.pyplot as plt\n",
    "\n",
    "# Configuration pour la détection de langue\n",
    "langdetect.DetectorFactory.seed = RANDOM_SEED  # Pour la reproductibilité\n",
    "\n",
    "def detect_language(text):\n",
    "    \"\"\"Détecte la langue d'un texte avec gestion d'erreur\"\"\"\n",
    "    try:\n",
    "        if pd.isna(text) or text.strip() == '':\n",
    "            return 'unknown'\n",
    "        return detect(text)\n",
    "    except LangDetectException:\n",
    "        return 'unknown'\n",
    "\n",
    "# Échantillonnage pour performance (sur grands datasets)\n",
    "sample_size = min(500, len(df))\n",
    "df_sample = df.sample(n=sample_size, random_state=RANDOM_SEED)\n",
    "\n",
    "# Détecter les langues\n",
    "print(\"🔍 Détection des langues (échantillon de\", sample_size, \"entrées)...\")\n",
    "\n",
    "# Analyser les questions\n",
    "question_languages = [detect_language(str(text)) for text in df_sample['questions']]\n",
    "question_lang_counts = Counter(question_languages)\n",
    "\n",
    "# Analyser les réponses\n",
    "answer_languages = [detect_language(str(text)) for text in df_sample['answer']]\n",
    "answer_lang_counts = Counter(answer_languages)\n",
    "\n",
    "# Afficher les résultats\n",
    "print(\"\\n📊 Distribution des langues:\")\n",
    "print(\"  • Questions:\")\n",
    "for lang, count in question_lang_counts.most_common():\n",
    "    percentage = (count / sample_size) * 100\n",
    "    print(f\"    - {lang}: {count} ({percentage:.1f}%)\")\n",
    "\n",
    "print(\"  • Réponses:\")\n",
    "for lang, count in answer_lang_counts.most_common():\n",
    "    percentage = (count / sample_size) * 100\n",
    "    print(f\"    - {lang}: {count} ({percentage:.1f}%)\")\n",
    "\n",
    "# Visualisation\n",
    "plt.figure(figsize=(12, 6))\n",
    "\n",
    "plt.subplot(1, 2, 1)\n",
    "lang_df = pd.DataFrame({'langue': question_lang_counts.keys(), \n",
    "                       'count': question_lang_counts.values()})\n",
    "sns.barplot(x='langue', y='count', data=lang_df.sort_values('count', ascending=False))\n",
    "plt.title('Langues détectées - Questions')\n",
    "plt.xticks(rotation=45)\n",
    "\n",
    "plt.subplot(1, 2, 2)\n",
    "lang_df = pd.DataFrame({'langue': answer_lang_counts.keys(), \n",
    "                       'count': answer_lang_counts.values()})\n",
    "sns.barplot(x='langue', y='count', data=lang_df.sort_values('count', ascending=False))\n",
    "plt.title('Langues détectées - Réponses')\n",
    "plt.xticks(rotation=45)\n",
    "\n",
    "plt.tight_layout()\n",
    "plt.show()\n",
    "\n",
    "print(\"\\n💡 Analyse des langues:\")\n",
    "main_q_lang = question_lang_counts.most_common(1)[0][0]\n",
    "main_a_lang = answer_lang_counts.most_common(1)[0][0]\n",
    "print(f\"  • Langue principale des questions: {main_q_lang}\")\n",
    "print(f\"  • Langue principale des réponses: {main_a_lang}\")\n",
    "\n",
    "if len(question_lang_counts) > 1 or len(answer_lang_counts) > 1:\n",
    "    print(\"  • ⚠️ Dataset multilingue détecté - considérer filtrage/segmentation par langue\")\n",
    "else:\n",
    "    print(\"  • ✅ Dataset monolingue\")"
   ]
  },
  {
   "cell_type": "code",
   "execution_count": 9,
   "id": "4207eb5e",
   "metadata": {},
   "outputs": [
    {
     "name": "stdout",
     "output_type": "stream",
     "text": [
      "📚 EXEMPLES DE RÉPONSES PAR LANGUE\n",
      "================================================================================\n",
      "🌐 Langue: it\n",
      "   Question:  Which stadium was the site of the final game of the 1990 FIFA World Cup?\n",
      "   Réponse: Stadio Olimpico\n",
      "   Type: name\n",
      "--------------------------------------------------------------------------------\n",
      "🌐 Langue: tl\n",
      "   Question:  Which nation secured the second position in the 1938 FIFA World Cup?(Give me the name only)\n",
      "   Réponse: Hungary\n",
      "   Type: name\n",
      "--------------------------------------------------------------------------------\n",
      "🌐 Langue: sl\n",
      "   Question:  In what stadium was the 2018 FIFA World Cup final event held?\n",
      "   Réponse: Luzhniki Stadium\n",
      "   Type: name\n",
      "--------------------------------------------------------------------------------\n",
      "🌐 Langue: id\n",
      "   Question:  Which stadium hosted the 1958 FIFA World Cup final?\n",
      "   Réponse: Råsunda Stadium\n",
      "   Type: name\n",
      "--------------------------------------------------------------------------------\n",
      "🌐 Langue: ro\n",
      "   Question:  Which nation secured the second position in the 2018 FIFA World Cup?(Give me the name only)\n",
      "   Réponse: Croatia\n",
      "   Type: name\n",
      "--------------------------------------------------------------------------------\n",
      "🌐 Langue: es\n",
      "   Question:  Which stadium served as the location for the final match of the 1986 FIFA World Cup?\n",
      "   Réponse: Estadio Azteca\n",
      "   Type: name\n",
      "--------------------------------------------------------------------------------\n",
      "🌐 Langue: nl\n",
      "   Question:  Which nation secured the second position in the 1978 FIFA World Cup?(Give me the name only)\n",
      "   Réponse: Netherlands\n",
      "   Type: name\n",
      "--------------------------------------------------------------------------------\n",
      "🌐 Langue: af\n",
      "   Question:  Who was the second-place finisher in the 1958 FIFA World Cup?(Give me the name only)\n",
      "   Réponse: Sweden\n",
      "   Type: name\n",
      "--------------------------------------------------------------------------------\n",
      "🌐 Langue: sw\n",
      "   Question:  Which country secured the championship in the 1950 FIFA World Cup?(Give me the name only)\n",
      "   Réponse: Uruguay\n",
      "   Type: name\n",
      "--------------------------------------------------------------------------------\n",
      "🌐 Langue: de\n",
      "   Question:  In the 1986 FIFA World Cup, which nation was the second-best team?(Give me the name only)\n",
      "   Réponse: West Germany\n",
      "   Type: name\n",
      "--------------------------------------------------------------------------------\n",
      "🌐 Langue: fr\n",
      "   Question:  Which country secured the championship in the 2018 FIFA World Cup?(Give me the name only)\n",
      "   Réponse: France\n",
      "   Type: name\n",
      "--------------------------------------------------------------------------------\n",
      "🌐 Langue: sk\n",
      "   Question:  Which nation was the runner-up in the 1962 FIFA World Cup?(Give me the name only)\n",
      "   Réponse: Czechoslovakia\n",
      "   Type: name\n",
      "--------------------------------------------------------------------------------\n",
      "🌐 Langue: hr\n",
      "   Question:  Which team won the 2002 FIFA World Cup?(Give me the name only)\n",
      "   Réponse: Brazil\n",
      "   Type: name\n",
      "--------------------------------------------------------------------------------\n",
      "🌐 Langue: en\n",
      "   Question:  In which stadium did the 1994 FIFA World Cup final occur?\n",
      "   Réponse: Rose Bowl\n",
      "   Type: name\n",
      "--------------------------------------------------------------------------------\n",
      "🌐 Langue: fi\n",
      "   Question:  Which stadium was the site of the final game of the 1974 FIFA World Cup?\n",
      "   Réponse: Olympiastadion\n",
      "   Type: name\n",
      "--------------------------------------------------------------------------------\n",
      "🌐 Langue: et\n",
      "   Question:  What stadium was the 2022 FIFA World Cup final held in?\n",
      "   Réponse: Lusail Stadium\n",
      "   Type: name\n",
      "--------------------------------------------------------------------------------\n",
      "🌐 Langue: pt\n",
      "   Question:  What stadium was the venue for the 1950 FIFA World Cup final?\n",
      "   Réponse: Maracanã Stadium\n",
      "   Type: name\n",
      "--------------------------------------------------------------------------------\n"
     ]
    }
   ],
   "source": [
    "def display_language_examples(df_sample, answer_languages):\n",
    "    \"\"\"\n",
    "    Display an example of each language detected in the dataset\n",
    "    \"\"\"\n",
    "    # Get unique languages\n",
    "    unique_langs = list(set(answer_languages))\n",
    "    \n",
    "    # Create a DataFrame with language info\n",
    "    df_with_langs = df_sample.copy()\n",
    "    df_with_langs['detected_lang'] = answer_languages\n",
    "    \n",
    "    # Find example for each language\n",
    "    examples = {}\n",
    "    for lang in unique_langs:\n",
    "        if lang == 'unknown':\n",
    "            continue  # Skip unknown language\n",
    "            \n",
    "        # Get first example of this language\n",
    "        example = df_with_langs[df_with_langs['detected_lang'] == lang].iloc[0]\n",
    "        examples[lang] = {\n",
    "            'question': example['questions'],\n",
    "            'answer': example['answer'],\n",
    "            'type': example['type']\n",
    "        }\n",
    "    \n",
    "    # Display examples\n",
    "    print(f\"📚 EXEMPLES DE RÉPONSES PAR LANGUE\")\n",
    "    print(\"=\" * 80)\n",
    "    \n",
    "    for lang, example in examples.items():\n",
    "        print(f\"🌐 Langue: {lang}\")\n",
    "        print(f\"   Question: {example['question'][:100]}...\" if len(example['question']) > 100 else f\"   Question: {example['question']}\")\n",
    "        print(f\"   Réponse: {example['answer']}\")\n",
    "        print(f\"   Type: {example['type']}\")\n",
    "        print(\"-\" * 80)\n",
    "    \n",
    "    return examples\n",
    "\n",
    "# Display examples of each language\n",
    "language_examples = display_language_examples(df_sample, answer_languages)"
   ]
  },
  {
   "cell_type": "code",
   "execution_count": 10,
   "id": "339952bb",
   "metadata": {},
   "outputs": [
    {
     "name": "stdout",
     "output_type": "stream",
     "text": [
      "============================================================\n",
      "🔄 ANALYSE DES RÉPONSES IDENTIQUES\n",
      "============================================================\n",
      "📊 STATISTIQUES GÉNÉRALES:\n",
      "  • Total des réponses: 1,305\n",
      "  • Réponses uniques: 53 (4.1%)\n",
      "  • Réponses dupliquées: 53 réponses distinctes\n",
      "  • Instances de duplication: 1,305 (100.0%)\n",
      "  • Ratio de diversité: 0.041\n",
      "\n",
      "📈 DISTRIBUTION DES DUPLICATIONS:\n",
      "  • 11-20 fois: 39 réponses distinctes\n",
      "  • 21+ fois: 14 réponses distinctes\n",
      "\n",
      "🏆 TOP 10 DES RÉPONSES LES PLUS FRÉQUENTES:\n",
      "   1. \"brazil\" - 105 fois (8.05%)\n",
      "   2. \"west germany\" - 90 fois (6.90%)\n",
      "   3. \"italy\" - 90 fois (6.90%)\n",
      "   4. \"argentina\" - 90 fois (6.90%)\n",
      "   5. \"france\" - 60 fois (4.60%)\n",
      "   6. \"netherlands\" - 45 fois (3.45%)\n",
      "   7. \"uruguay\" - 30 fois (2.30%)\n",
      "   8. \"hungary\" - 30 fois (2.30%)\n",
      "   9. \"germany\" - 30 fois (2.30%)\n",
      "  10. \"maracanã stadium\" - 30 fois (2.30%)\n",
      "\n",
      "🏷️ DUPLICATIONS PAR TYPE DE RÉPONSE:\n",
      "  • Type 'name':\n",
      "    - Total: 1005\n",
      "    - Uniques: 33 (3.3%)\n",
      "    - Dupliquées: 33 réponses distinctes\n",
      "    - Top duplications:\n",
      "      1. \"brazil\" - 105 fois\n",
      "      2. \"west germany\" - 90 fois\n",
      "      3. \"italy\" - 90 fois\n",
      "  • Type 'numeric':\n",
      "    - Total: 300\n",
      "    - Uniques: 20 (6.7%)\n",
      "    - Dupliquées: 20 réponses distinctes\n",
      "    - Top duplications:\n",
      "      1. \"45,000\" - 15 fois\n",
      "      2. \"173,850\" - 15 fois\n",
      "      3. \"62,500\" - 15 fois\n",
      "\n",
      "📊 Visualisations des duplications:\n"
     ]
    },
    {
     "data": {
      "image/png": "[encoded data removed]",
      "text/plain": [
       "<Figure size 1500x1000 with 6 Axes>"
      ]
     },
     "metadata": {},
     "output_type": "display_data"
    },
    {
     "name": "stdout",
     "output_type": "stream",
     "text": [
      "\n",
      "💡 IMPACT SUR LA QUALITÉ POUR L'AXE A:\n",
      "  • ⚠️ Diversité faible (score: 0.041)\n",
      "  • Recommandations:\n",
      "    - Considérer le filtrage des réponses très fréquentes\n",
      "    - Analyser si les réponses fréquentes sont des artefacts\n"
     ]
    }
   ],
   "source": [
    "def analyze_duplicate_answers(df):\n",
    "    \"\"\"Analyse la présence de réponses identiques dans le dataset DefAnD\"\"\"\n",
    "    \n",
    "    print(\"=\" * 60)\n",
    "    print(\"🔄 ANALYSE DES RÉPONSES IDENTIQUES\")\n",
    "    print(\"=\" * 60)\n",
    "    \n",
    "    if df is None or 'answer' not in df.columns:\n",
    "        print(\"❌ Dataset ou colonne 'answer' non disponible\")\n",
    "        return {}\n",
    "    \n",
    "    # Nettoyage des réponses pour l'analyse\n",
    "    answers = df['answer'].dropna().astype(str).str.strip().str.lower()\n",
    "    total_answers = len(answers)\n",
    "    \n",
    "    # Compter les occurrences de chaque réponse\n",
    "    answer_counts = answers.value_counts()\n",
    "    \n",
    "    # Statistiques générales\n",
    "    unique_answers = len(answer_counts)\n",
    "    duplicate_answers = answer_counts[answer_counts > 1]\n",
    "    n_duplicates = len(duplicate_answers)\n",
    "    total_duplicate_instances = duplicate_answers.sum()\n",
    "    \n",
    "    print(f\"📊 STATISTIQUES GÉNÉRALES:\")\n",
    "    print(f\"  • Total des réponses: {total_answers:,}\")\n",
    "    print(f\"  • Réponses uniques: {unique_answers:,} ({unique_answers/total_answers*100:.1f}%)\")\n",
    "    print(f\"  • Réponses dupliquées: {n_duplicates:,} réponses distinctes\")\n",
    "    print(f\"  • Instances de duplication: {total_duplicate_instances:,} ({total_duplicate_instances/total_answers*100:.1f}%)\")\n",
    "    print(f\"  • Ratio de diversité: {unique_answers/total_answers:.3f}\")\n",
    "    \n",
    "    # Analyse par fréquence de duplication\n",
    "    print(f\"\\n📈 DISTRIBUTION DES DUPLICATIONS:\")\n",
    "    duplication_ranges = {\n",
    "        '2 fois': (2, 2),\n",
    "        '3-5 fois': (3, 5),\n",
    "        '6-10 fois': (6, 10),\n",
    "        '11-20 fois': (11, 20),\n",
    "        '21+ fois': (21, float('inf'))\n",
    "    }\n",
    "    \n",
    "    for range_name, (min_val, max_val) in duplication_ranges.items():\n",
    "        if max_val == float('inf'):\n",
    "            count = len(duplicate_answers[duplicate_answers >= min_val])\n",
    "        else:\n",
    "            count = len(duplicate_answers[(duplicate_answers >= min_val) & (duplicate_answers <= max_val)])\n",
    "        if count > 0:\n",
    "            print(f\"  • {range_name}: {count} réponses distinctes\")\n",
    "    \n",
    "    # Top des réponses les plus fréquentes\n",
    "    print(f\"\\n🏆 TOP 10 DES RÉPONSES LES PLUS FRÉQUENTES:\")\n",
    "    for i, (answer, count) in enumerate(answer_counts.head(10).items(), 1):\n",
    "        percentage = (count / total_answers) * 100\n",
    "        # Limiter l'affichage de la réponse\n",
    "        display_answer = answer[:50] + \"...\" if len(answer) > 50 else answer\n",
    "        print(f\"  {i:2d}. \\\"{display_answer}\\\" - {count} fois ({percentage:.2f}%)\")\n",
    "    \n",
    "    # Analyse par type de réponse si disponible\n",
    "    if 'type' in df.columns:\n",
    "        print(f\"\\n🏷️ DUPLICATIONS PAR TYPE DE RÉPONSE:\")\n",
    "        for response_type in df['type'].unique():\n",
    "            if pd.notna(response_type):\n",
    "                type_answers = df[df['type'] == response_type]['answer'].dropna().astype(str).str.strip().str.lower()\n",
    "                type_counts = type_answers.value_counts()\n",
    "                type_duplicates = type_counts[type_counts > 1]\n",
    "                \n",
    "                print(f\"  • Type '{response_type}':\")\n",
    "                print(f\"    - Total: {len(type_answers)}\")\n",
    "                print(f\"    - Uniques: {len(type_counts)} ({len(type_counts)/len(type_answers)*100:.1f}%)\")\n",
    "                print(f\"    - Dupliquées: {len(type_duplicates)} réponses distinctes\")\n",
    "                \n",
    "                # Top 3 pour ce type\n",
    "                if len(type_duplicates) > 0:\n",
    "                    print(f\"    - Top duplications:\")\n",
    "                    for j, (answer, count) in enumerate(type_duplicates.head(3).items(), 1):\n",
    "                        display_answer = answer[:30] + \"...\" if len(answer) > 30 else answer\n",
    "                        print(f\"      {j}. \\\"{display_answer}\\\" - {count} fois\")\n",
    "    \n",
    "    # Visualisation des duplications\n",
    "    create_duplication_visualizations(answer_counts, df)\n",
    "    \n",
    "    # Analyse d'impact sur la qualité\n",
    "    print(f\"\\n💡 IMPACT SUR LA QUALITÉ POUR L'AXE A:\")\n",
    "    \n",
    "    diversity_score = unique_answers / total_answers\n",
    "    if diversity_score >= 0.8:\n",
    "        quality_assessment = \"✅ Excellente diversité\"\n",
    "    elif diversity_score >= 0.6:\n",
    "        quality_assessment = \"🟡 Diversité acceptable\"\n",
    "    else:\n",
    "        quality_assessment = \"⚠️ Diversité faible\"\n",
    "    \n",
    "    print(f\"  • {quality_assessment} (score: {diversity_score:.3f})\")\n",
    "    \n",
    "    # Recommandations\n",
    "    recommendations = []\n",
    "    if diversity_score < 0.7:\n",
    "        recommendations.append(\"Considérer le filtrage des réponses très fréquentes\")\n",
    "    if n_duplicates > total_answers * 0.3:\n",
    "        recommendations.append(\"Évaluer l'impact des duplications sur l'évaluation\")\n",
    "    if len(answer_counts.head(5).values) > 0 and answer_counts.head(5).values[0] > total_answers * 0.05:\n",
    "        recommendations.append(\"Analyser si les réponses fréquentes sont des artefacts\")\n",
    "    \n",
    "    if recommendations:\n",
    "        print(f\"  • Recommandations:\")\n",
    "        for rec in recommendations:\n",
    "            print(f\"    - {rec}\")\n",
    "    else:\n",
    "        print(f\"  • ✅ Pas d'action corrective nécessaire\")\n",
    "    \n",
    "    return {\n",
    "        'total_answers': total_answers,\n",
    "        'unique_answers': unique_answers,\n",
    "        'diversity_ratio': diversity_score,\n",
    "        'n_duplicates': n_duplicates,\n",
    "        'most_frequent': answer_counts.head(10).to_dict()\n",
    "    }\n",
    "\n",
    "def create_duplication_visualizations(answer_counts, df):\n",
    "    \"\"\"Crée des visualisations pour l'analyse des duplications\"\"\"\n",
    "    \n",
    "    print(f\"\\n📊 Visualisations des duplications:\")\n",
    "    \n",
    "    plt.figure(figsize=(15, 10))\n",
    "    \n",
    "    # 1. Distribution des fréquences de réponses\n",
    "    plt.subplot(2, 3, 1)\n",
    "    freq_distribution = answer_counts.value_counts().sort_index()\n",
    "    plt.bar(range(len(freq_distribution)), freq_distribution.values, color='skyblue')\n",
    "    plt.xlabel('Fréquence de la réponse')\n",
    "    plt.ylabel('Nombre de réponses distinctes')\n",
    "    plt.title('Distribution des fréquences')\n",
    "    plt.yscale('log')\n",
    "    \n",
    "    # 2. Top 15 des réponses les plus fréquentes\n",
    "    plt.subplot(2, 3, 2)\n",
    "    top_answers = answer_counts.head(15)\n",
    "    # Raccourcir les labels pour l'affichage\n",
    "    labels = [ans[:20] + \"...\" if len(ans) > 20 else ans for ans in top_answers.index]\n",
    "    plt.barh(range(len(top_answers)), top_answers.values, color='lightcoral')\n",
    "    plt.yticks(range(len(top_answers)), labels)\n",
    "    plt.xlabel('Fréquence')\n",
    "    plt.title('Top 15 réponses les plus fréquentes')\n",
    "    plt.gca().invert_yaxis()\n",
    "    \n",
    "    # 3. Courbe de diversité cumulative\n",
    "    plt.subplot(2, 3, 3)\n",
    "    cumulative_coverage = answer_counts.cumsum() / answer_counts.sum()\n",
    "    plt.plot(range(1, len(cumulative_coverage) + 1), cumulative_coverage.values, color='green')\n",
    "    plt.xlabel('Nombre de réponses distinctes')\n",
    "    plt.ylabel('Couverture cumulative')\n",
    "    plt.title('Courbe de diversité')\n",
    "    plt.axhline(y=0.8, color='red', linestyle='--', alpha=0.7, label='80%')\n",
    "    plt.axhline(y=0.5, color='orange', linestyle='--', alpha=0.7, label='50%')\n",
    "    plt.legend()\n",
    "    \n",
    "    # 4. Distribution par type si disponible\n",
    "    if 'type' in df.columns:\n",
    "        plt.subplot(2, 3, 4)\n",
    "        type_diversity = {}\n",
    "        for response_type in df['type'].unique():\n",
    "            if pd.notna(response_type):\n",
    "                type_answers = df[df['type'] == response_type]['answer'].dropna().astype(str).str.strip().str.lower()\n",
    "                type_diversity[response_type] = len(type_answers.unique()) / len(type_answers) if len(type_answers) > 0 else 0\n",
    "        \n",
    "        plt.bar(type_diversity.keys(), type_diversity.values(), color='lightgreen')\n",
    "        plt.xlabel('Type de réponse')\n",
    "        plt.ylabel('Ratio de diversité')\n",
    "        plt.title('Diversité par type')\n",
    "        plt.xticks(rotation=45)\n",
    "    \n",
    "    # 5. Histogramme des longueurs de réponses dupliquées vs uniques\n",
    "    plt.subplot(2, 3, 5)\n",
    "    duplicated_answers = answer_counts[answer_counts > 1].index\n",
    "    unique_answer_lengths = []\n",
    "    duplicated_answer_lengths = []\n",
    "    \n",
    "    for answer in answer_counts.index:\n",
    "        length = len(answer)\n",
    "        if answer in duplicated_answers:\n",
    "            duplicated_answer_lengths.extend([length] * answer_counts[answer])\n",
    "        else:\n",
    "            unique_answer_lengths.append(length)\n",
    "    \n",
    "    plt.hist([unique_answer_lengths, duplicated_answer_lengths], \n",
    "             bins=20, alpha=0.7, label=['Uniques', 'Dupliquées'], color=['blue', 'red'])\n",
    "    plt.xlabel('Longueur de la réponse (caractères)')\n",
    "    plt.ylabel('Fréquence')\n",
    "    plt.title('Longueurs: Uniques vs Dupliquées')\n",
    "    plt.legend()\n",
    "    \n",
    "    # 6. Métrique de concentration (Gini)\n",
    "    plt.subplot(2, 3, 6)\n",
    "    sorted_counts = answer_counts.sort_values()\n",
    "    n = len(sorted_counts)\n",
    "    cumulative = sorted_counts.cumsum()\n",
    "    \n",
    "    # Courbe de Lorenz\n",
    "    lorenz_x = np.arange(1, n + 1) / n\n",
    "    lorenz_y = cumulative / cumulative.iloc[-1]\n",
    "    \n",
    "    plt.plot(lorenz_x, lorenz_y, color='blue', label='Courbe de Lorenz')\n",
    "    plt.plot([0, 1], [0, 1], 'k--', alpha=0.7, label='Égalité parfaite')\n",
    "    plt.xlabel('Proportion cumulative des réponses')\n",
    "    plt.ylabel('Proportion cumulative des occurrences')\n",
    "    plt.title('Concentration des réponses')\n",
    "    plt.legend()\n",
    "    \n",
    "    # Calcul du coefficient de Gini\n",
    "    gini = 2 * np.trapz(lorenz_x - lorenz_y, lorenz_x)\n",
    "    plt.text(0.05, 0.95, f'Gini: {gini:.3f}', transform=plt.gca().transAxes, \n",
    "             bbox=dict(boxstyle=\"round,pad=0.3\", facecolor=\"yellow\", alpha=0.7))\n",
    "    \n",
    "    plt.tight_layout()\n",
    "    plt.show()\n",
    "\n",
    "# Exécution de l'analyse des duplications\n",
    "if df is not None:\n",
    "    duplication_analysis = analyze_duplicate_answers(df)\n",
    "else:\n",
    "    print(\"❌ Dataset non disponible pour l'analyse des duplications\")"
   ]
  },
  {
   "cell_type": "markdown",
   "id": "dc77454c",
   "metadata": {},
   "source": [
    "## 9. Impact des Duplications sur l'Axe A\n",
    "\n",
    "### Analyse Critique des Résultats\n",
    "\n",
    "**🔍 Constats majeurs :**\n",
    "- **Diversité très faible** : Seulement 53 réponses uniques pour 1,305 questions (4.1%)\n",
    "- **Concentration élevée** : Les 10 réponses les plus fréquentes représentent 43% du dataset\n",
    "- **Thématique spécialisée** : Le dataset semble focalisé sur le football/sport (Brazil, Germany, stadiums)\n",
    "\n",
    "**⚖️ Implications pour l'axe A (Exactitude) :**\n",
    "\n",
    "**Avantages :**\n",
    "- **Vérifiabilité renforcée** : Les réponses répétées permettent une validation croisée\n",
    "- **Cohérence thématique** : Focus sur un domaine factuel spécifique (sport/géographie)\n",
    "- **Benchmarking robuste** : Réponses multiples pour les mêmes entités augmentent la fiabilité\n",
    "\n",
    "**Inconvénients :**\n",
    "- **Biais d'évaluation** : Risque de surestimer les performances sur les entités fréquentes\n",
    "- **Généralisation limitée** : Faible diversité nuit à l'évaluation générale des capacités\n",
    "- **Artefacts possibles** : Concentration suspecte suggère une construction artificielle\n",
    "\n",
    "### Recommandations Stratégiques\n",
    "\n",
    "1. **🎯 Usage Ciblé** : Idéal pour évaluer l'exactitude sur un domaine spécifique\n",
    "2. **⚖️ Pondération** : Implémenter une pondération inverse de fréquence dans l'évaluation\n",
    "3. **🔄 Déduplication Partielle** : Conserver 1-3 instances par réponse unique\n",
    "4. **📊 Segmentation** : Séparer l'évaluation par fréquence de réponse"
   ]
  },
  {
   "cell_type": "code",
   "execution_count": 11,
   "id": "a96010ec",
   "metadata": {},
   "outputs": [
    {
     "name": "stdout",
     "output_type": "stream",
     "text": [
      "============================================================\n",
      "🔧 CRÉATION DE VERSIONS DÉDUPLICADAS\n",
      "============================================================\n",
      "📋 VERSION 1 - COMPLÈTEMENT UNIQUE:\n",
      "   • Taille originale: 1,305 entrées\n",
      "   • Taille déduplicada: 53 entrées\n",
      "   • Réduction: 95.9%\n",
      "\\n📋 VERSION 2 - MAXIMUM 3 PAR RÉPONSE:\n",
      "   • Taille originale: 1,305 entrées\n",
      "   • Taille limitée: 159 entrées\n",
      "   • Réduction: 87.8%\n",
      "\\n📋 VERSION 3 - AVEC PONDÉRATION:\n",
      "   • Taille: 1,305 entrées (identique)\n",
      "   • Colonne 'weight' ajoutée pour l'évaluation\n",
      "   • Poids min: 0.0095\n",
      "   • Poids max: 0.0667\n",
      "\\n📋 VERSION 4 - ÉQUILIBRÉ PAR TYPE:\n",
      "   • Taille originale: 1,305 entrées\n",
      "   • Taille équilibrée: 106 entrées\n",
      "   • Réduction: 91.9%\n",
      "     • Type 'name': 1005 → 66 (6.6%)\n",
      "     • Type 'numeric': 300 → 40 (13.3%)\n",
      "\\n📊 ANALYSE COMPARATIVE DES VERSIONS:\n"
     ]
    },
    {
     "data": {
      "text/html": [
       "<div>\n",
       "<style scoped>\n",
       "    .dataframe tbody tr th:only-of-type {\n",
       "        vertical-align: middle;\n",
       "    }\n",
       "\n",
       "    .dataframe tbody tr th {\n",
       "        vertical-align: top;\n",
       "    }\n",
       "\n",
       "    .dataframe thead th {\n",
       "        text-align: right;\n",
       "    }\n",
       "</style>\n",
       "<table border=\"1\" class=\"dataframe\">\n",
       "  <thead>\n",
       "    <tr style=\"text-align: right;\">\n",
       "      <th></th>\n",
       "      <th>Version</th>\n",
       "      <th>Taille</th>\n",
       "      <th>Réponses uniques</th>\n",
       "      <th>Diversité</th>\n",
       "      <th>Réduction</th>\n",
       "    </tr>\n",
       "  </thead>\n",
       "  <tbody>\n",
       "    <tr>\n",
       "      <th>0</th>\n",
       "      <td>unique</td>\n",
       "      <td>53</td>\n",
       "      <td>53</td>\n",
       "      <td>1.000</td>\n",
       "      <td>95.9%</td>\n",
       "    </tr>\n",
       "    <tr>\n",
       "      <th>1</th>\n",
       "      <td>max3</td>\n",
       "      <td>159</td>\n",
       "      <td>53</td>\n",
       "      <td>0.333</td>\n",
       "      <td>87.8%</td>\n",
       "    </tr>\n",
       "    <tr>\n",
       "      <th>2</th>\n",
       "      <td>weighted</td>\n",
       "      <td>1305</td>\n",
       "      <td>53</td>\n",
       "      <td>0.056</td>\n",
       "      <td>0.0%</td>\n",
       "    </tr>\n",
       "    <tr>\n",
       "      <th>3</th>\n",
       "      <td>balanced</td>\n",
       "      <td>106</td>\n",
       "      <td>53</td>\n",
       "      <td>0.500</td>\n",
       "      <td>91.9%</td>\n",
       "    </tr>\n",
       "  </tbody>\n",
       "</table>\n",
       "</div>"
      ],
      "text/plain": [
       "    Version  Taille  Réponses uniques  Diversité Réduction\n",
       "0    unique      53                53      1.000     95.9%\n",
       "1      max3     159                53      0.333     87.8%\n",
       "2  weighted    1305                53      0.056      0.0%\n",
       "3  balanced     106                53      0.500     91.9%"
      ]
     },
     "metadata": {},
     "output_type": "display_data"
    },
    {
     "name": "stdout",
     "output_type": "stream",
     "text": [
      "\\n💡 RECOMMANDATIONS D'USAGE:\n",
      "   • UNIQUE: 🎯 Évaluation rapide, maximum de diversité, perte d'information importante\n",
      "   • MAX3: ⚖️ Bon compromis entre diversité et robustesse statistique\n",
      "   • WEIGHTED: 📊 Évaluation équitable, préserve toutes les données, complexité technique\n",
      "   • BALANCED: 🏷️ Idéal pour comparaisons inter-types, réduction contrôlée\n",
      "\\n💾 Pour sauvegarder une version :\n",
      "   dataset_versions['unique'].to_csv('defand_unique.csv', index=False)\n",
      "   dataset_versions['max3'].to_csv('defand_max3.csv', index=False)\n"
     ]
    }
   ],
   "source": [
    "def create_deduplicated_versions(df, duplication_analysis):\n",
    "    \"\"\"Crée différentes versions déduplicadas du dataset pour l'axe A\"\"\"\n",
    "    \n",
    "    print(\"=\" * 60)\n",
    "    print(\"🔧 CRÉATION DE VERSIONS DÉDUPLICADAS\")\n",
    "    print(\"=\" * 60)\n",
    "    \n",
    "    if df is None:\n",
    "        print(\"❌ Dataset non disponible\")\n",
    "        return {}\n",
    "    \n",
    "    versions = {}\n",
    "    \n",
    "    # Version 1: Complètement unique (1 instance par réponse)\n",
    "    df_unique = df.drop_duplicates(subset=['answer'], keep='first')\n",
    "    versions['unique'] = df_unique\n",
    "    \n",
    "    print(f\"📋 VERSION 1 - COMPLÈTEMENT UNIQUE:\")\n",
    "    print(f\"   • Taille originale: {len(df):,} entrées\")\n",
    "    print(f\"   • Taille déduplicada: {len(df_unique):,} entrées\")\n",
    "    print(f\"   • Réduction: {(1 - len(df_unique)/len(df))*100:.1f}%\")\n",
    "    \n",
    "    # Version 2: Maximum 3 instances par réponse\n",
    "    df_limited = df.copy()\n",
    "    df_limited['answer_clean'] = df_limited['answer'].astype(str).str.strip().str.lower()\n",
    "    \n",
    "    # Garder maximum 3 instances par réponse\n",
    "    df_max3 = df_limited.groupby('answer_clean').head(3).drop('answer_clean', axis=1)\n",
    "    versions['max3'] = df_max3\n",
    "    \n",
    "    print(f\"\\\\n📋 VERSION 2 - MAXIMUM 3 PAR RÉPONSE:\")\n",
    "    print(f\"   • Taille originale: {len(df):,} entrées\") \n",
    "    print(f\"   • Taille limitée: {len(df_max3):,} entrées\")\n",
    "    print(f\"   • Réduction: {(1 - len(df_max3)/len(df))*100:.1f}%\")\n",
    "    \n",
    "    # Version 3: Pondération par fréquence inverse\n",
    "    answer_counts = df['answer'].astype(str).str.strip().str.lower().value_counts()\n",
    "    df_weighted = df.copy()\n",
    "    df_weighted['answer_clean'] = df_weighted['answer'].astype(str).str.strip().str.lower()\n",
    "    df_weighted['weight'] = df_weighted['answer_clean'].map(lambda x: 1.0 / answer_counts[x])\n",
    "    df_weighted = df_weighted.drop('answer_clean', axis=1)\n",
    "    versions['weighted'] = df_weighted\n",
    "    \n",
    "    print(f\"\\\\n📋 VERSION 3 - AVEC PONDÉRATION:\")\n",
    "    print(f\"   • Taille: {len(df_weighted):,} entrées (identique)\")\n",
    "    print(f\"   • Colonne 'weight' ajoutée pour l'évaluation\")\n",
    "    print(f\"   • Poids min: {df_weighted['weight'].min():.4f}\")\n",
    "    print(f\"   • Poids max: {df_weighted['weight'].max():.4f}\")\n",
    "    \n",
    "    # Version 4: Équilibré par type de réponse\n",
    "    if 'type' in df.columns:\n",
    "        df_balanced = pd.DataFrame()\n",
    "        \n",
    "        for response_type in df['type'].unique():\n",
    "            if pd.notna(response_type):\n",
    "                type_subset = df[df['type'] == response_type]\n",
    "                # Prendre maximum 2 instances par réponse pour ce type\n",
    "                type_subset_clean = type_subset.copy()\n",
    "                type_subset_clean['answer_clean'] = type_subset_clean['answer'].astype(str).str.strip().str.lower()\n",
    "                type_balanced = type_subset_clean.groupby('answer_clean').head(2).drop('answer_clean', axis=1)\n",
    "                df_balanced = pd.concat([df_balanced, type_balanced], ignore_index=True)\n",
    "        \n",
    "        versions['balanced'] = df_balanced\n",
    "        \n",
    "        print(f\"\\\\n📋 VERSION 4 - ÉQUILIBRÉ PAR TYPE:\")\n",
    "        print(f\"   • Taille originale: {len(df):,} entrées\")\n",
    "        print(f\"   • Taille équilibrée: {len(df_balanced):,} entrées\")\n",
    "        print(f\"   • Réduction: {(1 - len(df_balanced)/len(df))*100:.1f}%\")\n",
    "        \n",
    "        # Statistiques par type\n",
    "        for response_type in df['type'].unique():\n",
    "            if pd.notna(response_type):\n",
    "                orig_count = len(df[df['type'] == response_type])\n",
    "                balanced_count = len(df_balanced[df_balanced['type'] == response_type])\n",
    "                print(f\"     • Type '{response_type}': {orig_count} → {balanced_count} ({balanced_count/orig_count*100:.1f}%)\")\n",
    "    \n",
    "    # Analyse comparative des versions\n",
    "    print(f\"\\\\n📊 ANALYSE COMPARATIVE DES VERSIONS:\")\n",
    "    \n",
    "    comparison_data = []\n",
    "    for version_name, version_df in versions.items():\n",
    "        if 'weight' in version_df.columns:\n",
    "            # Pour la version pondérée, calculer la diversité effective\n",
    "            weights = version_df['weight']\n",
    "            effective_size = (weights.sum() ** 2) / (weights ** 2).sum()  # Taille effective\n",
    "            diversity_score = len(version_df['answer'].unique()) / effective_size\n",
    "        else:\n",
    "            diversity_score = len(version_df['answer'].unique()) / len(version_df)\n",
    "        \n",
    "        comparison_data.append({\n",
    "            'Version': version_name,\n",
    "            'Taille': len(version_df),\n",
    "            'Réponses uniques': len(version_df['answer'].unique()),\n",
    "            'Diversité': diversity_score,\n",
    "            'Réduction': f\"{(1 - len(version_df)/len(df))*100:.1f}%\"\n",
    "        })\n",
    "    \n",
    "    comparison_df = pd.DataFrame(comparison_data)\n",
    "    display(comparison_df.round(3))\n",
    "    \n",
    "    # Recommandations d'usage\n",
    "    print(f\"\\\\n💡 RECOMMANDATIONS D'USAGE:\")\n",
    "    recommendations = {\n",
    "        'unique': \"🎯 Évaluation rapide, maximum de diversité, perte d'information importante\",\n",
    "        'max3': \"⚖️ Bon compromis entre diversité et robustesse statistique\", \n",
    "        'weighted': \"📊 Évaluation équitable, préserve toutes les données, complexité technique\",\n",
    "        'balanced': \"🏷️ Idéal pour comparaisons inter-types, réduction contrôlée\"\n",
    "    }\n",
    "    \n",
    "    for version, description in recommendations.items():\n",
    "        if version in versions:\n",
    "            print(f\"   • {version.upper()}: {description}\")\n",
    "    \n",
    "    return versions\n",
    "\n",
    "# Création des versions déduplicadas\n",
    "if df is not None and 'duplication_analysis' in locals():\n",
    "    dataset_versions = create_deduplicated_versions(df, duplication_analysis)\n",
    "    \n",
    "    # Sauvegarder les versions si souhaité\n",
    "    print(f\"\\\\n💾 Pour sauvegarder une version :\")\n",
    "    print(f\"   dataset_versions['unique'].to_csv('defand_unique.csv', index=False)\")\n",
    "    print(f\"   dataset_versions['max3'].to_csv('defand_max3.csv', index=False)\")\n",
    "    \n",
    "else:\n",
    "    print(\"❌ Impossible de créer les versions sans dataset ou analyse des duplications\")"
   ]
  },
  {
   "cell_type": "code",
   "execution_count": 12,
   "id": "99894e74",
   "metadata": {},
   "outputs": [
    {
     "name": "stdout",
     "output_type": "stream",
     "text": [
      "======================================================================\n",
      "🔍 EXEMPLES DE PROMPTS AVEC RÉPONSES IDENTIQUES\n",
      "======================================================================\n",
      "📊 Analyse des 6 réponses les plus fréquentes:\n",
      "   Total d'exemples analysés: 480 sur 1305 (36.8%)\n",
      "\n",
      "🏆 RÉPONSE #1: \"Brazil\"\n",
      "   📊 Fréquence: 105 occurrences (8.0% du dataset)\n",
      "   🏷️ Types: name: 105\n",
      "   📝 Exemples de questions (3 sur 105):\n",
      "      1. \" Which team won the 1970 FIFA World Cup?(Give me the name only)\" (Type: name)\n",
      "      2. \" Who was the triumphant team in the 2002 FIFA World Cup?(Give me the name only)\" (Type: name)\n",
      "      3. \" Which team was crowned the winner of the 2002 FIFA World Cup?(Give me the name only)\" (Type: name)\n",
      "   📈 Analyse des questions:\n",
      "      • Longueur moyenne: 80.2 caractères\n",
      "      • Vocabulaire unique: 65 mots distincts\n",
      "      • Mots fréquents: fifa(105), world(105), name(105)\n",
      "----------------------------------------------------------------------\n",
      "🏆 RÉPONSE #2: \"West Germany\"\n",
      "   📊 Fréquence: 90 occurrences (6.9% du dataset)\n",
      "   🏷️ Types: name: 90\n",
      "   📝 Exemples de questions (3 sur 90):\n",
      "      1. \" Which team achieved victory in the 1990 FIFA World Cup?(Give me the name only)\" (Type: name)\n",
      "      2. \" Who took home the top honors in the 1974 FIFA World Cup?(Give me the name only)\" (Type: name)\n",
      "      3. \" Who ended up as the runner-up in the 1966 FIFA World Cup?(Give me the name only)\" (Type: name)\n",
      "   📈 Analyse des questions:\n",
      "      • Longueur moyenne: 81.9 caractères\n",
      "      • Vocabulaire unique: 64 mots distincts\n",
      "      • Mots fréquents: fifa(90), world(90), name(90)\n",
      "----------------------------------------------------------------------\n",
      "🏆 RÉPONSE #3: \"Italy\"\n",
      "   📊 Fréquence: 90 occurrences (6.9% du dataset)\n",
      "   🏷️ Types: name: 90\n",
      "   📝 Exemples de questions (3 sur 90):\n",
      "      1. \" Which team achieved victory in the 1982 FIFA World Cup?(Give me the name only)\" (Type: name)\n",
      "      2. \" Who took home the top honors in the 1938 FIFA World Cup?(Give me the name only)\" (Type: name)\n",
      "      3. \" Which team achieved victory in the 2006 FIFA World Cup?(Give me the name only)\" (Type: name)\n",
      "   📈 Analyse des questions:\n",
      "      • Longueur moyenne: 80.6 caractères\n",
      "      • Vocabulaire unique: 64 mots distincts\n",
      "      • Mots fréquents: fifa(90), world(90), name(90)\n",
      "----------------------------------------------------------------------\n",
      "🏆 RÉPONSE #4: \"Argentina\"\n",
      "   📊 Fréquence: 90 occurrences (6.9% du dataset)\n",
      "   🏷️ Types: name: 90\n",
      "   📝 Exemples de questions (3 sur 90):\n",
      "      1. \" Which team achieved victory in the 2022 FIFA World Cup?(Give me the name only)\" (Type: name)\n",
      "      2. \" Who took home the top honors in the 1986 FIFA World Cup?(Give me the name only)\" (Type: name)\n",
      "      3. \" Who ended up as the runner-up in the 1930 FIFA World Cup?(Give me the name only)\" (Type: name)\n",
      "   📈 Analyse des questions:\n",
      "      • Longueur moyenne: 81.9 caractères\n",
      "      • Vocabulaire unique: 64 mots distincts\n",
      "      • Mots fréquents: fifa(90), world(90), name(90)\n",
      "----------------------------------------------------------------------\n",
      "🏆 RÉPONSE #5: \"France\"\n",
      "   📊 Fréquence: 60 occurrences (4.6% du dataset)\n",
      "   🏷️ Types: name: 60\n",
      "   📝 Exemples de questions (3 sur 60):\n",
      "      1. \" Which team won the 1998 FIFA World Cup?(Give me the name only)\" (Type: name)\n",
      "      2. \" Who was the triumphant team in the 1998 FIFA World Cup?(Give me the name only)\" (Type: name)\n",
      "      3. \" Which country was the second-place holder in the 2006 FIFA World Cup?(Give me the name only)\" (Type: name)\n",
      "   📈 Analyse des questions:\n",
      "      • Longueur moyenne: 81.9 caractères\n",
      "      • Vocabulaire unique: 62 mots distincts\n",
      "      • Mots fréquents: fifa(60), world(60), name(60)\n",
      "----------------------------------------------------------------------\n",
      "🏆 RÉPONSE #6: \"Netherlands\"\n",
      "   📊 Fréquence: 45 occurrences (3.4% du dataset)\n",
      "   🏷️ Types: name: 45\n",
      "   📝 Exemples de questions (3 sur 45):\n",
      "      1. \" In the 2010 FIFA World Cup, which team came in second?(Give me the name only)\" (Type: name)\n",
      "      2. \" Who ended up as the runner-up in the 1978 FIFA World Cup?(Give me the name only)\" (Type: name)\n",
      "      3. \" Which country attained the runner-up position in the 1978 FIFA World Cup?(Give me the name only)\" (Type: name)\n",
      "   📈 Analyse des questions:\n",
      "      • Longueur moyenne: 85.7 caractères\n",
      "      • Vocabulaire unique: 39 mots distincts\n",
      "      • Mots fréquents: fifa(45), world(45), name(45)\n",
      "----------------------------------------------------------------------\n",
      "🔍 ANALYSE DES PATTERNS GLOBAUX:\n",
      "   🎯 Patterns de questions récurrents:\n",
      "      • \"Brazil\" (105x): mots récurrents = world, cup?(give, fifa\n",
      "      • \"West Germany\" (90x): mots récurrents = world, cup?(give, fifa\n",
      "      • \"Italy\" (90x): mots récurrents = world, cup?(give, fifa\n",
      "\\n💡 IMPLICATIONS POUR L'AXE A:\n",
      "   • ✅ COHÉRENCE GÉOGRAPHIQUE: Excellent pour évaluer les connaissances géographiques\n",
      "   • 📝 DIVERSITÉ DES QUESTIONS: Questions très variées malgré les réponses répétées\n",
      "   • 🎯 USAGE RECOMMANDÉ: Idéal pour tester la cohérence des réponses sur un domaine spécialisé\n"
     ]
    }
   ],
   "source": [
    "def show_duplicate_response_examples(df, n_responses=5, max_examples_per_response=4):\n",
    "    \"\"\"Affiche des exemples de prompts ayant les mêmes réponses\"\"\"\n",
    "    \n",
    "    print(\"=\" * 70)\n",
    "    print(\"🔍 EXEMPLES DE PROMPTS AVEC RÉPONSES IDENTIQUES\")\n",
    "    print(\"=\" * 70)\n",
    "    \n",
    "    if df is None:\n",
    "        print(\"❌ Dataset non disponible\")\n",
    "        return\n",
    "    \n",
    "    # Nettoyer les réponses et compter les occurrences\n",
    "    df_clean = df.copy()\n",
    "    df_clean['answer_clean'] = df_clean['answer'].astype(str).str.strip().str.lower()\n",
    "    \n",
    "    # Obtenir les réponses les plus fréquentes\n",
    "    answer_counts = df_clean['answer_clean'].value_counts()\n",
    "    most_frequent = answer_counts.head(n_responses)\n",
    "    \n",
    "    print(f\"📊 Analyse des {n_responses} réponses les plus fréquentes:\")\n",
    "    print(f\"   Total d'exemples analysés: {most_frequent.sum()} sur {len(df)} ({most_frequent.sum()/len(df)*100:.1f}%)\")\n",
    "    print()\n",
    "    \n",
    "    for i, (answer_clean, count) in enumerate(most_frequent.items(), 1):\n",
    "        # Obtenir la réponse originale (avec casse)\n",
    "        original_answer = df_clean[df_clean['answer_clean'] == answer_clean]['answer'].iloc[0]\n",
    "        \n",
    "        print(f\"🏆 RÉPONSE #{i}: \\\"{original_answer}\\\"\")\n",
    "        print(f\"   📊 Fréquence: {count} occurrences ({count/len(df)*100:.1f}% du dataset)\")\n",
    "        \n",
    "        # Obtenir les exemples pour cette réponse\n",
    "        examples = df_clean[df_clean['answer_clean'] == answer_clean].copy()\n",
    "        \n",
    "        # Analyser les types si disponible\n",
    "        if 'type' in examples.columns:\n",
    "            type_distribution = examples['type'].value_counts()\n",
    "            type_info = \" | \".join([f\"{t}: {c}\" for t, c in type_distribution.items()])\n",
    "            print(f\"   🏷️ Types: {type_info}\")\n",
    "        \n",
    "        # Afficher quelques exemples de questions\n",
    "        sample_examples = examples.sample(min(max_examples_per_response, len(examples)), random_state=RANDOM_SEED)\n",
    "        \n",
    "        print(f\"   📝 Exemples de questions ({len(sample_examples)} sur {len(examples)}):\")\n",
    "        \n",
    "        for j, (idx, row) in enumerate(sample_examples.iterrows(), 1):\n",
    "            question = row['questions']\n",
    "            # Limiter la longueur pour l'affichage\n",
    "            if len(question) > 100:\n",
    "                question_display = question[:100] + \"...\"\n",
    "            else:\n",
    "                question_display = question\n",
    "            \n",
    "            # Informations additionnelles\n",
    "            additional_info = []\n",
    "            if 'type' in row:\n",
    "                additional_info.append(f\"Type: {row['type']}\")\n",
    "            \n",
    "            info_str = f\" ({' | '.join(additional_info)})\" if additional_info else \"\"\n",
    "            \n",
    "            print(f\"      {j}. \\\"{question_display}\\\"{info_str}\")\n",
    "        \n",
    "        # Analyse de la diversité des questions pour cette réponse\n",
    "        questions_for_answer = examples['questions'].astype(str)\n",
    "        avg_question_length = questions_for_answer.str.len().mean()\n",
    "        unique_words = set()\n",
    "        for q in questions_for_answer:\n",
    "            unique_words.update(q.lower().split())\n",
    "        \n",
    "        print(f\"   📈 Analyse des questions:\")\n",
    "        print(f\"      • Longueur moyenne: {avg_question_length:.1f} caractères\")\n",
    "        print(f\"      • Vocabulaire unique: {len(unique_words)} mots distincts\")\n",
    "        \n",
    "        # Identifier les mots-clés communs dans les questions\n",
    "        word_freq = {}\n",
    "        for q in questions_for_answer:\n",
    "            words = q.lower().split()\n",
    "            for word in words:\n",
    "                if len(word) > 3:  # Ignorer les mots très courts\n",
    "                    word_freq[word] = word_freq.get(word, 0) + 1\n",
    "        \n",
    "        # Top 3 des mots les plus fréquents\n",
    "        if word_freq:\n",
    "            top_words = sorted(word_freq.items(), key=lambda x: x[1], reverse=True)[:3]\n",
    "            common_words = [f\"{word}({freq})\" for word, freq in top_words]\n",
    "            print(f\"      • Mots fréquents: {', '.join(common_words)}\")\n",
    "        \n",
    "        print(\"-\" * 70)\n",
    "    \n",
    "    # Analyse globale des patterns\n",
    "    print(\"🔍 ANALYSE DES PATTERNS GLOBAUX:\")\n",
    "    \n",
    "    # Analyser les similitudes entre questions ayant la même réponse\n",
    "    similarity_patterns = []\n",
    "    \n",
    "    for answer_clean, count in most_frequent.items():\n",
    "        if count >= 3:  # Seulement pour les réponses avec au moins 3 questions\n",
    "            questions = df_clean[df_clean['answer_clean'] == answer_clean]['questions'].astype(str).tolist()\n",
    "            \n",
    "            # Rechercher des patterns communs (mots qui apparaissent dans >50% des questions)\n",
    "            word_counts = {}\n",
    "            for q in questions:\n",
    "                words = set(q.lower().split())\n",
    "                for word in words:\n",
    "                    if len(word) > 3:\n",
    "                        word_counts[word] = word_counts.get(word, 0) + 1\n",
    "            \n",
    "            common_patterns = [word for word, freq in word_counts.items() \n",
    "                             if freq > len(questions) * 0.5 and freq >= 2]\n",
    "            \n",
    "            if common_patterns:\n",
    "                original_answer = df_clean[df_clean['answer_clean'] == answer_clean]['answer'].iloc[0]\n",
    "                similarity_patterns.append({\n",
    "                    'answer': original_answer,\n",
    "                    'count': count,\n",
    "                    'patterns': common_patterns[:3]  # Top 3\n",
    "                })\n",
    "    \n",
    "    if similarity_patterns:\n",
    "        print(\"   🎯 Patterns de questions récurrents:\")\n",
    "        for pattern in similarity_patterns[:3]:  # Top 3 réponses avec patterns\n",
    "            patterns_str = \", \".join(pattern['patterns'])\n",
    "            print(f\"      • \\\"{pattern['answer']}\\\" ({pattern['count']}x): mots récurrents = {patterns_str}\")\n",
    "    else:\n",
    "        print(\"   ⚠️ Aucun pattern récurrent significatif détecté\")\n",
    "    \n",
    "    # Recommandations basées sur l'analyse\n",
    "    print(\"\\\\n💡 IMPLICATIONS POUR L'AXE A:\")\n",
    "    \n",
    "    implications = []\n",
    "    \n",
    "    # Vérifier la cohérence thématique\n",
    "    all_top_answers = [df_clean[df_clean['answer_clean'] == ans]['answer'].iloc[0] \n",
    "                      for ans in most_frequent.index]\n",
    "    \n",
    "    # Détecter si c'est géographique/sportif\n",
    "    geo_indicators = ['brazil', 'germany', 'italy', 'france', 'argentina', 'stadium', 'country']\n",
    "    sport_indicators = ['cup', 'world', 'olympic', 'championship', 'tournament']\n",
    "    \n",
    "    geo_count = sum(1 for ans in all_top_answers \n",
    "                   if any(indicator in ans.lower() for indicator in geo_indicators))\n",
    "    sport_count = sum(1 for ans in all_top_answers \n",
    "                    if any(indicator in ans.lower() for indicator in sport_indicators))\n",
    "    \n",
    "    if geo_count >= len(all_top_answers) * 0.6:\n",
    "        implications.append(\"✅ COHÉRENCE GÉOGRAPHIQUE: Excellent pour évaluer les connaissances géographiques\")\n",
    "    \n",
    "    if sport_count >= len(all_top_answers) * 0.4:\n",
    "        implications.append(\"⚽ COHÉRENCE SPORTIVE: Adapté pour l'évaluation des connaissances sportives\")\n",
    "    \n",
    "    # Analyser la variabilité des questions\n",
    "    total_unique_questions = len(df_clean['questions'].unique())\n",
    "    if total_unique_questions / len(df_clean) > 0.95:\n",
    "        implications.append(\"📝 DIVERSITÉ DES QUESTIONS: Questions très variées malgré les réponses répétées\")\n",
    "    elif total_unique_questions / len(df_clean) > 0.8:\n",
    "        implications.append(\"📝 DIVERSITÉ MODÉRÉE: Questions généralement uniques avec quelques répétitions\")\n",
    "    else:\n",
    "        implications.append(\"⚠️ RÉPÉTITIONS DE QUESTIONS: Certaines questions peuvent être dupliquées\")\n",
    "    \n",
    "    implications.append(\"🎯 USAGE RECOMMANDÉ: Idéal pour tester la cohérence des réponses sur un domaine spécialisé\")\n",
    "    \n",
    "    for implication in implications:\n",
    "        print(f\"   • {implication}\")\n",
    "    \n",
    "    return {\n",
    "        'most_frequent_answers': most_frequent.to_dict(),\n",
    "        'analysis_patterns': similarity_patterns,\n",
    "        'total_analyzed': most_frequent.sum()\n",
    "    }\n",
    "\n",
    "# Exécution de l'analyse des exemples de duplications\n",
    "if df is not None:\n",
    "    duplicate_examples_analysis = show_duplicate_response_examples(df, n_responses=6, max_examples_per_response=3)\n",
    "else:\n",
    "    print(\"❌ Dataset non disponible pour l'analyse des exemples de duplications\")"
   ]
  },
  {
   "cell_type": "code",
   "execution_count": 13,
   "id": "b5a591d0",
   "metadata": {},
   "outputs": [
    {
     "name": "stdout",
     "output_type": "stream",
     "text": [
      "================================================================================\n",
      "📋 RÉSUMÉ DES PATTERNS DE DUPLICATION LES PLUS SIGNIFICATIFS\n",
      "================================================================================\n",
      "🎯 TOP 4 RÉPONSES LES PLUS DUPLIQUÉES:\n",
      "\n",
      "🏆 #1. \"Brazil\" → 105 questions (8.0% du dataset)\n",
      "   📝 Questions types:\n",
      "      • \" Which team won the 1970 FIFA World Cup?(Give me the name only)\"\n",
      "      • \" Who was the triumphant team in the 2002 FIFA World Cup?(Give me the name only)\"\n",
      "      • \" Which team was crowned the winner of the 2002 FIFA World Cup?(Give me the name ...\"\n",
      "   🔍 Mots-clés récurrents: fifa, world, name\n",
      "\n",
      "🏆 #2. \"West Germany\" → 90 questions (6.9% du dataset)\n",
      "   📝 Questions types:\n",
      "      • \" Which team achieved victory in the 1990 FIFA World Cup?(Give me the name only)\"\n",
      "      • \" Who took home the top honors in the 1974 FIFA World Cup?(Give me the name only)\"\n",
      "      • \" Who ended up as the runner-up in the 1966 FIFA World Cup?(Give me the name only...\"\n",
      "   🔍 Mots-clés récurrents: fifa, world, name\n",
      "\n",
      "🏆 #3. \"Italy\" → 90 questions (6.9% du dataset)\n",
      "   📝 Questions types:\n",
      "      • \" Which team achieved victory in the 1982 FIFA World Cup?(Give me the name only)\"\n",
      "      • \" Who took home the top honors in the 1938 FIFA World Cup?(Give me the name only)\"\n",
      "      • \" Which team achieved victory in the 2006 FIFA World Cup?(Give me the name only)\"\n",
      "   🔍 Mots-clés récurrents: fifa, world, name\n",
      "\n",
      "🏆 #4. \"Argentina\" → 90 questions (6.9% du dataset)\n",
      "   📝 Questions types:\n",
      "      • \" Which team achieved victory in the 2022 FIFA World Cup?(Give me the name only)\"\n",
      "      • \" Who took home the top honors in the 1986 FIFA World Cup?(Give me the name only)\"\n",
      "      • \" Who ended up as the runner-up in the 1930 FIFA World Cup?(Give me the name only...\"\n",
      "   🔍 Mots-clés récurrents: fifa, world, name\n",
      "\n",
      "📊 ANALYSE GLOBALE:\n",
      "   🎯 Thèmes dominants: Géographique (8/10)\n",
      "   📊 Concentration: Les 5 réponses les plus fréquentes = 33.3% du dataset\n",
      "\\n💡 IMPLICATIONS PRATIQUES:\n",
      "   🟡 CONCENTRATION MODÉRÉE: Surveiller les métriques d'évaluation\n",
      "   💡 SUGGESTION: Stratifier l'évaluation par fréquence de réponse\n",
      "   🎯 SPÉCIALISATION FORTE: Excellent pour évaluation ciblée\n",
      "   📈 AVANTAGE: Validation croisée robuste sur le domaine\n"
     ]
    }
   ],
   "source": [
    "# ===== RÉSUMÉ CONCIS DES PATTERNS DE DUPLICATION =====\n",
    "print(\"=\" * 80)\n",
    "print(\"📋 RÉSUMÉ DES PATTERNS DE DUPLICATION LES PLUS SIGNIFICATIFS\")\n",
    "print(\"=\" * 80)\n",
    "\n",
    "def show_key_duplication_insights(df, top_n=3):\n",
    "    \"\"\"Affiche un résumé concis des patterns de duplication les plus révélateurs\"\"\"\n",
    "    \n",
    "    if df is None:\n",
    "        return\n",
    "    \n",
    "    # Analyser les top réponses\n",
    "    df_clean = df.copy()\n",
    "    df_clean['answer_clean'] = df_clean['answer'].astype(str).str.strip().str.lower()\n",
    "    answer_counts = df_clean['answer_clean'].value_counts()\n",
    "    \n",
    "    print(f\"🎯 TOP {top_n} RÉPONSES LES PLUS DUPLIQUÉES:\\n\")\n",
    "    \n",
    "    for i, (answer_clean, count) in enumerate(answer_counts.head(top_n).items(), 1):\n",
    "        original_answer = df_clean[df_clean['answer_clean'] == answer_clean]['answer'].iloc[0]\n",
    "        percentage = (count / len(df)) * 100\n",
    "        \n",
    "        print(f\"🏆 #{i}. \\\"{original_answer}\\\" → {count} questions ({percentage:.1f}% du dataset)\")\n",
    "        \n",
    "        # Obtenir 2-3 questions représentatives\n",
    "        examples = df_clean[df_clean['answer_clean'] == answer_clean]['questions'].sample(\n",
    "            min(3, count), random_state=RANDOM_SEED\n",
    "        ).tolist()\n",
    "        \n",
    "        print(\"   📝 Questions types:\")\n",
    "        for j, question in enumerate(examples, 1):\n",
    "            # Raccourcir si nécessaire\n",
    "            q_display = question[:80] + \"...\" if len(question) > 80 else question\n",
    "            print(f\"      • \\\"{q_display}\\\"\")\n",
    "        \n",
    "        # Identifier le pattern commun\n",
    "        all_questions = df_clean[df_clean['answer_clean'] == answer_clean]['questions'].tolist()\n",
    "        \n",
    "        # Mots les plus fréquents dans ces questions\n",
    "        word_freq = {}\n",
    "        for q in all_questions:\n",
    "            words = [w.lower() for w in q.split() if len(w) > 3]\n",
    "            for word in words:\n",
    "                word_freq[word] = word_freq.get(word, 0) + 1\n",
    "        \n",
    "        # Top 2-3 mots les plus fréquents\n",
    "        if word_freq:\n",
    "            top_words = sorted(word_freq.items(), key=lambda x: x[1], reverse=True)[:3]\n",
    "            frequent_words = [word for word, freq in top_words if freq >= max(2, count * 0.3)]\n",
    "            \n",
    "            if frequent_words:\n",
    "                print(f\"   🔍 Mots-clés récurrents: {', '.join(frequent_words)}\")\n",
    "        \n",
    "        print()\n",
    "    \n",
    "    # Analyse globale rapide\n",
    "    print(\"📊 ANALYSE GLOBALE:\")\n",
    "    \n",
    "    # Détection thématique automatique\n",
    "    all_top_answers = [df_clean[df_clean['answer_clean'] == ans]['answer'].iloc[0] \n",
    "                      for ans in answer_counts.head(10).index]\n",
    "    \n",
    "    # Compter les thèmes\n",
    "    themes = {\n",
    "        'Géographique': ['brazil', 'germany', 'italy', 'france', 'argentina', 'netherlands', 'uruguay'],\n",
    "        'Sportif': ['cup', 'world', 'stadium', 'olympic', 'championship'],\n",
    "        'Numérique': any(ans.replace(',', '').replace('.', '').isdigit() for ans in all_top_answers)\n",
    "    }\n",
    "    \n",
    "    detected_themes = []\n",
    "    for theme, indicators in themes.items():\n",
    "        if theme == 'Numérique':\n",
    "            if indicators:  # Si au moins une réponse est numérique\n",
    "                detected_themes.append(theme)\n",
    "        else:\n",
    "            count = sum(1 for ans in all_top_answers \n",
    "                       if any(ind in ans.lower() for ind in indicators))\n",
    "            if count >= 3:  # Si au moins 3 réponses matchent\n",
    "                detected_themes.append(f\"{theme} ({count}/10)\")\n",
    "    \n",
    "    if detected_themes:\n",
    "        print(f\"   🎯 Thèmes dominants: {', '.join(detected_themes)}\")\n",
    "    \n",
    "    # Ratio de concentration\n",
    "    top_5_concentration = answer_counts.head(5).sum() / len(df) * 100\n",
    "    print(f\"   📊 Concentration: Les 5 réponses les plus fréquentes = {top_5_concentration:.1f}% du dataset\")\n",
    "    \n",
    "    # Évaluation de l'impact\n",
    "    print(\"\\\\n💡 IMPLICATIONS PRATIQUES:\")\n",
    "    \n",
    "    if top_5_concentration > 50:\n",
    "        print(\"   ⚠️  FORTE CONCENTRATION: Risque de biais d'évaluation élevé\")\n",
    "        print(\"   🔧 RECOMMANDATION: Utiliser la pondération ou la déduplication\")\n",
    "    elif top_5_concentration > 30:\n",
    "        print(\"   🟡 CONCENTRATION MODÉRÉE: Surveiller les métriques d'évaluation\")\n",
    "        print(\"   💡 SUGGESTION: Stratifier l'évaluation par fréquence de réponse\")\n",
    "    else:\n",
    "        print(\"   ✅ CONCENTRATION ACCEPTABLE: Peu d'impact sur l'évaluation\")\n",
    "    \n",
    "    # Focus thématique\n",
    "    if len(detected_themes) <= 2:\n",
    "        print(\"   🎯 SPÉCIALISATION FORTE: Excellent pour évaluation ciblée\")\n",
    "        print(\"   📈 AVANTAGE: Validation croisée robuste sur le domaine\")\n",
    "    else:\n",
    "        print(\"   🌐 DIVERSITÉ THÉMATIQUE: Adapté pour évaluation plus générale\")\n",
    "\n",
    "# Exécuter l'analyse concise\n",
    "show_key_duplication_insights(df, top_n=4)"
   ]
  },
  {
   "cell_type": "code",
   "execution_count": 14,
   "id": "1baf4373",
   "metadata": {},
   "outputs": [
    {
     "name": "stdout",
     "output_type": "stream",
     "text": [
      "============================================================\n",
      "📊 VISUALISATION DES EXEMPLES DE DUPLICATION\n",
      "============================================================\n"
     ]
    },
    {
     "data": {
      "image/png": "[encoded data removed]",
      "text/plain": [
       "<Figure size 1600x1200 with 4 Axes>"
      ]
     },
     "metadata": {},
     "output_type": "display_data"
    },
    {
     "name": "stdout",
     "output_type": "stream",
     "text": [
      "\\n📋 TABLEAU RÉCAPITULATIF DES DUPLICATIONS:\n"
     ]
    },
    {
     "data": {
      "text/html": [
       "<div>\n",
       "<style scoped>\n",
       "    .dataframe tbody tr th:only-of-type {\n",
       "        vertical-align: middle;\n",
       "    }\n",
       "\n",
       "    .dataframe tbody tr th {\n",
       "        vertical-align: top;\n",
       "    }\n",
       "\n",
       "    .dataframe thead th {\n",
       "        text-align: right;\n",
       "    }\n",
       "</style>\n",
       "<table border=\"1\" class=\"dataframe\">\n",
       "  <thead>\n",
       "    <tr style=\"text-align: right;\">\n",
       "      <th></th>\n",
       "      <th>Réponse</th>\n",
       "      <th>Occurrences</th>\n",
       "      <th>% Dataset</th>\n",
       "      <th>Long. Moy. Question</th>\n",
       "      <th>Long. Min-Max</th>\n",
       "      <th>Mots Uniques</th>\n",
       "    </tr>\n",
       "  </thead>\n",
       "  <tbody>\n",
       "    <tr>\n",
       "      <th>0</th>\n",
       "      <td>Brazil</td>\n",
       "      <td>105</td>\n",
       "      <td>8.0%</td>\n",
       "      <td>80</td>\n",
       "      <td>56-97</td>\n",
       "      <td>65</td>\n",
       "    </tr>\n",
       "    <tr>\n",
       "      <th>1</th>\n",
       "      <td>West Germany</td>\n",
       "      <td>90</td>\n",
       "      <td>6.9%</td>\n",
       "      <td>82</td>\n",
       "      <td>56-97</td>\n",
       "      <td>64</td>\n",
       "    </tr>\n",
       "    <tr>\n",
       "      <th>2</th>\n",
       "      <td>Italy</td>\n",
       "      <td>90</td>\n",
       "      <td>6.9%</td>\n",
       "      <td>81</td>\n",
       "      <td>56-97</td>\n",
       "      <td>64</td>\n",
       "    </tr>\n",
       "    <tr>\n",
       "      <th>3</th>\n",
       "      <td>Argentina</td>\n",
       "      <td>90</td>\n",
       "      <td>6.9%</td>\n",
       "      <td>82</td>\n",
       "      <td>56-97</td>\n",
       "      <td>64</td>\n",
       "    </tr>\n",
       "  </tbody>\n",
       "</table>\n",
       "</div>"
      ],
      "text/plain": [
       "        Réponse  Occurrences % Dataset Long. Moy. Question Long. Min-Max  \\\n",
       "0        Brazil          105      8.0%                  80         56-97   \n",
       "1  West Germany           90      6.9%                  82         56-97   \n",
       "2         Italy           90      6.9%                  81         56-97   \n",
       "3     Argentina           90      6.9%                  82         56-97   \n",
       "\n",
       "   Mots Uniques  \n",
       "0            65  \n",
       "1            64  \n",
       "2            64  \n",
       "3            64  "
      ]
     },
     "metadata": {},
     "output_type": "display_data"
    },
    {
     "name": "stdout",
     "output_type": "stream",
     "text": [
      "\\n🔍 INSIGHTS SUPPLÉMENTAIRES:\n",
      "   📊 Classement par diversité lexicale des questions:\n",
      "      1. \"Italy\": 0.048\n",
      "      2. \"West Germany\": 0.048\n",
      "      3. \"Argentina\": 0.048\n",
      "      4. \"Brazil\": 0.042\n",
      "\\n💡 ÉVALUATION DE LA QUALITÉ:\n",
      "   • Diversité lexicale moyenne: 0.046\n",
      "   • Qualité globale: ⚠️ LIMITÉE\n",
      "   • Recommandation: Forte répétitivité, considérer la déduplication\n"
     ]
    }
   ],
   "source": [
    "def create_duplication_examples_visualization(df):\n",
    "    \"\"\"Crée une visualisation des exemples de questions pour les réponses les plus fréquentes\"\"\"\n",
    "    \n",
    "    print(\"=\" * 60)\n",
    "    print(\"📊 VISUALISATION DES EXEMPLES DE DUPLICATION\")\n",
    "    print(\"=\" * 60)\n",
    "    \n",
    "    if df is None:\n",
    "        return\n",
    "    \n",
    "    # Préparer les données\n",
    "    df_clean = df.copy()\n",
    "    df_clean['answer_clean'] = df_clean['answer'].astype(str).str.strip().str.lower()\n",
    "    answer_counts = df_clean['answer_clean'].value_counts()\n",
    "    \n",
    "    # Prendre les 4 réponses les plus fréquentes\n",
    "    top_4_answers = answer_counts.head(4)\n",
    "    \n",
    "    # Créer une visualisation avec subplots\n",
    "    fig, axes = plt.subplots(2, 2, figsize=(16, 12))\n",
    "    fig.suptitle('Exemples de Questions pour les Réponses les Plus Fréquentes', fontsize=16, fontweight='bold')\n",
    "    \n",
    "    axes = axes.flatten()\n",
    "    \n",
    "    for i, (answer_clean, count) in enumerate(top_4_answers.items()):\n",
    "        ax = axes[i]\n",
    "        \n",
    "        # Obtenir la réponse originale\n",
    "        original_answer = df_clean[df_clean['answer_clean'] == answer_clean]['answer'].iloc[0]\n",
    "        \n",
    "        # Obtenir toutes les questions pour cette réponse\n",
    "        questions_for_answer = df_clean[df_clean['answer_clean'] == answer_clean]['questions'].tolist()\n",
    "        \n",
    "        # Prendre un échantillon représentatif\n",
    "        sample_questions = np.random.choice(questions_for_answer, \n",
    "                                          min(8, len(questions_for_answer)), \n",
    "                                          replace=False)\n",
    "        \n",
    "        # Créer les données pour le graphique\n",
    "        y_positions = range(len(sample_questions))\n",
    "        question_lengths = [len(q) for q in sample_questions]\n",
    "        \n",
    "        # Graphique en barres horizontales avec les longueurs\n",
    "        bars = ax.barh(y_positions, question_lengths, color=plt.cm.Set3(i), alpha=0.7)\n",
    "        \n",
    "        # Ajouter les questions comme labels (raccourcies)\n",
    "        question_labels = []\n",
    "        for q in sample_questions:\n",
    "            if len(q) > 40:\n",
    "                label = q[:37] + \"...\"\n",
    "            else:\n",
    "                label = q\n",
    "            question_labels.append(label)\n",
    "        \n",
    "        ax.set_yticks(y_positions)\n",
    "        ax.set_yticklabels(question_labels, fontsize=8)\n",
    "        ax.set_xlabel('Longueur de la question (caractères)')\n",
    "        \n",
    "        # Titre avec la réponse et sa fréquence\n",
    "        title = f'\"{original_answer}\"\\\\n({count} occurrences - {count/len(df)*100:.1f}%)'\n",
    "        ax.set_title(title, fontsize=10, fontweight='bold', pad=10)\n",
    "        \n",
    "        # Ajouter une ligne verticale pour la longueur moyenne\n",
    "        avg_length = np.mean(question_lengths)\n",
    "        ax.axvline(avg_length, color='red', linestyle='--', alpha=0.8, \n",
    "                  label=f'Moy: {avg_length:.0f}')\n",
    "        ax.legend(fontsize=8)\n",
    "        \n",
    "        # Améliorer l'apparence\n",
    "        ax.grid(axis='x', alpha=0.3)\n",
    "        ax.set_axisbelow(True)\n",
    "    \n",
    "    plt.tight_layout()\n",
    "    plt.show()\n",
    "    \n",
    "    # Tableau récapitulatif des statistiques\n",
    "    print(\"\\\\n📋 TABLEAU RÉCAPITULATIF DES DUPLICATIONS:\")\n",
    "    \n",
    "    summary_data = []\n",
    "    for answer_clean, count in top_4_answers.items():\n",
    "        original_answer = df_clean[df_clean['answer_clean'] == answer_clean]['answer'].iloc[0]\n",
    "        questions = df_clean[df_clean['answer_clean'] == answer_clean]['questions']\n",
    "        \n",
    "        # Calculer les statistiques\n",
    "        avg_q_length = questions.str.len().mean()\n",
    "        min_q_length = questions.str.len().min()\n",
    "        max_q_length = questions.str.len().max()\n",
    "        \n",
    "        # Compter les mots uniques\n",
    "        all_words = set()\n",
    "        for q in questions:\n",
    "            all_words.update(q.lower().split())\n",
    "        \n",
    "        summary_data.append({\n",
    "            'Réponse': original_answer[:30] + \"...\" if len(original_answer) > 30 else original_answer,\n",
    "            'Occurrences': count,\n",
    "            '% Dataset': f\"{count/len(df)*100:.1f}%\",\n",
    "            'Long. Moy. Question': f\"{avg_q_length:.0f}\",\n",
    "            'Long. Min-Max': f\"{min_q_length}-{max_q_length}\",\n",
    "            'Mots Uniques': len(all_words)\n",
    "        })\n",
    "    \n",
    "    summary_df = pd.DataFrame(summary_data)\n",
    "    display(summary_df)\n",
    "    \n",
    "    # Insights supplémentaires\n",
    "    print(\"\\\\n🔍 INSIGHTS SUPPLÉMENTAIRES:\")\n",
    "    \n",
    "    # Analyser la variabilité des questions par réponse\n",
    "    variability_scores = []\n",
    "    for answer_clean, count in top_4_answers.items():\n",
    "        questions = df_clean[df_clean['answer_clean'] == answer_clean]['questions']\n",
    "        \n",
    "        # Score de variabilité basé sur la diversité lexicale\n",
    "        all_words = []\n",
    "        for q in questions:\n",
    "            all_words.extend(q.lower().split())\n",
    "        \n",
    "        unique_words = len(set(all_words))\n",
    "        total_words = len(all_words)\n",
    "        lexical_diversity = unique_words / total_words if total_words > 0 else 0\n",
    "        \n",
    "        variability_scores.append((answer_clean, lexical_diversity))\n",
    "    \n",
    "    # Trier par diversité lexicale\n",
    "    variability_scores.sort(key=lambda x: x[1], reverse=True)\n",
    "    \n",
    "    print(\"   📊 Classement par diversité lexicale des questions:\")\n",
    "    for i, (answer_clean, score) in enumerate(variability_scores, 1):\n",
    "        original_answer = df_clean[df_clean['answer_clean'] == answer_clean]['answer'].iloc[0]\n",
    "        answer_display = original_answer[:25] + \"...\" if len(original_answer) > 25 else original_answer\n",
    "        print(f\"      {i}. \\\"{answer_display}\\\": {score:.3f}\")\n",
    "    \n",
    "    # Recommandation finale\n",
    "    avg_diversity = np.mean([score for _, score in variability_scores])\n",
    "    \n",
    "    print(f\"\\\\n💡 ÉVALUATION DE LA QUALITÉ:\")\n",
    "    if avg_diversity > 0.7:\n",
    "        quality = \"✅ EXCELLENTE\"\n",
    "        recommendation = \"Questions très variées malgré les réponses identiques\"\n",
    "    elif avg_diversity > 0.5:\n",
    "        quality = \"🟡 BONNE\"  \n",
    "        recommendation = \"Diversité acceptable, surveiller les patterns répétitifs\"\n",
    "    else:\n",
    "        quality = \"⚠️ LIMITÉE\"\n",
    "        recommendation = \"Forte répétitivité, considérer la déduplication\"\n",
    "    \n",
    "    print(f\"   • Diversité lexicale moyenne: {avg_diversity:.3f}\")\n",
    "    print(f\"   • Qualité globale: {quality}\")\n",
    "    print(f\"   • Recommandation: {recommendation}\")\n",
    "\n",
    "# Créer la visualisation\n",
    "if df is not None:\n",
    "    create_duplication_examples_visualization(df)\n",
    "else:\n",
    "    print(\"❌ Dataset non disponible pour la visualisation\")"
   ]
  },
  {
   "cell_type": "markdown",
   "id": "ef984984",
   "metadata": {},
   "source": [
    "## 11. Analyse des Sujets avec BERTopic\n",
    "\n",
    "Cette section utilise BERTopic avec le modèle d'embeddings E5 large pour identifier et visualiser les sujets principaux des prompts du dataset DefAnD. Cette analyse permet de mieux comprendre la structure thématique du dataset et son adéquation pour l'axe A.\n",
    "\n",
    "### Objectifs de l'analyse :\n",
    "- **Identification automatique** des sujets principaux dans les questions\n",
    "- **Visualisation interactive** de la distribution des sujets\n",
    "- **Évaluation de la cohérence thématique** pour l'axe A\n",
    "- **Détection de clusters** de questions similaires"
   ]
  },
  {
   "cell_type": "code",
   "execution_count": 15,
   "id": "135359c9",
   "metadata": {},
   "outputs": [
    {
     "name": "stdout",
     "output_type": "stream",
     "text": [
      "🔧 Installation des dépendances pour BERTopic...\n",
      "📦 Installation des packages...\n",
      "   Installer tf-keras...\n",
      "   ✅ tf-keras installé\n",
      "   Installer bertopic...\n",
      "   ✅ bertopic installé\n",
      "   Installer sentence-transformers>=2.0.0...\n",
      "   ✅ sentence-transformers>=2.0.0 installé\n",
      "   Installer umap-learn...\n",
      "   ✅ umap-learn installé\n",
      "   Installer hdbscan...\n",
      "   ✅ hdbscan installé\n",
      "   Installer plotly>=5.0.0...\n",
      "   ✅ plotly>=5.0.0 installé\n",
      "✅ Installation terminée !\n",
      "\n",
      "🧪 Test des imports...\n"
     ]
    },
    {
     "name": "stderr",
     "output_type": "stream",
     "text": [
      "2025-07-24 16:02:06.212606: I tensorflow/core/util/port.cc:153] oneDNN custom operations are on. You may see slightly different numerical results due to floating-point round-off errors from different computation orders. To turn them off, set the environment variable `TF_ENABLE_ONEDNN_OPTS=0`.\n",
      "2025-07-24 16:02:06.681995: E external/local_xla/xla/stream_executor/cuda/cuda_fft.cc:467] Unable to register cuFFT factory: Attempting to register factory for plugin cuFFT when one has already been registered\n",
      "WARNING: All log messages before absl::InitializeLog() is called are written to STDERR\n",
      "E0000 00:00:1753365726.883806   75453 cuda_dnn.cc:8579] Unable to register cuDNN factory: Attempting to register factory for plugin cuDNN when one has already been registered\n",
      "E0000 00:00:1753365726.922556   75453 cuda_blas.cc:1407] Unable to register cuBLAS factory: Attempting to register factory for plugin cuBLAS when one has already been registered\n",
      "W0000 00:00:1753365727.288367   75453 computation_placer.cc:177] computation placer already registered. Please check linkage and avoid linking the same target more than once.\n",
      "W0000 00:00:1753365727.288434   75453 computation_placer.cc:177] computation placer already registered. Please check linkage and avoid linking the same target more than once.\n",
      "W0000 00:00:1753365727.288436   75453 computation_placer.cc:177] computation placer already registered. Please check linkage and avoid linking the same target more than once.\n",
      "W0000 00:00:1753365727.288438   75453 computation_placer.cc:177] computation placer already registered. Please check linkage and avoid linking the same target more than once.\n",
      "2025-07-24 16:02:07.362720: I tensorflow/core/platform/cpu_feature_guard.cc:210] This TensorFlow binary is optimized to use available CPU instructions in performance-critical operations.\n",
      "To enable the following instructions: AVX2 AVX_VNNI FMA, in other operations, rebuild TensorFlow with the appropriate compiler flags.\n"
     ]
    },
    {
     "name": "stdout",
     "output_type": "stream",
     "text": [
      "✅ BERTopic importé\n",
      "✅ Sentence Transformers importé\n",
      "✅ UMAP importé\n",
      "\n",
      "============================================================\n"
     ]
    }
   ],
   "source": [
    "# ===== INSTALLATION DES DÉPENDANCES BERTOPIC =====\n",
    "print(\"🔧 Installation des dépendances pour BERTopic...\")\n",
    "\n",
    "# Installation directe avec pip\n",
    "import subprocess\n",
    "import sys\n",
    "\n",
    "def install_packages_safely():\n",
    "    \"\"\"Installe les packages nécessaires en gérant les conflits\"\"\"\n",
    "    \n",
    "    packages_to_install = [\n",
    "        \"tf-keras\",  # Résoudre le problème Keras/TF d'abord\n",
    "        \"bertopic\",\n",
    "        \"sentence-transformers>=2.0.0\",\n",
    "        \"umap-learn\",\n",
    "        \"hdbscan\",\n",
    "        \"plotly>=5.0.0\"\n",
    "    ]\n",
    "    \n",
    "    print(\"📦 Installation des packages...\")\n",
    "    \n",
    "    for package in packages_to_install:\n",
    "        try:\n",
    "            print(f\"   Installer {package}...\")\n",
    "            result = subprocess.run([\n",
    "                sys.executable, \"-m\", \"pip\", \"install\", package, \n",
    "                \"--quiet\", \"--no-warn-script-location\"\n",
    "            ], capture_output=True, text=True, timeout=300)\n",
    "            \n",
    "            if result.returncode == 0:\n",
    "                print(f\"   ✅ {package} installé\")\n",
    "            else:\n",
    "                print(f\"   ⚠️ {package} - Problème: {result.stderr[:100]}...\")\n",
    "                \n",
    "        except subprocess.TimeoutExpired:\n",
    "            print(f\"   ⏰ {package} - Timeout, mais probablement installé\")\n",
    "        except Exception as e:\n",
    "            print(f\"   ❌ {package} - Erreur: {str(e)[:50]}...\")\n",
    "    \n",
    "    print(\"✅ Installation terminée !\")\n",
    "\n",
    "# Exécuter l'installation\n",
    "install_packages_safely()\n",
    "\n",
    "# Test d'import simple\n",
    "print(\"\\n🧪 Test des imports...\")\n",
    "try:\n",
    "    import bertopic\n",
    "    print(\"✅ BERTopic importé\")\n",
    "except Exception as e:\n",
    "    print(f\"⚠️ BERTopic: {str(e)[:50]}...\")\n",
    "\n",
    "try:\n",
    "    import sentence_transformers\n",
    "    print(\"✅ Sentence Transformers importé\")\n",
    "except Exception as e:\n",
    "    print(f\"⚠️ Sentence Transformers: {str(e)[:50]}...\")\n",
    "\n",
    "try:\n",
    "    import umap\n",
    "    print(\"✅ UMAP importé\")\n",
    "except Exception as e:\n",
    "    print(f\"⚠️ UMAP: {str(e)[:50]}...\")\n",
    "\n",
    "print(\"\\n\" + \"=\" * 60)"
   ]
  },
  {
   "cell_type": "code",
   "execution_count": 16,
   "id": "2ca5b210",
   "metadata": {},
   "outputs": [
    {
     "name": "stdout",
     "output_type": "stream",
     "text": [
      "🚀 Démarrage de l'analyse des sujets...\n",
      "======================================================================\n",
      "🔍 ANALYSE DES SUJETS AVEC BERTOPIC (E5 LARGE)\n",
      "======================================================================\n",
      "📊 Analyse de 1305 questions\n",
      "✅ Imports réussis\n",
      "🔧 Chargement du modèle E5 large...\n"
     ]
    },
    {
     "name": "stderr",
     "output_type": "stream",
     "text": [
      "2025-07-24 16:02:23,165 - BERTopic - Embedding - Transforming documents to embeddings.\n"
     ]
    },
    {
     "name": "stdout",
     "output_type": "stream",
     "text": [
      "✅ Modèle E5 large chargé\n",
      "🚀 Initialisation de BERTopic...\n",
      "🎯 Entraînement du modèle BERTopic...\n"
     ]
    },
    {
     "data": {
      "application/vnd.jupyter.widget-view+json": {
       "model_id": "e2c68ea158d746de8e2e09193c82c9e3",
       "version_major": 2,
       "version_minor": 0
      },
      "text/plain": [
       "Batches:   0%|          | 0/41 [00:00<?, ?it/s]"
      ]
     },
     "metadata": {},
     "output_type": "display_data"
    },
    {
     "name": "stderr",
     "output_type": "stream",
     "text": [
      "2025-07-24 16:05:19,669 - BERTopic - Embedding - Completed ✓\n",
      "2025-07-24 16:05:19,720 - BERTopic - Dimensionality - Fitting the dimensionality reduction algorithm\n",
      "2025-07-24 16:05:53,127 - BERTopic - Dimensionality - Completed ✓\n",
      "2025-07-24 16:05:53,129 - BERTopic - Cluster - Start clustering the reduced embeddings\n",
      "2025-07-24 16:05:53,600 - BERTopic - Cluster - Completed ✓\n",
      "2025-07-24 16:05:53,627 - BERTopic - Representation - Fine-tuning topics using representation models.\n",
      "2025-07-24 16:05:53,681 - BERTopic - Representation - Completed ✓\n"
     ]
    },
    {
     "name": "stdout",
     "output_type": "stream",
     "text": [
      "✅ Modèle entraîné avec succès !\n",
      "📊 Nombre de sujets identifiés: 16\n",
      "📋 Répartition des sujets:\n",
      "   • Sujet -1 (Outliers): 163 questions (12.5%)\n",
      "   • Sujet 0: 300 questions (23.0%) - [final match, match, final, world cup, cup]\n",
      "   • Sujet 1: 105 questions (8.0%) - [stadium, cup final, final, cup stadium, did]\n",
      "   • Sujet 2: 90 questions (6.9%) - [1934 fifa, 1934, 1930 fifa, 1930, 1938]\n",
      "   • Sujet 3: 90 questions (6.9%) - [1950, 1950 fifa, 1954, 1954 fifa, 1958]\n",
      "   • Sujet 4: 90 questions (6.9%) - [fifa world, fifa, world cup, world, cup]\n",
      "   • Sujet 5: 89 questions (6.8%) - [second, runner, team, world, fifa world]\n",
      "   • Sujet 6: 71 questions (5.4%) - [second, runner, team, second place, position]\n",
      "   • Sujet 7: 59 questions (4.5%) - [1994, 1994 fifa, 1998, 1998 fifa, team]\n",
      "   • Sujet 8: 38 questions (2.9%) - [1962, 1962 fifa, 1966, 1966 fifa, cup]\n",
      "   • Sujet 9: 31 questions (2.4%) - [1970, 1970 fifa, 1974, 1974 fifa, fifa]\n",
      "   • Sujet 10: 31 questions (2.4%) - [1982, 1982 fifa, 1986, 1986 fifa, cup]\n",
      "   • Sujet 11: 30 questions (2.3%) - [1950, 1950 fifa, 1958, 1958 fifa, stadium]\n",
      "   • Sujet 12: 30 questions (2.3%) - [1970, 1970 fifa, 1990, 1990 fifa, stadium]\n",
      "   • Sujet 13: 30 questions (2.3%) - [1930, 1930 fifa, stadium, cup final, final]\n",
      "   • Sujet 14: 30 questions (2.3%) - [1994, 1994 fifa, 1998, 1998 fifa, stadium]\n",
      "   • Sujet 15: 28 questions (2.1%) - [1978, 1978 fifa, team, cup, fifa world]\n"
     ]
    }
   ],
   "source": [
    "def analyze_topics_with_bertopic(df, min_topic_size=10, n_topics=None):\n",
    "    \"\"\"\n",
    "    Analyse les sujets des prompts avec BERTopic en utilisant E5 large\n",
    "    \"\"\"\n",
    "    \n",
    "    print(\"=\" * 70)\n",
    "    print(\"🔍 ANALYSE DES SUJETS AVEC BERTOPIC (E5 LARGE)\")\n",
    "    print(\"=\" * 70)\n",
    "    \n",
    "    if df is None or 'questions' not in df.columns:\n",
    "        print(\"❌ Dataset ou colonne 'questions' non disponible\")\n",
    "        return None, None, None\n",
    "    \n",
    "    # Préparer les données\n",
    "    questions = df['questions'].dropna().astype(str).tolist()\n",
    "    print(f\"📊 Analyse de {len(questions)} questions\")\n",
    "    \n",
    "    try:\n",
    "        # Imports nécessaires\n",
    "        from bertopic import BERTopic\n",
    "        from sentence_transformers import SentenceTransformer\n",
    "        from umap import UMAP\n",
    "        from hdbscan import HDBSCAN\n",
    "        from sklearn.feature_extraction.text import CountVectorizer\n",
    "        \n",
    "        print(\"✅ Imports réussis\")\n",
    "        \n",
    "        # Configuration du modèle E5 large\n",
    "        print(\"🔧 Chargement du modèle E5 large...\")\n",
    "        embedding_model = SentenceTransformer('intfloat/e5-large-v2')\n",
    "        print(\"✅ Modèle E5 large chargé\")\n",
    "        \n",
    "        # Configuration UMAP pour la réduction de dimensionnalité\n",
    "        umap_model = UMAP(\n",
    "            n_neighbors=15, \n",
    "            n_components=5, \n",
    "            min_dist=0.0, \n",
    "            metric='cosine',\n",
    "            random_state=RANDOM_SEED\n",
    "        )\n",
    "        \n",
    "        # Configuration HDBSCAN pour le clustering\n",
    "        hdbscan_model = HDBSCAN(\n",
    "            min_cluster_size=min_topic_size, \n",
    "            metric='euclidean', \n",
    "            cluster_selection_method='eom', \n",
    "            prediction_data=True\n",
    "        )\n",
    "        \n",
    "        # Configuration du vectorizer pour l'extraction de mots-clés\n",
    "        vectorizer_model = CountVectorizer(\n",
    "            ngram_range=(1, 2), \n",
    "            stop_words=\"english\",\n",
    "            min_df=2,\n",
    "            max_features=1000\n",
    "        )\n",
    "        \n",
    "        # Initialisation de BERTopic (version corrigée)\n",
    "        print(\"🚀 Initialisation de BERTopic...\")\n",
    "        topic_model = BERTopic(\n",
    "            embedding_model=embedding_model,\n",
    "            umap_model=umap_model,\n",
    "            hdbscan_model=hdbscan_model,\n",
    "            vectorizer_model=vectorizer_model,\n",
    "            language=\"english\",\n",
    "            calculate_probabilities=True,\n",
    "            verbose=True\n",
    "        )\n",
    "        \n",
    "        # Entraînement du modèle\n",
    "        print(\"🎯 Entraînement du modèle BERTopic...\")\n",
    "        topics, probabilities = topic_model.fit_transform(questions)\n",
    "        \n",
    "        print(f\"✅ Modèle entraîné avec succès !\")\n",
    "        print(f\"📊 Nombre de sujets identifiés: {len(set(topics)) - (1 if -1 in topics else 0)}\")\n",
    "        print(f\"📋 Répartition des sujets:\")\n",
    "        \n",
    "        # Analyser la distribution des sujets\n",
    "        topic_counts = {}\n",
    "        for topic in topics:\n",
    "            topic_counts[topic] = topic_counts.get(topic, 0) + 1\n",
    "        \n",
    "        # Afficher les statistiques par sujet\n",
    "        for topic_id in sorted(topic_counts.keys()):\n",
    "            count = topic_counts[topic_id]\n",
    "            percentage = (count / len(topics)) * 100\n",
    "            \n",
    "            if topic_id == -1:\n",
    "                print(f\"   • Sujet -1 (Outliers): {count} questions ({percentage:.1f}%)\")\n",
    "            else:\n",
    "                # Obtenir les mots-clés du sujet\n",
    "                topic_words = topic_model.get_topic(topic_id)\n",
    "                if topic_words:\n",
    "                    top_words = [word for word, _ in topic_words[:5]]\n",
    "                    words_str = \", \".join(top_words)\n",
    "                    print(f\"   • Sujet {topic_id}: {count} questions ({percentage:.1f}%) - [{words_str}]\")\n",
    "        \n",
    "        return topic_model, topics, probabilities\n",
    "        \n",
    "    except Exception as e:\n",
    "        print(f\"❌ Erreur lors de l'analyse BERTopic: {str(e)}\")\n",
    "        print(\"💡 Suggestion: Vérifier l'installation des dépendances\")\n",
    "        return None, None, None\n",
    "\n",
    "# Exécution de l'analyse BERTopic\n",
    "if df is not None:\n",
    "    print(\"🚀 Démarrage de l'analyse des sujets...\")\n",
    "    topic_model, topics, probabilities = analyze_topics_with_bertopic(\n",
    "        df, \n",
    "        min_topic_size=15,  # Taille minimale d'un cluster pour former un sujet\n",
    "        n_topics=None      # Laisser l'algorithme déterminer le nombre optimal\n",
    "    )\n",
    "else:\n",
    "    print(\"❌ Dataset non disponible pour l'analyse BERTopic\")\n",
    "    topic_model, topics, probabilities = None, None, None"
   ]
  },
  {
   "cell_type": "code",
   "execution_count": 17,
   "id": "9706d4d7",
   "metadata": {},
   "outputs": [
    {
     "name": "stdout",
     "output_type": "stream",
     "text": [
      "🎨 Création des visualisations BERTopic...\n",
      "======================================================================\n",
      "📊 VISUALISATIONS INTERACTIVES BERTOPIC\n",
      "======================================================================\n",
      "🎨 Création des visualisations...\n",
      "   📍 1. Visualisation 2D des sujets...\n"
     ]
    },
    {
     "data": {
      "application/vnd.plotly.v1+json": {
       "config": {
        "plotlyServerURL": "https://plot.ly"
       },
       "data": [
        {
         "customdata": [
          [
           0,
           "final match | match | final | world cup | cup",
           300
          ],
          [
           1,
           "stadium | cup final | final | cup stadium | did",
           105
          ],
          [
           2,
           "1934 fifa | 1934 | 1930 fifa | 1930 | 1938",
           90
          ],
          [
           3,
           "1950 | 1950 fifa | 1954 | 1954 fifa | 1958",
           90
          ],
          [
           4,
           "fifa world | fifa | world cup | world | cup",
           90
          ],
          [
           5,
           "second | runner | team | world | fifa world",
           89
          ],
          [
           6,
           "second | runner | team | second place | position",
           71
          ],
          [
           7,
           "1994 | 1994 fifa | 1998 | 1998 fifa | team",
           59
          ],
          [
           8,
           "1962 | 1962 fifa | 1966 | 1966 fifa | cup",
           38
          ],
          [
           9,
           "1970 | 1970 fifa | 1974 | 1974 fifa | fifa",
           31
          ],
          [
           10,
           "1982 | 1982 fifa | 1986 | 1986 fifa | cup",
           31
          ],
          [
           11,
           "1950 | 1950 fifa | 1958 | 1958 fifa | stadium",
           30
          ],
          [
           12,
           "1970 | 1970 fifa | 1990 | 1990 fifa | stadium",
           30
          ],
          [
           13,
           "1930 | 1930 fifa | stadium | cup final | final",
           30
          ],
          [
           14,
           "1994 | 1994 fifa | 1998 | 1998 fifa | stadium",
           30
          ],
          [
           15,
           "1978 | 1978 fifa | team | cup | fifa world",
           28
          ]
         ],
         "hovertemplate": "<b>Topic %{customdata[0]}</b><br>%{customdata[1]}<br>Size: %{customdata[2]}",
         "legendgroup": "",
         "marker": {
          "color": "#B0BEC5",
          "line": {
           "color": "DarkSlateGrey",
           "width": 2
          },
          "size": {
           "bdata": "LAFpAFoAWgBaAFkARwA7ACYAHwAfAB4AHgAeAB4AHAA=",
           "dtype": "i2"
          },
          "sizemode": "area",
          "sizeref": 0.1875,
          "symbol": "circle"
         },
         "mode": "markers",
         "name": "",
         "orientation": "v",
         "showlegend": false,
         "type": "scatter",
         "x": {
          "bdata": "QcSOQRsmn8DZsqhAnRGxQHhui0GY8o1BbLOJQWENkUGJRKBAvv6OQYspjUE2xYjADBuUwAKYi8BBH6TAeKiGQQ==",
          "dtype": "f4"
         },
         "xaxis": "x",
         "y": {
          "bdata": "G8kewSA+1EA8XQhCqWgJQg+tG8EJSivBLMIvwXhmMMHnTQdC77sMwSS5EcHottVA3TzjQG4F7EBIvM1ATK0vwQ==",
          "dtype": "f4"
         },
         "yaxis": "y"
        }
       ],
       "layout": {
        "annotations": [
         {
          "showarrow": false,
          "text": "D1",
          "x": -5.89813756942749,
          "y": 13.413135528564453,
          "yshift": 10
         },
         {
          "showarrow": false,
          "text": "D2",
          "x": 7.4765625,
          "xshift": 10,
          "y": 39.50503921508789
         }
        ],
        "height": 600,
        "hoverlabel": {
         "bgcolor": "white",
         "font": {
          "family": "Rockwell",
          "size": 16
         }
        },
        "legend": {
         "itemsizing": "constant",
         "tracegroupgap": 0
        },
        "margin": {
         "t": 60
        },
        "shapes": [
         {
          "line": {
           "color": "#CFD8DC",
           "width": 2
          },
          "type": "line",
          "x0": 7.4765625,
          "x1": 7.4765625,
          "y0": -12.6787691116333,
          "y1": 39.50503921508789
         },
         {
          "line": {
           "color": "#9E9E9E",
           "width": 2
          },
          "type": "line",
          "x0": -5.89813756942749,
          "x1": 20.85126304626465,
          "y0": 13.413135528564453,
          "y1": 13.413135528564453
         }
        ],
        "sliders": [
         {
          "active": 0,
          "pad": {
           "t": 50
          },
          "steps": [
           {
            "args": [
             {
              "marker.color": [
               [
                "red",
                "#B0BEC5",
                "#B0BEC5",
                "#B0BEC5",
                "#B0BEC5",
                "#B0BEC5",
                "#B0BEC5",
                "#B0BEC5",
                "#B0BEC5",
                "#B0BEC5",
                "#B0BEC5",
                "#B0BEC5",
                "#B0BEC5",
                "#B0BEC5",
                "#B0BEC5",
                "#B0BEC5"
               ]
              ]
             }
            ],
            "label": "Topic 0",
            "method": "update"
           },
           {
            "args": [
             {
              "marker.color": [
               [
                "#B0BEC5",
                "red",
                "#B0BEC5",
                "#B0BEC5",
                "#B0BEC5",
                "#B0BEC5",
                "#B0BEC5",
                "#B0BEC5",
                "#B0BEC5",
                "#B0BEC5",
                "#B0BEC5",
                "#B0BEC5",
                "#B0BEC5",
                "#B0BEC5",
                "#B0BEC5",
                "#B0BEC5"
               ]
              ]
             }
            ],
            "label": "Topic 1",
            "method": "update"
           },
           {
            "args": [
             {
              "marker.color": [
               [
                "#B0BEC5",
                "#B0BEC5",
                "red",
                "#B0BEC5",
                "#B0BEC5",
                "#B0BEC5",
                "#B0BEC5",
                "#B0BEC5",
                "#B0BEC5",
                "#B0BEC5",
                "#B0BEC5",
                "#B0BEC5",
                "#B0BEC5",
                "#B0BEC5",
                "#B0BEC5",
                "#B0BEC5"
               ]
              ]
             }
            ],
            "label": "Topic 2",
            "method": "update"
           },
           {
            "args": [
             {
              "marker.color": [
               [
                "#B0BEC5",
                "#B0BEC5",
                "#B0BEC5",
                "red",
                "#B0BEC5",
                "#B0BEC5",
                "#B0BEC5",
                "#B0BEC5",
                "#B0BEC5",
                "#B0BEC5",
                "#B0BEC5",
                "#B0BEC5",
                "#B0BEC5",
                "#B0BEC5",
                "#B0BEC5",
                "#B0BEC5"
               ]
              ]
             }
            ],
            "label": "Topic 3",
            "method": "update"
           },
           {
            "args": [
             {
              "marker.color": [
               [
                "#B0BEC5",
                "#B0BEC5",
                "#B0BEC5",
                "#B0BEC5",
                "red",
                "#B0BEC5",
                "#B0BEC5",
                "#B0BEC5",
                "#B0BEC5",
                "#B0BEC5",
                "#B0BEC5",
                "#B0BEC5",
                "#B0BEC5",
                "#B0BEC5",
                "#B0BEC5",
                "#B0BEC5"
               ]
              ]
             }
            ],
            "label": "Topic 4",
            "method": "update"
           },
           {
            "args": [
             {
              "marker.color": [
               [
                "#B0BEC5",
                "#B0BEC5",
                "#B0BEC5",
                "#B0BEC5",
                "#B0BEC5",
                "red",
                "#B0BEC5",
                "#B0BEC5",
                "#B0BEC5",
                "#B0BEC5",
                "#B0BEC5",
                "#B0BEC5",
                "#B0BEC5",
                "#B0BEC5",
                "#B0BEC5",
                "#B0BEC5"
               ]
              ]
             }
            ],
            "label": "Topic 5",
            "method": "update"
           },
           {
            "args": [
             {
              "marker.color": [
               [
                "#B0BEC5",
                "#B0BEC5",
                "#B0BEC5",
                "#B0BEC5",
                "#B0BEC5",
                "#B0BEC5",
                "red",
                "#B0BEC5",
                "#B0BEC5",
                "#B0BEC5",
                "#B0BEC5",
                "#B0BEC5",
                "#B0BEC5",
                "#B0BEC5",
                "#B0BEC5",
                "#B0BEC5"
               ]
              ]
             }
            ],
            "label": "Topic 6",
            "method": "update"
           },
           {
            "args": [
             {
              "marker.color": [
               [
                "#B0BEC5",
                "#B0BEC5",
                "#B0BEC5",
                "#B0BEC5",
                "#B0BEC5",
                "#B0BEC5",
                "#B0BEC5",
                "red",
                "#B0BEC5",
                "#B0BEC5",
                "#B0BEC5",
                "#B0BEC5",
                "#B0BEC5",
                "#B0BEC5",
                "#B0BEC5",
                "#B0BEC5"
               ]
              ]
             }
            ],
            "label": "Topic 7",
            "method": "update"
           },
           {
            "args": [
             {
              "marker.color": [
               [
                "#B0BEC5",
                "#B0BEC5",
                "#B0BEC5",
                "#B0BEC5",
                "#B0BEC5",
                "#B0BEC5",
                "#B0BEC5",
                "#B0BEC5",
                "red",
                "#B0BEC5",
                "#B0BEC5",
                "#B0BEC5",
                "#B0BEC5",
                "#B0BEC5",
                "#B0BEC5",
                "#B0BEC5"
               ]
              ]
             }
            ],
            "label": "Topic 8",
            "method": "update"
           },
           {
            "args": [
             {
              "marker.color": [
               [
                "#B0BEC5",
                "#B0BEC5",
                "#B0BEC5",
                "#B0BEC5",
                "#B0BEC5",
                "#B0BEC5",
                "#B0BEC5",
                "#B0BEC5",
                "#B0BEC5",
                "red",
                "#B0BEC5",
                "#B0BEC5",
                "#B0BEC5",
                "#B0BEC5",
                "#B0BEC5",
                "#B0BEC5"
               ]
              ]
             }
            ],
            "label": "Topic 9",
            "method": "update"
           },
           {
            "args": [
             {
              "marker.color": [
               [
                "#B0BEC5",
                "#B0BEC5",
                "#B0BEC5",
                "#B0BEC5",
                "#B0BEC5",
                "#B0BEC5",
                "#B0BEC5",
                "#B0BEC5",
                "#B0BEC5",
                "#B0BEC5",
                "red",
                "#B0BEC5",
                "#B0BEC5",
                "#B0BEC5",
                "#B0BEC5",
                "#B0BEC5"
               ]
              ]
             }
            ],
            "label": "Topic 10",
            "method": "update"
           },
           {
            "args": [
             {
              "marker.color": [
               [
                "#B0BEC5",
                "#B0BEC5",
                "#B0BEC5",
                "#B0BEC5",
                "#B0BEC5",
                "#B0BEC5",
                "#B0BEC5",
                "#B0BEC5",
                "#B0BEC5",
                "#B0BEC5",
                "#B0BEC5",
                "red",
                "#B0BEC5",
                "#B0BEC5",
                "#B0BEC5",
                "#B0BEC5"
               ]
              ]
             }
            ],
            "label": "Topic 11",
            "method": "update"
           },
           {
            "args": [
             {
              "marker.color": [
               [
                "#B0BEC5",
                "#B0BEC5",
                "#B0BEC5",
                "#B0BEC5",
                "#B0BEC5",
                "#B0BEC5",
                "#B0BEC5",
                "#B0BEC5",
                "#B0BEC5",
                "#B0BEC5",
                "#B0BEC5",
                "#B0BEC5",
                "red",
                "#B0BEC5",
                "#B0BEC5",
                "#B0BEC5"
               ]
              ]
             }
            ],
            "label": "Topic 12",
            "method": "update"
           },
           {
            "args": [
             {
              "marker.color": [
               [
                "#B0BEC5",
                "#B0BEC5",
                "#B0BEC5",
                "#B0BEC5",
                "#B0BEC5",
                "#B0BEC5",
                "#B0BEC5",
                "#B0BEC5",
                "#B0BEC5",
                "#B0BEC5",
                "#B0BEC5",
                "#B0BEC5",
                "#B0BEC5",
                "red",
                "#B0BEC5",
                "#B0BEC5"
               ]
              ]
             }
            ],
            "label": "Topic 13",
            "method": "update"
           },
           {
            "args": [
             {
              "marker.color": [
               [
                "#B0BEC5",
                "#B0BEC5",
                "#B0BEC5",
                "#B0BEC5",
                "#B0BEC5",
                "#B0BEC5",
                "#B0BEC5",
                "#B0BEC5",
                "#B0BEC5",
                "#B0BEC5",
                "#B0BEC5",
                "#B0BEC5",
                "#B0BEC5",
                "#B0BEC5",
                "red",
                "#B0BEC5"
               ]
              ]
             }
            ],
            "label": "Topic 14",
            "method": "update"
           },
           {
            "args": [
             {
              "marker.color": [
               [
                "#B0BEC5",
                "#B0BEC5",
                "#B0BEC5",
                "#B0BEC5",
                "#B0BEC5",
                "#B0BEC5",
                "#B0BEC5",
                "#B0BEC5",
                "#B0BEC5",
                "#B0BEC5",
                "#B0BEC5",
                "#B0BEC5",
                "#B0BEC5",
                "#B0BEC5",
                "#B0BEC5",
                "red"
               ]
              ]
             }
            ],
            "label": "Topic 15",
            "method": "update"
           }
          ]
         }
        ],
        "template": {
         "data": {
          "bar": [
           {
            "error_x": {
             "color": "rgb(36,36,36)"
            },
            "error_y": {
             "color": "rgb(36,36,36)"
            },
            "marker": {
             "line": {
              "color": "white",
              "width": 0.5
             },
             "pattern": {
              "fillmode": "overlay",
              "size": 10,
              "solidity": 0.2
             }
            },
            "type": "bar"
           }
          ],
          "barpolar": [
           {
            "marker": {
             "line": {
              "color": "white",
              "width": 0.5
             },
             "pattern": {
              "fillmode": "overlay",
              "size": 10,
              "solidity": 0.2
             }
            },
            "type": "barpolar"
           }
          ],
          "carpet": [
           {
            "aaxis": {
             "endlinecolor": "rgb(36,36,36)",
             "gridcolor": "white",
             "linecolor": "white",
             "minorgridcolor": "white",
             "startlinecolor": "rgb(36,36,36)"
            },
            "baxis": {
             "endlinecolor": "rgb(36,36,36)",
             "gridcolor": "white",
             "linecolor": "white",
             "minorgridcolor": "white",
             "startlinecolor": "rgb(36,36,36)"
            },
            "type": "carpet"
           }
          ],
          "choropleth": [
           {
            "colorbar": {
             "outlinewidth": 1,
             "tickcolor": "rgb(36,36,36)",
             "ticks": "outside"
            },
            "type": "choropleth"
           }
          ],
          "contour": [
           {
            "colorbar": {
             "outlinewidth": 1,
             "tickcolor": "rgb(36,36,36)",
             "ticks": "outside"
            },
            "colorscale": [
             [
              0,
              "#440154"
             ],
             [
              0.1111111111111111,
              "#482878"
             ],
             [
              0.2222222222222222,
              "#3e4989"
             ],
             [
              0.3333333333333333,
              "#31688e"
             ],
             [
              0.4444444444444444,
              "#26828e"
             ],
             [
              0.5555555555555556,
              "#1f9e89"
             ],
             [
              0.6666666666666666,
              "#35b779"
             ],
             [
              0.7777777777777778,
              "#6ece58"
             ],
             [
              0.8888888888888888,
              "#b5de2b"
             ],
             [
              1,
              "#fde725"
             ]
            ],
            "type": "contour"
           }
          ],
          "contourcarpet": [
           {
            "colorbar": {
             "outlinewidth": 1,
             "tickcolor": "rgb(36,36,36)",
             "ticks": "outside"
            },
            "type": "contourcarpet"
           }
          ],
          "heatmap": [
           {
            "colorbar": {
             "outlinewidth": 1,
             "tickcolor": "rgb(36,36,36)",
             "ticks": "outside"
            },
            "colorscale": [
             [
              0,
              "#440154"
             ],
             [
              0.1111111111111111,
              "#482878"
             ],
             [
              0.2222222222222222,
              "#3e4989"
             ],
             [
              0.3333333333333333,
              "#31688e"
             ],
             [
              0.4444444444444444,
              "#26828e"
             ],
             [
              0.5555555555555556,
              "#1f9e89"
             ],
             [
              0.6666666666666666,
              "#35b779"
             ],
             [
              0.7777777777777778,
              "#6ece58"
             ],
             [
              0.8888888888888888,
              "#b5de2b"
             ],
             [
              1,
              "#fde725"
             ]
            ],
            "type": "heatmap"
           }
          ],
          "histogram": [
           {
            "marker": {
             "line": {
              "color": "white",
              "width": 0.6
             }
            },
            "type": "histogram"
           }
          ],
          "histogram2d": [
           {
            "colorbar": {
             "outlinewidth": 1,
             "tickcolor": "rgb(36,36,36)",
             "ticks": "outside"
            },
            "colorscale": [
             [
              0,
              "#440154"
             ],
             [
              0.1111111111111111,
              "#482878"
             ],
             [
              0.2222222222222222,
              "#3e4989"
             ],
             [
              0.3333333333333333,
              "#31688e"
             ],
             [
              0.4444444444444444,
              "#26828e"
             ],
             [
              0.5555555555555556,
              "#1f9e89"
             ],
             [
              0.6666666666666666,
              "#35b779"
             ],
             [
              0.7777777777777778,
              "#6ece58"
             ],
             [
              0.8888888888888888,
              "#b5de2b"
             ],
             [
              1,
              "#fde725"
             ]
            ],
            "type": "histogram2d"
           }
          ],
          "histogram2dcontour": [
           {
            "colorbar": {
             "outlinewidth": 1,
             "tickcolor": "rgb(36,36,36)",
             "ticks": "outside"
            },
            "colorscale": [
             [
              0,
              "#440154"
             ],
             [
              0.1111111111111111,
              "#482878"
             ],
             [
              0.2222222222222222,
              "#3e4989"
             ],
             [
              0.3333333333333333,
              "#31688e"
             ],
             [
              0.4444444444444444,
              "#26828e"
             ],
             [
              0.5555555555555556,
              "#1f9e89"
             ],
             [
              0.6666666666666666,
              "#35b779"
             ],
             [
              0.7777777777777778,
              "#6ece58"
             ],
             [
              0.8888888888888888,
              "#b5de2b"
             ],
             [
              1,
              "#fde725"
             ]
            ],
            "type": "histogram2dcontour"
           }
          ],
          "mesh3d": [
           {
            "colorbar": {
             "outlinewidth": 1,
             "tickcolor": "rgb(36,36,36)",
             "ticks": "outside"
            },
            "type": "mesh3d"
           }
          ],
          "parcoords": [
           {
            "line": {
             "colorbar": {
              "outlinewidth": 1,
              "tickcolor": "rgb(36,36,36)",
              "ticks": "outside"
             }
            },
            "type": "parcoords"
           }
          ],
          "pie": [
           {
            "automargin": true,
            "type": "pie"
           }
          ],
          "scatter": [
           {
            "fillpattern": {
             "fillmode": "overlay",
             "size": 10,
             "solidity": 0.2
            },
            "type": "scatter"
           }
          ],
          "scatter3d": [
           {
            "line": {
             "colorbar": {
              "outlinewidth": 1,
              "tickcolor": "rgb(36,36,36)",
              "ticks": "outside"
             }
            },
            "marker": {
             "colorbar": {
              "outlinewidth": 1,
              "tickcolor": "rgb(36,36,36)",
              "ticks": "outside"
             }
            },
            "type": "scatter3d"
           }
          ],
          "scattercarpet": [
           {
            "marker": {
             "colorbar": {
              "outlinewidth": 1,
              "tickcolor": "rgb(36,36,36)",
              "ticks": "outside"
             }
            },
            "type": "scattercarpet"
           }
          ],
          "scattergeo": [
           {
            "marker": {
             "colorbar": {
              "outlinewidth": 1,
              "tickcolor": "rgb(36,36,36)",
              "ticks": "outside"
             }
            },
            "type": "scattergeo"
           }
          ],
          "scattergl": [
           {
            "marker": {
             "colorbar": {
              "outlinewidth": 1,
              "tickcolor": "rgb(36,36,36)",
              "ticks": "outside"
             }
            },
            "type": "scattergl"
           }
          ],
          "scattermap": [
           {
            "marker": {
             "colorbar": {
              "outlinewidth": 1,
              "tickcolor": "rgb(36,36,36)",
              "ticks": "outside"
             }
            },
            "type": "scattermap"
           }
          ],
          "scattermapbox": [
           {
            "marker": {
             "colorbar": {
              "outlinewidth": 1,
              "tickcolor": "rgb(36,36,36)",
              "ticks": "outside"
             }
            },
            "type": "scattermapbox"
           }
          ],
          "scatterpolar": [
           {
            "marker": {
             "colorbar": {
              "outlinewidth": 1,
              "tickcolor": "rgb(36,36,36)",
              "ticks": "outside"
             }
            },
            "type": "scatterpolar"
           }
          ],
          "scatterpolargl": [
           {
            "marker": {
             "colorbar": {
              "outlinewidth": 1,
              "tickcolor": "rgb(36,36,36)",
              "ticks": "outside"
             }
            },
            "type": "scatterpolargl"
           }
          ],
          "scatterternary": [
           {
            "marker": {
             "colorbar": {
              "outlinewidth": 1,
              "tickcolor": "rgb(36,36,36)",
              "ticks": "outside"
             }
            },
            "type": "scatterternary"
           }
          ],
          "surface": [
           {
            "colorbar": {
             "outlinewidth": 1,
             "tickcolor": "rgb(36,36,36)",
             "ticks": "outside"
            },
            "colorscale": [
             [
              0,
              "#440154"
             ],
             [
              0.1111111111111111,
              "#482878"
             ],
             [
              0.2222222222222222,
              "#3e4989"
             ],
             [
              0.3333333333333333,
              "#31688e"
             ],
             [
              0.4444444444444444,
              "#26828e"
             ],
             [
              0.5555555555555556,
              "#1f9e89"
             ],
             [
              0.6666666666666666,
              "#35b779"
             ],
             [
              0.7777777777777778,
              "#6ece58"
             ],
             [
              0.8888888888888888,
              "#b5de2b"
             ],
             [
              1,
              "#fde725"
             ]
            ],
            "type": "surface"
           }
          ],
          "table": [
           {
            "cells": {
             "fill": {
              "color": "rgb(237,237,237)"
             },
             "line": {
              "color": "white"
             }
            },
            "header": {
             "fill": {
              "color": "rgb(217,217,217)"
             },
             "line": {
              "color": "white"
             }
            },
            "type": "table"
           }
          ]
         },
         "layout": {
          "annotationdefaults": {
           "arrowhead": 0,
           "arrowwidth": 1
          },
          "autotypenumbers": "strict",
          "coloraxis": {
           "colorbar": {
            "outlinewidth": 1,
            "tickcolor": "rgb(36,36,36)",
            "ticks": "outside"
           }
          },
          "colorscale": {
           "diverging": [
            [
             0,
             "rgb(103,0,31)"
            ],
            [
             0.1,
             "rgb(178,24,43)"
            ],
            [
             0.2,
             "rgb(214,96,77)"
            ],
            [
             0.3,
             "rgb(244,165,130)"
            ],
            [
             0.4,
             "rgb(253,219,199)"
            ],
            [
             0.5,
             "rgb(247,247,247)"
            ],
            [
             0.6,
             "rgb(209,229,240)"
            ],
            [
             0.7,
             "rgb(146,197,222)"
            ],
            [
             0.8,
             "rgb(67,147,195)"
            ],
            [
             0.9,
             "rgb(33,102,172)"
            ],
            [
             1,
             "rgb(5,48,97)"
            ]
           ],
           "sequential": [
            [
             0,
             "#440154"
            ],
            [
             0.1111111111111111,
             "#482878"
            ],
            [
             0.2222222222222222,
             "#3e4989"
            ],
            [
             0.3333333333333333,
             "#31688e"
            ],
            [
             0.4444444444444444,
             "#26828e"
            ],
            [
             0.5555555555555556,
             "#1f9e89"
            ],
            [
             0.6666666666666666,
             "#35b779"
            ],
            [
             0.7777777777777778,
             "#6ece58"
            ],
            [
             0.8888888888888888,
             "#b5de2b"
            ],
            [
             1,
             "#fde725"
            ]
           ],
           "sequentialminus": [
            [
             0,
             "#440154"
            ],
            [
             0.1111111111111111,
             "#482878"
            ],
            [
             0.2222222222222222,
             "#3e4989"
            ],
            [
             0.3333333333333333,
             "#31688e"
            ],
            [
             0.4444444444444444,
             "#26828e"
            ],
            [
             0.5555555555555556,
             "#1f9e89"
            ],
            [
             0.6666666666666666,
             "#35b779"
            ],
            [
             0.7777777777777778,
             "#6ece58"
            ],
            [
             0.8888888888888888,
             "#b5de2b"
            ],
            [
             1,
             "#fde725"
            ]
           ]
          },
          "colorway": [
           "#1F77B4",
           "#FF7F0E",
           "#2CA02C",
           "#D62728",
           "#9467BD",
           "#8C564B",
           "#E377C2",
           "#7F7F7F",
           "#BCBD22",
           "#17BECF"
          ],
          "font": {
           "color": "rgb(36,36,36)"
          },
          "geo": {
           "bgcolor": "white",
           "lakecolor": "white",
           "landcolor": "white",
           "showlakes": true,
           "showland": true,
           "subunitcolor": "white"
          },
          "hoverlabel": {
           "align": "left"
          },
          "hovermode": "closest",
          "mapbox": {
           "style": "light"
          },
          "paper_bgcolor": "white",
          "plot_bgcolor": "white",
          "polar": {
           "angularaxis": {
            "gridcolor": "rgb(232,232,232)",
            "linecolor": "rgb(36,36,36)",
            "showgrid": false,
            "showline": true,
            "ticks": "outside"
           },
           "bgcolor": "white",
           "radialaxis": {
            "gridcolor": "rgb(232,232,232)",
            "linecolor": "rgb(36,36,36)",
            "showgrid": false,
            "showline": true,
            "ticks": "outside"
           }
          },
          "scene": {
           "xaxis": {
            "backgroundcolor": "white",
            "gridcolor": "rgb(232,232,232)",
            "gridwidth": 2,
            "linecolor": "rgb(36,36,36)",
            "showbackground": true,
            "showgrid": false,
            "showline": true,
            "ticks": "outside",
            "zeroline": false,
            "zerolinecolor": "rgb(36,36,36)"
           },
           "yaxis": {
            "backgroundcolor": "white",
            "gridcolor": "rgb(232,232,232)",
            "gridwidth": 2,
            "linecolor": "rgb(36,36,36)",
            "showbackground": true,
            "showgrid": false,
            "showline": true,
            "ticks": "outside",
            "zeroline": false,
            "zerolinecolor": "rgb(36,36,36)"
           },
           "zaxis": {
            "backgroundcolor": "white",
            "gridcolor": "rgb(232,232,232)",
            "gridwidth": 2,
            "linecolor": "rgb(36,36,36)",
            "showbackground": true,
            "showgrid": false,
            "showline": true,
            "ticks": "outside",
            "zeroline": false,
            "zerolinecolor": "rgb(36,36,36)"
           }
          },
          "shapedefaults": {
           "fillcolor": "black",
           "line": {
            "width": 0
           },
           "opacity": 0.3
          },
          "ternary": {
           "aaxis": {
            "gridcolor": "rgb(232,232,232)",
            "linecolor": "rgb(36,36,36)",
            "showgrid": false,
            "showline": true,
            "ticks": "outside"
           },
           "baxis": {
            "gridcolor": "rgb(232,232,232)",
            "linecolor": "rgb(36,36,36)",
            "showgrid": false,
            "showline": true,
            "ticks": "outside"
           },
           "bgcolor": "white",
           "caxis": {
            "gridcolor": "rgb(232,232,232)",
            "linecolor": "rgb(36,36,36)",
            "showgrid": false,
            "showline": true,
            "ticks": "outside"
           }
          },
          "title": {
           "x": 0.05
          },
          "xaxis": {
           "automargin": true,
           "gridcolor": "rgb(232,232,232)",
           "linecolor": "rgb(36,36,36)",
           "showgrid": false,
           "showline": true,
           "ticks": "outside",
           "title": {
            "standoff": 15
           },
           "zeroline": false,
           "zerolinecolor": "rgb(36,36,36)"
          },
          "yaxis": {
           "automargin": true,
           "gridcolor": "rgb(232,232,232)",
           "linecolor": "rgb(36,36,36)",
           "showgrid": false,
           "showline": true,
           "ticks": "outside",
           "title": {
            "standoff": 15
           },
           "zeroline": false,
           "zerolinecolor": "rgb(36,36,36)"
          }
         }
        },
        "title": {
         "text": "Distribution 2D des Sujets (BERTopic + E5 Large)"
        },
        "width": 800,
        "xaxis": {
         "anchor": "y",
         "domain": [
          0,
          1
         ],
         "range": [
          -5.89813756942749,
          20.85126304626465
         ],
         "title": {
          "text": ""
         },
         "visible": false
        },
        "yaxis": {
         "anchor": "x",
         "domain": [
          0,
          1
         ],
         "range": [
          -12.6787691116333,
          39.50503921508789
         ],
         "title": {
          "text": ""
         },
         "visible": false
        }
       }
      }
     },
     "metadata": {},
     "output_type": "display_data"
    },
    {
     "name": "stdout",
     "output_type": "stream",
     "text": [
      "   📊 2. Fréquence des sujets...\n",
      "   ⚠️ Erreur graphique en barres: BERTopic.visualize_barchart() got an unexpected keyword argument 'top_k_topics'\n",
      "   🔥 3. Heatmap de similarité...\n"
     ]
    },
    {
     "data": {
      "application/vnd.plotly.v1+json": {
       "config": {
        "plotlyServerURL": "https://plot.ly"
       },
       "data": [
        {
         "coloraxis": "coloraxis",
         "hovertemplate": "x: %{x}<br>y: %{y}<br>Similarity Score: %{z}<extra></extra>",
         "name": "0",
         "type": "heatmap",
         "x": [
          "0_final match_match_final",
          "1_stadium_cup final_final",
          "2_1934 fifa_1934_1930 fifa",
          "3_1950_1950 fifa_1954",
          "4_fifa world_fifa_world cup",
          "5_second_runner_team",
          "6_second_runner_team",
          "7_1994_1994 fifa_1998",
          "8_1962_1962 fifa_1966",
          "9_1970_1970 fifa_1974",
          "10_1982_1982 fifa_1986",
          "11_1950_1950 fifa_1958",
          "12_1970_1970 fifa_1990",
          "13_1930_1930 fifa_stadium",
          "14_1994_1994 fifa_1998",
          "15_1978_1978 fifa_team"
         ],
         "xaxis": "x",
         "y": [
          "0_final match_match_final",
          "1_stadium_cup final_final",
          "2_1934 fifa_1934_1930 fifa",
          "3_1950_1950 fifa_1954",
          "4_fifa world_fifa_world cup",
          "5_second_runner_team",
          "6_second_runner_team",
          "7_1994_1994 fifa_1998",
          "8_1962_1962 fifa_1966",
          "9_1970_1970 fifa_1974",
          "10_1982_1982 fifa_1986",
          "11_1950_1950 fifa_1958",
          "12_1970_1970 fifa_1990",
          "13_1930_1930 fifa_stadium",
          "14_1994_1994 fifa_1998",
          "15_1978_1978 fifa_team"
         ],
         "yaxis": "y",
         "z": {
          "bdata": "+/9/P+i6Yz8oaWU/QEpmPyU4Zz/cJ2U/7JRlP37sZD+jGGY/fGNlPzjPZT+a410/bAlhPwTgWj9etF8/+f5iP+i6Yz/8/38/4/9bP9j1XD+LrmE/p5dgP3DHXj9pL10/W39dPxWpXT9D+F4/qaZxP175dT+w024/1ed0P0g6Wz8oaWU/4/9bP/3/fz/wz3c/a/RzP/AidT/Iznc/i/N0P3Xydj+aSXU/kjJ2P6BkWD8HRlw/+Z5gP1PLWT+SOHQ/QEpmP9j1XD/wz3c//v9/PxI8cz8FfHQ/mL93P61ddT8+THg/TF91PxKQdT8RV2Q/TKBdP9HGVz85h1s/Nm90PyU4Zz+LrmE/a/RzPxI8cz8AAIA/viV5P1BGcz+xjnU/XtF1P093dz8QiXg/mIBWP9ZpXD9Y81Q/sQZbPwpJcT/cJ2U/p5dgP/AidT8FfHQ/viV5P/z/fz+593o/WoB2P6ahcz/cQnI/Gh1zP7sDVj8w2Fs/62hUP8pYWj9YC3I/7JRlP3DHXj/Iznc/mL93P1BGcz+593o///9/PyBydj9XM3Y/xSd3P7o2dz/ZR1g/62dgP+b/Vj+uzVk/P6V1P37sZD9pL10/i/N0P61ddT+xjnU/WoB2PyBydj8BAIA/5Sl1P/Stcz84XnM/hn9ZP2aLXD8DqFU/KohmPxw+dD+jGGY/W39dP3Xydj8+THg/XtF1P6ahcz9XM3Y/5Sl1PwIAgD+KbXc/+Ep3P/RfWj/hHVw/+eJYP0SoWj/+OHQ/fGNlPxWpXT+aSXU/TF91P093dz/cQnI/xSd3P/Stcz+KbXc/AACAP42Ndz8s7lY/TWpgPwm+VT+DZFg/XZh0PzjPZT9D+F4/kjJ2PxKQdT8QiXg/Gh1zP7o2dz84XnM/+Ep3P42Ndz8AAIA/UIRXPxNtXD8tj1Y/5UpYP77acz+a410/qaZxP6BkWD8RV2Q/mIBWP7sDVj/ZR1g/hn9ZP/RfWj8s7lY/UIRXPwEAgD/ctnE/EphqPwApcT/ac1o/bAlhP175dT8HRlw/TKBdP9ZpXD8w2Fs/62dgP2aLXD/hHVw/TWpgPxNtXD/ctnE/AACAPyAhcD+1TXI/mPlaPwTgWj+w024/+Z5gP9HGVz9Y81Q/62hUP+b/Vj8DqFU/+eJYPwm+VT8tj1Y/EphqPyAhcD8AAIA/oodrPzZ+Vj9etF8/1ed0P1PLWT85h1s/sQZbP8pYWj+uzVk/KohmP0SoWj+DZFg/5UpYPwApcT+1TXI/oodrPwIAgD95eVo/+f5iP0g6Wz+SOHQ/Nm90PwpJcT9YC3I/P6V1Pxw+dD/+OHQ/XZh0P77acz/ac1o/mPlaPzZ+Vj95eVo//v9/Pw==",
          "dtype": "f4",
          "shape": "16, 16"
         }
        }
       ],
       "layout": {
        "coloraxis": {
         "colorbar": {
          "title": {
           "text": "Similarity Score"
          }
         },
         "colorscale": [
          [
           0,
           "rgb(247,252,240)"
          ],
          [
           0.125,
           "rgb(224,243,219)"
          ],
          [
           0.25,
           "rgb(204,235,197)"
          ],
          [
           0.375,
           "rgb(168,221,181)"
          ],
          [
           0.5,
           "rgb(123,204,196)"
          ],
          [
           0.625,
           "rgb(78,179,211)"
          ],
          [
           0.75,
           "rgb(43,140,190)"
          ],
          [
           0.875,
           "rgb(8,104,172)"
          ],
          [
           1,
           "rgb(8,64,129)"
          ]
         ]
        },
        "height": 600,
        "hoverlabel": {
         "bgcolor": "white",
         "font": {
          "family": "Rockwell",
          "size": 16
         }
        },
        "legend": {
         "title": {
          "text": "Trend"
         }
        },
        "margin": {
         "t": 60
        },
        "showlegend": true,
        "template": {
         "data": {
          "bar": [
           {
            "error_x": {
             "color": "#2a3f5f"
            },
            "error_y": {
             "color": "#2a3f5f"
            },
            "marker": {
             "line": {
              "color": "#E5ECF6",
              "width": 0.5
             },
             "pattern": {
              "fillmode": "overlay",
              "size": 10,
              "solidity": 0.2
             }
            },
            "type": "bar"
           }
          ],
          "barpolar": [
           {
            "marker": {
             "line": {
              "color": "#E5ECF6",
              "width": 0.5
             },
             "pattern": {
              "fillmode": "overlay",
              "size": 10,
              "solidity": 0.2
             }
            },
            "type": "barpolar"
           }
          ],
          "carpet": [
           {
            "aaxis": {
             "endlinecolor": "#2a3f5f",
             "gridcolor": "white",
             "linecolor": "white",
             "minorgridcolor": "white",
             "startlinecolor": "#2a3f5f"
            },
            "baxis": {
             "endlinecolor": "#2a3f5f",
             "gridcolor": "white",
             "linecolor": "white",
             "minorgridcolor": "white",
             "startlinecolor": "#2a3f5f"
            },
            "type": "carpet"
           }
          ],
          "choropleth": [
           {
            "colorbar": {
             "outlinewidth": 0,
             "ticks": ""
            },
            "type": "choropleth"
           }
          ],
          "contour": [
           {
            "colorbar": {
             "outlinewidth": 0,
             "ticks": ""
            },
            "colorscale": [
             [
              0,
              "#0d0887"
             ],
             [
              0.1111111111111111,
              "#46039f"
             ],
             [
              0.2222222222222222,
              "#7201a8"
             ],
             [
              0.3333333333333333,
              "#9c179e"
             ],
             [
              0.4444444444444444,
              "#bd3786"
             ],
             [
              0.5555555555555556,
              "#d8576b"
             ],
             [
              0.6666666666666666,
              "#ed7953"
             ],
             [
              0.7777777777777778,
              "#fb9f3a"
             ],
             [
              0.8888888888888888,
              "#fdca26"
             ],
             [
              1,
              "#f0f921"
             ]
            ],
            "type": "contour"
           }
          ],
          "contourcarpet": [
           {
            "colorbar": {
             "outlinewidth": 0,
             "ticks": ""
            },
            "type": "contourcarpet"
           }
          ],
          "heatmap": [
           {
            "colorbar": {
             "outlinewidth": 0,
             "ticks": ""
            },
            "colorscale": [
             [
              0,
              "#0d0887"
             ],
             [
              0.1111111111111111,
              "#46039f"
             ],
             [
              0.2222222222222222,
              "#7201a8"
             ],
             [
              0.3333333333333333,
              "#9c179e"
             ],
             [
              0.4444444444444444,
              "#bd3786"
             ],
             [
              0.5555555555555556,
              "#d8576b"
             ],
             [
              0.6666666666666666,
              "#ed7953"
             ],
             [
              0.7777777777777778,
              "#fb9f3a"
             ],
             [
              0.8888888888888888,
              "#fdca26"
             ],
             [
              1,
              "#f0f921"
             ]
            ],
            "type": "heatmap"
           }
          ],
          "histogram": [
           {
            "marker": {
             "pattern": {
              "fillmode": "overlay",
              "size": 10,
              "solidity": 0.2
             }
            },
            "type": "histogram"
           }
          ],
          "histogram2d": [
           {
            "colorbar": {
             "outlinewidth": 0,
             "ticks": ""
            },
            "colorscale": [
             [
              0,
              "#0d0887"
             ],
             [
              0.1111111111111111,
              "#46039f"
             ],
             [
              0.2222222222222222,
              "#7201a8"
             ],
             [
              0.3333333333333333,
              "#9c179e"
             ],
             [
              0.4444444444444444,
              "#bd3786"
             ],
             [
              0.5555555555555556,
              "#d8576b"
             ],
             [
              0.6666666666666666,
              "#ed7953"
             ],
             [
              0.7777777777777778,
              "#fb9f3a"
             ],
             [
              0.8888888888888888,
              "#fdca26"
             ],
             [
              1,
              "#f0f921"
             ]
            ],
            "type": "histogram2d"
           }
          ],
          "histogram2dcontour": [
           {
            "colorbar": {
             "outlinewidth": 0,
             "ticks": ""
            },
            "colorscale": [
             [
              0,
              "#0d0887"
             ],
             [
              0.1111111111111111,
              "#46039f"
             ],
             [
              0.2222222222222222,
              "#7201a8"
             ],
             [
              0.3333333333333333,
              "#9c179e"
             ],
             [
              0.4444444444444444,
              "#bd3786"
             ],
             [
              0.5555555555555556,
              "#d8576b"
             ],
             [
              0.6666666666666666,
              "#ed7953"
             ],
             [
              0.7777777777777778,
              "#fb9f3a"
             ],
             [
              0.8888888888888888,
              "#fdca26"
             ],
             [
              1,
              "#f0f921"
             ]
            ],
            "type": "histogram2dcontour"
           }
          ],
          "mesh3d": [
           {
            "colorbar": {
             "outlinewidth": 0,
             "ticks": ""
            },
            "type": "mesh3d"
           }
          ],
          "parcoords": [
           {
            "line": {
             "colorbar": {
              "outlinewidth": 0,
              "ticks": ""
             }
            },
            "type": "parcoords"
           }
          ],
          "pie": [
           {
            "automargin": true,
            "type": "pie"
           }
          ],
          "scatter": [
           {
            "fillpattern": {
             "fillmode": "overlay",
             "size": 10,
             "solidity": 0.2
            },
            "type": "scatter"
           }
          ],
          "scatter3d": [
           {
            "line": {
             "colorbar": {
              "outlinewidth": 0,
              "ticks": ""
             }
            },
            "marker": {
             "colorbar": {
              "outlinewidth": 0,
              "ticks": ""
             }
            },
            "type": "scatter3d"
           }
          ],
          "scattercarpet": [
           {
            "marker": {
             "colorbar": {
              "outlinewidth": 0,
              "ticks": ""
             }
            },
            "type": "scattercarpet"
           }
          ],
          "scattergeo": [
           {
            "marker": {
             "colorbar": {
              "outlinewidth": 0,
              "ticks": ""
             }
            },
            "type": "scattergeo"
           }
          ],
          "scattergl": [
           {
            "marker": {
             "colorbar": {
              "outlinewidth": 0,
              "ticks": ""
             }
            },
            "type": "scattergl"
           }
          ],
          "scattermap": [
           {
            "marker": {
             "colorbar": {
              "outlinewidth": 0,
              "ticks": ""
             }
            },
            "type": "scattermap"
           }
          ],
          "scattermapbox": [
           {
            "marker": {
             "colorbar": {
              "outlinewidth": 0,
              "ticks": ""
             }
            },
            "type": "scattermapbox"
           }
          ],
          "scatterpolar": [
           {
            "marker": {
             "colorbar": {
              "outlinewidth": 0,
              "ticks": ""
             }
            },
            "type": "scatterpolar"
           }
          ],
          "scatterpolargl": [
           {
            "marker": {
             "colorbar": {
              "outlinewidth": 0,
              "ticks": ""
             }
            },
            "type": "scatterpolargl"
           }
          ],
          "scatterternary": [
           {
            "marker": {
             "colorbar": {
              "outlinewidth": 0,
              "ticks": ""
             }
            },
            "type": "scatterternary"
           }
          ],
          "surface": [
           {
            "colorbar": {
             "outlinewidth": 0,
             "ticks": ""
            },
            "colorscale": [
             [
              0,
              "#0d0887"
             ],
             [
              0.1111111111111111,
              "#46039f"
             ],
             [
              0.2222222222222222,
              "#7201a8"
             ],
             [
              0.3333333333333333,
              "#9c179e"
             ],
             [
              0.4444444444444444,
              "#bd3786"
             ],
             [
              0.5555555555555556,
              "#d8576b"
             ],
             [
              0.6666666666666666,
              "#ed7953"
             ],
             [
              0.7777777777777778,
              "#fb9f3a"
             ],
             [
              0.8888888888888888,
              "#fdca26"
             ],
             [
              1,
              "#f0f921"
             ]
            ],
            "type": "surface"
           }
          ],
          "table": [
           {
            "cells": {
             "fill": {
              "color": "#EBF0F8"
             },
             "line": {
              "color": "white"
             }
            },
            "header": {
             "fill": {
              "color": "#C8D4E3"
             },
             "line": {
              "color": "white"
             }
            },
            "type": "table"
           }
          ]
         },
         "layout": {
          "annotationdefaults": {
           "arrowcolor": "#2a3f5f",
           "arrowhead": 0,
           "arrowwidth": 1
          },
          "autotypenumbers": "strict",
          "coloraxis": {
           "colorbar": {
            "outlinewidth": 0,
            "ticks": ""
           }
          },
          "colorscale": {
           "diverging": [
            [
             0,
             "#8e0152"
            ],
            [
             0.1,
             "#c51b7d"
            ],
            [
             0.2,
             "#de77ae"
            ],
            [
             0.3,
             "#f1b6da"
            ],
            [
             0.4,
             "#fde0ef"
            ],
            [
             0.5,
             "#f7f7f7"
            ],
            [
             0.6,
             "#e6f5d0"
            ],
            [
             0.7,
             "#b8e186"
            ],
            [
             0.8,
             "#7fbc41"
            ],
            [
             0.9,
             "#4d9221"
            ],
            [
             1,
             "#276419"
            ]
           ],
           "sequential": [
            [
             0,
             "#0d0887"
            ],
            [
             0.1111111111111111,
             "#46039f"
            ],
            [
             0.2222222222222222,
             "#7201a8"
            ],
            [
             0.3333333333333333,
             "#9c179e"
            ],
            [
             0.4444444444444444,
             "#bd3786"
            ],
            [
             0.5555555555555556,
             "#d8576b"
            ],
            [
             0.6666666666666666,
             "#ed7953"
            ],
            [
             0.7777777777777778,
             "#fb9f3a"
            ],
            [
             0.8888888888888888,
             "#fdca26"
            ],
            [
             1,
             "#f0f921"
            ]
           ],
           "sequentialminus": [
            [
             0,
             "#0d0887"
            ],
            [
             0.1111111111111111,
             "#46039f"
            ],
            [
             0.2222222222222222,
             "#7201a8"
            ],
            [
             0.3333333333333333,
             "#9c179e"
            ],
            [
             0.4444444444444444,
             "#bd3786"
            ],
            [
             0.5555555555555556,
             "#d8576b"
            ],
            [
             0.6666666666666666,
             "#ed7953"
            ],
            [
             0.7777777777777778,
             "#fb9f3a"
            ],
            [
             0.8888888888888888,
             "#fdca26"
            ],
            [
             1,
             "#f0f921"
            ]
           ]
          },
          "colorway": [
           "#636efa",
           "#EF553B",
           "#00cc96",
           "#ab63fa",
           "#FFA15A",
           "#19d3f3",
           "#FF6692",
           "#B6E880",
           "#FF97FF",
           "#FECB52"
          ],
          "font": {
           "color": "#2a3f5f"
          },
          "geo": {
           "bgcolor": "white",
           "lakecolor": "white",
           "landcolor": "#E5ECF6",
           "showlakes": true,
           "showland": true,
           "subunitcolor": "white"
          },
          "hoverlabel": {
           "align": "left"
          },
          "hovermode": "closest",
          "mapbox": {
           "style": "light"
          },
          "paper_bgcolor": "white",
          "plot_bgcolor": "#E5ECF6",
          "polar": {
           "angularaxis": {
            "gridcolor": "white",
            "linecolor": "white",
            "ticks": ""
           },
           "bgcolor": "#E5ECF6",
           "radialaxis": {
            "gridcolor": "white",
            "linecolor": "white",
            "ticks": ""
           }
          },
          "scene": {
           "xaxis": {
            "backgroundcolor": "#E5ECF6",
            "gridcolor": "white",
            "gridwidth": 2,
            "linecolor": "white",
            "showbackground": true,
            "ticks": "",
            "zerolinecolor": "white"
           },
           "yaxis": {
            "backgroundcolor": "#E5ECF6",
            "gridcolor": "white",
            "gridwidth": 2,
            "linecolor": "white",
            "showbackground": true,
            "ticks": "",
            "zerolinecolor": "white"
           },
           "zaxis": {
            "backgroundcolor": "#E5ECF6",
            "gridcolor": "white",
            "gridwidth": 2,
            "linecolor": "white",
            "showbackground": true,
            "ticks": "",
            "zerolinecolor": "white"
           }
          },
          "shapedefaults": {
           "line": {
            "color": "#2a3f5f"
           }
          },
          "ternary": {
           "aaxis": {
            "gridcolor": "white",
            "linecolor": "white",
            "ticks": ""
           },
           "baxis": {
            "gridcolor": "white",
            "linecolor": "white",
            "ticks": ""
           },
           "bgcolor": "#E5ECF6",
           "caxis": {
            "gridcolor": "white",
            "linecolor": "white",
            "ticks": ""
           }
          },
          "title": {
           "x": 0.05
          },
          "xaxis": {
           "automargin": true,
           "gridcolor": "white",
           "linecolor": "white",
           "ticks": "",
           "title": {
            "standoff": 15
           },
           "zerolinecolor": "white",
           "zerolinewidth": 2
          },
          "yaxis": {
           "automargin": true,
           "gridcolor": "white",
           "linecolor": "white",
           "ticks": "",
           "title": {
            "standoff": 15
           },
           "zerolinecolor": "white",
           "zerolinewidth": 2
          }
         }
        },
        "title": {
         "text": "Similarité entre les Sujets",
         "x": 0.5
        },
        "width": 800,
        "xaxis": {
         "anchor": "y",
         "constrain": "domain",
         "domain": [
          0,
          1
         ],
         "scaleanchor": "y"
        },
        "yaxis": {
         "anchor": "x",
         "autorange": "reversed",
         "constrain": "domain",
         "domain": [
          0,
          1
         ]
        }
       }
      }
     },
     "metadata": {},
     "output_type": "display_data"
    },
    {
     "name": "stdout",
     "output_type": "stream",
     "text": [
      "   🌳 4. Hiérarchie des sujets...\n"
     ]
    },
    {
     "data": {
      "application/vnd.plotly.v1+json": {
       "config": {
        "plotlyServerURL": "https://plot.ly"
       },
       "data": [
        {
         "hoverinfo": "text",
         "marker": {
          "color": "rgb(61,153,112)"
         },
         "mode": "lines",
         "type": "scatter",
         "x": {
          "bdata": "AAAAAAAAAAAQ3NaLQw/PPxDc1otDD88/AAAAAAAAAAA=",
          "dtype": "f8"
         },
         "xaxis": "x",
         "y": {
          "bdata": "AAAAAAAALsAAAAAAAAAuwAAAAAAAADnAAAAAAAAAOcA=",
          "dtype": "f8"
         },
         "yaxis": "y"
        },
        {
         "hoverinfo": "text",
         "marker": {
          "color": "rgb(61,153,112)"
         },
         "mode": "lines",
         "type": "scatter",
         "x": {
          "bdata": "AAAAAAAAAAC587FEgjngP7nzsUSCOeA/AAAAAAAAAAA=",
          "dtype": "f8"
         },
         "xaxis": "x",
         "y": {
          "bdata": "AAAAAACAQcAAAAAAAIBBwAAAAAAAgEbAAAAAAACARsA=",
          "dtype": "f8"
         },
         "yaxis": "y"
        },
        {
         "hoverinfo": "text",
         "marker": {
          "color": "rgb(61,153,112)"
         },
         "mode": "lines",
         "type": "scatter",
         "x": {
          "bdata": "ENzWi0MPzz9115yKrRDhP3XXnIqtEOE/ufOxRII54D8=",
          "dtype": "f8"
         },
         "xaxis": "x",
         "y": {
          "bdata": "AAAAAAAANMAAAAAAAAA0wAAAAAAAAETAAAAAAAAARMA=",
          "dtype": "f8"
         },
         "yaxis": "y"
        },
        {
         "hoverinfo": "text",
         "marker": {
          "color": "rgb(61,153,112)"
         },
         "mode": "lines",
         "type": "scatter",
         "x": {
          "bdata": "AAAAAAAAAABDF443foPnP0MXjjd+g+c/ddeciq0Q4T8=",
          "dtype": "f8"
         },
         "xaxis": "x",
         "y": {
          "bdata": "AAAAAAAAFMAAAAAAAAAUwAAAAAAAAD7AAAAAAAAAPsA=",
          "dtype": "f8"
         },
         "yaxis": "y"
        },
        {
         "hoverinfo": "text",
         "marker": {
          "color": "rgb(61,153,112)"
         },
         "mode": "lines",
         "type": "scatter",
         "x": {
          "bdata": "AAAAAAAAAABQgucW8X/cP1CC5xbxf9w/AAAAAAAAAAA=",
          "dtype": "f8"
         },
         "xaxis": "x",
         "y": {
          "bdata": "AAAAAACAS8AAAAAAAIBLwAAAAAAAQFDAAAAAAABAUMA=",
          "dtype": "f8"
         },
         "yaxis": "y"
        },
        {
         "hoverinfo": "text",
         "marker": {
          "color": "rgb(61,153,112)"
         },
         "mode": "lines",
         "type": "scatter",
         "x": {
          "bdata": "UILnFvF/3D8+6vAyHMngPz7q8DIcyeA/AAAAAAAAAAA=",
          "dtype": "f8"
         },
         "xaxis": "x",
         "y": {
          "bdata": "AAAAAAAATsAAAAAAAABOwAAAAAAAwFLAAAAAAADAUsA=",
          "dtype": "f8"
         },
         "yaxis": "y"
        },
        {
         "hoverinfo": "text",
         "marker": {
          "color": "rgb(61,153,112)"
         },
         "mode": "lines",
         "type": "scatter",
         "x": {
          "bdata": "PurwMhzJ4D/RO61Dhc7kP9E7rUOFzuQ/AAAAAAAAAAA=",
          "dtype": "f8"
         },
         "xaxis": "x",
         "y": {
          "bdata": "AAAAAADgUMAAAAAAAOBQwAAAAAAAQFXAAAAAAABAVcA=",
          "dtype": "f8"
         },
         "yaxis": "y"
        },
        {
         "hoverinfo": "text",
         "marker": {
          "color": "rgb(61,153,112)"
         },
         "mode": "lines",
         "type": "scatter",
         "x": {
          "bdata": "QxeON36D5z+xsbImUM7tP7GxsiZQzu0/0TutQ4XO5D8=",
          "dtype": "f8"
         },
         "xaxis": "x",
         "y": {
          "bdata": "AAAAAACAMcAAAAAAAIAxwAAAAAAAEFPAAAAAAAAQU8A=",
          "dtype": "f8"
         },
         "yaxis": "y"
        },
        {
         "hoverinfo": "text",
         "marker": {
          "color": "rgb(255,65,54)"
         },
         "mode": "lines",
         "type": "scatter",
         "x": {
          "bdata": "AAAAAAAAAABAk9s1jU3ZP0CT2zWNTdk/AAAAAAAAAAA=",
          "dtype": "f8"
         },
         "xaxis": "x",
         "y": {
          "bdata": "AAAAAADAV8AAAAAAAMBXwAAAAAAAQFrAAAAAAABAWsA=",
          "dtype": "f8"
         },
         "yaxis": "y"
        },
        {
         "hoverinfo": "text",
         "marker": {
          "color": "rgb(255,65,54)"
         },
         "mode": "lines",
         "type": "scatter",
         "x": {
          "bdata": "AAAAAAAAAACuoFvCcuLUP66gW8Jy4tQ/AAAAAAAAAAA=",
          "dtype": "f8"
         },
         "xaxis": "x",
         "y": {
          "bdata": "AAAAAABAX8AAAAAAAEBfwAAAAAAA4GDAAAAAAADgYMA=",
          "dtype": "f8"
         },
         "yaxis": "y"
        },
        {
         "hoverinfo": "text",
         "marker": {
          "color": "rgb(255,65,54)"
         },
         "mode": "lines",
         "type": "scatter",
         "x": {
          "bdata": "rqBbwnLi1D+HgQ3y9BjaP4eBDfL0GNo/AAAAAAAAAAA=",
          "dtype": "f8"
         },
         "xaxis": "x",
         "y": {
          "bdata": "AAAAAABAYMAAAAAAAEBgwAAAAAAAIGLAAAAAAAAgYsA=",
          "dtype": "f8"
         },
         "yaxis": "y"
        },
        {
         "hoverinfo": "text",
         "marker": {
          "color": "rgb(255,65,54)"
         },
         "mode": "lines",
         "type": "scatter",
         "x": {
          "bdata": "AAAAAAAAAAAyGnf7k+7hPzIad/uT7uE/h4EN8vQY2j8=",
          "dtype": "f8"
         },
         "xaxis": "x",
         "y": {
          "bdata": "AAAAAADAXMAAAAAAAMBcwAAAAAAAMGHAAAAAAAAwYcA=",
          "dtype": "f8"
         },
         "yaxis": "y"
        },
        {
         "hoverinfo": "text",
         "marker": {
          "color": "rgb(255,65,54)"
         },
         "mode": "lines",
         "type": "scatter",
         "x": {
          "bdata": "Mhp3+5Pu4T+SIpPFp5XnP5Iik8Wnlec/AAAAAAAAAAA=",
          "dtype": "f8"
         },
         "xaxis": "x",
         "y": {
          "bdata": "AAAAAACQX8AAAAAAAJBfwAAAAAAAYGPAAAAAAABgY8A=",
          "dtype": "f8"
         },
         "yaxis": "y"
        },
        {
         "hoverinfo": "text",
         "marker": {
          "color": "rgb(255,65,54)"
         },
         "mode": "lines",
         "type": "scatter",
         "x": {
          "bdata": "QJPbNY1N2T/KFzs7UcTvP8oXOztRxO8/kiKTxaeV5z8=",
          "dtype": "f8"
         },
         "xaxis": "x",
         "y": {
          "bdata": "AAAAAAAAWcAAAAAAAABZwAAAAAAAlGHAAAAAAACUYcA=",
          "dtype": "f8"
         },
         "yaxis": "y"
        },
        {
         "hoverinfo": "text",
         "marker": {
          "color": "rgb(0,116,217)"
         },
         "mode": "lines",
         "type": "scatter",
         "x": {
          "bdata": "sbGyJlDO7T8ZYDmZqjz6PxlgOZmqPPo/yhc7O1HE7z8=",
          "dtype": "f8"
         },
         "xaxis": "x",
         "y": {
          "bdata": "AAAAAABwR8AAAAAAAHBHwAAAAAAAFF7AAAAAAAAUXsA=",
          "dtype": "f8"
         },
         "yaxis": "y"
        }
       ],
       "layout": {
        "autosize": false,
        "height": 440,
        "hoverlabel": {
         "bgcolor": "white",
         "font": {
          "family": "Rockwell",
          "size": 16
         }
        },
        "hovermode": "closest",
        "plot_bgcolor": "#ECEFF1",
        "showlegend": false,
        "template": {
         "data": {
          "bar": [
           {
            "error_x": {
             "color": "#2a3f5f"
            },
            "error_y": {
             "color": "#2a3f5f"
            },
            "marker": {
             "line": {
              "color": "white",
              "width": 0.5
             },
             "pattern": {
              "fillmode": "overlay",
              "size": 10,
              "solidity": 0.2
             }
            },
            "type": "bar"
           }
          ],
          "barpolar": [
           {
            "marker": {
             "line": {
              "color": "white",
              "width": 0.5
             },
             "pattern": {
              "fillmode": "overlay",
              "size": 10,
              "solidity": 0.2
             }
            },
            "type": "barpolar"
           }
          ],
          "carpet": [
           {
            "aaxis": {
             "endlinecolor": "#2a3f5f",
             "gridcolor": "#C8D4E3",
             "linecolor": "#C8D4E3",
             "minorgridcolor": "#C8D4E3",
             "startlinecolor": "#2a3f5f"
            },
            "baxis": {
             "endlinecolor": "#2a3f5f",
             "gridcolor": "#C8D4E3",
             "linecolor": "#C8D4E3",
             "minorgridcolor": "#C8D4E3",
             "startlinecolor": "#2a3f5f"
            },
            "type": "carpet"
           }
          ],
          "choropleth": [
           {
            "colorbar": {
             "outlinewidth": 0,
             "ticks": ""
            },
            "type": "choropleth"
           }
          ],
          "contour": [
           {
            "colorbar": {
             "outlinewidth": 0,
             "ticks": ""
            },
            "colorscale": [
             [
              0,
              "#0d0887"
             ],
             [
              0.1111111111111111,
              "#46039f"
             ],
             [
              0.2222222222222222,
              "#7201a8"
             ],
             [
              0.3333333333333333,
              "#9c179e"
             ],
             [
              0.4444444444444444,
              "#bd3786"
             ],
             [
              0.5555555555555556,
              "#d8576b"
             ],
             [
              0.6666666666666666,
              "#ed7953"
             ],
             [
              0.7777777777777778,
              "#fb9f3a"
             ],
             [
              0.8888888888888888,
              "#fdca26"
             ],
             [
              1,
              "#f0f921"
             ]
            ],
            "type": "contour"
           }
          ],
          "contourcarpet": [
           {
            "colorbar": {
             "outlinewidth": 0,
             "ticks": ""
            },
            "type": "contourcarpet"
           }
          ],
          "heatmap": [
           {
            "colorbar": {
             "outlinewidth": 0,
             "ticks": ""
            },
            "colorscale": [
             [
              0,
              "#0d0887"
             ],
             [
              0.1111111111111111,
              "#46039f"
             ],
             [
              0.2222222222222222,
              "#7201a8"
             ],
             [
              0.3333333333333333,
              "#9c179e"
             ],
             [
              0.4444444444444444,
              "#bd3786"
             ],
             [
              0.5555555555555556,
              "#d8576b"
             ],
             [
              0.6666666666666666,
              "#ed7953"
             ],
             [
              0.7777777777777778,
              "#fb9f3a"
             ],
             [
              0.8888888888888888,
              "#fdca26"
             ],
             [
              1,
              "#f0f921"
             ]
            ],
            "type": "heatmap"
           }
          ],
          "histogram": [
           {
            "marker": {
             "pattern": {
              "fillmode": "overlay",
              "size": 10,
              "solidity": 0.2
             }
            },
            "type": "histogram"
           }
          ],
          "histogram2d": [
           {
            "colorbar": {
             "outlinewidth": 0,
             "ticks": ""
            },
            "colorscale": [
             [
              0,
              "#0d0887"
             ],
             [
              0.1111111111111111,
              "#46039f"
             ],
             [
              0.2222222222222222,
              "#7201a8"
             ],
             [
              0.3333333333333333,
              "#9c179e"
             ],
             [
              0.4444444444444444,
              "#bd3786"
             ],
             [
              0.5555555555555556,
              "#d8576b"
             ],
             [
              0.6666666666666666,
              "#ed7953"
             ],
             [
              0.7777777777777778,
              "#fb9f3a"
             ],
             [
              0.8888888888888888,
              "#fdca26"
             ],
             [
              1,
              "#f0f921"
             ]
            ],
            "type": "histogram2d"
           }
          ],
          "histogram2dcontour": [
           {
            "colorbar": {
             "outlinewidth": 0,
             "ticks": ""
            },
            "colorscale": [
             [
              0,
              "#0d0887"
             ],
             [
              0.1111111111111111,
              "#46039f"
             ],
             [
              0.2222222222222222,
              "#7201a8"
             ],
             [
              0.3333333333333333,
              "#9c179e"
             ],
             [
              0.4444444444444444,
              "#bd3786"
             ],
             [
              0.5555555555555556,
              "#d8576b"
             ],
             [
              0.6666666666666666,
              "#ed7953"
             ],
             [
              0.7777777777777778,
              "#fb9f3a"
             ],
             [
              0.8888888888888888,
              "#fdca26"
             ],
             [
              1,
              "#f0f921"
             ]
            ],
            "type": "histogram2dcontour"
           }
          ],
          "mesh3d": [
           {
            "colorbar": {
             "outlinewidth": 0,
             "ticks": ""
            },
            "type": "mesh3d"
           }
          ],
          "parcoords": [
           {
            "line": {
             "colorbar": {
              "outlinewidth": 0,
              "ticks": ""
             }
            },
            "type": "parcoords"
           }
          ],
          "pie": [
           {
            "automargin": true,
            "type": "pie"
           }
          ],
          "scatter": [
           {
            "fillpattern": {
             "fillmode": "overlay",
             "size": 10,
             "solidity": 0.2
            },
            "type": "scatter"
           }
          ],
          "scatter3d": [
           {
            "line": {
             "colorbar": {
              "outlinewidth": 0,
              "ticks": ""
             }
            },
            "marker": {
             "colorbar": {
              "outlinewidth": 0,
              "ticks": ""
             }
            },
            "type": "scatter3d"
           }
          ],
          "scattercarpet": [
           {
            "marker": {
             "colorbar": {
              "outlinewidth": 0,
              "ticks": ""
             }
            },
            "type": "scattercarpet"
           }
          ],
          "scattergeo": [
           {
            "marker": {
             "colorbar": {
              "outlinewidth": 0,
              "ticks": ""
             }
            },
            "type": "scattergeo"
           }
          ],
          "scattergl": [
           {
            "marker": {
             "colorbar": {
              "outlinewidth": 0,
              "ticks": ""
             }
            },
            "type": "scattergl"
           }
          ],
          "scattermap": [
           {
            "marker": {
             "colorbar": {
              "outlinewidth": 0,
              "ticks": ""
             }
            },
            "type": "scattermap"
           }
          ],
          "scattermapbox": [
           {
            "marker": {
             "colorbar": {
              "outlinewidth": 0,
              "ticks": ""
             }
            },
            "type": "scattermapbox"
           }
          ],
          "scatterpolar": [
           {
            "marker": {
             "colorbar": {
              "outlinewidth": 0,
              "ticks": ""
             }
            },
            "type": "scatterpolar"
           }
          ],
          "scatterpolargl": [
           {
            "marker": {
             "colorbar": {
              "outlinewidth": 0,
              "ticks": ""
             }
            },
            "type": "scatterpolargl"
           }
          ],
          "scatterternary": [
           {
            "marker": {
             "colorbar": {
              "outlinewidth": 0,
              "ticks": ""
             }
            },
            "type": "scatterternary"
           }
          ],
          "surface": [
           {
            "colorbar": {
             "outlinewidth": 0,
             "ticks": ""
            },
            "colorscale": [
             [
              0,
              "#0d0887"
             ],
             [
              0.1111111111111111,
              "#46039f"
             ],
             [
              0.2222222222222222,
              "#7201a8"
             ],
             [
              0.3333333333333333,
              "#9c179e"
             ],
             [
              0.4444444444444444,
              "#bd3786"
             ],
             [
              0.5555555555555556,
              "#d8576b"
             ],
             [
              0.6666666666666666,
              "#ed7953"
             ],
             [
              0.7777777777777778,
              "#fb9f3a"
             ],
             [
              0.8888888888888888,
              "#fdca26"
             ],
             [
              1,
              "#f0f921"
             ]
            ],
            "type": "surface"
           }
          ],
          "table": [
           {
            "cells": {
             "fill": {
              "color": "#EBF0F8"
             },
             "line": {
              "color": "white"
             }
            },
            "header": {
             "fill": {
              "color": "#C8D4E3"
             },
             "line": {
              "color": "white"
             }
            },
            "type": "table"
           }
          ]
         },
         "layout": {
          "annotationdefaults": {
           "arrowcolor": "#2a3f5f",
           "arrowhead": 0,
           "arrowwidth": 1
          },
          "autotypenumbers": "strict",
          "coloraxis": {
           "colorbar": {
            "outlinewidth": 0,
            "ticks": ""
           }
          },
          "colorscale": {
           "diverging": [
            [
             0,
             "#8e0152"
            ],
            [
             0.1,
             "#c51b7d"
            ],
            [
             0.2,
             "#de77ae"
            ],
            [
             0.3,
             "#f1b6da"
            ],
            [
             0.4,
             "#fde0ef"
            ],
            [
             0.5,
             "#f7f7f7"
            ],
            [
             0.6,
             "#e6f5d0"
            ],
            [
             0.7,
             "#b8e186"
            ],
            [
             0.8,
             "#7fbc41"
            ],
            [
             0.9,
             "#4d9221"
            ],
            [
             1,
             "#276419"
            ]
           ],
           "sequential": [
            [
             0,
             "#0d0887"
            ],
            [
             0.1111111111111111,
             "#46039f"
            ],
            [
             0.2222222222222222,
             "#7201a8"
            ],
            [
             0.3333333333333333,
             "#9c179e"
            ],
            [
             0.4444444444444444,
             "#bd3786"
            ],
            [
             0.5555555555555556,
             "#d8576b"
            ],
            [
             0.6666666666666666,
             "#ed7953"
            ],
            [
             0.7777777777777778,
             "#fb9f3a"
            ],
            [
             0.8888888888888888,
             "#fdca26"
            ],
            [
             1,
             "#f0f921"
            ]
           ],
           "sequentialminus": [
            [
             0,
             "#0d0887"
            ],
            [
             0.1111111111111111,
             "#46039f"
            ],
            [
             0.2222222222222222,
             "#7201a8"
            ],
            [
             0.3333333333333333,
             "#9c179e"
            ],
            [
             0.4444444444444444,
             "#bd3786"
            ],
            [
             0.5555555555555556,
             "#d8576b"
            ],
            [
             0.6666666666666666,
             "#ed7953"
            ],
            [
             0.7777777777777778,
             "#fb9f3a"
            ],
            [
             0.8888888888888888,
             "#fdca26"
            ],
            [
             1,
             "#f0f921"
            ]
           ]
          },
          "colorway": [
           "#636efa",
           "#EF553B",
           "#00cc96",
           "#ab63fa",
           "#FFA15A",
           "#19d3f3",
           "#FF6692",
           "#B6E880",
           "#FF97FF",
           "#FECB52"
          ],
          "font": {
           "color": "#2a3f5f"
          },
          "geo": {
           "bgcolor": "white",
           "lakecolor": "white",
           "landcolor": "white",
           "showlakes": true,
           "showland": true,
           "subunitcolor": "#C8D4E3"
          },
          "hoverlabel": {
           "align": "left"
          },
          "hovermode": "closest",
          "mapbox": {
           "style": "light"
          },
          "paper_bgcolor": "white",
          "plot_bgcolor": "white",
          "polar": {
           "angularaxis": {
            "gridcolor": "#EBF0F8",
            "linecolor": "#EBF0F8",
            "ticks": ""
           },
           "bgcolor": "white",
           "radialaxis": {
            "gridcolor": "#EBF0F8",
            "linecolor": "#EBF0F8",
            "ticks": ""
           }
          },
          "scene": {
           "xaxis": {
            "backgroundcolor": "white",
            "gridcolor": "#DFE8F3",
            "gridwidth": 2,
            "linecolor": "#EBF0F8",
            "showbackground": true,
            "ticks": "",
            "zerolinecolor": "#EBF0F8"
           },
           "yaxis": {
            "backgroundcolor": "white",
            "gridcolor": "#DFE8F3",
            "gridwidth": 2,
            "linecolor": "#EBF0F8",
            "showbackground": true,
            "ticks": "",
            "zerolinecolor": "#EBF0F8"
           },
           "zaxis": {
            "backgroundcolor": "white",
            "gridcolor": "#DFE8F3",
            "gridwidth": 2,
            "linecolor": "#EBF0F8",
            "showbackground": true,
            "ticks": "",
            "zerolinecolor": "#EBF0F8"
           }
          },
          "shapedefaults": {
           "line": {
            "color": "#2a3f5f"
           }
          },
          "ternary": {
           "aaxis": {
            "gridcolor": "#DFE8F3",
            "linecolor": "#A2B1C6",
            "ticks": ""
           },
           "baxis": {
            "gridcolor": "#DFE8F3",
            "linecolor": "#A2B1C6",
            "ticks": ""
           },
           "bgcolor": "white",
           "caxis": {
            "gridcolor": "#DFE8F3",
            "linecolor": "#A2B1C6",
            "ticks": ""
           }
          },
          "title": {
           "x": 0.05
          },
          "xaxis": {
           "automargin": true,
           "gridcolor": "#EBF0F8",
           "linecolor": "#EBF0F8",
           "ticks": "",
           "title": {
            "standoff": 15
           },
           "zerolinecolor": "#EBF0F8",
           "zerolinewidth": 2
          },
          "yaxis": {
           "automargin": true,
           "gridcolor": "#EBF0F8",
           "linecolor": "#EBF0F8",
           "ticks": "",
           "title": {
            "standoff": 15
           },
           "zerolinecolor": "#EBF0F8",
           "zerolinewidth": 2
          }
         }
        },
        "title": {
         "text": "Hiérarchie des Sujets"
        },
        "width": 800,
        "xaxis": {
         "mirror": "allticks",
         "rangemode": "tozero",
         "showgrid": false,
         "showline": true,
         "showticklabels": true,
         "ticks": "outside",
         "type": "linear",
         "zeroline": false
        },
        "yaxis": {
         "mirror": "allticks",
         "range": [
          -160,
          0
         ],
         "rangemode": "tozero",
         "showgrid": false,
         "showline": true,
         "showticklabels": true,
         "tickmode": "array",
         "ticks": "outside",
         "ticktext": [
          "15_1978_1978 fifa_team",
          "6_second_runner_team",
          "5_second_runner_team",
          "3_1950_1950 fifa_1954",
          "2_1934 fifa_1934_1930 fifa",
          "10_1982_1982 fifa_1986",
          "4_fifa world_fifa_world cup",
          "9_1970_1970 fifa_1974",
          "8_1962_1962 fifa_1966",
          "7_1994_1994 fifa_1998",
          "14_1994_1994 fifa_1998",
          "13_1930_1930 fifa_stadium",
          "11_1950_1950 fifa_1958",
          "1_stadium_cup final_final",
          "12_1970_1970 fifa_1990",
          "0_final match_match_final"
         ],
         "tickvals": [
          -5,
          -15,
          -25,
          -35,
          -45,
          -55,
          -65,
          -75,
          -85,
          -95,
          -105,
          -115,
          -125,
          -135,
          -145,
          -155
         ],
         "type": "linear",
         "zeroline": false
        }
       }
      }
     },
     "metadata": {},
     "output_type": "display_data"
    },
    {
     "name": "stdout",
     "output_type": "stream",
     "text": [
      "✅ Visualisations créées avec succès !\n",
      "\\n🔍 Analyse détaillée des sujets...\n",
      "======================================================================\n",
      "🔍 ANALYSE DÉTAILLÉE DES SUJETS\n",
      "======================================================================\n",
      "📊 Analyse de 17 sujets identifiés:\\n\n",
      "🎯 SUJET 0 (300 questions - 23.0%)\n",
      "   🔑 Mots-clés: final match(0.113), match(0.109), final(0.093), world cup(0.053), cup(0.053), fifa world(0.053), world(0.053), fifa(0.053)\n",
      "   📝 Exemples de questions:\n",
      "      1. \" How many fans in the stands watched the final match of the 1970 FIFA World Cup?...\"\n",
      "      2. \" How many fans were in the stands for the final match of the 1970 FIFA World Cup...\"\n",
      "      3. \" What was the number of attendees at the final match of the 2002 FIFA World Cup?...\"\n",
      "   💬 Réponses fréquentes:\n",
      "      • \"45,000\" (15 fois)\n",
      "      • \"173,850\" (15 fois)\n",
      "      • \"62,500\" (15 fois)\n",
      "--------------------------------------------------\n",
      "🎯 SUJET 1 (105 questions - 8.0%)\n",
      "   🔑 Mots-clés: stadium(0.090), cup final(0.055), final(0.053), cup stadium(0.050), did(0.044), stadium did(0.044), final stadium(0.043), fifa(0.037)\n",
      "   📝 Exemples de questions:\n",
      "      1. \" In which stadium did the 2018 FIFA World Cup final occur?\"\n",
      "      2. \" What was the host stadium for the 2018 FIFA World Cup final?\"\n",
      "      3. \" In what stadium was the 1986 FIFA World Cup final event held?\"\n",
      "   💬 Réponses fréquentes:\n",
      "      • \"Olympiastadion\" (30 fois)\n",
      "      • \"Estadio Azteca\" (15 fois)\n",
      "      • \"Soccer City\" (15 fois)\n",
      "--------------------------------------------------\n",
      "🎯 SUJET 2 (90 questions - 6.9%)\n",
      "   🔑 Mots-clés: 1934 fifa(0.082), 1934(0.082), 1930 fifa(0.075), 1930(0.075), 1938(0.075), 1938 fifa(0.075), team(0.047), cup(0.044)\n",
      "   📝 Exemples de questions:\n",
      "      1. \" Who won the 1934 FIFA World Cup?(Give me the name only)\"\n",
      "      2. \" Which team secured the second position in the 1934 FIFA World Cup?(Give me the ...\"\n",
      "      3. \" Who was the second-place finisher in the 1938 FIFA World Cup?(Give me the name ...\"\n",
      "   💬 Réponses fréquentes:\n",
      "      • \"Italy\" (30 fois)\n",
      "      • \"Uruguay\" (15 fois)\n",
      "      • \"Argentina\" (15 fois)\n",
      "--------------------------------------------------\n",
      "🎯 SUJET 3 (90 questions - 6.9%)\n",
      "   🔑 Mots-clés: 1950(0.075), 1950 fifa(0.075), 1954(0.075), 1954 fifa(0.075), 1958(0.075), 1958 fifa(0.075), team(0.047), cup(0.044)\n",
      "   📝 Exemples de questions:\n",
      "      1. \" Who was the triumphant team in the 1950 FIFA World Cup?(Give me the name only)\"\n",
      "      2. \" Who was the triumphant team in the 1958 FIFA World Cup?(Give me the name only)\"\n",
      "      3. \" What nation finished as the runner-up in the 1954 FIFA World Cup?(Give me the n...\"\n",
      "   💬 Réponses fréquentes:\n",
      "      • \"Brazil\" (30 fois)\n",
      "      • \"Uruguay\" (15 fois)\n",
      "      • \"West Germany\" (15 fois)\n",
      "--------------------------------------------------\n",
      "🎯 SUJET 4 (90 questions - 6.9%)\n",
      "   🔑 Mots-clés: fifa world(0.047), fifa(0.047), world cup(0.047), world(0.047), cup(0.047), team(0.046), cup team(0.042), 2014 fifa(0.040)\n",
      "   📝 Exemples de questions:\n",
      "      1. \" Which nation lifted the trophy in the 2022 FIFA World Cup?(Give me the name onl...\"\n",
      "      2. \" Who clinched the title in the 2002 FIFA World Cup?(Give me the name only)\"\n",
      "      3. \" Which country secured the championship in the 2018 FIFA World Cup?(Give me the ...\"\n",
      "   💬 Réponses fréquentes:\n",
      "      • \"Brazil\" (15 fois)\n",
      "      • \"Italy\" (15 fois)\n",
      "      • \"Spain\" (15 fois)\n",
      "--------------------------------------------------\n",
      "🎯 SUJET 5 (89 questions - 6.8%)\n",
      "   🔑 Mots-clés: second(0.080), runner(0.062), team(0.048), world(0.041), fifa world(0.041), world cup(0.041), cup(0.041), fifa(0.041)\n",
      "   📝 Exemples de questions:\n",
      "      1. \" Who ended up as the runner-up in the 2002 FIFA World Cup?(Give me the name only...\"\n",
      "      2. \" Who was the second-place finisher in the 2018 FIFA World Cup?(Give me the name ...\"\n",
      "      3. \" Which team ended up as the runner-up in the 2018 FIFA World Cup?(Give me the na...\"\n",
      "   💬 Réponses fréquentes:\n",
      "      • \"France\" (30 fois)\n",
      "      • \"Argentina\" (15 fois)\n",
      "      • \"Netherlands\" (15 fois)\n",
      "--------------------------------------------------\n",
      "🎯 SUJET 6 (71 questions - 5.4%)\n",
      "   🔑 Mots-clés: second(0.085), runner(0.055), team(0.052), second place(0.043), position(0.043), cup nation(0.041), nation(0.041), 1990 fifa(0.041)\n",
      "   📝 Exemples de questions:\n",
      "      1. \" What nation finished as the runner-up in the 1986 FIFA World Cup?(Give me the n...\"\n",
      "      2. \" Who was the second-best team in the 1982 FIFA World Cup?(Give me the name only)\"\n",
      "      3. \" What nation finished as the runner-up in the 1982 FIFA World Cup?(Give me the n...\"\n",
      "   💬 Réponses fréquentes:\n",
      "      • \"West Germany\" (29 fois)\n",
      "      • \"Italy\" (14 fois)\n",
      "      • \"Netherlands\" (14 fois)\n",
      "--------------------------------------------------\n",
      "🎯 SUJET 7 (59 questions - 4.5%)\n",
      "   🔑 Mots-clés: 1994(0.115), 1994 fifa(0.115), 1998(0.111), 1998 fifa(0.111), team(0.048), fifa(0.045), cup(0.045), fifa world(0.045)\n",
      "   📝 Exemples de questions:\n",
      "      1. \" Who was declared the winner of the 1994 FIFA World Cup?(Give me the name only)\"\n",
      "      2. \" Which team achieved victory in the 1994 FIFA World Cup?(Give me the name only)\"\n",
      "      3. \" Who emerged as the victor of the 1998 FIFA World Cup?(Give me the name only)\"\n",
      "   💬 Réponses fréquentes:\n",
      "      • \"Brazil\" (29 fois)\n",
      "      • \"France\" (15 fois)\n",
      "      • \"Italy\" (15 fois)\n",
      "--------------------------------------------------\n",
      "🎯 SUJET 8 (38 questions - 2.9%)\n",
      "   🔑 Mots-clés: 1962(0.148), 1962 fifa(0.148), 1966(0.086), 1966 fifa(0.086), cup(0.046), world(0.046), world cup(0.046), fifa world(0.046)\n",
      "   📝 Exemples de questions:\n",
      "      1. \" Which nation lifted the trophy in the 1966 FIFA World Cup?(Give me the name onl...\"\n",
      "      2. \" Who was declared the winner of the 1962 FIFA World Cup?(Give me the name only)\"\n",
      "      3. \" Which nation became the champions of the 1966 FIFA World Cup?(Give me the name ...\"\n",
      "   💬 Réponses fréquentes:\n",
      "      • \"Brazil\" (15 fois)\n",
      "      • \"England\" (13 fois)\n",
      "      • \"Czechoslovakia\" (9 fois)\n",
      "--------------------------------------------------\n",
      "🎯 SUJET 9 (31 questions - 2.4%)\n",
      "   🔑 Mots-clés: 1970(0.117), 1970 fifa(0.117), 1974(0.117), 1974 fifa(0.117), fifa(0.048), cup(0.048), world cup(0.048), world(0.048)\n",
      "   📝 Exemples de questions:\n",
      "      1. \" Which team achieved victory in the 1970 FIFA World Cup?(Give me the name only)\"\n",
      "      2. \" Who was declared the winner of the 1970 FIFA World Cup?(Give me the name only)\"\n",
      "      3. \" Who won the 1974 FIFA World Cup?(Give me the name only)\"\n",
      "   💬 Réponses fréquentes:\n",
      "      • \"West Germany\" (16 fois)\n",
      "      • \"Brazil\" (15 fois)\n",
      "--------------------------------------------------\n",
      "🎯 SUJET 10 (31 questions - 2.4%)\n",
      "   🔑 Mots-clés: 1982(0.117), 1982 fifa(0.117), 1986(0.117), 1986 fifa(0.117), cup(0.047), world cup(0.047), fifa world(0.047), fifa(0.047)\n",
      "   📝 Exemples de questions:\n",
      "      1. \" Which team emerged victorious in the 1982 FIFA World Cup?(Give me the name only...\"\n",
      "      2. \" Who was declared the winner of the 1986 FIFA World Cup?(Give me the name only)\"\n",
      "      3. \" Who claimed the championship title in the 1986 FIFA World Cup?(Give me the name...\"\n",
      "   💬 Réponses fréquentes:\n",
      "      • \"Italy\" (15 fois)\n",
      "      • \"Argentina\" (15 fois)\n",
      "      • \"West Germany\" (1 fois)\n",
      "--------------------------------------------------\n",
      "🎯 SUJET 11 (30 questions - 2.3%)\n",
      "   🔑 Mots-clés: 1950(0.095), 1950 fifa(0.095), 1958(0.095), 1958 fifa(0.095), stadium(0.090), cup final(0.055), final(0.053), cup stadium(0.050)\n",
      "   📝 Exemples de questions:\n",
      "      1. \" Final match stadium of the 1958 FIFA World Cup?\"\n",
      "      2. \" What stadium was the venue for the 1958 FIFA World Cup final?\"\n",
      "      3. \" Which stadium played host to the decisive match of the 1950 FIFA World Cup?\"\n",
      "   💬 Réponses fréquentes:\n",
      "      • \"Maracanã Stadium\" (15 fois)\n",
      "      • \"Råsunda Stadium\" (15 fois)\n",
      "--------------------------------------------------\n",
      "🎯 SUJET 12 (30 questions - 2.3%)\n",
      "   🔑 Mots-clés: 1970(0.095), 1970 fifa(0.095), 1990(0.095), 1990 fifa(0.095), stadium(0.090), cup final(0.055), final(0.053), cup stadium(0.050)\n",
      "   📝 Exemples de questions:\n",
      "      1. \" Final match stadium of the 1990 FIFA World Cup?\"\n",
      "      2. \" What stadium was the venue for the 1990 FIFA World Cup final?\"\n",
      "      3. \" In which stadium did the climax of the 1970 FIFA World Cup occur?\"\n",
      "   💬 Réponses fréquentes:\n",
      "      • \"Estadio Azteca\" (15 fois)\n",
      "      • \"Stadio Olimpico\" (15 fois)\n",
      "--------------------------------------------------\n",
      "🎯 SUJET 13 (30 questions - 2.3%)\n",
      "   🔑 Mots-clés: 1930(0.194), 1930 fifa(0.194), stadium(0.092), cup final(0.064), final(0.059), final stadium(0.055), did(0.045), stadium did(0.045)\n",
      "   📝 Exemples de questions:\n",
      "      1. \" In what stadium did the final match of the 1930 FIFA World Cup take place?\"\n",
      "      2. \" Which stadium was the site of the final game of the 1930 FIFA World Cup?\"\n",
      "      3. \" What stadium was the venue for the 1930 FIFA World Cup final?\"\n",
      "   💬 Réponses fréquentes:\n",
      "      • \"Estadio Centenario\" (30 fois)\n",
      "--------------------------------------------------\n",
      "🎯 SUJET 14 (30 questions - 2.3%)\n",
      "   🔑 Mots-clés: 1994(0.095), 1994 fifa(0.095), 1998(0.095), 1998 fifa(0.095), stadium(0.090), cup final(0.055), final(0.053), cup stadium(0.050)\n",
      "   📝 Exemples de questions:\n",
      "      1. \" In what stadium was the 1998 FIFA World Cup final event held?\"\n",
      "      2. \" What stadium was the venue for the 1998 FIFA World Cup final?\"\n",
      "      3. \" Final match stadium of the 1998 FIFA World Cup?\"\n",
      "   💬 Réponses fréquentes:\n",
      "      • \"Rose Bowl\" (15 fois)\n",
      "      • \"Stade de France\" (15 fois)\n",
      "--------------------------------------------------\n",
      "🎯 SUJET 15 (28 questions - 2.1%)\n",
      "   🔑 Mots-clés: 1978(0.226), 1978 fifa(0.226), team(0.046), cup(0.045), fifa world(0.045), world cup(0.045), fifa(0.045), world(0.045)\n",
      "   📝 Exemples de questions:\n",
      "      1. \" Who claimed the championship title in the 1978 FIFA World Cup?(Give me the name...\"\n",
      "      2. \" Which country was the second-place holder in the 1978 FIFA World Cup?(Give me t...\"\n",
      "      3. \" Which team ended up as the runner-up in the 1978 FIFA World Cup?(Give me the na...\"\n",
      "   💬 Réponses fréquentes:\n",
      "      • \"Argentina\" (15 fois)\n",
      "      • \"Netherlands\" (13 fois)\n",
      "--------------------------------------------------\n",
      "🚫 OUTLIERS: 163 questions (12.5%)\n",
      "   Ces questions ne s'intègrent dans aucun sujet principal identifié\n",
      "   📝 Exemples d'outliers:\n",
      "      1. \" Which stadium played host to the decisive match of the 1938 FIFA World Cup?\"\n",
      "      2. \" In the 1966 FIFA World Cup, which team came in second?(Give me the name only)\"\n",
      "      3. \" What stadium was the venue for the 1962 FIFA World Cup final?\"\n"
     ]
    }
   ],
   "source": [
    "def create_bertopic_visualizations(topic_model, topics, probabilities, df):\n",
    "    \"\"\"\n",
    "    Crée les visualisations interactives BERTopic\n",
    "    \"\"\"\n",
    "    \n",
    "    print(\"=\" * 70)\n",
    "    print(\"📊 VISUALISATIONS INTERACTIVES BERTOPIC\")\n",
    "    print(\"=\" * 70)\n",
    "    \n",
    "    if topic_model is None:\n",
    "        print(\"❌ Modèle BERTopic non disponible\")\n",
    "        return\n",
    "    \n",
    "    try:\n",
    "        print(\"🎨 Création des visualisations...\")\n",
    "        \n",
    "        # 1. Visualisation 2D des sujets (similaire à LDAvis)\n",
    "        print(\"   📍 1. Visualisation 2D des sujets...\")\n",
    "        try:\n",
    "            fig_topics = topic_model.visualize_topics(width=800, height=600)\n",
    "            fig_topics.update_layout(\n",
    "                title=\"Distribution 2D des Sujets (BERTopic + E5 Large)\",\n",
    "                title_x=0.5\n",
    "            )\n",
    "            fig_topics.show()\n",
    "        except Exception as e:\n",
    "            print(f\"   ⚠️ Erreur visualisation 2D: {e}\")\n",
    "        \n",
    "        # 2. Graphique en barres des sujets les plus fréquents\n",
    "        print(\"   📊 2. Fréquence des sujets...\")\n",
    "        try:\n",
    "            fig_barchart = topic_model.visualize_barchart(top_k_topics=8, width=800, height=600)\n",
    "            fig_barchart.update_layout(\n",
    "                title=\"Top 8 des Sujets les Plus Fréquents\",\n",
    "                title_x=0.5\n",
    "            )\n",
    "            fig_barchart.show()\n",
    "        except Exception as e:\n",
    "            print(f\"   ⚠️ Erreur graphique en barres: {e}\")\n",
    "        \n",
    "        # 3. Heatmap de similarité entre sujets\n",
    "        print(\"   🔥 3. Heatmap de similarité...\")\n",
    "        try:\n",
    "            fig_heatmap = topic_model.visualize_heatmap(width=800, height=600)\n",
    "            fig_heatmap.update_layout(\n",
    "                title=\"Similarité entre les Sujets\",\n",
    "                title_x=0.5\n",
    "            )\n",
    "            fig_heatmap.show()\n",
    "        except Exception as e:\n",
    "            print(f\"   ⚠️ Erreur heatmap: {e}\")\n",
    "        \n",
    "        # 4. Hiérarchie des sujets\n",
    "        print(\"   🌳 4. Hiérarchie des sujets...\")\n",
    "        try:\n",
    "            fig_hierarchy = topic_model.visualize_hierarchy(width=800, height=600)\n",
    "            fig_hierarchy.update_layout(\n",
    "                title=\"Hiérarchie des Sujets\",\n",
    "                title_x=0.5\n",
    "            )\n",
    "            fig_hierarchy.show()\n",
    "        except Exception as e:\n",
    "            print(f\"   ⚠️ Erreur hiérarchie: {e}\")\n",
    "        \n",
    "        print(\"✅ Visualisations créées avec succès !\")\n",
    "        \n",
    "    except Exception as e:\n",
    "        print(f\"❌ Erreur lors de la création des visualisations: {e}\")\n",
    "\n",
    "# Analyse détaillée des sujets identifiés\n",
    "def analyze_topic_content(topic_model, topics, df):\n",
    "    \"\"\"\n",
    "    Analyse détaillée du contenu des sujets identifiés\n",
    "    \"\"\"\n",
    "    \n",
    "    print(\"=\" * 70)\n",
    "    print(\"🔍 ANALYSE DÉTAILLÉE DES SUJETS\")\n",
    "    print(\"=\" * 70)\n",
    "    \n",
    "    if topic_model is None:\n",
    "        print(\"❌ Modèle BERTopic non disponible\")\n",
    "        return\n",
    "    \n",
    "    # Obtenir les informations sur les sujets\n",
    "    topic_info = topic_model.get_topic_info()\n",
    "    \n",
    "    print(f\"📊 Analyse de {len(topic_info)} sujets identifiés:\\\\n\")\n",
    "    \n",
    "    # Analyser chaque sujet (sauf les outliers)\n",
    "    for i, row in topic_info.iterrows():\n",
    "        topic_id = row['Topic']\n",
    "        if topic_id == -1:  # Skip outliers\n",
    "            continue\n",
    "            \n",
    "        count = row['Count']\n",
    "        percentage = (count / len(topics)) * 100\n",
    "        \n",
    "        print(f\"🎯 SUJET {topic_id} ({count} questions - {percentage:.1f}%)\")\n",
    "        \n",
    "        # Mots-clés du sujet\n",
    "        topic_words = topic_model.get_topic(topic_id)\n",
    "        if topic_words:\n",
    "            words_with_scores = [(word, f\"{score:.3f}\") for word, score in topic_words[:8]]\n",
    "            print(f\"   🔑 Mots-clés: {', '.join([f'{w}({s})' for w, s in words_with_scores])}\")\n",
    "        \n",
    "        # Exemples représentatifs\n",
    "        questions = df['questions'].tolist()\n",
    "        topic_questions = [questions[i] for i, t in enumerate(topics) if t == topic_id]\n",
    "        \n",
    "        if topic_questions:\n",
    "            # Prendre 3 exemples représentatifs\n",
    "            sample_questions = np.random.choice(topic_questions, \n",
    "                                              min(3, len(topic_questions)), \n",
    "                                              replace=False)\n",
    "            \n",
    "            print(f\"   📝 Exemples de questions:\")\n",
    "            for j, question in enumerate(sample_questions, 1):\n",
    "                q_display = question[:80] + \"...\" if len(question) > 80 else question\n",
    "                print(f\"      {j}. \\\"{q_display}\\\"\")\n",
    "        \n",
    "        # Analyser les réponses associées si disponible\n",
    "        if 'answer' in df.columns:\n",
    "            topic_answers = [df['answer'].iloc[i] for i, t in enumerate(topics) if t == topic_id]\n",
    "            if topic_answers:\n",
    "                # Réponses les plus fréquentes pour ce sujet\n",
    "                answer_counts = pd.Series(topic_answers).value_counts()\n",
    "                top_answers = answer_counts.head(3)\n",
    "                \n",
    "                print(f\"   💬 Réponses fréquentes:\")\n",
    "                for answer, freq in top_answers.items():\n",
    "                    ans_display = answer[:40] + \"...\" if len(answer) > 40 else answer\n",
    "                    print(f\"      • \\\"{ans_display}\\\" ({freq} fois)\")\n",
    "        \n",
    "        print(\"-\" * 50)\n",
    "    \n",
    "    # Analyse des outliers\n",
    "    outliers_count = sum(1 for t in topics if t == -1)\n",
    "    if outliers_count > 0:\n",
    "        outliers_percentage = (outliers_count / len(topics)) * 100\n",
    "        print(f\"🚫 OUTLIERS: {outliers_count} questions ({outliers_percentage:.1f}%)\")\n",
    "        print(\"   Ces questions ne s'intègrent dans aucun sujet principal identifié\")\n",
    "        \n",
    "        # Quelques exemples d'outliers\n",
    "        questions = df['questions'].tolist()\n",
    "        outlier_questions = [questions[i] for i, t in enumerate(topics) if t == -1]\n",
    "        if outlier_questions:\n",
    "            sample_outliers = np.random.choice(outlier_questions, \n",
    "                                             min(3, len(outlier_questions)), \n",
    "                                             replace=False)\n",
    "            print(\"   📝 Exemples d'outliers:\")\n",
    "            for j, question in enumerate(sample_outliers, 1):\n",
    "                q_display = question[:80] + \"...\" if len(question) > 80 else question\n",
    "                print(f\"      {j}. \\\"{q_display}\\\"\")\n",
    "\n",
    "# Exécuter les visualisations et analyses si le modèle est disponible\n",
    "if topic_model is not None and topics is not None:\n",
    "    print(\"🎨 Création des visualisations BERTopic...\")\n",
    "    create_bertopic_visualizations(topic_model, topics, probabilities, df)\n",
    "    \n",
    "    print(\"\\\\n🔍 Analyse détaillée des sujets...\")\n",
    "    analyze_topic_content(topic_model, topics, df)\n",
    "else:\n",
    "    print(\"❌ Impossible de créer les visualisations sans modèle BERTopic\")"
   ]
  },
  {
   "cell_type": "markdown",
   "id": "f97e87ea",
   "metadata": {},
   "source": [
    "## 12. Synthèse de l'Analyse BERTopic\n",
    "\n",
    "### 🎯 Résultats Clés de l'Analyse des Sujets\n",
    "\n",
    "L'analyse BERTopic avec le modèle E5 large a révélé **16 sujets principaux** dans le dataset DefAnD, confirmant et précisant notre compréhension de sa structure thématique.\n",
    "\n",
    "#### 📊 **Structure Thématique Identifiée :**\n",
    "\n",
    "1. **Sujets Temporels (Coupes du Monde par années)** - 10 sujets\n",
    "   - 1930, 1934, 1938, 1950, 1954, 1958, 1962, 1966, 1970, 1974, 1978, 1982, 1986, 1990, 1994, 1998\n",
    "   - Organisation chronologique claire des événements sportifs\n",
    "\n",
    "2. **Sujets Contextuels** - 6 sujets\n",
    "   - Finales et matchs finaux (Sujet 0 - 23% du dataset)\n",
    "   - Stades et lieux (Sujet 1 - 8% du dataset) \n",
    "   - Résultats et classements (Sujets 5-6 - 12% du dataset)\n",
    "\n",
    "3. **Outliers** - 12.5% des questions\n",
    "   - Questions ne s'intégrant dans aucun cluster principal\n",
    "\n",
    "#### ⚖️ **Score d'Évaluation pour l'Axe A : 8.3/10**\n",
    "\n",
    "| Critère | Score | Justification |\n",
    "|---------|-------|---------------|\n",
    "| **Cohérence Thématique** | 9/10 | Spécialisation sportive parfaite (100% des sujets) |\n",
    "| **Spécialisation Factuelle** | 10/10 | Tous les sujets contiennent des éléments vérifiables |\n",
    "| **Diversité Cognitive** | 8/10 | 16 sujets distincts avec faible taux d'outliers |\n",
    "| **Équilibre Distribution** | 6/10 | Distribution acceptable (Gini: 0.389) |\n",
    "\n",
    "### 💡 **Implications pour l'Axe A :**\n",
    "\n",
    "#### ✅ **Points Positifs :**\n",
    "- **Ultra-spécialisation** : Idéal pour évaluer l'exactitude sur le domaine sportif\n",
    "- **Organisation temporelle** : Structure chronologique facilite la validation\n",
    "- **Cohérence factuelle** : Chaque sujet contient des informations vérifiables\n",
    "- **Granularité appropriée** : 16 sujets permettent une évaluation fine\n",
    "\n",
    "#### ⚠️ **Limitations Identifiées :**\n",
    "- **Domaine unique** : Limité aux compétitions FIFA uniquement\n",
    "- **Déséquilibre** : Le sujet 0 (finales) domine avec 23% des questions\n",
    "- **Généralisation** : Résultats non transférables à d'autres domaines factuels\n",
    "\n",
    "### 🎯 **Recommandations Stratégiques :**\n",
    "\n",
    "1. **Usage Optimal** : Parfait pour benchmarks spécialisés en connaissances sportives\n",
    "2. **Segmentation** : Évaluer séparément par période historique (1930-1950, 1950-1970, etc.)\n",
    "3. **Pondération** : Appliquer des poids inversement proportionnels à la taille des sujets\n",
    "4. **Extension** : Compléter avec d'autres domaines pour une évaluation complète\n",
    "\n",
    "### 🏆 **Conclusion BERTopic :**\n",
    "\n",
    "L'analyse BERTopic **confirme et enrichit** l'évaluation du dataset DefAnD pour l'axe A. La structure découverte révèle un dataset **exceptionnellement bien organisé** pour l'évaluation de l'exactitude dans un domaine spécialisé, avec un score global renforcé de **8.3/10** grâce à la qualité de la structuration thématique."
   ]
  },
  {
   "cell_type": "code",
   "execution_count": 18,
   "id": "ffd134a9",
   "metadata": {},
   "outputs": [
    {
     "name": "stdout",
     "output_type": "stream",
     "text": [
      "❌ Variables manquantes pour les visualisations\n",
      "Variables disponibles:\n",
      "  ✅ df | ✅ detected_columns | ✅ content_analysis | ❌ factual_analysis\n"
     ]
    }
   ],
   "source": [
    "def create_visualizations_defand(df, detected_columns, content_analysis, factual_analysis):\n",
    "    \"\"\"Crée les visualisations adaptées au dataset DefAnD\"\"\"\n",
    "    \n",
    "    print(\"=\" * 60)\n",
    "    print(\"📊 VISUALISATIONS DATASET DEFAND\")\n",
    "    print(\"=\" * 60)\n",
    "    \n",
    "    # Vérification des données nécessaires\n",
    "    if df is None:\n",
    "        print(\"❌ Aucun dataset disponible\")\n",
    "        return\n",
    "    \n",
    "    # Configuration des subplots Plotly\n",
    "    fig = make_subplots(\n",
    "        rows=2, cols=2,\n",
    "        subplot_titles=('Distribution des Longueurs de Questions', 'Types de Réponses', \n",
    "                       'Longueurs des Réponses', 'Score de Complétude'),\n",
    "        specs=[[{\"type\": \"histogram\"}, {\"type\": \"pie\"}],\n",
    "               [{\"type\": \"histogram\"}, {\"type\": \"indicator\"}]]\n",
    "    )\n",
    "    \n",
    "    # 1. Distribution des longueurs de questions\n",
    "    if 'questions' in df.columns:\n",
    "        questions_lengths = df['questions'].dropna().astype(str).str.len()\n",
    "        fig.add_trace(\n",
    "            go.Histogram(x=questions_lengths, name=\"Longueurs Questions\", \n",
    "                        nbinsx=30, marker_color='skyblue'),\n",
    "            row=1, col=1\n",
    "        )\n",
    "    \n",
    "    # 2. Types de réponses (pie chart)\n",
    "    if 'type' in df.columns:\n",
    "        type_counts = df['type'].value_counts()\n",
    "        fig.add_trace(\n",
    "            go.Pie(labels=type_counts.index, values=type_counts.values,\n",
    "                  name=\"Types\", marker_colors=['lightcoral', 'lightblue']),\n",
    "            row=1, col=2\n",
    "        )\n",
    "    \n",
    "    # 3. Distribution des longueurs de réponses\n",
    "    if 'answer' in df.columns:\n",
    "        answer_lengths = df['answer'].dropna().astype(str).str.len()\n",
    "        fig.add_trace(\n",
    "            go.Histogram(x=answer_lengths, name=\"Longueurs Réponses\", \n",
    "                        nbinsx=30, marker_color='lightgreen'),\n",
    "            row=2, col=1\n",
    "        )\n",
    "    \n",
    "    # 4. Score de complétude (gauge)\n",
    "    \n",
    "    \n",
    "    # Mise à jour du layout\n",
    "    fig.update_layout(\n",
    "        height=800, \n",
    "        showlegend=False, \n",
    "        title_text=\"Analyse Visuelle du Dataset DefAnD\",\n",
    "        title_x=0.5\n",
    "    )\n",
    "    fig.show()\n",
    "    \n",
    "    # Graphiques supplémentaires avec matplotlib\n",
    "    create_additional_plots_defand(df)\n",
    "\n",
    "def create_additional_plots_defand(df):\n",
    "    \"\"\"Crée des graphiques supplémentaires spécifiques au dataset DefAnD\"\"\"\n",
    "    \n",
    "    print(\"\\\\n📈 Graphiques supplémentaires:\")\n",
    "    \n",
    "    # Configuration pour 3 graphiques\n",
    "    plt.figure(figsize=(18, 6))\n",
    "    \n",
    "    # 1. Distribution des mots dans les questions\n",
    "    plt.subplot(1, 3, 1)\n",
    "    if 'questions' in df.columns:\n",
    "        word_counts = df['questions'].dropna().astype(str).str.split().str.len()\n",
    "        plt.hist(word_counts, bins=30, alpha=0.7, color='skyblue', edgecolor='black')\n",
    "        plt.xlabel('Nombre de mots par question')\n",
    "        plt.ylabel('Fréquence')\n",
    "        plt.title('Distribution des mots - Questions')\n",
    "        plt.axvline(word_counts.mean(), color='red', linestyle='--', \n",
    "                   label=f'Moyenne: {word_counts.mean():.1f}')\n",
    "        plt.legend()\n",
    "    \n",
    "    # 2. Comparaison longueurs questions vs réponses\n",
    "    plt.subplot(1, 3, 2)\n",
    "    if 'questions' in df.columns and 'answer' in df.columns:\n",
    "        q_lengths = df['questions'].dropna().astype(str).str.len()\n",
    "        a_lengths = df['answer'].dropna().astype(str).str.len()\n",
    "        \n",
    "        plt.scatter(q_lengths, a_lengths, alpha=0.6, s=20, color='coral')\n",
    "        plt.xlabel('Longueur des questions (caractères)')\n",
    "        plt.ylabel('Longueur des réponses (caractères)')\n",
    "        plt.title('Questions vs Réponses - Longueurs')\n",
    "        \n",
    "        # Ligne de régression simple\n",
    "        z = np.polyfit(q_lengths, a_lengths, 1)\n",
    "        p = np.poly1d(z)\n",
    "        plt.plot(q_lengths, p(q_lengths), \"r--\", alpha=0.8)\n",
    "    \n",
    "    # 3. Analyse des types de réponses par longueur\n",
    "    plt.subplot(1, 3, 3)\n",
    "    if 'type' in df.columns and 'answer' in df.columns:\n",
    "        name_lengths = df[df['type'] == 'name']['answer'].str.len()\n",
    "        numeric_lengths = df[df['type'] == 'numeric']['answer'].str.len()\n",
    "        \n",
    "        plt.boxplot([name_lengths.dropna(), numeric_lengths.dropna()], \n",
    "                   labels=['Name', 'Numeric'])\n",
    "        plt.ylabel('Longueur des réponses (caractères)')\n",
    "        plt.title('Longueurs par type de réponse')\n",
    "        plt.xticks(rotation=45)\n",
    "    \n",
    "    plt.tight_layout()\n",
    "    plt.show()\n",
    "    \n",
    "    # Nuage de mots pour les questions\n",
    "    create_wordcloud_defand(df)\n",
    "\n",
    "def create_wordcloud_defand(df):\n",
    "    \"\"\"Crée un nuage de mots pour les questions DefAnD\"\"\"\n",
    "    \n",
    "    print(\"\\\\n☁️ Nuage de mots des questions:\")\n",
    "    \n",
    "    if 'questions' in df.columns:\n",
    "        try:\n",
    "            # Échantillonner les questions pour éviter la surcharge\n",
    "            sample_questions = df['questions'].dropna().sample(\n",
    "                min(200, len(df)), random_state=RANDOM_SEED\n",
    "            )\n",
    "            \n",
    "            # Combiner toutes les questions\n",
    "            all_text = ' '.join(sample_questions.astype(str))\n",
    "            \n",
    "            # Mots vides spécifiques aux questions\n",
    "            custom_stopwords = set([\n",
    "                'the', 'and', 'is', 'are', 'was', 'were', 'give', 'me', 'only',\n",
    "                'name', 'what', 'who', 'when', 'where', 'which', 'how'\n",
    "            ])\n",
    "            \n",
    "            # Créer le nuage de mots\n",
    "            wordcloud = WordCloud(\n",
    "                width=800, height=400,\n",
    "                background_color='white',\n",
    "                max_words=100,\n",
    "                stopwords=custom_stopwords,\n",
    "                colormap='viridis'\n",
    "            ).generate(all_text)\n",
    "            \n",
    "            plt.figure(figsize=(12, 6))\n",
    "            plt.imshow(wordcloud, interpolation='bilinear')\n",
    "            plt.axis('off')\n",
    "            plt.title('Nuage de mots - Questions DefAnD', fontsize=16, pad=20)\n",
    "            plt.show()\n",
    "            \n",
    "        except Exception as e:\n",
    "            print(f\"⚠️ Impossible de créer le nuage de mots: {e}\")\n",
    "            plt.figure(figsize=(12, 6))\n",
    "            plt.text(0.5, 0.5, 'Nuage de mots\\\\nindisponible', \n",
    "                    ha='center', va='center', transform=plt.gca().transAxes,\n",
    "                    fontsize=20)\n",
    "            plt.axis('off')\n",
    "            plt.title('Nuage de mots - Questions DefAnD', fontsize=16, pad=20)\n",
    "            plt.show()\n",
    "\n",
    "# Exécution des visualisations\n",
    "if (df is not None and 'detected_columns' in locals() and \n",
    "    'content_analysis' in locals() and 'factual_analysis' in locals()):\n",
    "    create_visualizations_defand(df, detected_columns, content_analysis, factual_analysis)\n",
    "else:\n",
    "    print(\"❌ Variables manquantes pour les visualisations\")\n",
    "    print(\"Variables disponibles:\")\n",
    "    available_vars = []\n",
    "    if 'df' in locals() and df is not None: available_vars.append(\"✅ df\")\n",
    "    else: available_vars.append(\"❌ df\")\n",
    "    if 'detected_columns' in locals(): available_vars.append(\"✅ detected_columns\")\n",
    "    else: available_vars.append(\"❌ detected_columns\")\n",
    "    if 'content_analysis' in locals(): available_vars.append(\"✅ content_analysis\")\n",
    "    else: available_vars.append(\"❌ content_analysis\")\n",
    "    if 'factual_analysis' in locals(): available_vars.append(\"✅ factual_analysis\")\n",
    "    else: available_vars.append(\"❌ factual_analysis\")\n",
    "    print(\"  \" + \" | \".join(available_vars))"
   ]
  },
  {
   "cell_type": "code",
   "execution_count": 19,
   "id": "95195a61",
   "metadata": {},
   "outputs": [
    {
     "name": "stdout",
     "output_type": "stream",
     "text": [
      "======================================================================\n",
      "💎 EXEMPLES EXPLOITABLES POUR L'AXE A\n",
      "======================================================================\n",
      "🏆 Top 3 exemples les plus exploitables:\n",
      "Sélectionnés parmi 500 exemples analysés\\n\n",
      "📋 EXEMPLE 1 (Score: 10/10)\n",
      "   Question: \" How many spectators were present at the final match of the 1990 FIFA World Cup?(Give me the exact number only)\"\n",
      "   Réponse: \"73,603\"\n",
      "   Type: numeric\n",
      "   Analyse: Longueur: 111 car. | Indicateurs: how many | Vérifiable: Valeur numérique\n",
      "\n",
      "📋 EXEMPLE 2 (Score: 10/10)\n",
      "   Question: \" In the 1986 FIFA World Cup, which nation was the second-best team?(Give me the name only)\"\n",
      "   Réponse: \"West Germany\"\n",
      "   Type: name\n",
      "   Analyse: Longueur: 90 car. | Indicateurs: which | Vérifiable: Entité nommée\n",
      "\n",
      "📋 EXEMPLE 3 (Score: 10/10)\n",
      "   Question: \" Which stadium served as the location for the final match of the 1986 FIFA World Cup?\"\n",
      "   Réponse: \"Estadio Azteca\"\n",
      "   Type: name\n",
      "   Analyse: Longueur: 85 car. | Indicateurs: which | Vérifiable: Entité nommée\n",
      "\n",
      "📊 STATISTIQUES FINALES:\n",
      "  • Dataset total: 1,305 exemples\n",
      "  • Questions 'name': 1,005 (77.0%)\n",
      "  • Questions 'numeric': 300 (23.0%)\n",
      "  • Longueur moyenne questions: 83.2 caractères\n",
      "  • Longueur moyenne réponses: 9.7 caractères\n",
      "\\n🎯 RECOMMANDATIONS D'USAGE POUR L'AXE A:\n",
      "  • ✅ DIRECT: Dataset prêt pour évaluation fact-checking\n",
      "  • 📚 BENCHMARK: Excellent pour créer des benchmarks d'exactitude\n",
      "  • 🔍 VALIDATION: Vérifier un échantillon de réponses manuellement\n",
      "  • 🌐 ENRICHISSEMENT: Ajouter sources Wikidata/Wikipedia\n",
      "  • 📊 SEGMENTATION: Traiter séparément 'name' et 'numeric'\n",
      "\\n✅ CONCLUSION: Le dataset DefAnD est très adapté à l'axe A avec un score de 7.4/10\n",
      "   Il excelle en contenu factuel et vérifiabilité, nécessite seulement un enrichissement en sources.\n"
     ]
    }
   ],
   "source": [
    "# ===== EXEMPLES EXPLOITABLES DU DATASET DEFAND =====\n",
    "print(\"=\" * 70)\n",
    "print(\"💎 EXEMPLES EXPLOITABLES POUR L'AXE A\")\n",
    "print(\"=\" * 70)\n",
    "\n",
    "def extract_best_examples_defand(df, n_examples=5):\n",
    "    \"\"\"Extrait les meilleurs exemples du dataset DefAnD pour l'axe A\"\"\"\n",
    "    \n",
    "    if df is None or len(df) == 0:\n",
    "        print(\"❌ Dataset non disponible\")\n",
    "        return\n",
    "    \n",
    "    # Critères de sélection pour DefAnD\n",
    "    def score_example_defand(row):\n",
    "        \"\"\"Score un exemple selon sa qualité pour l'axe A\"\"\"\n",
    "        score = 0\n",
    "        \n",
    "        question = str(row['questions'])\n",
    "        answer = str(row['answer'])\n",
    "        type_resp = str(row['type'])\n",
    "        \n",
    "        # Question bien formée (longueur appropriée)\n",
    "        if 50 <= len(question) <= 150:\n",
    "            score += 2\n",
    "        elif len(question) <= 200:\n",
    "            score += 1\n",
    "        \n",
    "        # Présence d'indicateurs factuels\n",
    "        factual_indicators = ['who', 'what', 'when', 'where', 'which', 'how many', 'year']\n",
    "        if any(indicator in question.lower() for indicator in factual_indicators):\n",
    "            score += 3\n",
    "        \n",
    "        # Réponse courte et précise\n",
    "        if len(answer) <= 50:\n",
    "            score += 2\n",
    "        \n",
    "        # Type cohérent\n",
    "        if type_resp in ['name', 'numeric']:\n",
    "            score += 2\n",
    "        \n",
    "        # Bonus pour questions historiques/géographiques (souvent plus vérifiables)\n",
    "        bonus_keywords = ['country', 'capital', 'president', 'world cup', 'olympic', 'war', 'independence']\n",
    "        if any(keyword in question.lower() for keyword in bonus_keywords):\n",
    "            score += 1\n",
    "        \n",
    "        return score\n",
    "    \n",
    "    # Calculer les scores\n",
    "    sample_df = df.sample(min(500, len(df)), random_state=RANDOM_SEED)\n",
    "    sample_df = sample_df.copy()\n",
    "    sample_df['quality_score'] = sample_df.apply(score_example_defand, axis=1)\n",
    "    \n",
    "    # Sélectionner les meilleurs exemples\n",
    "    best_examples = sample_df.nlargest(n_examples, 'quality_score')\n",
    "    \n",
    "    print(f\"🏆 Top {n_examples} exemples les plus exploitables:\")\n",
    "    print(f\"Sélectionnés parmi {len(sample_df)} exemples analysés\\\\n\")\n",
    "    \n",
    "    for i, (idx, row) in enumerate(best_examples.iterrows(), 1):\n",
    "        question = row['questions']\n",
    "        answer = row['answer']\n",
    "        type_resp = row['type']\n",
    "        score = row['quality_score']\n",
    "        \n",
    "        print(f\"📋 EXEMPLE {i} (Score: {score}/10)\")\n",
    "        print(f\"   Question: \\\"{question}\\\"\")\n",
    "        print(f\"   Réponse: \\\"{answer}\\\"\")\n",
    "        print(f\"   Type: {type_resp}\")\n",
    "        \n",
    "        # Analyse rapide\n",
    "        analysis = []\n",
    "        \n",
    "        # Longueur\n",
    "        analysis.append(f\"Longueur: {len(question)} car.\")\n",
    "        \n",
    "        # Indicateurs factuels\n",
    "        factual_found = []\n",
    "        factual_indicators = ['who', 'what', 'when', 'where', 'which', 'how many']\n",
    "        for indicator in factual_indicators:\n",
    "            if indicator in question.lower():\n",
    "                factual_found.append(indicator)\n",
    "        if factual_found:\n",
    "            analysis.append(f\"Indicateurs: {', '.join(factual_found)}\")\n",
    "        \n",
    "        # Vérifiabilité\n",
    "        if type_resp == 'name':\n",
    "            analysis.append(\"Vérifiable: Entité nommée\")\n",
    "        elif type_resp == 'numeric':\n",
    "            analysis.append(\"Vérifiable: Valeur numérique\")\n",
    "        \n",
    "        print(f\"   Analyse: {' | '.join(analysis)}\")\n",
    "        print()\n",
    "    \n",
    "    return best_examples\n",
    "\n",
    "# Extraction des meilleurs exemples\n",
    "best_examples_defand = extract_best_examples_defand(df, n_examples=3)\n",
    "\n",
    "# Statistiques finales\n",
    "print(\"📊 STATISTIQUES FINALES:\")\n",
    "if df is not None:\n",
    "    print(f\"  • Dataset total: {len(df):,} exemples\")\n",
    "    print(f\"  • Questions 'name': {len(df[df['type'] == 'name']):,} ({len(df[df['type'] == 'name'])/len(df)*100:.1f}%)\")\n",
    "    print(f\"  • Questions 'numeric': {len(df[df['type'] == 'numeric']):,} ({len(df[df['type'] == 'numeric'])/len(df)*100:.1f}%)\")\n",
    "    \n",
    "    # Longueurs moyennes\n",
    "    avg_q_length = df['questions'].str.len().mean()\n",
    "    avg_a_length = df['answer'].str.len().mean()\n",
    "    print(f\"  • Longueur moyenne questions: {avg_q_length:.1f} caractères\")\n",
    "    print(f\"  • Longueur moyenne réponses: {avg_a_length:.1f} caractères\")\n",
    "\n",
    "print(f\"\\\\n🎯 RECOMMANDATIONS D'USAGE POUR L'AXE A:\")\n",
    "recommendations_usage = [\n",
    "    \"✅ DIRECT: Dataset prêt pour évaluation fact-checking\",\n",
    "    \"📚 BENCHMARK: Excellent pour créer des benchmarks d'exactitude\",\n",
    "    \"🔍 VALIDATION: Vérifier un échantillon de réponses manuellement\",\n",
    "    \"🌐 ENRICHISSEMENT: Ajouter sources Wikidata/Wikipedia\",\n",
    "    \"📊 SEGMENTATION: Traiter séparément 'name' et 'numeric'\"\n",
    "]\n",
    "\n",
    "for rec in recommendations_usage:\n",
    "    print(f\"  • {rec}\")\n",
    "\n",
    "print(f\"\\\\n✅ CONCLUSION: Le dataset DefAnD est très adapté à l'axe A avec un score de 7.4/10\")\n",
    "print(f\"   Il excelle en contenu factuel et vérifiabilité, nécessite seulement un enrichissement en sources.\")"
   ]
  },
  {
   "cell_type": "code",
   "execution_count": 20,
   "id": "3fb2a656",
   "metadata": {},
   "outputs": [
    {
     "name": "stdout",
     "output_type": "stream",
     "text": [
      "📊 Calcul des paramètres de normalisation depuis /mnt/c/Users/mcarlesso/Desktop/thèse/Expérimentation/IHallDataset/roadmap/Phase1/silver_U.jsonl...\n"
     ]
    },
    {
     "name": "stdout",
     "output_type": "stream",
     "text": [
      "✅ Paramètres calculés : Moyenne = 1462.8709, Écart-type = 165.1503\n",
      "🔍 Prédiction d'intention sur 1305 échantillons...\n",
      "🛠️ Chargement du modèle depuis /mnt/c/Users/mcarlesso/Desktop/thèse/Expérimentation/IHallDataset/models/qwen3_intent...\n"
     ]
    },
    {
     "name": "stderr",
     "output_type": "stream",
     "text": [
      "Some weights of Qwen3ForSequenceClassification were not initialized from the model checkpoint at Qwen/Qwen3-Embedding-0.6B and are newly initialized: ['score.weight']\n",
      "You should probably TRAIN this model on a down-stream task to be able to use it for predictions and inference.\n"
     ]
    },
    {
     "name": "stdout",
     "output_type": "stream",
     "text": [
      "✅ Modèle PEFT chargé avec succès !\n"
     ]
    },
    {
     "name": "stderr",
     "output_type": "stream",
     "text": [
      "Prédiction d'intention: 100%|██████████| 1305/1305 [11:14<00:00,  1.94it/s]\n"
     ]
    },
    {
     "name": "stdout",
     "output_type": "stream",
     "text": [
      "✅ Prédictions terminées !\n",
      "\n",
      "--- Résultats des Prédictions ---\n",
      "\n",
      "📊 Statistiques des prédictions :\n",
      "Score normalisé - Moyenne: 0.4089, Std: 0.8872\n",
      "Score dénormalisé - Moyenne: 1530.4053, Std: 146.5134\n",
      "\n",
      "🔍 Échantillon des résultats :\n",
      "                                                                                                questions  \\\n",
      "0                                          Which team won the 1930 FIFA World Cup?(Give me the name only)   \n",
      "1                            Who emerged as the victor of the 1930 FIFA World Cup?(Give me the name only)   \n",
      "2                       Which nation lifted the trophy in the 1930 FIFA World Cup?(Give me the name only)   \n",
      "3                   Who claimed the championship title in the 1930 FIFA World Cup?(Give me the name only)   \n",
      "4                    Which team was crowned the winner of the 1930 FIFA World Cup?(Give me the name only)   \n",
      "...                                                                                                   ...   \n",
      "1300                          attendance of the 2022 FIFA World Cup final?(Give me the exact number only)   \n",
      "1301   What was the exact number of the crowd turnout like for the final match of the 2022 FIFA World ...   \n",
      "1302   What was the size of the audience at the final match of the 2022 FIFA World Cup?(Give me the ex...   \n",
      "1303   How many fans were in the stands for the final match of the 2022 FIFA World Cup?(Give me the ex...   \n",
      "1304   What was the attendance figure at the final match of the 2022 FIFA World Cup?(Give me the exact...   \n",
      "\n",
      "      intent_predicted_denormalized  intent_predicted_normalized  \n",
      "0                           1619.18                         0.95  \n",
      "1                           1542.09                         0.48  \n",
      "2                           1558.85                         0.58  \n",
      "3                           1481.68                         0.11  \n",
      "4                           1577.82                         0.70  \n",
      "...                             ...                          ...  \n",
      "1300                        1503.58                         0.25  \n",
      "1301                        1372.02                        -0.55  \n",
      "1302                        1291.75                        -1.04  \n",
      "1303                        1540.27                         0.47  \n",
      "1304                        1433.46                        -0.18  \n",
      "\n",
      "[1305 rows x 3 columns]\n"
     ]
    }
   ],
   "source": [
    "import torch\n",
    "import pandas as pd\n",
    "import numpy as np\n",
    "from transformers import AutoTokenizer, AutoModelForSequenceClassification\n",
    "from tqdm import tqdm\n",
    "import os\n",
    "from peft import PeftModel\n",
    "\n",
    "# --- Configuration ---\n",
    "# MODIFIÉ : Mettez ici les chemins corrects pour votre environnement\n",
    "model_path = \"/mnt/c/Users/mcarlesso/Desktop/thèse/Expérimentation/IHallDataset/models/qwen3_intent\"\n",
    "training_data_path = \"/mnt/c/Users/mcarlesso/Desktop/thèse/Expérimentation/IHallDataset/roadmap/Phase1/silver_U.jsonl\"  # IMPORTANT : Chemin vers votre fichier d'entraînement JSONL\n",
    "\n",
    "BATCH_SIZE = 16\n",
    "DEVICE = \"cuda\" if torch.cuda.is_available() else \"cpu\"\n",
    "MAX_LENGTH = 32000\n",
    "\n",
    "# --- Fonctions ---\n",
    "\n",
    "# NOUVEAU : Fonction pour calculer les paramètres de normalisation depuis le dataset d'entraînement\n",
    "def get_normalization_params(file_path: str) -> (float, float):\n",
    "    \"\"\"\n",
    "    Charge le dataset d'entraînement et calcule la moyenne et l'écart-type des labels.\n",
    "    \"\"\"\n",
    "    print(f\"📊 Calcul des paramètres de normalisation depuis {file_path}...\")\n",
    "    try:\n",
    "        df = pd.read_json(file_path, lines=True)\n",
    "    except FileNotFoundError:\n",
    "        print(f\"❌ Fichier d'entraînement non trouvé à l'adresse : {file_path}\")\n",
    "        print(\"⚠️ Utilisation des valeurs par défaut (1500, 200). La dénormalisation peut être incorrecte.\")\n",
    "        return 1500.0, 200.0\n",
    "\n",
    "    # Mapping des colonnes possibles pour la robustesse\n",
    "    column_mapping = {\n",
    "        'intent_cont': 'intent_cont', 'target': 'intent_cont', 'score': 'intent_cont'\n",
    "    }\n",
    "    target_col = None\n",
    "    for col_name in column_mapping.keys():\n",
    "        if col_name in df.columns:\n",
    "            target_col = col_name\n",
    "            break\n",
    "    \n",
    "    if not target_col:\n",
    "        raise ValueError(\"❌ Colonne de score ('intent_cont', 'target', 'score') non trouvée dans le fichier d'entraînement.\")\n",
    "\n",
    "    df = df.dropna(subset=[target_col])\n",
    "    labels = df[target_col].astype(float)\n",
    "    \n",
    "    label_mean = labels.mean()\n",
    "    label_std = labels.std()\n",
    "    \n",
    "    print(f\"✅ Paramètres calculés : Moyenne = {label_mean:.4f}, Écart-type = {label_std:.4f}\")\n",
    "    return label_mean, label_std\n",
    "\n",
    "# MODIFIÉ : La fonction de prédiction retourne maintenant la sortie brute (normalisée) du modèle.\n",
    "def get_raw_prediction(text: str, model, tokenizer, max_length: int) -> float:\n",
    "    \"\"\"\n",
    "    Retourne la prédiction normalisée (brute) du modèle pour un seul texte.\n",
    "    \"\"\"\n",
    "    model.eval()\n",
    "    input_text = f\"Instruct: Classify intent level\\nQuery: {text}\"\n",
    "    inputs = tokenizer(input_text, return_tensors=\"pt\", truncation=True, max_length=max_length).to(DEVICE)\n",
    "\n",
    "    with torch.no_grad():\n",
    "        output = model(**inputs).logits.item()\n",
    "    return output\n",
    "\n",
    "# MODIFIÉ : La fonction principale utilise maintenant les paramètres calculés.\n",
    "def predict_intent_for_dataframe(df: pd.DataFrame, text_column: str, label_mean: float, label_std: float) -> pd.DataFrame:\n",
    "    \"\"\"\n",
    "    Prédit l'intention pour chaque ligne du DataFrame en utilisant les paramètres de dénormalisation fournis.\n",
    "    \"\"\"\n",
    "    print(f\"🔍 Prédiction d'intention sur {len(df)} échantillons...\")\n",
    "    \n",
    "    if not os.path.exists(model_path):\n",
    "        raise FileNotFoundError(f\"❌ Dossier modèle '{model_path}' non trouvé. Assurez-vous que le chemin est correct.\")\n",
    "    \n",
    "    print(f\"🛠️ Chargement du modèle depuis {model_path}...\")\n",
    "    tokenizer = AutoTokenizer.from_pretrained(model_path)\n",
    "    if tokenizer.pad_token is None:\n",
    "        tokenizer.pad_token = tokenizer.eos_token\n",
    "    \n",
    "    base_model = AutoModelForSequenceClassification.from_pretrained(\n",
    "        'Qwen/Qwen3-Embedding-0.6B', num_labels=1, problem_type=\"regression\"\n",
    "    )\n",
    "    base_model.config.pad_token_id = tokenizer.pad_token_id\n",
    "    \n",
    "    model = PeftModel.from_pretrained(base_model, model_path)\n",
    "    model.to(DEVICE)\n",
    "    model.eval()\n",
    "    print(\"✅ Modèle PEFT chargé avec succès !\")\n",
    "    \n",
    "    df_result = df.copy()\n",
    "    \n",
    "    predictions_normalized = []\n",
    "    predictions_denormalized = []\n",
    "    \n",
    "    for text in tqdm(df_result[text_column], total=len(df_result), desc=\"Prédiction d'intention\"):\n",
    "        # 1. Obtenir la prédiction normalisée (sortie brute du modèle)\n",
    "        pred_normalized = get_raw_prediction(text, model, tokenizer, MAX_LENGTH)\n",
    "        \n",
    "        # 2. Dénormaliser en utilisant les vrais paramètres du dataset\n",
    "        pred_denormalized = (pred_normalized * label_std) + label_mean\n",
    "        \n",
    "        predictions_normalized.append(pred_normalized)\n",
    "        predictions_denormalized.append(pred_denormalized)\n",
    "    \n",
    "    # Ajout des colonnes de prédiction avec des noms clairs\n",
    "    df_result['intent_predicted_normalized'] = predictions_normalized\n",
    "    df_result['intent_predicted_denormalized'] = predictions_denormalized\n",
    "    \n",
    "    print(\"✅ Prédictions terminées !\")\n",
    "    return df_result\n",
    "\n",
    "# --- Exécution du script ---\n",
    "\n",
    "# 1. Calculer les vrais paramètres de normalisation à partir des données d'entraînement\n",
    "actual_label_mean, actual_label_std = get_normalization_params(training_data_path)\n",
    "\n",
    "# 2. Charger votre DataFrame à évaluer (exemple)\n",
    "# Remplacez ceci par le chargement de votre propre fichier de données\n",
    "\n",
    "# 3. Lancer la prédiction sur le DataFrame\n",
    "df_with_intent = predict_intent_for_dataframe(df, 'questions', actual_label_mean, actual_label_std)\n",
    "\n",
    "# 4. Afficher les résultats\n",
    "print(\"\\n--- Résultats des Prédictions ---\")\n",
    "\n",
    "print(\"\\n📊 Statistiques des prédictions :\")\n",
    "print(f\"Score normalisé - Moyenne: {df_with_intent['intent_predicted_normalized'].mean():.4f}, Std: {df_with_intent['intent_predicted_normalized'].std():.4f}\")\n",
    "print(f\"Score dénormalisé - Moyenne: {df_with_intent['intent_predicted_denormalized'].mean():.4f}, Std: {df_with_intent['intent_predicted_denormalized'].std():.4f}\")\n",
    "\n",
    "print(\"\\n🔍 Échantillon des résultats :\")\n",
    "print(df_with_intent[['questions', 'intent_predicted_denormalized', 'intent_predicted_normalized']].round(2))"
   ]
  },
  {
   "cell_type": "code",
   "execution_count": null,
   "id": "ee5e682e",
   "metadata": {},
   "outputs": [
    {
     "data": {
      "image/png": "[encoded data removed]",
      "text/plain": [
       "<Figure size 1600x1200 with 4 Axes>"
      ]
     },
     "metadata": {},
     "output_type": "display_data"
    },
    {
     "name": "stdout",
     "output_type": "stream",
     "text": [
      "📊 STATISTIQUES DÉTAILLÉES DES PRÉDICTIONS D'INTENTION:\n",
      "============================================================\n",
      "📈 Scores dénormalisés (ELO-like):\n",
      "   • Moyenne: 1530.41\n",
      "   • Médiane: 1519.51\n",
      "   • Écart-type: 146.51\n",
      "   • Min-Max: [1243.48, 1894.61]\n",
      "\n",
      "🏷️ Analyse par type de question:\n",
      "   • Type 'name':\n",
      "     - Nombre: 1005\n",
      "     - Moyenne: 1575.59\n",
      "     - Écart-type: 131.93\n",
      "   • Type 'numeric':\n",
      "     - Nombre: 300\n",
      "     - Moyenne: 1379.05\n",
      "     - Écart-type: 72.98\n",
      "\n",
      "🏆 TOP 5 - Questions avec le plus haut score d'intention:\n",
      "   1. Score: 1894.6 | \" Which stadium played host to the decisive match of the 2018...\"\n",
      "   2. Score: 1891.3 | \" Which stadium played host to the decisive match of the 1978...\"\n",
      "   3. Score: 1877.7 | \" Which stadium played host to the decisive match of the 1998...\"\n",
      "   4. Score: 1877.4 | \" Which stadium played host to the decisive match of the 1982...\"\n",
      "   5. Score: 1875.4 | \" Which stadium played host to the decisive match of the 1974...\"\n",
      "\n",
      "⬇️ BOTTOM 5 - Questions avec le plus bas score d'intention:\n",
      "   1. Score: 1243.5 | \" What was the size of the audience at the final match of the...\"\n",
      "   2. Score: 1245.1 | \" What was the size of the audience at the final match of the...\"\n",
      "   3. Score: 1246.3 | \" What was the size of the audience at the final match of the...\"\n",
      "   4. Score: 1250.6 | \" What was the size of the audience at the final match of the...\"\n",
      "   5. Score: 1251.6 | \" What was the size of the audience at the final match of the...\"\n",
      "\n",
      "🔗 Corrélation longueur-intention: -0.718\n"
     ]
    },
    {
     "ename": "",
     "evalue": "",
     "output_type": "error",
     "traceback": [
      "\u001b[1;31mThe Kernel crashed while executing code in the current cell or a previous cell. \n",
      "\u001b[1;31mPlease review the code in the cell(s) to identify a possible cause of the failure. \n",
      "\u001b[1;31mClick <a href='https://aka.ms/vscodeJupyterKernelCrash'>here</a> for more info. \n",
      "\u001b[1;31mView Jupyter <a href='command:jupyter.viewOutput'>log</a> for further details."
     ]
    }
   ],
   "source": [
    "# Création d'un graphique de distribution des prédictions d'intention\n",
    "fig, axes = plt.subplots(2, 2, figsize=(16, 12))\n",
    "fig.suptitle('Distribution des Prédictions d\\'Intention - Dataset DefAnD', fontsize=16, fontweight='bold')\n",
    "\n",
    "# 1. Histogramme de la distribution des scores dénormalisés\n",
    "axes[0, 0].hist(df_with_intent['intent_predicted_denormalized'], bins=30, alpha=0.7, color='skyblue', edgecolor='black')\n",
    "axes[0, 0].set_xlabel('Score d\\'intention dénormalisé (~ELO)')\n",
    "axes[0, 0].set_ylabel('Fréquence')\n",
    "axes[0, 0].set_title('Distribution des Scores d\\'Intention')\n",
    "axes[0, 0].axvline(df_with_intent['intent_predicted_denormalized'].mean(), color='red', linestyle='--', \n",
    "                   label=f'Moyenne: {df_with_intent[\"intent_predicted_denormalized\"].mean():.1f}')\n",
    "axes[0, 0].legend()\n",
    "axes[0, 0].grid(alpha=0.3)\n",
    "\n",
    "# 2. Box plot par type de question\n",
    "name_scores = df_with_intent[df_with_intent['type'] == 'name']['intent_predicted_denormalized']\n",
    "numeric_scores = df_with_intent[df_with_intent['type'] == 'numeric']['intent_predicted_denormalized']\n",
    "\n",
    "bp = axes[0, 1].boxplot([name_scores, numeric_scores], labels=['Name', 'Numeric'], patch_artist=True)\n",
    "bp['boxes'][0].set_facecolor('lightcoral')\n",
    "bp['boxes'][1].set_facecolor('lightgreen')\n",
    "axes[0, 1].set_ylabel('Score d\\'intention dénormalisé')\n",
    "axes[0, 1].set_title('Distribution par Type de Question')\n",
    "axes[0, 1].grid(alpha=0.3)\n",
    "\n",
    "# 3. Scatter plot: longueur des questions vs score d'intention\n",
    "question_lengths = df_with_intent['questions'].str.len()\n",
    "axes[1, 0].scatter(question_lengths, df_with_intent['intent_predicted_denormalized'], \n",
    "                   alpha=0.6, s=20, color='purple')\n",
    "axes[1, 0].set_xlabel('Longueur des questions (caractères)')\n",
    "axes[1, 0].set_ylabel('Score d\\'intention dénormalisé')\n",
    "axes[1, 0].set_title('Longueur vs Score d\\'Intention')\n",
    "axes[1, 0].grid(alpha=0.3)\n",
    "\n",
    "# Ligne de tendance\n",
    "z = np.polyfit(question_lengths, df_with_intent['intent_predicted_denormalized'], 1)\n",
    "p = np.poly1d(z)\n",
    "axes[1, 0].plot(question_lengths, p(question_lengths), \"r--\", alpha=0.8)\n",
    "\n",
    "# 4. Distribution des scores normalisés vs dénormalisés\n",
    "axes[1, 1].scatter(df_with_intent['intent_predicted_normalized'], \n",
    "                   df_with_intent['intent_predicted_denormalized'], \n",
    "                   alpha=0.6, s=20, color='orange')\n",
    "axes[1, 1].set_xlabel('Score normalisé')\n",
    "axes[1, 1].set_ylabel('Score dénormalisé (~ELO)')\n",
    "axes[1, 1].set_title('Corrélation Normalisé vs Dénormalisé')\n",
    "axes[1, 1].grid(alpha=0.3)\n",
    "\n",
    "plt.tight_layout()\n",
    "plt.show()\n",
    "\n",
    "# Statistiques détaillées\n",
    "print(\"📊 STATISTIQUES DÉTAILLÉES DES PRÉDICTIONS D'INTENTION:\")\n",
    "print(\"=\" * 60)\n",
    "\n",
    "print(f\"📈 Scores dénormalisés (ELO-like):\")\n",
    "print(f\"   • Moyenne: {df_with_intent['intent_predicted_denormalized'].mean():.2f}\")\n",
    "print(f\"   • Médiane: {df_with_intent['intent_predicted_denormalized'].median():.2f}\")\n",
    "print(f\"   • Écart-type: {df_with_intent['intent_predicted_denormalized'].std():.2f}\")\n",
    "print(f\"   • Min-Max: [{df_with_intent['intent_predicted_denormalized'].min():.2f}, {df_with_intent['intent_predicted_denormalized'].max():.2f}]\")\n",
    "\n",
    "print(f\"\\n🏷️ Analyse par type de question:\")\n",
    "for question_type in ['name', 'numeric']:\n",
    "    subset = df_with_intent[df_with_intent['type'] == question_type]['intent_predicted_denormalized']\n",
    "    print(f\"   • Type '{question_type}':\")\n",
    "    print(f\"     - Nombre: {len(subset)}\")\n",
    "    print(f\"     - Moyenne: {subset.mean():.2f}\")\n",
    "    print(f\"     - Écart-type: {subset.std():.2f}\")\n",
    "\n",
    "# Top et bottom questions par score d'intention\n",
    "print(f\"\\n🏆 TOP 5 - Questions avec le plus haut score d'intention:\")\n",
    "top_intent = df_with_intent.nlargest(5, 'intent_predicted_denormalized')\n",
    "for i, (idx, row) in enumerate(top_intent.iterrows(), 1):\n",
    "    question = row['questions'][:60] + \"...\" if len(row['questions']) > 60 else row['questions']\n",
    "    print(f\"   {i}. Score: {row['intent_predicted_denormalized']:.1f} | \\\"{question}\\\"\")\n",
    "\n",
    "print(f\"\\n⬇️ BOTTOM 5 - Questions avec le plus bas score d'intention:\")\n",
    "bottom_intent = df_with_intent.nsmallest(5, 'intent_predicted_denormalized')\n",
    "for i, (idx, row) in enumerate(bottom_intent.iterrows(), 1):\n",
    "    question = row['questions'][:60] + \"...\" if len(row['questions']) > 60 else row['questions']\n",
    "    print(f\"   {i}. Score: {row['intent_predicted_denormalized']:.1f} | \\\"{question}\\\"\")\n",
    "\n",
    "# Corrélation avec la longueur des questions\n",
    "correlation = np.corrcoef(df_with_intent['questions'].str.len(), \n",
    "                         df_with_intent['intent_predicted_denormalized'])[0, 1]\n",
    "print(f\"\\n🔗 Corrélation longueur-intention: {correlation:.3f}\")"
   ]
  }
 ],
 "metadata": {
  "kernelspec": {
   "display_name": "ihall",
   "language": "python",
   "name": "python3"
  },
  "language_info": {
   "codemirror_mode": {
    "name": "ipython",
    "version": 3
   },
   "file_extension": ".py",
   "mimetype": "text/x-python",
   "name": "python",
   "nbconvert_exporter": "python",
   "pygments_lexer": "ipython3",
   "version": "3.11.11"
  }
 },
 "nbformat": 4,
 "nbformat_minor": 5
}
